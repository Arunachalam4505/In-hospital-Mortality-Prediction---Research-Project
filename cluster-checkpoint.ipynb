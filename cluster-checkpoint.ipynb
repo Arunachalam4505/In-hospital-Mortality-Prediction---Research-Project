{
 "cells": [
  {
   "cell_type": "code",
   "execution_count": 1,
   "metadata": {},
   "outputs": [],
   "source": [
    "import hdbscan"
   ]
  },
  {
   "cell_type": "code",
   "execution_count": 2,
   "metadata": {},
   "outputs": [],
   "source": [
    "import pandas as pd\n",
    "import numpy as np\n",
    "from sklearn import model_selection, ensemble, metrics\n",
    "from sklearn.metrics import confusion_matrix\n",
    "from sklearn.metrics import accuracy_score\n",
    "from sklearn.metrics import classification_report\n",
    "from sklearn.metrics import precision_recall_fscore_support as score, precision_score, recall_score, f1_score,accuracy_score\n",
    "from sklearn.metrics import precision_recall_curve,auc\n",
    "from sklearn.linear_model import LogisticRegression\n",
    "from sklearn.model_selection import train_test_split, cross_val_score\n",
    "from functools import partial\n",
    "\n",
    "from numpy import mean\n",
    "from sklearn.model_selection import cross_val_score\n",
    "import time\n",
    "from scipy.stats import uniform\n",
    "#from bayes_opt import BayesianOptimization\n",
    "from xgboost import XGBClassifier\n",
    "from hyperopt import hp, fmin, tpe\n",
    "from sklearn.model_selection import StratifiedKFold\n",
    "import sklearn.tree\n",
    "from matplotlib import pyplot\n",
    "from sklearn.preprocessing import scale\n",
    "from xgboost import XGBClassifier\n",
    "from sklearn.utils import resample\n",
    "import numpy"
   ]
  },
  {
   "cell_type": "code",
   "execution_count": 3,
   "metadata": {},
   "outputs": [
    {
     "name": "stdout",
     "output_type": "stream",
     "text": [
      "C:\\Users\\hdns014\n"
     ]
    }
   ],
   "source": [
    "cd"
   ]
  },
  {
   "cell_type": "code",
   "execution_count": 6,
   "metadata": {},
   "outputs": [
    {
     "name": "stdout",
     "output_type": "stream",
     "text": [
      "C:\\\n"
     ]
    }
   ],
   "source": [
    "cd .."
   ]
  },
  {
   "cell_type": "code",
   "execution_count": 7,
   "metadata": {},
   "outputs": [
    {
     "name": "stdout",
     "output_type": "stream",
     "text": [
      "C:\\Program files\n"
     ]
    }
   ],
   "source": [
    "cd Program files"
   ]
  },
  {
   "cell_type": "code",
   "execution_count": 8,
   "metadata": {},
   "outputs": [
    {
     "name": "stdout",
     "output_type": "stream",
     "text": [
      "C:\\Program files\\Python39\n"
     ]
    }
   ],
   "source": [
    "cd Python39"
   ]
  },
  {
   "cell_type": "code",
   "execution_count": 9,
   "metadata": {},
   "outputs": [
    {
     "name": "stdout",
     "output_type": "stream",
     "text": [
      "C:\\Program files\\Python39\\notebooks\n"
     ]
    }
   ],
   "source": [
    "cd notebooks"
   ]
  },
  {
   "cell_type": "code",
   "execution_count": 10,
   "metadata": {},
   "outputs": [],
   "source": [
    "test = pd.read_csv(\"validation_p_mortality.csv\")\n",
    "train = pd.read_csv(\"derivation_p_mortality.csv\")"
   ]
  },
  {
   "cell_type": "code",
   "execution_count": 11,
   "metadata": {},
   "outputs": [],
   "source": [
    "train=train.drop(train.columns[0],axis=1)\n",
    "test=test.drop(test.columns[0],axis=1)"
   ]
  },
  {
   "cell_type": "code",
   "execution_count": 12,
   "metadata": {},
   "outputs": [
    {
     "data": {
      "text/html": [
       "<div>\n",
       "<style scoped>\n",
       "    .dataframe tbody tr th:only-of-type {\n",
       "        vertical-align: middle;\n",
       "    }\n",
       "\n",
       "    .dataframe tbody tr th {\n",
       "        vertical-align: top;\n",
       "    }\n",
       "\n",
       "    .dataframe thead th {\n",
       "        text-align: right;\n",
       "    }\n",
       "</style>\n",
       "<table border=\"1\" class=\"dataframe\">\n",
       "  <thead>\n",
       "    <tr style=\"text-align: right;\">\n",
       "      <th></th>\n",
       "      <th>mortality30days</th>\n",
       "      <th>emerg_surgery</th>\n",
       "      <th>female</th>\n",
       "      <th>age</th>\n",
       "      <th>rcri7</th>\n",
       "      <th>pimr2</th>\n",
       "      <th>eci32</th>\n",
       "      <th>hfrs</th>\n",
       "      <th>obesity_total</th>\n",
       "      <th>hypertension</th>\n",
       "      <th>...</th>\n",
       "      <th>etco2_total_45_General</th>\n",
       "      <th>proc_neuro</th>\n",
       "      <th>proc_gyne</th>\n",
       "      <th>proc_ortho</th>\n",
       "      <th>proc_other</th>\n",
       "      <th>proc_otol</th>\n",
       "      <th>proc_plas</th>\n",
       "      <th>proc_thor</th>\n",
       "      <th>proc_uro</th>\n",
       "      <th>proc_vasc</th>\n",
       "    </tr>\n",
       "  </thead>\n",
       "  <tbody>\n",
       "  </tbody>\n",
       "</table>\n",
       "<p>5 rows × 40 columns</p>\n",
       "</div>"
      ]
     },
     "execution_count": 12,
     "metadata": {},
     "output_type": "execute_result"
    }
   ],
   "source": [
    "train.head(5)"
   ]
  },
  {
   "cell_type": "code",
   "execution_count": 13,
   "metadata": {},
   "outputs": [],
   "source": [
    "train1 = train[train['mortality30days'] == 1]"
   ]
  },
  {
   "cell_type": "code",
   "execution_count": 14,
   "metadata": {},
   "outputs": [
    {
     "data": {
      "text/plain": [
       "491"
      ]
     },
     "execution_count": 14,
     "metadata": {},
     "output_type": "execute_result"
    }
   ],
   "source": [
    "train1.head()\n",
    "len(train1)"
   ]
  },
  {
   "cell_type": "code",
   "execution_count": 15,
   "metadata": {},
   "outputs": [
    {
     "data": {
      "text/plain": [
       "22452"
      ]
     },
     "execution_count": 15,
     "metadata": {},
     "output_type": "execute_result"
    }
   ],
   "source": [
    "train2 = train[train['mortality30days'] == 0]\n",
    "train2.head(2)\n",
    "len(train2)\n",
    "\n",
    "\n"
   ]
  },
  {
   "cell_type": "code",
   "execution_count": 16,
   "metadata": {},
   "outputs": [],
   "source": [
    "#y_train1= train1['mortality30days']"
   ]
  },
  {
   "cell_type": "code",
   "execution_count": 17,
   "metadata": {},
   "outputs": [],
   "source": [
    "#y_train2=train2['mortality30days']"
   ]
  },
  {
   "cell_type": "code",
   "execution_count": 18,
   "metadata": {},
   "outputs": [],
   "source": [
    "#train1=train1.drop(train1.columns[0], axis=1)\n",
    "#train2=train2.drop(train2.columns[0], axis=1)"
   ]
  },
  {
   "cell_type": "code",
   "execution_count": 19,
   "metadata": {},
   "outputs": [],
   "source": [
    "cluster = hdbscan.HDBSCAN(min_cluster_size = 30)\n",
    "cluster1=cluster.fit(train1)\n",
    "cluster_1 = hdbscan.HDBSCAN(min_cluster_size = 30)\n",
    "cluster2=cluster_1.fit(train2)"
   ]
  },
  {
   "cell_type": "code",
   "execution_count": 20,
   "metadata": {},
   "outputs": [
    {
     "data": {
      "text/plain": [
       "array([-1,  1,  0,  0,  0,  0,  0,  0, -1,  0,  1,  0,  0,  0,  1,  0,  0,\n",
       "        0, -1,  0,  0,  0, -1,  0,  0,  1,  1,  0,  0,  0,  0,  0,  0,  0,\n",
       "        0,  0,  0,  1,  0,  0,  0,  0,  1,  1,  1,  0,  0,  0,  1,  0,  1,\n",
       "        0,  0,  0,  0, -1,  0,  0,  0,  0,  0,  0,  1,  0,  0,  0,  0,  0,\n",
       "        0,  1,  0,  0,  0,  0,  0, -1,  0,  0,  0,  0,  0, -1,  0,  0,  0,\n",
       "        0,  0,  0,  0,  0,  0,  0, -1,  0,  1,  0,  0,  0,  0,  0,  0,  0,\n",
       "        0,  1,  0,  0,  0,  0,  0,  0,  0,  0,  0,  0,  0,  1,  0,  1,  0,\n",
       "       -1,  0,  0,  0,  1,  0,  0, -1,  0,  0,  1,  0,  1,  0,  0,  0,  0,\n",
       "        1,  0,  0,  0,  0,  1,  0,  1,  0,  0,  1,  0,  0,  1,  1,  0,  0,\n",
       "        0,  0,  0,  1,  0, -1,  0, -1,  0, -1,  0,  0,  0,  0,  0,  0,  0,\n",
       "        0,  1,  0,  0,  0,  0,  1,  1,  0,  0,  0,  0,  0,  1,  0,  0,  0,\n",
       "        0,  0,  0,  0,  1,  0,  1,  0,  1,  0,  0,  1,  0,  0,  0,  0,  1,\n",
       "        0,  0,  0,  0,  0,  0,  1,  0,  0,  1,  0,  0,  1, -1,  0,  0,  1,\n",
       "        0,  0,  0,  0,  0,  0,  0, -1,  0,  1,  0, -1,  0, -1,  0,  0,  1,\n",
       "        0,  0,  0,  0,  0,  0,  0,  0,  0,  0,  0,  0,  0,  0,  0,  1,  0,\n",
       "        0, -1,  0,  0,  0,  0,  0,  0,  0,  0,  1, -1,  0,  0,  1,  0,  0,\n",
       "        0,  1,  0,  0,  0,  0,  0,  0,  0,  0,  0,  0,  0,  0,  1,  0, -1,\n",
       "        0,  0,  1,  0,  0,  0, -1,  0,  0,  0,  0,  0,  0,  0,  1,  0,  1,\n",
       "        0, -1,  1,  0,  1,  0,  1,  0,  0,  0,  1,  1,  1,  0, -1,  1,  0,\n",
       "        1,  0,  0,  0,  1,  1,  0,  0, -1,  0,  0,  0,  1,  0,  0,  0, -1,\n",
       "        0,  0,  0,  1,  0,  1,  0,  1,  1,  0,  0,  0,  1,  1,  0,  0,  0,\n",
       "        0,  0,  1,  0,  0,  0,  0,  0,  0,  0,  0,  0,  0,  1,  0,  0,  1,\n",
       "        0,  0,  0,  0,  1,  0,  0,  1, -1,  0,  0,  0,  0,  0,  0,  1,  1,\n",
       "        0,  0,  0,  0,  0,  1,  0,  0,  0,  1,  0,  1,  0,  1,  0,  0,  0,\n",
       "        0,  0,  0,  1,  0,  0,  1,  0,  0,  0,  0,  0,  0,  0,  1,  0,  0,\n",
       "        0,  0,  0,  0,  1,  1,  0,  1,  0,  1,  1,  0,  0, -1,  1, -1,  0,\n",
       "        1,  1,  1,  1, -1,  0,  0,  0,  1,  1,  1,  0,  0,  0,  0,  0,  0,\n",
       "        0,  1,  0,  0,  0,  0,  0,  1,  0,  0,  0, -1,  0,  0,  1,  1,  0,\n",
       "        0,  0,  0,  0,  1, -1,  0,  1,  1,  0,  0,  0,  0,  0,  0],\n",
       "      dtype=int64)"
      ]
     },
     "execution_count": 20,
     "metadata": {},
     "output_type": "execute_result"
    }
   ],
   "source": [
    "cluster1.labels_"
   ]
  },
  {
   "cell_type": "code",
   "execution_count": 21,
   "metadata": {},
   "outputs": [
    {
     "data": {
      "text/plain": [
       "array([0, 0, 0, ..., 0, 0, 0], dtype=int64)"
      ]
     },
     "execution_count": 21,
     "metadata": {},
     "output_type": "execute_result"
    }
   ],
   "source": [
    "cluster2.labels_"
   ]
  },
  {
   "cell_type": "code",
   "execution_count": 22,
   "metadata": {},
   "outputs": [
    {
     "name": "stdout",
     "output_type": "stream",
     "text": [
      "Number of clusters Counter({0: 359, 1: 101, -1: 31})\n"
     ]
    }
   ],
   "source": [
    "from collections import Counter\n",
    "count1 = Counter(cluster1.labels_)\n",
    "print('Number of clusters', count1)"
   ]
  },
  {
   "cell_type": "code",
   "execution_count": 23,
   "metadata": {},
   "outputs": [
    {
     "name": "stdout",
     "output_type": "stream",
     "text": [
      "Number of clusters Counter({0: 15338, 9: 2457, -1: 2149, 7: 654, 11: 493, 5: 274, 10: 259, 8: 227, 12: 205, 6: 134, 4: 108, 1: 61, 3: 54, 2: 39})\n"
     ]
    }
   ],
   "source": [
    "count2 = Counter(cluster2.labels_)\n",
    "print('Number of clusters', count2)"
   ]
  },
  {
   "cell_type": "code",
   "execution_count": null,
   "metadata": {},
   "outputs": [],
   "source": [
    "train1[cluster1.labels_==1]"
   ]
  },
  {
   "cell_type": "code",
   "execution_count": 25,
   "metadata": {},
   "outputs": [],
   "source": [
    "minority1 = train1[cluster1.labels_==0]\n"
   ]
  },
  {
   "cell_type": "code",
   "execution_count": 26,
   "metadata": {},
   "outputs": [],
   "source": [
    "minority2= train1[cluster1.labels_==1]"
   ]
  },
  {
   "cell_type": "code",
   "execution_count": 27,
   "metadata": {},
   "outputs": [],
   "source": [
    "minority3=train1[cluster1.labels_==-1]"
   ]
  },
  {
   "cell_type": "code",
   "execution_count": null,
   "metadata": {},
   "outputs": [],
   "source": [
    "train"
   ]
  },
  {
   "cell_type": "code",
   "execution_count": 29,
   "metadata": {},
   "outputs": [],
   "source": [
    "minority1= pd.concat([minority1]*5)"
   ]
  },
  {
   "cell_type": "code",
   "execution_count": null,
   "metadata": {},
   "outputs": [],
   "source": [
    "minority2=pd.concat([minority2]*19)\n",
    "minority2"
   ]
  },
  {
   "cell_type": "code",
   "execution_count": 31,
   "metadata": {},
   "outputs": [],
   "source": [
    "list1= [minority1,minority2,minority3]\n",
    "final1=pd.concat(list1)"
   ]
  },
  {
   "cell_type": "code",
   "execution_count": 32,
   "metadata": {},
   "outputs": [
    {
     "name": "stdout",
     "output_type": "stream",
     "text": [
      "Number of clusters Counter({0: 15338, 9: 2457, -1: 2149, 7: 654, 11: 493, 5: 274, 10: 259, 8: 227, 12: 205, 6: 134, 4: 108, 1: 61, 3: 54, 2: 39})\n"
     ]
    }
   ],
   "source": [
    "print('Number of clusters', count2)"
   ]
  },
  {
   "cell_type": "code",
   "execution_count": 37,
   "metadata": {},
   "outputs": [],
   "source": [
    "majority1 = train2[cluster2.labels_==7]\n",
    "majority2= train2[cluster2.labels_==11]\n",
    "majority4= train2[cluster2.labels_==5]\n",
    "majority5= train2[cluster2.labels_==10]\n",
    "majority6= train2[cluster2.labels_==8]\n",
    "majority7= train2[cluster2.labels_==12]\n",
    "majority8= train2[cluster2.labels_==6]\n",
    "majority9= train2[cluster2.labels_==4]\n",
    "majority10= train2[cluster2.labels_==1]\n",
    "majority11= train2[cluster2.labels_==3]\n",
    "majority12= train2[cluster2.labels_==2]"
   ]
  },
  {
   "cell_type": "code",
   "execution_count": 38,
   "metadata": {},
   "outputs": [],
   "source": [
    "majority13=train2[cluster2.labels_==0]\n",
    "majority14=train2[cluster2.labels_==9]\n",
    "majority15=train2[cluster2.labels_==-1]"
   ]
  },
  {
   "cell_type": "code",
   "execution_count": 39,
   "metadata": {},
   "outputs": [],
   "source": [
    "majority1= pd.concat([majority1]*3)\n",
    "\n"
   ]
  },
  {
   "cell_type": "code",
   "execution_count": 40,
   "metadata": {},
   "outputs": [],
   "source": [
    "majority2= pd.concat([majority2]*4)"
   ]
  },
  {
   "cell_type": "code",
   "execution_count": 41,
   "metadata": {},
   "outputs": [],
   "source": [
    "majority4= pd.concat([majority4]*6)"
   ]
  },
  {
   "cell_type": "code",
   "execution_count": 42,
   "metadata": {},
   "outputs": [],
   "source": [
    "majority5= pd.concat([majority5]*7)"
   ]
  },
  {
   "cell_type": "code",
   "execution_count": 43,
   "metadata": {},
   "outputs": [],
   "source": [
    "majority6= pd.concat([majority6]*8)"
   ]
  },
  {
   "cell_type": "code",
   "execution_count": 44,
   "metadata": {},
   "outputs": [],
   "source": [
    "majority7= pd.concat([majority7]*10)"
   ]
  },
  {
   "cell_type": "code",
   "execution_count": 45,
   "metadata": {},
   "outputs": [],
   "source": [
    "majority8= pd.concat([majority8]*16)"
   ]
  },
  {
   "cell_type": "code",
   "execution_count": 46,
   "metadata": {},
   "outputs": [],
   "source": [
    "majority9= pd.concat([majority9]*20)"
   ]
  },
  {
   "cell_type": "code",
   "execution_count": 47,
   "metadata": {},
   "outputs": [],
   "source": [
    "majority10= pd.concat([majority10]*30)"
   ]
  },
  {
   "cell_type": "code",
   "execution_count": 48,
   "metadata": {},
   "outputs": [],
   "source": [
    "majority11= pd.concat([majority11]*30)"
   ]
  },
  {
   "cell_type": "code",
   "execution_count": 49,
   "metadata": {},
   "outputs": [],
   "source": [
    "majority12= pd.concat([majority12]*30)"
   ]
  },
  {
   "cell_type": "code",
   "execution_count": 50,
   "metadata": {},
   "outputs": [],
   "source": [
    "list= [majority1,majority2,majority4,majority5,majority6,majority7,majority8,majority9,majority10,majority11,majority12,majority13,majority14,majority15]"
   ]
  },
  {
   "cell_type": "code",
   "execution_count": null,
   "metadata": {},
   "outputs": [],
   "source": [
    "final= pd.concat(list)\n",
    "final"
   ]
  },
  {
   "cell_type": "code",
   "execution_count": 33,
   "metadata": {},
   "outputs": [],
   "source": [
    "list2= [train2,final1]\n",
    "train_new= pd.concat(list2)"
   ]
  },
  {
   "cell_type": "code",
   "execution_count": 34,
   "metadata": {},
   "outputs": [],
   "source": [
    "y_train=train_new[train.columns[0]]\n",
    "y_test=test[test.columns[0]]\n",
    "X_train=train_new.drop(train.columns[0],axis=1)\n",
    "X_test=test.drop(test.columns[0],axis=1)"
   ]
  },
  {
   "cell_type": "code",
   "execution_count": 35,
   "metadata": {},
   "outputs": [],
   "source": [
    "\n",
    "lr_base = sklearn.linear_model.LogisticRegression(max_iter=10000)\n",
    "model= lr_base.fit(X_train, y_train)\n",
    "pred = model.predict(X_test)"
   ]
  },
  {
   "cell_type": "code",
   "execution_count": 36,
   "metadata": {},
   "outputs": [
    {
     "name": "stdout",
     "output_type": "stream",
     "text": [
      "Confusion Matrix:\n",
      " [[7339  179]\n",
      " [  85   45]]\n",
      "Precision: 0.200893\n",
      "Recall: 0.346154\n",
      "F1 score: 0.254237\n",
      "Sensitivity :  0.9885506465517241\n",
      "Specificity :  0.20089285714285715\n",
      "Negative predictive Value:  0.34615384615384615\n",
      "Positive Predictive Value:  0.9761904761904762\n",
      "Geometric Mean:  0.4456374802641656\n"
     ]
    }
   ],
   "source": [
    "cm= confusion_matrix(y_test, pred)\n",
    "print('Confusion Matrix:\\n',cm)\n",
    "\n",
    "precision = precision_score(y_test, pred)\n",
    "print('Precision: %f' % precision)\n",
    "\n",
    "recall = recall_score(y_test, pred)\n",
    "print('Recall: %f' % recall)\n",
    "\n",
    "f1 = f1_score(y_test, pred)\n",
    "print('F1 score: %f' % f1)\n",
    "\n",
    "sensitivity = cm[0,0]/(cm[0,0]+cm[1,0])\n",
    "print('Sensitivity : ', sensitivity )\n",
    "\n",
    "specificity = cm[1,1]/(cm[0,1]+cm[1,1])\n",
    "print('Specificity : ', specificity)\n",
    "\n",
    "NPV = cm[1,1]/(cm[1,1]+cm[1,0])\n",
    "print('Negative predictive Value: ', NPV)\n",
    "\n",
    "PPV = cm[0,0]/(cm[0,0]+cm[0,1])\n",
    "print('Positive Predictive Value: ', PPV)\n",
    "\n",
    "import math\n",
    "gm=math.sqrt(specificity*sensitivity)\n",
    "print('Geometric Mean: ', gm)"
   ]
  },
  {
   "cell_type": "code",
   "execution_count": 38,
   "metadata": {},
   "outputs": [
    {
     "name": "stdout",
     "output_type": "stream",
     "text": [
      "Random chance= 0.500000\n",
      "AUCROC Value = 0.886432\n",
      "AUC:PrecisionRecall=0.169\n"
     ]
    },
    {
     "data": {
      "image/png": "[encoded data removed]",
      "text/plain": [
       "<Figure size 432x288 with 1 Axes>"
      ]
     },
     "metadata": {
      "needs_background": "light"
     },
     "output_type": "display_data"
    },
    {
     "data": {
      "image/png": "[encoded data removed]",
      "text/plain": [
       "<Figure size 432x288 with 1 Axes>"
      ]
     },
     "metadata": {
      "needs_background": "light"
     },
     "output_type": "display_data"
    }
   ],
   "source": [
    "r_probs=[0 for _ in range(len(y_test))]\n",
    "lr_probs=model.predict_proba(X_test)\n",
    "lr_probs=lr_probs[:,1]\n",
    "    \n",
    "from sklearn.metrics import roc_curve, roc_auc_score\n",
    "r_auc=roc_auc_score(y_test,r_probs)\n",
    "lr_auc =roc_auc_score(y_test,lr_probs)\n",
    "print('Random chance= %3f'%(r_auc))\n",
    "print('AUCROC Value = %4f'%(lr_auc))\n",
    "\n",
    "     \n",
    "lr_precision, lr_recall, _ = precision_recall_curve(y_test, lr_probs,pos_label=1)\n",
    "lr_aucprc=auc(lr_recall, lr_precision)\n",
    "print('AUC:PrecisionRecall=%.3f' % (lr_aucprc))\n",
    "\n",
    "r_fpr, r_tpr, thresholds = metrics.roc_curve(y_test, r_probs, pos_label=1)\n",
    "lr_fpr, lr_tpr, thresholds = metrics.roc_curve(y_test, lr_probs, pos_label=1)\n",
    "\n",
    "#ROC CURVE PLOT\n",
    "import matplotlib.pyplot as plt\n",
    "plt.plot(r_fpr,r_tpr,linestyle='--',label='Random prediction(AUCROC=%0.3f)'%r_auc)\n",
    "plt.plot(lr_fpr,lr_tpr,linestyle='--',label='Random prediction(AUCROC=%0.3f)'%lr_auc)\n",
    "plt.title('ROC PLOT - LR BASE')\n",
    "plt.xlabel('FALSE POSITIVE RATE')\n",
    "plt.ylabel('TRUE POSITIVE RATE')\n",
    "plt.legend()\n",
    "#save\n",
    "plt.savefig('lr_base_plot1.png', dpi=300, bbox_inches='tight')\n",
    "    # show the plot\n",
    "plt.show()\n",
    "\n",
    "#PRECISION RECALL PLOT\n",
    "    \n",
    "plt.plot(lr_recall, lr_precision, linestyle='--', label='Random prediction(AUCPRC=%0.3f)'%lr_aucprc)\n",
    "plt.xlabel('RECALL')\n",
    "plt.ylabel('PRECISION')\n",
    "plt.legend()\n",
    "plt.title('PRC PLOT - LR BASE')\n",
    "#save\n",
    "plt.savefig('lr_base_plot2.png', dpi=300, bbox_inches='tight')\n",
    "    # show the plot\n",
    "plt.show()"
   ]
  },
  {
   "cell_type": "code",
   "execution_count": 39,
   "metadata": {},
   "outputs": [
    {
     "data": {
      "text/plain": [
       "array([1.99933968e+00, 9.99339684e-01, 9.91362134e-01, 9.89614658e-01,\n",
       "       8.89488602e-01, 8.86555168e-01, 8.76860580e-01, 8.69319938e-01,\n",
       "       8.68070689e-01, 8.57802528e-01, 8.45434121e-01, 8.44194908e-01,\n",
       "       8.28335531e-01, 8.22282851e-01, 8.13120714e-01, 8.06792376e-01,\n",
       "       8.00262500e-01, 7.99771875e-01, 7.85811337e-01, 7.84031125e-01,\n",
       "       7.78083326e-01, 7.76415855e-01, 7.68652751e-01, 7.66179351e-01,\n",
       "       7.65264292e-01, 7.63223953e-01, 7.38329617e-01, 7.36955648e-01,\n",
       "       7.35267522e-01, 7.33690417e-01, 7.22375962e-01, 7.13583173e-01,\n",
       "       6.98258784e-01, 6.98110652e-01, 6.96645538e-01, 6.96524585e-01,\n",
       "       6.96408695e-01, 6.89842181e-01, 6.87125726e-01, 6.85044762e-01,\n",
       "       6.82074030e-01, 6.81594316e-01, 6.76327117e-01, 6.74122365e-01,\n",
       "       6.64985144e-01, 6.64333972e-01, 6.54980273e-01, 6.54712715e-01,\n",
       "       6.50412366e-01, 6.49901486e-01, 6.47384608e-01, 6.45391738e-01,\n",
       "       6.44491309e-01, 6.44331001e-01, 6.41525271e-01, 6.40587719e-01,\n",
       "       6.22142200e-01, 6.19595191e-01, 6.16889298e-01, 6.14324766e-01,\n",
       "       6.00372099e-01, 5.98353762e-01, 5.96629132e-01, 5.95104439e-01,\n",
       "       5.89353389e-01, 5.88510582e-01, 5.67349101e-01, 5.67315035e-01,\n",
       "       5.56951132e-01, 5.55382095e-01, 5.50692663e-01, 5.49370991e-01,\n",
       "       5.35400887e-01, 5.34942671e-01, 5.16088971e-01, 5.15497683e-01,\n",
       "       5.10197099e-01, 5.09564204e-01, 5.01511497e-01, 5.01250107e-01,\n",
       "       4.99002579e-01, 4.95730011e-01, 4.78553160e-01, 4.78350117e-01,\n",
       "       4.58556472e-01, 4.57319497e-01, 4.45060116e-01, 4.44269004e-01,\n",
       "       4.39239163e-01, 4.37501967e-01, 4.32611706e-01, 4.32588727e-01,\n",
       "       4.31971079e-01, 4.31371957e-01, 4.22020768e-01, 4.19616686e-01,\n",
       "       4.19573803e-01, 4.19537991e-01, 4.15756837e-01, 4.15177372e-01,\n",
       "       4.13206435e-01, 4.12923327e-01, 4.12588157e-01, 4.11496683e-01,\n",
       "       3.98774560e-01, 3.98651290e-01, 3.88279420e-01, 3.88184199e-01,\n",
       "       3.87452485e-01, 3.87415283e-01, 3.81389625e-01, 3.80889658e-01,\n",
       "       3.69463955e-01, 3.68717483e-01, 3.68561783e-01, 3.68448406e-01,\n",
       "       3.65898341e-01, 3.64867740e-01, 3.60801367e-01, 3.60533552e-01,\n",
       "       3.52560388e-01, 3.51724167e-01, 3.43130300e-01, 3.42964638e-01,\n",
       "       3.34438300e-01, 3.33927004e-01, 3.26913418e-01, 3.25288336e-01,\n",
       "       3.19860419e-01, 3.19327376e-01, 3.01704140e-01, 3.01151326e-01,\n",
       "       2.80211606e-01, 2.79786663e-01, 2.63165700e-01, 2.63165192e-01,\n",
       "       2.61875764e-01, 2.61659429e-01, 2.59519966e-01, 2.59091543e-01,\n",
       "       2.55960812e-01, 2.55315686e-01, 2.54515053e-01, 2.54426722e-01,\n",
       "       2.45973865e-01, 2.45568739e-01, 2.45273071e-01, 2.45128130e-01,\n",
       "       2.29286136e-01, 2.28432126e-01, 2.23830837e-01, 2.23620750e-01,\n",
       "       2.22060366e-01, 2.21910798e-01, 2.20960832e-01, 2.20951009e-01,\n",
       "       2.19714737e-01, 2.19402796e-01, 2.17509410e-01, 2.17256291e-01,\n",
       "       2.07019493e-01, 2.06994010e-01, 1.93415943e-01, 1.92978690e-01,\n",
       "       1.92208542e-01, 1.92075353e-01, 1.91682438e-01, 1.91658090e-01,\n",
       "       1.90971326e-01, 1.90931788e-01, 1.84078794e-01, 1.84061039e-01,\n",
       "       1.71524773e-01, 1.71437399e-01, 1.70611380e-01, 1.70594548e-01,\n",
       "       1.67912385e-01, 1.67888782e-01, 1.66526401e-01, 1.66452611e-01,\n",
       "       1.59390491e-01, 1.59336516e-01, 1.58128711e-01, 1.57991503e-01,\n",
       "       1.55354305e-01, 1.55177922e-01, 1.54488125e-01, 1.54466210e-01,\n",
       "       1.51266016e-01, 1.51254536e-01, 1.47994704e-01, 1.47770026e-01,\n",
       "       1.43408113e-01, 1.43324536e-01, 1.38716238e-01, 1.38620452e-01,\n",
       "       1.33596359e-01, 1.33481174e-01, 1.26627473e-01, 1.26597567e-01,\n",
       "       1.22868813e-01, 1.22814222e-01, 1.10823671e-01, 1.10609296e-01,\n",
       "       1.10181432e-01, 1.10132252e-01, 1.01764450e-01, 1.01693851e-01,\n",
       "       9.30629728e-02, 9.29945040e-02, 7.95520358e-02, 7.95459912e-02,\n",
       "       7.68161653e-02, 7.66963505e-02, 6.58373587e-02, 6.57789689e-02,\n",
       "       5.44847730e-02, 5.44779066e-02, 5.25340828e-02, 5.25279536e-02,\n",
       "       4.78489005e-02, 4.77749543e-02, 4.74326515e-02, 4.74146519e-02,\n",
       "       4.21620647e-02, 4.21549325e-02, 4.18311999e-02, 4.18069104e-02,\n",
       "       3.36077403e-02, 3.36029285e-02, 3.27143788e-02, 3.26567267e-02,\n",
       "       3.14182189e-02, 3.13764866e-02, 2.42205692e-02, 2.42123047e-02,\n",
       "       2.24961981e-02, 2.24746043e-02, 1.86185753e-02, 1.86058150e-02,\n",
       "       2.43349177e-03, 2.43253805e-03, 1.77695038e-03, 1.77674948e-03,\n",
       "       4.38006411e-05])"
      ]
     },
     "execution_count": 39,
     "metadata": {},
     "output_type": "execute_result"
    }
   ],
   "source": [
    "#threshold Tuning\n",
    "lr_probs = model.predict_proba(X_test)\n",
    "lr_probs=lr_probs[:,1]\n",
    "fpr, tpr,thresholds = roc_curve(y_test, lr_probs)\n",
    "thresholds"
   ]
  },
  {
   "cell_type": "code",
   "execution_count": 40,
   "metadata": {},
   "outputs": [
    {
     "data": {
      "text/html": [
       "<div>\n",
       "<style scoped>\n",
       "    .dataframe tbody tr th:only-of-type {\n",
       "        vertical-align: middle;\n",
       "    }\n",
       "\n",
       "    .dataframe tbody tr th {\n",
       "        vertical-align: top;\n",
       "    }\n",
       "\n",
       "    .dataframe thead th {\n",
       "        text-align: right;\n",
       "    }\n",
       "</style>\n",
       "<table border=\"1\" class=\"dataframe\">\n",
       "  <thead>\n",
       "    <tr style=\"text-align: right;\">\n",
       "      <th></th>\n",
       "      <th>thresholds</th>\n",
       "      <th>f1</th>\n",
       "    </tr>\n",
       "  </thead>\n",
       "  <tbody>\n",
       "    <tr>\n",
       "      <th>54</th>\n",
       "      <td>0.641525</td>\n",
       "      <td>0.268908</td>\n",
       "    </tr>\n",
       "    <tr>\n",
       "      <th>64</th>\n",
       "      <td>0.589353</td>\n",
       "      <td>0.268116</td>\n",
       "    </tr>\n",
       "    <tr>\n",
       "      <th>55</th>\n",
       "      <td>0.640588</td>\n",
       "      <td>0.267782</td>\n",
       "    </tr>\n",
       "    <tr>\n",
       "      <th>62</th>\n",
       "      <td>0.596629</td>\n",
       "      <td>0.267658</td>\n",
       "    </tr>\n",
       "    <tr>\n",
       "      <th>65</th>\n",
       "      <td>0.588511</td>\n",
       "      <td>0.267148</td>\n",
       "    </tr>\n",
       "    <tr>\n",
       "      <th>...</th>\n",
       "      <td>...</td>\n",
       "      <td>...</td>\n",
       "    </tr>\n",
       "    <tr>\n",
       "      <th>5</th>\n",
       "      <td>0.886555</td>\n",
       "      <td>0.027586</td>\n",
       "    </tr>\n",
       "    <tr>\n",
       "      <th>2</th>\n",
       "      <td>0.991362</td>\n",
       "      <td>0.015267</td>\n",
       "    </tr>\n",
       "    <tr>\n",
       "      <th>3</th>\n",
       "      <td>0.989615</td>\n",
       "      <td>0.015152</td>\n",
       "    </tr>\n",
       "    <tr>\n",
       "      <th>1</th>\n",
       "      <td>0.999340</td>\n",
       "      <td>0.000000</td>\n",
       "    </tr>\n",
       "    <tr>\n",
       "      <th>0</th>\n",
       "      <td>1.999340</td>\n",
       "      <td>0.000000</td>\n",
       "    </tr>\n",
       "  </tbody>\n",
       "</table>\n",
       "<p>245 rows × 2 columns</p>\n",
       "</div>"
      ],
      "text/plain": [
       "    thresholds        f1\n",
       "54    0.641525  0.268908\n",
       "64    0.589353  0.268116\n",
       "55    0.640588  0.267782\n",
       "62    0.596629  0.267658\n",
       "65    0.588511  0.267148\n",
       "..         ...       ...\n",
       "5     0.886555  0.027586\n",
       "2     0.991362  0.015267\n",
       "3     0.989615  0.015152\n",
       "1     0.999340  0.000000\n",
       "0     1.999340  0.000000\n",
       "\n",
       "[245 rows x 2 columns]"
      ]
     },
     "execution_count": 40,
     "metadata": {},
     "output_type": "execute_result"
    }
   ],
   "source": [
    "from sklearn.metrics import f1_score\n",
    "f1_ls =[]\n",
    "for thres in thresholds:\n",
    "    y_pred = np.where(lr_probs> thres, 1,0)\n",
    "    f1_ls.append(f1_score(y_test,y_pred))\n",
    "f1_ls = pd.concat([pd.Series(thresholds),pd.Series(f1_ls)], axis=1)\n",
    "f1_ls.columns= ['thresholds', 'f1']\n",
    "f1_ls.sort_values(by='f1', ascending = False, inplace=True)\n",
    "f1_ls"
   ]
  },
  {
   "cell_type": "code",
   "execution_count": 42,
   "metadata": {},
   "outputs": [],
   "source": [
    "pred_best = model.predict_proba(X_test)[:,1]\n",
    "pred_best[pred_best>0.641] =1\n",
    "pred_best[pred_best<=0.641] =0"
   ]
  },
  {
   "cell_type": "code",
   "execution_count": 43,
   "metadata": {},
   "outputs": [
    {
     "name": "stdout",
     "output_type": "stream",
     "text": [
      "Confusion Matrix:\n",
      " [[7441   77]\n",
      " [  98   32]]\n",
      "Precision: 0.293578\n",
      "Recall: 0.246154\n",
      "F1 score: 0.267782\n",
      "Sensitivity :  0.9870009285051068\n",
      "Specificity :  0.29357798165137616\n",
      "Negative predictive Value:  0.24615384615384617\n",
      "Positive Predictive Value:  0.9897579143389199\n",
      "Geometric Mean:  0.5382952168453324\n"
     ]
    }
   ],
   "source": [
    "cm= confusion_matrix(y_test, pred_best)\n",
    "print('Confusion Matrix:\\n',cm)\n",
    "\n",
    "precision = precision_score(y_test, pred_best)\n",
    "print('Precision: %f' % precision)\n",
    "\n",
    "recall = recall_score(y_test,pred_best)\n",
    "print('Recall: %f' % recall)\n",
    "\n",
    "f1 = f1_score(y_test, pred_best)\n",
    "print('F1 score: %f' % f1)\n",
    "\n",
    "sensitivity = cm[0,0]/(cm[0,0]+cm[1,0])\n",
    "print('Sensitivity : ', sensitivity )\n",
    "\n",
    "specificity = cm[1,1]/(cm[0,1]+cm[1,1])\n",
    "print('Specificity : ', specificity)\n",
    "\n",
    "NPV = cm[1,1]/(cm[1,1]+cm[1,0])\n",
    "print('Negative predictive Value: ', NPV)\n",
    "\n",
    "PPV = cm[0,0]/(cm[0,0]+cm[0,1])\n",
    "print('Positive Predictive Value: ', PPV)\n",
    "\n",
    "import math\n",
    "gm=math.sqrt(specificity*sensitivity)\n",
    "print('Geometric Mean: ', gm)"
   ]
  },
  {
   "cell_type": "code",
   "execution_count": null,
   "metadata": {},
   "outputs": [],
   "source": []
  },
  {
   "cell_type": "code",
   "execution_count": 44,
   "metadata": {},
   "outputs": [],
   "source": [
    "#Scaling data\n",
    "scaler=sklearn.preprocessing.StandardScaler().fit(X_train)\n",
    "X_train=scaler.transform(X_train)\n",
    "X_test=scaler.transform(X_test)\n"
   ]
  },
  {
   "cell_type": "code",
   "execution_count": 45,
   "metadata": {},
   "outputs": [
    {
     "name": "stdout",
     "output_type": "stream",
     "text": [
      "100%|█████████████████████████| 24/24 [32:47<00:00, 81.99s/trial, best loss: 0.0026498283510696385]\n",
      "It takes 32.79494533141454 minutes\n",
      "Random Forest Best Parameters {'class_weight': 1, 'criterion': 0, 'max_depth': 14, 'max_features': 0, 'n_estimators': 610}\n"
     ]
    }
   ],
   "source": [
    "start = time.time()\n",
    "space_lr = {'max_depth': hp.randint('max_depth', 6,15),\n",
    "                'max_features': hp.choice('max_features',['sqrt','log2']),\n",
    "                'n_estimators': hp.randint('n_estimators', 100,1000),\n",
    "                'criterion': hp.choice('criterion', ['entropy','gini']),\n",
    "            'class_weight':hp.choice('class_weight',['balanced_subsample','balanced'])\n",
    "                    }\n",
    "\n",
    "def rf(params):\n",
    "    params = {'max_depth': params['max_depth'],\n",
    "                  'max_features': params['max_features'],\n",
    "                  'n_estimators': params['n_estimators'],\n",
    "                  'criterion': params['criterion'],\n",
    "              'class_weight':params['class_weight']\n",
    "             }\n",
    "    rf_bo = sklearn.ensemble.RandomForestClassifier(**params)\n",
    "    cv= StratifiedKFold(n_splits=5)\n",
    "    best_score = cross_val_score(rf_bo, X_train, y_train, scoring='roc_auc', cv=cv).mean()\n",
    "    return 1-best_score\n",
    "\n",
    "rf_best_param = fmin(fn=rf,\n",
    "                    space=space_lr,\n",
    "                    max_evals=24,\n",
    "                    rstate=np.random.RandomState(42),\n",
    "                    algo=tpe.suggest,\n",
    "                        )\n",
    "print('It takes %s minutes' % ((time.time() - start)/60))\n",
    "print('Random Forest Best Parameters',rf_best_param)"
   ]
  },
  {
   "cell_type": "code",
   "execution_count": null,
   "metadata": {},
   "outputs": [],
   "source": []
  },
  {
   "cell_type": "code",
   "execution_count": 46,
   "metadata": {},
   "outputs": [
    {
     "name": "stdout",
     "output_type": "stream",
     "text": [
      "Confusion Matrix:\n",
      " [[7472   46]\n",
      " [ 127    3]]\n",
      "Precision: 0.061224\n",
      "Recall: 0.023077\n",
      "F1 score: 0.033520\n",
      "Sensitivity :  0.9832872746414002\n",
      "Specificity :  0.061224489795918366\n",
      "Negative predictive Value:  0.023076923076923078\n",
      "Positive Predictive Value:  0.9938813514232508\n",
      "Geometric Mean:  0.24535945409284474\n"
     ]
    }
   ],
   "source": [
    "param_values = [x for x in rf_best_param.values()]\n",
    "\n",
    "if param_values[1] == 1:\n",
    "    criterion = 'gini'\n",
    "else:\n",
    "    criterion= 'entropy'\n",
    "\n",
    "if param_values[3] == 1:\n",
    "    max_features = 'log2'\n",
    "else:\n",
    "    max_features= 'sqrt'\n",
    "    \n",
    "if param_values[0] ==1:\n",
    "    class_weight='balanced'\n",
    "else:\n",
    "    class_weight='balanced_subsample'\n",
    "\n",
    "rf_best = sklearn.ensemble.RandomForestClassifier(\n",
    "criterion= criterion,\n",
    "max_depth= param_values[2],\n",
    "max_features= max_features,\n",
    "n_estimators=param_values[4],\n",
    "class_weight=class_weight)\n",
    "\n",
    "model= rf_best.fit(X_train, y_train)\n",
    "pred = model.predict(X_test)\n",
    "\n",
    "cm = confusion_matrix(y_test, pred)\n",
    "print('Confusion Matrix:\\n',cm)\n",
    "\n",
    "precision = precision_score(y_test, pred)\n",
    "print('Precision: %f' % precision)\n",
    "\n",
    "recall = recall_score(y_test, pred)\n",
    "print('Recall: %f' % recall)\n",
    "\n",
    "f1 = f1_score(y_test, pred)\n",
    "print('F1 score: %f' % f1)\n",
    "\n",
    "sensitivity = cm[0,0]/(cm[0,0]+cm[1,0])\n",
    "print('Sensitivity : ', sensitivity )\n",
    "\n",
    "specificity = cm[1,1]/(cm[0,1]+cm[1,1])\n",
    "print('Specificity : ', specificity)\n",
    "\n",
    "NPV = cm[1,1]/(cm[1,1]+cm[1,0])\n",
    "print('Negative predictive Value: ', NPV)\n",
    "\n",
    "PPV = cm[0,0]/(cm[0,0]+cm[0,1])\n",
    "print('Positive Predictive Value: ', PPV)\n",
    "\n",
    "import math\n",
    "gm=math.sqrt(specificity*sensitivity)\n",
    "print('Geometric Mean: ', gm)"
   ]
  },
  {
   "cell_type": "code",
   "execution_count": 48,
   "metadata": {
    "scrolled": true
   },
   "outputs": [
    {
     "name": "stdout",
     "output_type": "stream",
     "text": [
      "Random chance= 0.500000\n",
      "AUCROC Value = 0.894547\n",
      "AUC:PrecisionRecall Value =0.110\n"
     ]
    },
    {
     "data": {
      "image/png": "[encoded data removed]",
      "text/plain": [
       "<Figure size 432x288 with 1 Axes>"
      ]
     },
     "metadata": {
      "needs_background": "light"
     },
     "output_type": "display_data"
    },
    {
     "data": {
      "image/png": "[encoded data removed]",
      "text/plain": [
       "<Figure size 432x288 with 1 Axes>"
      ]
     },
     "metadata": {
      "needs_background": "light"
     },
     "output_type": "display_data"
    }
   ],
   "source": [
    "r_probs=[0 for _ in range(len(y_test))]\n",
    "rf_probs=model.predict_proba(X_test)\n",
    "rf_probs=rf_probs[:,1]\n",
    "from sklearn.metrics import roc_curve, roc_auc_score\n",
    "r_auc=roc_auc_score(y_test,r_probs)\n",
    "rf_auc =roc_auc_score(y_test,rf_probs)\n",
    "print('Random chance= %3f'%(r_auc))\n",
    "print('AUCROC Value = %4f'%(rf_auc))\n",
    "\n",
    "rf_precision, rf_recall, _ = precision_recall_curve(y_test, rf_probs,pos_label=1)\n",
    "rf_aucprc=auc(rf_recall, rf_precision)\n",
    "print('AUC:PrecisionRecall Value =%.3f' % (rf_aucprc))\n",
    "    \n",
    "r_fpr, r_tpr, thresholds = metrics.roc_curve(y_test, r_probs, pos_label=1)\n",
    "rf_fpr, rf_tpr, thresholds = metrics.roc_curve(y_test, rf_probs, pos_label=1)\n",
    "\n",
    "#ROC PLOT\n",
    "import matplotlib.pyplot as plt\n",
    "plt.plot(r_fpr,r_tpr,linestyle='--',label='Random prediction(AUCROC=%0.3f)'%r_auc)\n",
    "plt.plot(rf_fpr,rf_tpr,linestyle='--',label='Random prediction(AUCROC=%0.3f)'%rf_auc)\n",
    "plt.title('ROC PLOT - RF')\n",
    "plt.xlabel('FALSE POSITIVE RATE')\n",
    "plt.ylabel('TRUE POSITIVE RATE')\n",
    "plt.legend()\n",
    "plt.savefig('RF_plot1.png', dpi=300, bbox_inches='tight')\n",
    "plt.show()\n",
    "\n",
    "plt.plot(rf_recall, rf_precision, linestyle='--', label='Random prediction(AUCPRC=%0.3f)'%rf_aucprc)\n",
    "# axis labels\n",
    "plt.xlabel('RECALL')\n",
    "plt.ylabel('PRECISION')\n",
    "plt.title('PRC PLOT - RF')\n",
    "# show the legend\n",
    "plt.legend()\n",
    "#save\n",
    "plt.savefig('RF_plot2.png', dpi=300, bbox_inches='tight')\n",
    "#show the plot\n",
    "plt.show()"
   ]
  },
  {
   "cell_type": "code",
   "execution_count": 49,
   "metadata": {},
   "outputs": [
    {
     "data": {
      "text/plain": [
       "array([1.67109058e+00, 6.71090578e-01, 5.78934136e-01, 5.71826201e-01,\n",
       "       5.57501839e-01, 5.50593638e-01, 5.42209911e-01, 5.37835625e-01,\n",
       "       4.99932363e-01, 4.98500768e-01, 4.88062377e-01, 4.87674585e-01,\n",
       "       4.82945509e-01, 4.80408867e-01, 4.74651095e-01, 4.74314270e-01,\n",
       "       4.72271021e-01, 4.70311407e-01, 4.57442365e-01, 4.57108079e-01,\n",
       "       4.48948243e-01, 4.48049188e-01, 4.47607518e-01, 4.45566967e-01,\n",
       "       4.37460449e-01, 4.36896189e-01, 4.35317329e-01, 4.33786826e-01,\n",
       "       4.32318096e-01, 4.31703599e-01, 4.25428537e-01, 4.25397579e-01,\n",
       "       4.23113265e-01, 4.22198299e-01, 4.19940352e-01, 4.19921295e-01,\n",
       "       4.17164055e-01, 4.16331371e-01, 4.15666324e-01, 4.15003107e-01,\n",
       "       4.01499902e-01, 3.99065167e-01, 3.96887727e-01, 3.96821061e-01,\n",
       "       3.84817271e-01, 3.83610099e-01, 3.80503126e-01, 3.79786934e-01,\n",
       "       3.78700184e-01, 3.78621898e-01, 3.76496038e-01, 3.76299619e-01,\n",
       "       3.72621895e-01, 3.71740212e-01, 3.66536808e-01, 3.66500699e-01,\n",
       "       3.65263230e-01, 3.64965493e-01, 3.64381916e-01, 3.63755151e-01,\n",
       "       3.63260405e-01, 3.63251418e-01, 3.59603178e-01, 3.58033939e-01,\n",
       "       3.54436029e-01, 3.54399822e-01, 3.47268557e-01, 3.47151991e-01,\n",
       "       3.43506591e-01, 3.43297393e-01, 3.40662657e-01, 3.40475230e-01,\n",
       "       3.39628070e-01, 3.38448044e-01, 3.37996997e-01, 3.37238051e-01,\n",
       "       3.32298005e-01, 3.30600603e-01, 3.28201491e-01, 3.27501829e-01,\n",
       "       3.25568669e-01, 3.25449858e-01, 3.24358677e-01, 3.23739085e-01,\n",
       "       3.16535810e-01, 3.15556177e-01, 3.09648152e-01, 3.09561859e-01,\n",
       "       3.04748205e-01, 3.04294977e-01, 3.02551476e-01, 3.02521293e-01,\n",
       "       3.01717947e-01, 3.01552856e-01, 3.00847267e-01, 2.99892664e-01,\n",
       "       2.99378705e-01, 2.99364014e-01, 2.98768336e-01, 2.98730623e-01,\n",
       "       2.98190971e-01, 2.98020138e-01, 2.96726677e-01, 2.96673524e-01,\n",
       "       2.91761943e-01, 2.90409883e-01, 2.90110599e-01, 2.89928775e-01,\n",
       "       2.86716272e-01, 2.86471665e-01, 2.82789026e-01, 2.82743898e-01,\n",
       "       2.79437349e-01, 2.79292899e-01, 2.75578235e-01, 2.75401295e-01,\n",
       "       2.71970944e-01, 2.71847098e-01, 2.70373731e-01, 2.69566204e-01,\n",
       "       2.69175567e-01, 2.68793459e-01, 2.67037631e-01, 2.66697975e-01,\n",
       "       2.63652586e-01, 2.63439895e-01, 2.60193758e-01, 2.60187676e-01,\n",
       "       2.57969825e-01, 2.57545602e-01, 2.56405030e-01, 2.56218957e-01,\n",
       "       2.51466072e-01, 2.50852901e-01, 2.49407726e-01, 2.49405287e-01,\n",
       "       2.49154048e-01, 2.48458571e-01, 2.42991433e-01, 2.42484560e-01,\n",
       "       2.42108266e-01, 2.42069318e-01, 2.33849600e-01, 2.33523225e-01,\n",
       "       2.30357753e-01, 2.30210085e-01, 2.11543960e-01, 2.11533233e-01,\n",
       "       2.00634306e-01, 2.00338443e-01, 1.99340372e-01, 1.99194103e-01,\n",
       "       1.98495007e-01, 1.98318530e-01, 1.96941403e-01, 1.96859962e-01,\n",
       "       1.90383003e-01, 1.89996081e-01, 1.82556165e-01, 1.82544204e-01,\n",
       "       1.81281137e-01, 1.81247719e-01, 1.81046776e-01, 1.80838117e-01,\n",
       "       1.76599187e-01, 1.76517278e-01, 1.73286776e-01, 1.73267878e-01,\n",
       "       1.68205111e-01, 1.68164201e-01, 1.64826089e-01, 1.64630999e-01,\n",
       "       1.62742156e-01, 1.62424296e-01, 1.51606216e-01, 1.51347139e-01,\n",
       "       1.50350874e-01, 1.50315492e-01, 1.49143129e-01, 1.48949510e-01,\n",
       "       1.46423522e-01, 1.46392110e-01, 1.40711779e-01, 1.40554655e-01,\n",
       "       1.34100485e-01, 1.34045568e-01, 1.33753096e-01, 1.33591127e-01,\n",
       "       1.28109841e-01, 1.28090284e-01, 1.27428929e-01, 1.27259188e-01,\n",
       "       1.25171801e-01, 1.25110199e-01, 1.21406808e-01, 1.21318324e-01,\n",
       "       1.20910383e-01, 1.20833527e-01, 1.20381486e-01, 1.20133769e-01,\n",
       "       1.17689928e-01, 1.17644428e-01, 1.17212771e-01, 1.16929211e-01,\n",
       "       1.13844644e-01, 1.13767089e-01, 9.78212873e-02, 9.77682820e-02,\n",
       "       9.74919727e-02, 9.74765473e-02, 8.50955481e-02, 8.50370839e-02,\n",
       "       8.35474190e-02, 8.35440044e-02, 7.70964024e-02, 7.70616317e-02,\n",
       "       6.78283388e-02, 6.77763950e-02, 6.31816377e-02, 6.31254531e-02,\n",
       "       5.20934553e-02, 5.20877170e-02, 4.33575253e-02, 4.33371088e-02,\n",
       "       2.22553513e-02, 2.22452350e-02, 2.09685202e-02, 2.09671776e-02,\n",
       "       1.46330352e-02, 1.46311575e-02, 1.19764770e-02, 1.19764708e-02,\n",
       "       1.15029328e-02, 1.14922398e-02, 8.49949675e-03, 8.49725584e-03,\n",
       "       6.56734357e-03, 6.55737705e-03, 6.01846082e-03, 6.01206941e-03,\n",
       "       4.91993929e-03, 4.91803279e-03, 3.27924882e-03, 3.27868852e-03,\n",
       "       1.64165350e-03, 1.63934426e-03, 1.60981106e-03, 1.60910808e-03,\n",
       "       1.33705240e-03, 1.33692686e-03, 2.95379657e-04, 2.93420792e-04,\n",
       "       5.31860260e-05, 4.97012647e-05, 3.47537244e-05, 3.08743496e-05,\n",
       "       2.52331386e-05, 2.23116764e-05, 1.40805930e-05, 1.10553873e-05,\n",
       "       0.00000000e+00])"
      ]
     },
     "execution_count": 49,
     "metadata": {},
     "output_type": "execute_result"
    }
   ],
   "source": [
    "# threshold Tuning\n",
    "rf_probs=rf_best.predict_proba(X_test)\n",
    "rf_probs=rf_probs[:,1]\n",
    "fpr, tpr,thresholds = roc_curve(y_test, rf_probs)\n",
    "thresholds"
   ]
  },
  {
   "cell_type": "code",
   "execution_count": 50,
   "metadata": {},
   "outputs": [
    {
     "data": {
      "text/html": [
       "<div>\n",
       "<style scoped>\n",
       "    .dataframe tbody tr th:only-of-type {\n",
       "        vertical-align: middle;\n",
       "    }\n",
       "\n",
       "    .dataframe tbody tr th {\n",
       "        vertical-align: top;\n",
       "    }\n",
       "\n",
       "    .dataframe thead th {\n",
       "        text-align: right;\n",
       "    }\n",
       "</style>\n",
       "<table border=\"1\" class=\"dataframe\">\n",
       "  <thead>\n",
       "    <tr style=\"text-align: right;\">\n",
       "      <th></th>\n",
       "      <th>thresholds</th>\n",
       "      <th>f1</th>\n",
       "    </tr>\n",
       "  </thead>\n",
       "  <tbody>\n",
       "    <tr>\n",
       "      <th>122</th>\n",
       "      <td>0.267038</td>\n",
       "      <td>0.216383</td>\n",
       "    </tr>\n",
       "    <tr>\n",
       "      <th>123</th>\n",
       "      <td>0.266698</td>\n",
       "      <td>0.216049</td>\n",
       "    </tr>\n",
       "    <tr>\n",
       "      <th>130</th>\n",
       "      <td>0.256405</td>\n",
       "      <td>0.215116</td>\n",
       "    </tr>\n",
       "    <tr>\n",
       "      <th>120</th>\n",
       "      <td>0.269176</td>\n",
       "      <td>0.214953</td>\n",
       "    </tr>\n",
       "    <tr>\n",
       "      <th>131</th>\n",
       "      <td>0.256219</td>\n",
       "      <td>0.214804</td>\n",
       "    </tr>\n",
       "    <tr>\n",
       "      <th>...</th>\n",
       "      <td>...</td>\n",
       "      <td>...</td>\n",
       "    </tr>\n",
       "    <tr>\n",
       "      <th>5</th>\n",
       "      <td>0.550594</td>\n",
       "      <td>0.013158</td>\n",
       "    </tr>\n",
       "    <tr>\n",
       "      <th>1</th>\n",
       "      <td>0.671091</td>\n",
       "      <td>0.000000</td>\n",
       "    </tr>\n",
       "    <tr>\n",
       "      <th>3</th>\n",
       "      <td>0.571826</td>\n",
       "      <td>0.000000</td>\n",
       "    </tr>\n",
       "    <tr>\n",
       "      <th>2</th>\n",
       "      <td>0.578934</td>\n",
       "      <td>0.000000</td>\n",
       "    </tr>\n",
       "    <tr>\n",
       "      <th>0</th>\n",
       "      <td>1.671091</td>\n",
       "      <td>0.000000</td>\n",
       "    </tr>\n",
       "  </tbody>\n",
       "</table>\n",
       "<p>261 rows × 2 columns</p>\n",
       "</div>"
      ],
      "text/plain": [
       "     thresholds        f1\n",
       "122    0.267038  0.216383\n",
       "123    0.266698  0.216049\n",
       "130    0.256405  0.215116\n",
       "120    0.269176  0.214953\n",
       "131    0.256219  0.214804\n",
       "..          ...       ...\n",
       "5      0.550594  0.013158\n",
       "1      0.671091  0.000000\n",
       "3      0.571826  0.000000\n",
       "2      0.578934  0.000000\n",
       "0      1.671091  0.000000\n",
       "\n",
       "[261 rows x 2 columns]"
      ]
     },
     "execution_count": 50,
     "metadata": {},
     "output_type": "execute_result"
    }
   ],
   "source": [
    "from sklearn.metrics import f1_score\n",
    "f1_ls =[]\n",
    "for thres in thresholds:\n",
    "    y_pred = np.where(rf_probs> thres, 1,0)\n",
    "    f1_ls.append(f1_score(y_test,y_pred))\n",
    "f1_ls = pd.concat([pd.Series(thresholds),pd.Series(f1_ls)], axis=1)\n",
    "f1_ls.columns= ['thresholds', 'f1']\n",
    "f1_ls.sort_values(by='f1', ascending = False, inplace=True)\n",
    "f1_ls"
   ]
  },
  {
   "cell_type": "code",
   "execution_count": 100,
   "metadata": {},
   "outputs": [],
   "source": [
    "pred_best = model.predict_proba(X_test)[:,1]\n",
    "pred_best[pred_best>0.341] =1\n",
    "pred_best[pred_best<=0.341] =0"
   ]
  },
  {
   "cell_type": "code",
   "execution_count": 101,
   "metadata": {},
   "outputs": [
    {
     "name": "stdout",
     "output_type": "stream",
     "text": [
      "Confusion Matrix:\n",
      " [[7036  482]\n",
      " [  63   67]]\n",
      "Precision: 0.122040\n",
      "Recall: 0.515385\n",
      "F1 score: 0.197349\n",
      "Sensitivity :  0.9911255106353007\n",
      "Specificity :  0.122040072859745\n",
      "Negative predictive Value:  0.5153846153846153\n",
      "Positive Predictive Value:  0.9358872040436286\n",
      "Geometric Mean:  0.3477887714275492\n"
     ]
    }
   ],
   "source": [
    "cm= confusion_matrix(y_test, pred_best)\n",
    "print('Confusion Matrix:\\n',cm)\n",
    "\n",
    "precision = precision_score(y_test, pred_best)\n",
    "print('Precision: %f' % precision)\n",
    "\n",
    "recall = recall_score(y_test,pred_best)\n",
    "print('Recall: %f' % recall)\n",
    "\n",
    "f1 = f1_score(y_test, pred_best)\n",
    "print('F1 score: %f' % f1)\n",
    "\n",
    "sensitivity = cm[0,0]/(cm[0,0]+cm[1,0])\n",
    "print('Sensitivity : ', sensitivity )\n",
    "\n",
    "specificity = cm[1,1]/(cm[0,1]+cm[1,1])\n",
    "print('Specificity : ', specificity)\n",
    "\n",
    "NPV = cm[1,1]/(cm[1,1]+cm[1,0])\n",
    "print('Negative predictive Value: ', NPV)\n",
    "\n",
    "PPV = cm[0,0]/(cm[0,0]+cm[0,1]) \n",
    "print('Positive Predictive Value: ', PPV)\n",
    "\n",
    "import math\n",
    "gm=math.sqrt(specificity*sensitivity)\n",
    "print('Geometric Mean: ', gm)"
   ]
  },
  {
   "cell_type": "code",
   "execution_count": 51,
   "metadata": {},
   "outputs": [
    {
     "name": "stdout",
     "output_type": "stream",
     "text": [
      "100%|██████████████████████████| 24/24 [00:08<00:00,  2.94trial/s, best loss: 0.015442006277695541]\n",
      "It takes 0.13595778942108155 minutes\n",
      "Decision Tree Best Parameters {'criterion': 1, 'max_depth': 28, 'max_features': 0}\n"
     ]
    }
   ],
   "source": [
    "start = time.time()\n",
    "space_lr ={\n",
    "        'max_depth': hp.randint('max_depth', 5, 70),\n",
    "        'max_features': hp.choice('max_features', ['sqrt', 'log2']),\n",
    "        'criterion': hp.choice('criterion', [\"gini\", \"entropy\"]),\n",
    "    #'class_weight' : 'balanced',\n",
    "            # 'min_samples_leaf': hp.choice('min_samples_leaf',[1,100,200,300,400,500])\n",
    "}\n",
    "\n",
    "def dt(params):\n",
    "    params = {'max_depth': params['max_depth'],\n",
    "                 # 'min_samples_leaf': params['min_samples_leaf'],\n",
    "                  'criterion': params['criterion'],\n",
    "              #'class_weight': params['class_weight'],\n",
    "                 'max_features': params['max_features']}\n",
    "\n",
    "\n",
    "    dt_bo = sklearn.tree.DecisionTreeClassifier(random_state=42, **params)\n",
    "    cv= StratifiedKFold(n_splits=5)\n",
    "    best_score = cross_val_score(dt_bo, X_train, y_train, scoring='roc_auc', cv=cv).mean()\n",
    "    return 1-best_score\n",
    "    \n",
    "dt_best_param = fmin(fn=dt,\n",
    "                    space=space_lr,\n",
    "                    max_evals=24,\n",
    "                    rstate=np.random.RandomState(42),\n",
    "                    algo=tpe.suggest)\n",
    "print('It takes %s minutes' % ((time.time() - start)/60))\n",
    "print('Decision Tree Best Parameters',dt_best_param)\n",
    "    "
   ]
  },
  {
   "cell_type": "markdown",
   "metadata": {},
   "source": [
    "###### param_values = [x for x in dt_best_param.values()]\n",
    "\n",
    "if param_values[2] ==0:\n",
    "    max_features = 'sqrt'\n",
    "else:\n",
    "    max_features ='log2'\n",
    "\n",
    "if param_values[0] == 0:\n",
    "    criterion = 'entropy'\n",
    "else:\n",
    "    criterion= 'gini'\n",
    "        \n",
    "\n",
    "\n",
    "dt_best =sklearn.tree.DecisionTreeClassifier(\n",
    "    criterion=criterion,\n",
    "     max_depth= param_values[1],\n",
    "   \n",
    "    max_features=max_features,\n",
    ")\n",
    "\n",
    "                                   \n",
    "model= dt_best.fit(X_train, y_train)\n",
    "pred = model.predict(X_test)"
   ]
  },
  {
   "cell_type": "code",
   "execution_count": 53,
   "metadata": {},
   "outputs": [
    {
     "name": "stdout",
     "output_type": "stream",
     "text": [
      "Confusion Matrix:\n",
      " [[7381  137]\n",
      " [ 117   13]]\n",
      "Precision: 0.086667\n",
      "Recall: 0.100000\n",
      "F1 score: 0.092857\n",
      "Sensitivity :  0.9843958388903707\n",
      "Specificity :  0.08666666666666667\n",
      "Negative predictive Value:  0.1\n",
      "Positive Predictive Value:  0.9817770683692472\n",
      "Geometric Mean:  0.29208612777255527\n"
     ]
    }
   ],
   "source": [
    "cm= confusion_matrix(y_test, pred)\n",
    "print('Confusion Matrix:\\n',cm)\n",
    "\n",
    "precision = precision_score(y_test, pred)\n",
    "print('Precision: %f' % precision)\n",
    "\n",
    "recall = recall_score(y_test, pred)\n",
    "print('Recall: %f' % recall)\n",
    "\n",
    "f1 = f1_score(y_test, pred)\n",
    "print('F1 score: %f' % f1)\n",
    "\n",
    "sensitivity = cm[0,0]/(cm[0,0]+cm[1,0])\n",
    "print('Sensitivity : ', sensitivity )\n",
    "\n",
    "specificity = cm[1,1]/(cm[0,1]+cm[1,1])\n",
    "print('Specificity : ', specificity)\n",
    "\n",
    "NPV = cm[1,1]/(cm[1,1]+cm[1,0])\n",
    "print('Negative predictive Value: ', NPV)\n",
    "\n",
    "PPV = cm[0,0]/(cm[0,0]+cm[0,1])\n",
    "print('Positive Predictive Value: ', PPV)\n",
    "\n",
    "import math\n",
    "gm=math.sqrt(specificity*sensitivity)\n",
    "print('Geometric Mean: ', gm)"
   ]
  },
  {
   "cell_type": "code",
   "execution_count": 54,
   "metadata": {},
   "outputs": [
    {
     "name": "stdout",
     "output_type": "stream",
     "text": [
      "Random chance= 0.500000\n",
      "AUCROC Value = 0.540889\n",
      "AUC:PrecisionRecall Value =0.101\n"
     ]
    },
    {
     "data": {
      "image/png": "[encoded data removed]",
      "text/plain": [
       "<Figure size 432x288 with 1 Axes>"
      ]
     },
     "metadata": {
      "needs_background": "light"
     },
     "output_type": "display_data"
    },
    {
     "data": {
      "image/png": "[encoded data removed]",
      "text/plain": [
       "<Figure size 432x288 with 1 Axes>"
      ]
     },
     "metadata": {
      "needs_background": "light"
     },
     "output_type": "display_data"
    }
   ],
   "source": [
    "r_probs=[0 for _ in range(len(y_test))]\n",
    "dt_probs=model.predict_proba(X_test)\n",
    "dt_probs=dt_probs[:,1]\n",
    "from sklearn.metrics import roc_curve, roc_auc_score\n",
    "r_auc=roc_auc_score(y_test,r_probs)\n",
    "dt_auc =roc_auc_score(y_test,dt_probs)\n",
    "print('Random chance= %3f'%(r_auc))\n",
    "print('AUCROC Value = %4f'%(dt_auc))\n",
    "\n",
    "dt_precision, dt_recall, _ = precision_recall_curve(y_test, dt_probs,pos_label=1)\n",
    "dt_aucprc=auc(dt_recall, dt_precision)\n",
    "print('AUC:PrecisionRecall Value =%.3f' % (dt_aucprc))\n",
    "    \n",
    "r_fpr, r_tpr, thresholds = metrics.roc_curve(y_test, r_probs, pos_label=1)\n",
    "dt_fpr, dt_tpr, thresholds = metrics.roc_curve(y_test, dt_probs, pos_label=1)\n",
    "\n",
    "    #ROC PLOT\n",
    "import matplotlib.pyplot as plt\n",
    "plt.plot(r_fpr,r_tpr,linestyle='--',label='Random prediction(AUCROC=%0.3f)'%r_auc)\n",
    "plt.plot(dt_fpr,dt_tpr,linestyle='--',label='Random prediction(AUCROC=%0.3f)'%dt_auc)\n",
    "plt.title('ROC PLOT - DT WEIGHTED ')\n",
    "plt.xlabel('FALSE POSITIVE RATE')\n",
    "plt.ylabel('TRUE POSITIVE RATE')\n",
    "plt.legend()\n",
    "#plt.savefig('DT_plot3.png', dpi=300, bbox_inches='tight')\n",
    "plt.show()\n",
    "    \n",
    "    #PRC Plot\n",
    "    \n",
    "plt.plot(dt_recall, dt_precision, linestyle='--', label='Random prediction(AUCPRC=%0.3f)'%dt_aucprc)\n",
    "plt.xlabel('RECALL')\n",
    "plt.ylabel('PRECISION')\n",
    "plt.title('PRC PLOT - DT WEIGHTED')\n",
    "plt.legend()\n",
    "#plt.savefig('DT_plot4.png', dpi=300, bbox_inches='tight')\n",
    "plt.show()"
   ]
  },
  {
   "cell_type": "code",
   "execution_count": 55,
   "metadata": {},
   "outputs": [],
   "source": [
    "#Threshold tuning"
   ]
  },
  {
   "cell_type": "code",
   "execution_count": 56,
   "metadata": {},
   "outputs": [
    {
     "data": {
      "text/plain": [
       "array([2., 1., 0.])"
      ]
     },
     "execution_count": 56,
     "metadata": {},
     "output_type": "execute_result"
    }
   ],
   "source": [
    "dt_probs = model.predict_proba(X_test)\n",
    "dt_probs=dt_probs[:,1]\n",
    "fpr, tpr,thresholds = roc_curve(y_test, dt_probs)\n",
    "thresholds"
   ]
  },
  {
   "cell_type": "code",
   "execution_count": 57,
   "metadata": {},
   "outputs": [
    {
     "data": {
      "text/html": [
       "<div>\n",
       "<style scoped>\n",
       "    .dataframe tbody tr th:only-of-type {\n",
       "        vertical-align: middle;\n",
       "    }\n",
       "\n",
       "    .dataframe tbody tr th {\n",
       "        vertical-align: top;\n",
       "    }\n",
       "\n",
       "    .dataframe thead th {\n",
       "        text-align: right;\n",
       "    }\n",
       "</style>\n",
       "<table border=\"1\" class=\"dataframe\">\n",
       "  <thead>\n",
       "    <tr style=\"text-align: right;\">\n",
       "      <th></th>\n",
       "      <th>thresholds</th>\n",
       "      <th>f1</th>\n",
       "    </tr>\n",
       "  </thead>\n",
       "  <tbody>\n",
       "    <tr>\n",
       "      <th>2</th>\n",
       "      <td>0.0</td>\n",
       "      <td>0.092857</td>\n",
       "    </tr>\n",
       "    <tr>\n",
       "      <th>0</th>\n",
       "      <td>2.0</td>\n",
       "      <td>0.000000</td>\n",
       "    </tr>\n",
       "    <tr>\n",
       "      <th>1</th>\n",
       "      <td>1.0</td>\n",
       "      <td>0.000000</td>\n",
       "    </tr>\n",
       "  </tbody>\n",
       "</table>\n",
       "</div>"
      ],
      "text/plain": [
       "   thresholds        f1\n",
       "2         0.0  0.092857\n",
       "0         2.0  0.000000\n",
       "1         1.0  0.000000"
      ]
     },
     "execution_count": 57,
     "metadata": {},
     "output_type": "execute_result"
    }
   ],
   "source": [
    "from sklearn.metrics import f1_score\n",
    "f1_ls =[]\n",
    "for thres in thresholds:\n",
    "    y_pred = np.where(dt_probs> thres, 1,0)\n",
    "    f1_ls.append(f1_score(y_test,y_pred))\n",
    "f1_ls = pd.concat([pd.Series(thresholds),pd.Series(f1_ls)], axis=1)\n",
    "f1_ls.columns= ['thresholds', 'f1']\n",
    "f1_ls.sort_values(by='f1', ascending = False, inplace=True)\n",
    "f1_ls"
   ]
  },
  {
   "cell_type": "code",
   "execution_count": 73,
   "metadata": {},
   "outputs": [],
   "source": [
    "pred_best = model.predict_proba(X_test)[:,1]\n",
    "pred_best[pred_best>0.5] =1\n",
    "pred_best[pred_best<=0.5] =0"
   ]
  },
  {
   "cell_type": "code",
   "execution_count": 75,
   "metadata": {},
   "outputs": [
    {
     "name": "stdout",
     "output_type": "stream",
     "text": [
      "Confusion Matrix:\n",
      " [[7401  117]\n",
      " [ 119   11]]\n",
      "Precision: 0.085938\n",
      "Recall: 0.084615\n",
      "F1 score: 0.085271\n",
      "Sensitivity :  0.9841755319148936\n",
      "Specificity :  0.0859375\n",
      "Negative predictive Value:  0.08461538461538462\n",
      "Positive Predictive Value:  0.984437350359138\n",
      "Geometric Mean:  0.2908222563249521\n"
     ]
    }
   ],
   "source": [
    "cm= confusion_matrix(y_test, pred_best)\n",
    "print('Confusion Matrix:\\n',cm)\n",
    "\n",
    "precision = precision_score(y_test, pred_best)\n",
    "print('Precision: %f' % precision)\n",
    "\n",
    "recall = recall_score(y_test,pred_best)\n",
    "print('Recall: %f' % recall)\n",
    "\n",
    "f1 = f1_score(y_test, pred_best)\n",
    "print('F1 score: %f' % f1)\n",
    "\n",
    "sensitivity = cm[0,0]/(cm[0,0]+cm[1,0])\n",
    "print('Sensitivity : ', sensitivity )\n",
    "\n",
    "specificity = cm[1,1]/(cm[0,1]+cm[1,1])\n",
    "print('Specificity : ', specificity)\n",
    "\n",
    "NPV = cm[1,1]/(cm[1,1]+cm[1,0])\n",
    "print('Negative predictive Value: ', NPV)\n",
    "\n",
    "PPV = cm[0,0]/(cm[0,0]+cm[0,1])\n",
    "print('Positive Predictive Value: ', PPV)\n",
    "\n",
    "import math\n",
    "gm=math.sqrt(specificity*sensitivity)\n",
    "print('Geometric Mean: ', gm)"
   ]
  },
  {
   "cell_type": "code",
   "execution_count": 58,
   "metadata": {},
   "outputs": [
    {
     "name": "stdout",
     "output_type": "stream",
     "text": [
      "\r",
      "  0%|                                                       | 0/24 [00:00<?, ?trial/s, best loss=?]"
     ]
    },
    {
     "name": "stderr",
     "output_type": "stream",
     "text": [
      "C:\\Program Files\\Python39\\python-3.9.0rc1.amd64\\lib\\site-packages\\xgboost\\sklearn.py:1146: UserWarning: The use of label encoder in XGBClassifier is deprecated and will be removed in a future release. To remove this warning, do the following: 1) Pass option use_label_encoder=False when constructing XGBClassifier object; and 2) Encode your labels (y) as integers starting with 0, i.e. 0, 1, 2, ..., [num_class - 1].\n",
      "  warnings.warn(label_encoder_deprecation_msg, UserWarning)\n",
      "\n"
     ]
    },
    {
     "name": "stdout",
     "output_type": "stream",
     "text": [
      "[17:55:04] WARNING: C:/Users/Administrator/workspace/xgboost-win64_release_1.4.0/src/learner.cc:1095: Starting in XGBoost 1.3.0, the default evaluation metric used with the objective 'binary:logistic' was changed from 'error' to 'logloss'. Explicitly set eval_metric if you'd like to restore the old behavior.\n",
      "[17:55:07] WARNING: C:/Users/Administrator/workspace/xgboost-win64_release_1.4.0/src/learner.cc:1095: Starting in XGBoost 1.3.0, the default evaluation metric used with the objective 'binary:logistic' was changed from 'error' to 'logloss'. Explicitly set eval_metric if you'd like to restore the old behavior.\n",
      "  0%|                                                       | 0/24 [00:03<?, ?trial/s, best loss=?]"
     ]
    },
    {
     "name": "stderr",
     "output_type": "stream",
     "text": [
      "C:\\Program Files\\Python39\\python-3.9.0rc1.amd64\\lib\\site-packages\\xgboost\\sklearn.py:1146: UserWarning: The use of label encoder in XGBClassifier is deprecated and will be removed in a future release. To remove this warning, do the following: 1) Pass option use_label_encoder=False when constructing XGBClassifier object; and 2) Encode your labels (y) as integers starting with 0, i.e. 0, 1, 2, ..., [num_class - 1].\n",
      "  warnings.warn(label_encoder_deprecation_msg, UserWarning)\n",
      "\n"
     ]
    },
    {
     "name": "stdout",
     "output_type": "stream",
     "text": [
      "[17:55:10] WARNING: C:/Users/Administrator/workspace/xgboost-win64_release_1.4.0/src/learner.cc:1095: Starting in XGBoost 1.3.0, the default evaluation metric used with the objective 'binary:logistic' was changed from 'error' to 'logloss'. Explicitly set eval_metric if you'd like to restore the old behavior.\n",
      "  0%|                                                       | 0/24 [00:06<?, ?trial/s, best loss=?]"
     ]
    },
    {
     "name": "stderr",
     "output_type": "stream",
     "text": [
      "C:\\Program Files\\Python39\\python-3.9.0rc1.amd64\\lib\\site-packages\\xgboost\\sklearn.py:1146: UserWarning: The use of label encoder in XGBClassifier is deprecated and will be removed in a future release. To remove this warning, do the following: 1) Pass option use_label_encoder=False when constructing XGBClassifier object; and 2) Encode your labels (y) as integers starting with 0, i.e. 0, 1, 2, ..., [num_class - 1].\n",
      "  warnings.warn(label_encoder_deprecation_msg, UserWarning)\n",
      "\n"
     ]
    },
    {
     "name": "stdout",
     "output_type": "stream",
     "text": [
      "[17:55:14] WARNING: C:/Users/Administrator/workspace/xgboost-win64_release_1.4.0/src/learner.cc:1095: Starting in XGBoost 1.3.0, the default evaluation metric used with the objective 'binary:logistic' was changed from 'error' to 'logloss'. Explicitly set eval_metric if you'd like to restore the old behavior.\n",
      "  0%|                                                       | 0/24 [00:10<?, ?trial/s, best loss=?]"
     ]
    },
    {
     "name": "stderr",
     "output_type": "stream",
     "text": [
      "C:\\Program Files\\Python39\\python-3.9.0rc1.amd64\\lib\\site-packages\\xgboost\\sklearn.py:1146: UserWarning: The use of label encoder in XGBClassifier is deprecated and will be removed in a future release. To remove this warning, do the following: 1) Pass option use_label_encoder=False when constructing XGBClassifier object; and 2) Encode your labels (y) as integers starting with 0, i.e. 0, 1, 2, ..., [num_class - 1].\n",
      "  warnings.warn(label_encoder_deprecation_msg, UserWarning)\n",
      "\n"
     ]
    },
    {
     "name": "stdout",
     "output_type": "stream",
     "text": [
      "[17:55:17] WARNING: C:/Users/Administrator/workspace/xgboost-win64_release_1.4.0/src/learner.cc:1095: Starting in XGBoost 1.3.0, the default evaluation metric used with the objective 'binary:logistic' was changed from 'error' to 'logloss'. Explicitly set eval_metric if you'd like to restore the old behavior.\n",
      "  0%|                                                       | 0/24 [00:13<?, ?trial/s, best loss=?]"
     ]
    },
    {
     "name": "stderr",
     "output_type": "stream",
     "text": [
      "C:\\Program Files\\Python39\\python-3.9.0rc1.amd64\\lib\\site-packages\\xgboost\\sklearn.py:1146: UserWarning: The use of label encoder in XGBClassifier is deprecated and will be removed in a future release. To remove this warning, do the following: 1) Pass option use_label_encoder=False when constructing XGBClassifier object; and 2) Encode your labels (y) as integers starting with 0, i.e. 0, 1, 2, ..., [num_class - 1].\n",
      "  warnings.warn(label_encoder_deprecation_msg, UserWarning)\n",
      "\n"
     ]
    },
    {
     "name": "stdout",
     "output_type": "stream",
     "text": [
      "[17:55:22] WARNING: C:/Users/Administrator/workspace/xgboost-win64_release_1.4.0/src/learner.cc:1095: Starting in XGBoost 1.3.0, the default evaluation metric used with the objective 'binary:logistic' was changed from 'error' to 'logloss'. Explicitly set eval_metric if you'd like to restore the old behavior.\n",
      "  4%|█                         | 1/24 [00:18<07:07, 18.59s/trial, best loss: 0.0035094584709259857]"
     ]
    },
    {
     "name": "stderr",
     "output_type": "stream",
     "text": [
      "C:\\Program Files\\Python39\\python-3.9.0rc1.amd64\\lib\\site-packages\\xgboost\\sklearn.py:1146: UserWarning: The use of label encoder in XGBClassifier is deprecated and will be removed in a future release. To remove this warning, do the following: 1) Pass option use_label_encoder=False when constructing XGBClassifier object; and 2) Encode your labels (y) as integers starting with 0, i.e. 0, 1, 2, ..., [num_class - 1].\n",
      "  warnings.warn(label_encoder_deprecation_msg, UserWarning)\n",
      "\n"
     ]
    },
    {
     "name": "stdout",
     "output_type": "stream",
     "text": [
      "[17:55:30] WARNING: C:/Users/Administrator/workspace/xgboost-win64_release_1.4.0/src/learner.cc:1095: Starting in XGBoost 1.3.0, the default evaluation metric used with the objective 'binary:logistic' was changed from 'error' to 'logloss'. Explicitly set eval_metric if you'd like to restore the old behavior.\n",
      "  4%|█                         | 1/24 [00:26<07:07, 18.59s/trial, best loss: 0.0035094584709259857]"
     ]
    },
    {
     "name": "stderr",
     "output_type": "stream",
     "text": [
      "C:\\Program Files\\Python39\\python-3.9.0rc1.amd64\\lib\\site-packages\\xgboost\\sklearn.py:1146: UserWarning: The use of label encoder in XGBClassifier is deprecated and will be removed in a future release. To remove this warning, do the following: 1) Pass option use_label_encoder=False when constructing XGBClassifier object; and 2) Encode your labels (y) as integers starting with 0, i.e. 0, 1, 2, ..., [num_class - 1].\n",
      "  warnings.warn(label_encoder_deprecation_msg, UserWarning)\n",
      "\n"
     ]
    },
    {
     "name": "stdout",
     "output_type": "stream",
     "text": [
      "[17:55:39] WARNING: C:/Users/Administrator/workspace/xgboost-win64_release_1.4.0/src/learner.cc:1095: Starting in XGBoost 1.3.0, the default evaluation metric used with the objective 'binary:logistic' was changed from 'error' to 'logloss'. Explicitly set eval_metric if you'd like to restore the old behavior.\n",
      "  4%|█                         | 1/24 [00:35<07:07, 18.59s/trial, best loss: 0.0035094584709259857]"
     ]
    },
    {
     "name": "stderr",
     "output_type": "stream",
     "text": [
      "C:\\Program Files\\Python39\\python-3.9.0rc1.amd64\\lib\\site-packages\\xgboost\\sklearn.py:1146: UserWarning: The use of label encoder in XGBClassifier is deprecated and will be removed in a future release. To remove this warning, do the following: 1) Pass option use_label_encoder=False when constructing XGBClassifier object; and 2) Encode your labels (y) as integers starting with 0, i.e. 0, 1, 2, ..., [num_class - 1].\n",
      "  warnings.warn(label_encoder_deprecation_msg, UserWarning)\n",
      "\n"
     ]
    },
    {
     "name": "stdout",
     "output_type": "stream",
     "text": [
      "[17:55:48] WARNING: C:/Users/Administrator/workspace/xgboost-win64_release_1.4.0/src/learner.cc:1095: Starting in XGBoost 1.3.0, the default evaluation metric used with the objective 'binary:logistic' was changed from 'error' to 'logloss'. Explicitly set eval_metric if you'd like to restore the old behavior.\n",
      "  4%|█                         | 1/24 [00:44<07:07, 18.59s/trial, best loss: 0.0035094584709259857]"
     ]
    },
    {
     "name": "stderr",
     "output_type": "stream",
     "text": [
      "C:\\Program Files\\Python39\\python-3.9.0rc1.amd64\\lib\\site-packages\\xgboost\\sklearn.py:1146: UserWarning: The use of label encoder in XGBClassifier is deprecated and will be removed in a future release. To remove this warning, do the following: 1) Pass option use_label_encoder=False when constructing XGBClassifier object; and 2) Encode your labels (y) as integers starting with 0, i.e. 0, 1, 2, ..., [num_class - 1].\n",
      "  warnings.warn(label_encoder_deprecation_msg, UserWarning)\n",
      "\n"
     ]
    },
    {
     "name": "stdout",
     "output_type": "stream",
     "text": [
      "[17:55:55] WARNING: C:/Users/Administrator/workspace/xgboost-win64_release_1.4.0/src/learner.cc:1095: Starting in XGBoost 1.3.0, the default evaluation metric used with the objective 'binary:logistic' was changed from 'error' to 'logloss'. Explicitly set eval_metric if you'd like to restore the old behavior.\n",
      "  4%|█                         | 1/24 [00:51<07:07, 18.59s/trial, best loss: 0.0035094584709259857]"
     ]
    },
    {
     "name": "stderr",
     "output_type": "stream",
     "text": [
      "C:\\Program Files\\Python39\\python-3.9.0rc1.amd64\\lib\\site-packages\\xgboost\\sklearn.py:1146: UserWarning: The use of label encoder in XGBClassifier is deprecated and will be removed in a future release. To remove this warning, do the following: 1) Pass option use_label_encoder=False when constructing XGBClassifier object; and 2) Encode your labels (y) as integers starting with 0, i.e. 0, 1, 2, ..., [num_class - 1].\n",
      "  warnings.warn(label_encoder_deprecation_msg, UserWarning)\n",
      "\n"
     ]
    },
    {
     "name": "stdout",
     "output_type": "stream",
     "text": [
      "[17:56:04] WARNING: C:/Users/Administrator/workspace/xgboost-win64_release_1.4.0/src/learner.cc:1095: Starting in XGBoost 1.3.0, the default evaluation metric used with the objective 'binary:logistic' was changed from 'error' to 'logloss'. Explicitly set eval_metric if you'd like to restore the old behavior.\n",
      "  8%|██▎                        | 2/24 [01:00<09:23, 25.62s/trial, best loss: 0.002987240403629743]"
     ]
    },
    {
     "name": "stderr",
     "output_type": "stream",
     "text": [
      "C:\\Program Files\\Python39\\python-3.9.0rc1.amd64\\lib\\site-packages\\xgboost\\sklearn.py:1146: UserWarning: The use of label encoder in XGBClassifier is deprecated and will be removed in a future release. To remove this warning, do the following: 1) Pass option use_label_encoder=False when constructing XGBClassifier object; and 2) Encode your labels (y) as integers starting with 0, i.e. 0, 1, 2, ..., [num_class - 1].\n",
      "  warnings.warn(label_encoder_deprecation_msg, UserWarning)\n",
      "\n"
     ]
    },
    {
     "name": "stdout",
     "output_type": "stream",
     "text": [
      "[17:56:13] WARNING: C:/Users/Administrator/workspace/xgboost-win64_release_1.4.0/src/learner.cc:1095: Starting in XGBoost 1.3.0, the default evaluation metric used with the objective 'binary:logistic' was changed from 'error' to 'logloss'. Explicitly set eval_metric if you'd like to restore the old behavior.\n",
      "  8%|██▎                        | 2/24 [01:09<09:23, 25.62s/trial, best loss: 0.002987240403629743]"
     ]
    },
    {
     "name": "stderr",
     "output_type": "stream",
     "text": [
      "C:\\Program Files\\Python39\\python-3.9.0rc1.amd64\\lib\\site-packages\\xgboost\\sklearn.py:1146: UserWarning: The use of label encoder in XGBClassifier is deprecated and will be removed in a future release. To remove this warning, do the following: 1) Pass option use_label_encoder=False when constructing XGBClassifier object; and 2) Encode your labels (y) as integers starting with 0, i.e. 0, 1, 2, ..., [num_class - 1].\n",
      "  warnings.warn(label_encoder_deprecation_msg, UserWarning)\n",
      "\n"
     ]
    },
    {
     "name": "stdout",
     "output_type": "stream",
     "text": [
      "[17:56:26] WARNING: C:/Users/Administrator/workspace/xgboost-win64_release_1.4.0/src/learner.cc:1095: Starting in XGBoost 1.3.0, the default evaluation metric used with the objective 'binary:logistic' was changed from 'error' to 'logloss'. Explicitly set eval_metric if you'd like to restore the old behavior.\n",
      "  8%|██▎                        | 2/24 [01:22<09:23, 25.62s/trial, best loss: 0.002987240403629743]"
     ]
    },
    {
     "name": "stderr",
     "output_type": "stream",
     "text": [
      "C:\\Program Files\\Python39\\python-3.9.0rc1.amd64\\lib\\site-packages\\xgboost\\sklearn.py:1146: UserWarning: The use of label encoder in XGBClassifier is deprecated and will be removed in a future release. To remove this warning, do the following: 1) Pass option use_label_encoder=False when constructing XGBClassifier object; and 2) Encode your labels (y) as integers starting with 0, i.e. 0, 1, 2, ..., [num_class - 1].\n",
      "  warnings.warn(label_encoder_deprecation_msg, UserWarning)\n",
      "\n"
     ]
    },
    {
     "name": "stdout",
     "output_type": "stream",
     "text": [
      "[17:56:34] WARNING: C:/Users/Administrator/workspace/xgboost-win64_release_1.4.0/src/learner.cc:1095: Starting in XGBoost 1.3.0, the default evaluation metric used with the objective 'binary:logistic' was changed from 'error' to 'logloss'. Explicitly set eval_metric if you'd like to restore the old behavior.\n",
      "  8%|██▎                        | 2/24 [01:30<09:23, 25.62s/trial, best loss: 0.002987240403629743]"
     ]
    },
    {
     "name": "stderr",
     "output_type": "stream",
     "text": [
      "C:\\Program Files\\Python39\\python-3.9.0rc1.amd64\\lib\\site-packages\\xgboost\\sklearn.py:1146: UserWarning: The use of label encoder in XGBClassifier is deprecated and will be removed in a future release. To remove this warning, do the following: 1) Pass option use_label_encoder=False when constructing XGBClassifier object; and 2) Encode your labels (y) as integers starting with 0, i.e. 0, 1, 2, ..., [num_class - 1].\n",
      "  warnings.warn(label_encoder_deprecation_msg, UserWarning)\n",
      "\n"
     ]
    },
    {
     "name": "stdout",
     "output_type": "stream",
     "text": [
      "[17:56:37] WARNING: C:/Users/Administrator/workspace/xgboost-win64_release_1.4.0/src/learner.cc:1095: Starting in XGBoost 1.3.0, the default evaluation metric used with the objective 'binary:logistic' was changed from 'error' to 'logloss'. Explicitly set eval_metric if you'd like to restore the old behavior.\n",
      "  8%|██▎                        | 2/24 [01:33<09:23, 25.62s/trial, best loss: 0.002987240403629743]"
     ]
    },
    {
     "name": "stderr",
     "output_type": "stream",
     "text": [
      "C:\\Program Files\\Python39\\python-3.9.0rc1.amd64\\lib\\site-packages\\xgboost\\sklearn.py:1146: UserWarning: The use of label encoder in XGBClassifier is deprecated and will be removed in a future release. To remove this warning, do the following: 1) Pass option use_label_encoder=False when constructing XGBClassifier object; and 2) Encode your labels (y) as integers starting with 0, i.e. 0, 1, 2, ..., [num_class - 1].\n",
      "  warnings.warn(label_encoder_deprecation_msg, UserWarning)\n",
      "\n"
     ]
    },
    {
     "name": "stdout",
     "output_type": "stream",
     "text": [
      "[17:56:40] WARNING: C:/Users/Administrator/workspace/xgboost-win64_release_1.4.0/src/learner.cc:1095: Starting in XGBoost 1.3.0, the default evaluation metric used with the objective 'binary:logistic' was changed from 'error' to 'logloss'. Explicitly set eval_metric if you'd like to restore the old behavior.\n",
      " 12%|███▍                       | 3/24 [01:36<10:00, 28.61s/trial, best loss: 0.002596418753179064]"
     ]
    },
    {
     "name": "stderr",
     "output_type": "stream",
     "text": [
      "C:\\Program Files\\Python39\\python-3.9.0rc1.amd64\\lib\\site-packages\\xgboost\\sklearn.py:1146: UserWarning: The use of label encoder in XGBClassifier is deprecated and will be removed in a future release. To remove this warning, do the following: 1) Pass option use_label_encoder=False when constructing XGBClassifier object; and 2) Encode your labels (y) as integers starting with 0, i.e. 0, 1, 2, ..., [num_class - 1].\n",
      "  warnings.warn(label_encoder_deprecation_msg, UserWarning)\n",
      "\n"
     ]
    },
    {
     "name": "stdout",
     "output_type": "stream",
     "text": [
      "[17:56:47] WARNING: C:/Users/Administrator/workspace/xgboost-win64_release_1.4.0/src/learner.cc:1095: Starting in XGBoost 1.3.0, the default evaluation metric used with the objective 'binary:logistic' was changed from 'error' to 'logloss'. Explicitly set eval_metric if you'd like to restore the old behavior.\n",
      " 12%|███▍                       | 3/24 [01:43<10:00, 28.61s/trial, best loss: 0.002596418753179064]"
     ]
    },
    {
     "name": "stderr",
     "output_type": "stream",
     "text": [
      "C:\\Program Files\\Python39\\python-3.9.0rc1.amd64\\lib\\site-packages\\xgboost\\sklearn.py:1146: UserWarning: The use of label encoder in XGBClassifier is deprecated and will be removed in a future release. To remove this warning, do the following: 1) Pass option use_label_encoder=False when constructing XGBClassifier object; and 2) Encode your labels (y) as integers starting with 0, i.e. 0, 1, 2, ..., [num_class - 1].\n",
      "  warnings.warn(label_encoder_deprecation_msg, UserWarning)\n",
      "\n"
     ]
    },
    {
     "name": "stdout",
     "output_type": "stream",
     "text": [
      "[17:57:00] WARNING: C:/Users/Administrator/workspace/xgboost-win64_release_1.4.0/src/learner.cc:1095: Starting in XGBoost 1.3.0, the default evaluation metric used with the objective 'binary:logistic' was changed from 'error' to 'logloss'. Explicitly set eval_metric if you'd like to restore the old behavior.\n",
      " 12%|███▍                       | 3/24 [01:56<10:00, 28.61s/trial, best loss: 0.002596418753179064]"
     ]
    },
    {
     "name": "stderr",
     "output_type": "stream",
     "text": [
      "C:\\Program Files\\Python39\\python-3.9.0rc1.amd64\\lib\\site-packages\\xgboost\\sklearn.py:1146: UserWarning: The use of label encoder in XGBClassifier is deprecated and will be removed in a future release. To remove this warning, do the following: 1) Pass option use_label_encoder=False when constructing XGBClassifier object; and 2) Encode your labels (y) as integers starting with 0, i.e. 0, 1, 2, ..., [num_class - 1].\n",
      "  warnings.warn(label_encoder_deprecation_msg, UserWarning)\n",
      "\n"
     ]
    },
    {
     "name": "stdout",
     "output_type": "stream",
     "text": [
      "[17:57:07] WARNING: C:/Users/Administrator/workspace/xgboost-win64_release_1.4.0/src/learner.cc:1095: Starting in XGBoost 1.3.0, the default evaluation metric used with the objective 'binary:logistic' was changed from 'error' to 'logloss'. Explicitly set eval_metric if you'd like to restore the old behavior.\n",
      " 12%|███▍                       | 3/24 [02:03<10:00, 28.61s/trial, best loss: 0.002596418753179064]"
     ]
    },
    {
     "name": "stderr",
     "output_type": "stream",
     "text": [
      "C:\\Program Files\\Python39\\python-3.9.0rc1.amd64\\lib\\site-packages\\xgboost\\sklearn.py:1146: UserWarning: The use of label encoder in XGBClassifier is deprecated and will be removed in a future release. To remove this warning, do the following: 1) Pass option use_label_encoder=False when constructing XGBClassifier object; and 2) Encode your labels (y) as integers starting with 0, i.e. 0, 1, 2, ..., [num_class - 1].\n",
      "  warnings.warn(label_encoder_deprecation_msg, UserWarning)\n",
      "\n"
     ]
    },
    {
     "name": "stdout",
     "output_type": "stream",
     "text": [
      "[17:57:15] WARNING: C:/Users/Administrator/workspace/xgboost-win64_release_1.4.0/src/learner.cc:1095: Starting in XGBoost 1.3.0, the default evaluation metric used with the objective 'binary:logistic' was changed from 'error' to 'logloss'. Explicitly set eval_metric if you'd like to restore the old behavior.\n",
      " 12%|███▍                       | 3/24 [02:11<10:00, 28.61s/trial, best loss: 0.002596418753179064]"
     ]
    },
    {
     "name": "stderr",
     "output_type": "stream",
     "text": [
      "C:\\Program Files\\Python39\\python-3.9.0rc1.amd64\\lib\\site-packages\\xgboost\\sklearn.py:1146: UserWarning: The use of label encoder in XGBClassifier is deprecated and will be removed in a future release. To remove this warning, do the following: 1) Pass option use_label_encoder=False when constructing XGBClassifier object; and 2) Encode your labels (y) as integers starting with 0, i.e. 0, 1, 2, ..., [num_class - 1].\n",
      "  warnings.warn(label_encoder_deprecation_msg, UserWarning)\n",
      "\n"
     ]
    },
    {
     "name": "stdout",
     "output_type": "stream",
     "text": [
      "\r",
      " 17%|████▎                     | 4/24 [02:17<10:47, 32.37s/trial, best loss: 0.0022675486079301033]"
     ]
    },
    {
     "name": "stderr",
     "output_type": "stream",
     "text": [
      "C:\\Program Files\\Python39\\python-3.9.0rc1.amd64\\lib\\site-packages\\xgboost\\sklearn.py:1146: UserWarning: The use of label encoder in XGBClassifier is deprecated and will be removed in a future release. To remove this warning, do the following: 1) Pass option use_label_encoder=False when constructing XGBClassifier object; and 2) Encode your labels (y) as integers starting with 0, i.e. 0, 1, 2, ..., [num_class - 1].\n",
      "  warnings.warn(label_encoder_deprecation_msg, UserWarning)\n",
      "\n"
     ]
    },
    {
     "name": "stdout",
     "output_type": "stream",
     "text": [
      "[17:57:21] WARNING: C:/Users/Administrator/workspace/xgboost-win64_release_1.4.0/src/learner.cc:1095: Starting in XGBoost 1.3.0, the default evaluation metric used with the objective 'binary:logistic' was changed from 'error' to 'logloss'. Explicitly set eval_metric if you'd like to restore the old behavior.\n",
      "[17:57:28] WARNING: C:/Users/Administrator/workspace/xgboost-win64_release_1.4.0/src/learner.cc:1095: Starting in XGBoost 1.3.0, the default evaluation metric used with the objective 'binary:logistic' was changed from 'error' to 'logloss'. Explicitly set eval_metric if you'd like to restore the old behavior.\n",
      " 17%|████▎                     | 4/24 [02:24<10:47, 32.37s/trial, best loss: 0.0022675486079301033]"
     ]
    },
    {
     "name": "stderr",
     "output_type": "stream",
     "text": [
      "C:\\Program Files\\Python39\\python-3.9.0rc1.amd64\\lib\\site-packages\\xgboost\\sklearn.py:1146: UserWarning: The use of label encoder in XGBClassifier is deprecated and will be removed in a future release. To remove this warning, do the following: 1) Pass option use_label_encoder=False when constructing XGBClassifier object; and 2) Encode your labels (y) as integers starting with 0, i.e. 0, 1, 2, ..., [num_class - 1].\n",
      "  warnings.warn(label_encoder_deprecation_msg, UserWarning)\n",
      "\n"
     ]
    },
    {
     "name": "stdout",
     "output_type": "stream",
     "text": [
      "[17:57:41] WARNING: C:/Users/Administrator/workspace/xgboost-win64_release_1.4.0/src/learner.cc:1095: Starting in XGBoost 1.3.0, the default evaluation metric used with the objective 'binary:logistic' was changed from 'error' to 'logloss'. Explicitly set eval_metric if you'd like to restore the old behavior.\n",
      " 17%|████▎                     | 4/24 [02:37<10:47, 32.37s/trial, best loss: 0.0022675486079301033]"
     ]
    },
    {
     "name": "stderr",
     "output_type": "stream",
     "text": [
      "C:\\Program Files\\Python39\\python-3.9.0rc1.amd64\\lib\\site-packages\\xgboost\\sklearn.py:1146: UserWarning: The use of label encoder in XGBClassifier is deprecated and will be removed in a future release. To remove this warning, do the following: 1) Pass option use_label_encoder=False when constructing XGBClassifier object; and 2) Encode your labels (y) as integers starting with 0, i.e. 0, 1, 2, ..., [num_class - 1].\n",
      "  warnings.warn(label_encoder_deprecation_msg, UserWarning)\n",
      "\n"
     ]
    },
    {
     "name": "stdout",
     "output_type": "stream",
     "text": [
      "[17:58:30] WARNING: C:/Users/Administrator/workspace/xgboost-win64_release_1.4.0/src/learner.cc:1095: Starting in XGBoost 1.3.0, the default evaluation metric used with the objective 'binary:logistic' was changed from 'error' to 'logloss'. Explicitly set eval_metric if you'd like to restore the old behavior.\n",
      " 17%|████▎                     | 4/24 [03:26<10:47, 32.37s/trial, best loss: 0.0022675486079301033]"
     ]
    },
    {
     "name": "stderr",
     "output_type": "stream",
     "text": [
      "C:\\Program Files\\Python39\\python-3.9.0rc1.amd64\\lib\\site-packages\\xgboost\\sklearn.py:1146: UserWarning: The use of label encoder in XGBClassifier is deprecated and will be removed in a future release. To remove this warning, do the following: 1) Pass option use_label_encoder=False when constructing XGBClassifier object; and 2) Encode your labels (y) as integers starting with 0, i.e. 0, 1, 2, ..., [num_class - 1].\n",
      "  warnings.warn(label_encoder_deprecation_msg, UserWarning)\n",
      "\n",
      "C:\\Program Files\\Python39\\python-3.9.0rc1.amd64\\lib\\site-packages\\xgboost\\sklearn.py:1146: UserWarning: The use of label encoder in XGBClassifier is deprecated and will be removed in a future release. To remove this warning, do the following: 1) Pass option use_label_encoder=False when constructing XGBClassifier object; and 2) Encode your labels (y) as integers starting with 0, i.e. 0, 1, 2, ..., [num_class - 1].\n",
      "  warnings.warn(label_encoder_deprecation_msg, UserWarning)\n",
      "\n"
     ]
    },
    {
     "name": "stdout",
     "output_type": "stream",
     "text": [
      "[17:59:27] WARNING: C:/Users/Administrator/workspace/xgboost-win64_release_1.4.0/src/learner.cc:1095: Starting in XGBoost 1.3.0, the default evaluation metric used with the objective 'binary:logistic' was changed from 'error' to 'logloss'. Explicitly set eval_metric if you'd like to restore the old behavior.\n",
      " 21%|█████▍                    | 5/24 [05:03<22:59, 72.61s/trial, best loss: 0.0022160712660819204]"
     ]
    },
    {
     "name": "stderr",
     "output_type": "stream",
     "text": [
      "C:\\Program Files\\Python39\\python-3.9.0rc1.amd64\\lib\\site-packages\\xgboost\\sklearn.py:1146: UserWarning: The use of label encoder in XGBClassifier is deprecated and will be removed in a future release. To remove this warning, do the following: 1) Pass option use_label_encoder=False when constructing XGBClassifier object; and 2) Encode your labels (y) as integers starting with 0, i.e. 0, 1, 2, ..., [num_class - 1].\n",
      "  warnings.warn(label_encoder_deprecation_msg, UserWarning)\n",
      "\n"
     ]
    },
    {
     "name": "stdout",
     "output_type": "stream",
     "text": [
      "[18:00:08] WARNING: C:/Users/Administrator/workspace/xgboost-win64_release_1.4.0/src/learner.cc:1095: Starting in XGBoost 1.3.0, the default evaluation metric used with the objective 'binary:logistic' was changed from 'error' to 'logloss'. Explicitly set eval_metric if you'd like to restore the old behavior.\n",
      " 21%|█████▍                    | 5/24 [05:04<22:59, 72.61s/trial, best loss: 0.0022160712660819204]"
     ]
    },
    {
     "name": "stderr",
     "output_type": "stream",
     "text": [
      "C:\\Program Files\\Python39\\python-3.9.0rc1.amd64\\lib\\site-packages\\xgboost\\sklearn.py:1146: UserWarning: The use of label encoder in XGBClassifier is deprecated and will be removed in a future release. To remove this warning, do the following: 1) Pass option use_label_encoder=False when constructing XGBClassifier object; and 2) Encode your labels (y) as integers starting with 0, i.e. 0, 1, 2, ..., [num_class - 1].\n",
      "  warnings.warn(label_encoder_deprecation_msg, UserWarning)\n",
      "\n"
     ]
    },
    {
     "name": "stdout",
     "output_type": "stream",
     "text": [
      "[18:00:32] WARNING: C:/Users/Administrator/workspace/xgboost-win64_release_1.4.0/src/learner.cc:1095: Starting in XGBoost 1.3.0, the default evaluation metric used with the objective 'binary:logistic' was changed from 'error' to 'logloss'. Explicitly set eval_metric if you'd like to restore the old behavior.\n",
      "[18:01:01] WARNING: C:/Users/Administrator/workspace/xgboost-win64_release_1.4.0/src/learner.cc:1095: Starting in XGBoost 1.3.0, the default evaluation metric used with the objective 'binary:logistic' was changed from 'error' to 'logloss'. Explicitly set eval_metric if you'd like to restore the old behavior.\n",
      " 21%|█████▍                    | 5/24 [05:57<22:59, 72.61s/trial, best loss: 0.0022160712660819204]"
     ]
    },
    {
     "name": "stderr",
     "output_type": "stream",
     "text": [
      "C:\\Program Files\\Python39\\python-3.9.0rc1.amd64\\lib\\site-packages\\xgboost\\sklearn.py:1146: UserWarning: The use of label encoder in XGBClassifier is deprecated and will be removed in a future release. To remove this warning, do the following: 1) Pass option use_label_encoder=False when constructing XGBClassifier object; and 2) Encode your labels (y) as integers starting with 0, i.e. 0, 1, 2, ..., [num_class - 1].\n",
      "  warnings.warn(label_encoder_deprecation_msg, UserWarning)\n",
      "\n"
     ]
    },
    {
     "name": "stdout",
     "output_type": "stream",
     "text": [
      "\r",
      "                                                                                                   "
     ]
    },
    {
     "name": "stderr",
     "output_type": "stream",
     "text": [
      "C:\\Program Files\\Python39\\python-3.9.0rc1.amd64\\lib\\site-packages\\xgboost\\sklearn.py:1146: UserWarning: The use of label encoder in XGBClassifier is deprecated and will be removed in a future release. To remove this warning, do the following: 1) Pass option use_label_encoder=False when constructing XGBClassifier object; and 2) Encode your labels (y) as integers starting with 0, i.e. 0, 1, 2, ..., [num_class - 1].\n",
      "  warnings.warn(label_encoder_deprecation_msg, UserWarning)\n",
      "\n"
     ]
    },
    {
     "name": "stdout",
     "output_type": "stream",
     "text": [
      "[18:01:26] WARNING: C:/Users/Administrator/workspace/xgboost-win64_release_1.4.0/src/learner.cc:1095: Starting in XGBoost 1.3.0, the default evaluation metric used with the objective 'binary:logistic' was changed from 'error' to 'logloss'. Explicitly set eval_metric if you'd like to restore the old behavior.\n",
      " 21%|█████▍                    | 5/24 [06:22<22:59, 72.61s/trial, best loss: 0.0022160712660819204]"
     ]
    },
    {
     "name": "stderr",
     "output_type": "stream",
     "text": [
      "C:\\Program Files\\Python39\\python-3.9.0rc1.amd64\\lib\\site-packages\\xgboost\\sklearn.py:1146: UserWarning: The use of label encoder in XGBClassifier is deprecated and will be removed in a future release. To remove this warning, do the following: 1) Pass option use_label_encoder=False when constructing XGBClassifier object; and 2) Encode your labels (y) as integers starting with 0, i.e. 0, 1, 2, ..., [num_class - 1].\n",
      "  warnings.warn(label_encoder_deprecation_msg, UserWarning)\n",
      "\n"
     ]
    },
    {
     "name": "stdout",
     "output_type": "stream",
     "text": [
      "[18:01:50] WARNING: C:/Users/Administrator/workspace/xgboost-win64_release_1.4.0/src/learner.cc:1095: Starting in XGBoost 1.3.0, the default evaluation metric used with the objective 'binary:logistic' was changed from 'error' to 'logloss'. Explicitly set eval_metric if you'd like to restore the old behavior.\n",
      " 25%|██████▌                   | 6/24 [07:16<27:11, 90.65s/trial, best loss: 0.0022160712660819204]"
     ]
    },
    {
     "name": "stderr",
     "output_type": "stream",
     "text": [
      "C:\\Program Files\\Python39\\python-3.9.0rc1.amd64\\lib\\site-packages\\xgboost\\sklearn.py:1146: UserWarning: The use of label encoder in XGBClassifier is deprecated and will be removed in a future release. To remove this warning, do the following: 1) Pass option use_label_encoder=False when constructing XGBClassifier object; and 2) Encode your labels (y) as integers starting with 0, i.e. 0, 1, 2, ..., [num_class - 1].\n",
      "  warnings.warn(label_encoder_deprecation_msg, UserWarning)\n",
      "\n"
     ]
    },
    {
     "name": "stdout",
     "output_type": "stream",
     "text": [
      "[18:02:21] WARNING: C:/Users/Administrator/workspace/xgboost-win64_release_1.4.0/src/learner.cc:1095: Starting in XGBoost 1.3.0, the default evaluation metric used with the objective 'binary:logistic' was changed from 'error' to 'logloss'. Explicitly set eval_metric if you'd like to restore the old behavior.\n",
      "[18:02:31] WARNING: C:/Users/Administrator/workspace/xgboost-win64_release_1.4.0/src/learner.cc:1095: Starting in XGBoost 1.3.0, the default evaluation metric used with the objective 'binary:logistic' was changed from 'error' to 'logloss'. Explicitly set eval_metric if you'd like to restore the old behavior.\n",
      " 25%|██████▌                   | 6/24 [07:27<27:11, 90.65s/trial, best loss: 0.0022160712660819204]"
     ]
    },
    {
     "name": "stderr",
     "output_type": "stream",
     "text": [
      "C:\\Program Files\\Python39\\python-3.9.0rc1.amd64\\lib\\site-packages\\xgboost\\sklearn.py:1146: UserWarning: The use of label encoder in XGBClassifier is deprecated and will be removed in a future release. To remove this warning, do the following: 1) Pass option use_label_encoder=False when constructing XGBClassifier object; and 2) Encode your labels (y) as integers starting with 0, i.e. 0, 1, 2, ..., [num_class - 1].\n",
      "  warnings.warn(label_encoder_deprecation_msg, UserWarning)\n",
      "\n"
     ]
    },
    {
     "name": "stdout",
     "output_type": "stream",
     "text": [
      "[18:02:44] WARNING: C:/Users/Administrator/workspace/xgboost-win64_release_1.4.0/src/learner.cc:1095: Starting in XGBoost 1.3.0, the default evaluation metric used with the objective 'binary:logistic' was changed from 'error' to 'logloss'. Explicitly set eval_metric if you'd like to restore the old behavior.\n",
      " 25%|██████▌                   | 6/24 [07:40<27:11, 90.65s/trial, best loss: 0.0022160712660819204]"
     ]
    },
    {
     "name": "stderr",
     "output_type": "stream",
     "text": [
      "C:\\Program Files\\Python39\\python-3.9.0rc1.amd64\\lib\\site-packages\\xgboost\\sklearn.py:1146: UserWarning: The use of label encoder in XGBClassifier is deprecated and will be removed in a future release. To remove this warning, do the following: 1) Pass option use_label_encoder=False when constructing XGBClassifier object; and 2) Encode your labels (y) as integers starting with 0, i.e. 0, 1, 2, ..., [num_class - 1].\n",
      "  warnings.warn(label_encoder_deprecation_msg, UserWarning)\n",
      "\n"
     ]
    },
    {
     "name": "stdout",
     "output_type": "stream",
     "text": [
      "[18:02:56] WARNING: C:/Users/Administrator/workspace/xgboost-win64_release_1.4.0/src/learner.cc:1095: Starting in XGBoost 1.3.0, the default evaluation metric used with the objective 'binary:logistic' was changed from 'error' to 'logloss'. Explicitly set eval_metric if you'd like to restore the old behavior.\n",
      " 25%|██████▌                   | 6/24 [07:52<27:11, 90.65s/trial, best loss: 0.0022160712660819204]"
     ]
    },
    {
     "name": "stderr",
     "output_type": "stream",
     "text": [
      "C:\\Program Files\\Python39\\python-3.9.0rc1.amd64\\lib\\site-packages\\xgboost\\sklearn.py:1146: UserWarning: The use of label encoder in XGBClassifier is deprecated and will be removed in a future release. To remove this warning, do the following: 1) Pass option use_label_encoder=False when constructing XGBClassifier object; and 2) Encode your labels (y) as integers starting with 0, i.e. 0, 1, 2, ..., [num_class - 1].\n",
      "  warnings.warn(label_encoder_deprecation_msg, UserWarning)\n",
      "\n"
     ]
    },
    {
     "name": "stdout",
     "output_type": "stream",
     "text": [
      "[18:03:13] WARNING: C:/Users/Administrator/workspace/xgboost-win64_release_1.4.0/src/learner.cc:1095: Starting in XGBoost 1.3.0, the default evaluation metric used with the objective 'binary:logistic' was changed from 'error' to 'logloss'. Explicitly set eval_metric if you'd like to restore the old behavior.\n",
      " 25%|██████▌                   | 6/24 [08:09<27:11, 90.65s/trial, best loss: 0.0022160712660819204]"
     ]
    },
    {
     "name": "stderr",
     "output_type": "stream",
     "text": [
      "C:\\Program Files\\Python39\\python-3.9.0rc1.amd64\\lib\\site-packages\\xgboost\\sklearn.py:1146: UserWarning: The use of label encoder in XGBClassifier is deprecated and will be removed in a future release. To remove this warning, do the following: 1) Pass option use_label_encoder=False when constructing XGBClassifier object; and 2) Encode your labels (y) as integers starting with 0, i.e. 0, 1, 2, ..., [num_class - 1].\n",
      "  warnings.warn(label_encoder_deprecation_msg, UserWarning)\n",
      "\n"
     ]
    },
    {
     "name": "stdout",
     "output_type": "stream",
     "text": [
      "[18:03:24] WARNING: C:/Users/Administrator/workspace/xgboost-win64_release_1.4.0/src/learner.cc:1095: Starting in XGBoost 1.3.0, the default evaluation metric used with the objective 'binary:logistic' was changed from 'error' to 'logloss'. Explicitly set eval_metric if you'd like to restore the old behavior.\n",
      " 29%|███████▌                  | 7/24 [08:20<23:26, 82.75s/trial, best loss: 0.0022160712660819204]"
     ]
    },
    {
     "name": "stderr",
     "output_type": "stream",
     "text": [
      "C:\\Program Files\\Python39\\python-3.9.0rc1.amd64\\lib\\site-packages\\xgboost\\sklearn.py:1146: UserWarning: The use of label encoder in XGBClassifier is deprecated and will be removed in a future release. To remove this warning, do the following: 1) Pass option use_label_encoder=False when constructing XGBClassifier object; and 2) Encode your labels (y) as integers starting with 0, i.e. 0, 1, 2, ..., [num_class - 1].\n",
      "  warnings.warn(label_encoder_deprecation_msg, UserWarning)\n",
      "\n"
     ]
    },
    {
     "name": "stdout",
     "output_type": "stream",
     "text": [
      "[18:03:32] WARNING: C:/Users/Administrator/workspace/xgboost-win64_release_1.4.0/src/learner.cc:1095: Starting in XGBoost 1.3.0, the default evaluation metric used with the objective 'binary:logistic' was changed from 'error' to 'logloss'. Explicitly set eval_metric if you'd like to restore the old behavior.\n",
      " 29%|███████▌                  | 7/24 [08:28<23:26, 82.75s/trial, best loss: 0.0022160712660819204]"
     ]
    },
    {
     "name": "stderr",
     "output_type": "stream",
     "text": [
      "C:\\Program Files\\Python39\\python-3.9.0rc1.amd64\\lib\\site-packages\\xgboost\\sklearn.py:1146: UserWarning: The use of label encoder in XGBClassifier is deprecated and will be removed in a future release. To remove this warning, do the following: 1) Pass option use_label_encoder=False when constructing XGBClassifier object; and 2) Encode your labels (y) as integers starting with 0, i.e. 0, 1, 2, ..., [num_class - 1].\n",
      "  warnings.warn(label_encoder_deprecation_msg, UserWarning)\n",
      "\n",
      "C:\\Program Files\\Python39\\python-3.9.0rc1.amd64\\lib\\site-packages\\xgboost\\sklearn.py:1146: UserWarning: The use of label encoder in XGBClassifier is deprecated and will be removed in a future release. To remove this warning, do the following: 1) Pass option use_label_encoder=False when constructing XGBClassifier object; and 2) Encode your labels (y) as integers starting with 0, i.e. 0, 1, 2, ..., [num_class - 1].\n",
      "  warnings.warn(label_encoder_deprecation_msg, UserWarning)\n",
      "\n"
     ]
    },
    {
     "name": "stdout",
     "output_type": "stream",
     "text": [
      "[18:03:40] WARNING: C:/Users/Administrator/workspace/xgboost-win64_release_1.4.0/src/learner.cc:1095: Starting in XGBoost 1.3.0, the default evaluation metric used with the objective 'binary:logistic' was changed from 'error' to 'logloss'. Explicitly set eval_metric if you'd like to restore the old behavior.\n",
      "[18:03:47] WARNING: C:/Users/Administrator/workspace/xgboost-win64_release_1.4.0/src/learner.cc:1095: Starting in XGBoost 1.3.0, the default evaluation metric used with the objective 'binary:logistic' was changed from 'error' to 'logloss'. Explicitly set eval_metric if you'd like to restore the old behavior.\n",
      " 29%|███████▌                  | 7/24 [08:43<23:26, 82.75s/trial, best loss: 0.0022160712660819204]"
     ]
    },
    {
     "name": "stderr",
     "output_type": "stream",
     "text": [
      "C:\\Program Files\\Python39\\python-3.9.0rc1.amd64\\lib\\site-packages\\xgboost\\sklearn.py:1146: UserWarning: The use of label encoder in XGBClassifier is deprecated and will be removed in a future release. To remove this warning, do the following: 1) Pass option use_label_encoder=False when constructing XGBClassifier object; and 2) Encode your labels (y) as integers starting with 0, i.e. 0, 1, 2, ..., [num_class - 1].\n",
      "  warnings.warn(label_encoder_deprecation_msg, UserWarning)\n",
      "\n",
      "C:\\Program Files\\Python39\\python-3.9.0rc1.amd64\\lib\\site-packages\\xgboost\\sklearn.py:1146: UserWarning: The use of label encoder in XGBClassifier is deprecated and will be removed in a future release. To remove this warning, do the following: 1) Pass option use_label_encoder=False when constructing XGBClassifier object; and 2) Encode your labels (y) as integers starting with 0, i.e. 0, 1, 2, ..., [num_class - 1].\n",
      "  warnings.warn(label_encoder_deprecation_msg, UserWarning)\n",
      "\n"
     ]
    },
    {
     "name": "stdout",
     "output_type": "stream",
     "text": [
      "[18:03:54] WARNING: C:/Users/Administrator/workspace/xgboost-win64_release_1.4.0/src/learner.cc:1095: Starting in XGBoost 1.3.0, the default evaluation metric used with the objective 'binary:logistic' was changed from 'error' to 'logloss'. Explicitly set eval_metric if you'd like to restore the old behavior.\n",
      "[18:04:00] WARNING: C:/Users/Administrator/workspace/xgboost-win64_release_1.4.0/src/learner.cc:1095: Starting in XGBoost 1.3.0, the default evaluation metric used with the objective 'binary:logistic' was changed from 'error' to 'logloss'. Explicitly set eval_metric if you'd like to restore the old behavior.\n",
      " 33%|████████▋                 | 8/24 [08:56<18:17, 68.62s/trial, best loss: 0.0022160712660819204]"
     ]
    },
    {
     "name": "stderr",
     "output_type": "stream",
     "text": [
      "C:\\Program Files\\Python39\\python-3.9.0rc1.amd64\\lib\\site-packages\\xgboost\\sklearn.py:1146: UserWarning: The use of label encoder in XGBClassifier is deprecated and will be removed in a future release. To remove this warning, do the following: 1) Pass option use_label_encoder=False when constructing XGBClassifier object; and 2) Encode your labels (y) as integers starting with 0, i.e. 0, 1, 2, ..., [num_class - 1].\n",
      "  warnings.warn(label_encoder_deprecation_msg, UserWarning)\n",
      "\n"
     ]
    },
    {
     "name": "stdout",
     "output_type": "stream",
     "text": [
      "[18:04:11] WARNING: C:/Users/Administrator/workspace/xgboost-win64_release_1.4.0/src/learner.cc:1095: Starting in XGBoost 1.3.0, the default evaluation metric used with the objective 'binary:logistic' was changed from 'error' to 'logloss'. Explicitly set eval_metric if you'd like to restore the old behavior.\n",
      " 33%|████████▋                 | 8/24 [09:07<18:17, 68.62s/trial, best loss: 0.0022160712660819204]"
     ]
    },
    {
     "name": "stderr",
     "output_type": "stream",
     "text": [
      "C:\\Program Files\\Python39\\python-3.9.0rc1.amd64\\lib\\site-packages\\xgboost\\sklearn.py:1146: UserWarning: The use of label encoder in XGBClassifier is deprecated and will be removed in a future release. To remove this warning, do the following: 1) Pass option use_label_encoder=False when constructing XGBClassifier object; and 2) Encode your labels (y) as integers starting with 0, i.e. 0, 1, 2, ..., [num_class - 1].\n",
      "  warnings.warn(label_encoder_deprecation_msg, UserWarning)\n",
      "\n"
     ]
    },
    {
     "name": "stdout",
     "output_type": "stream",
     "text": [
      "[18:04:15] WARNING: C:/Users/Administrator/workspace/xgboost-win64_release_1.4.0/src/learner.cc:1095: Starting in XGBoost 1.3.0, the default evaluation metric used with the objective 'binary:logistic' was changed from 'error' to 'logloss'. Explicitly set eval_metric if you'd like to restore the old behavior.\n",
      " 33%|████████▋                 | 8/24 [09:11<18:17, 68.62s/trial, best loss: 0.0022160712660819204]"
     ]
    },
    {
     "name": "stderr",
     "output_type": "stream",
     "text": [
      "C:\\Program Files\\Python39\\python-3.9.0rc1.amd64\\lib\\site-packages\\xgboost\\sklearn.py:1146: UserWarning: The use of label encoder in XGBClassifier is deprecated and will be removed in a future release. To remove this warning, do the following: 1) Pass option use_label_encoder=False when constructing XGBClassifier object; and 2) Encode your labels (y) as integers starting with 0, i.e. 0, 1, 2, ..., [num_class - 1].\n",
      "  warnings.warn(label_encoder_deprecation_msg, UserWarning)\n",
      "\n"
     ]
    },
    {
     "name": "stdout",
     "output_type": "stream",
     "text": [
      "[18:04:18] WARNING: C:/Users/Administrator/workspace/xgboost-win64_release_1.4.0/src/learner.cc:1095: Starting in XGBoost 1.3.0, the default evaluation metric used with the objective 'binary:logistic' was changed from 'error' to 'logloss'. Explicitly set eval_metric if you'd like to restore the old behavior.\n",
      " 33%|████████▋                 | 8/24 [09:14<18:17, 68.62s/trial, best loss: 0.0022160712660819204]"
     ]
    },
    {
     "name": "stderr",
     "output_type": "stream",
     "text": [
      "C:\\Program Files\\Python39\\python-3.9.0rc1.amd64\\lib\\site-packages\\xgboost\\sklearn.py:1146: UserWarning: The use of label encoder in XGBClassifier is deprecated and will be removed in a future release. To remove this warning, do the following: 1) Pass option use_label_encoder=False when constructing XGBClassifier object; and 2) Encode your labels (y) as integers starting with 0, i.e. 0, 1, 2, ..., [num_class - 1].\n",
      "  warnings.warn(label_encoder_deprecation_msg, UserWarning)\n",
      "\n"
     ]
    },
    {
     "name": "stdout",
     "output_type": "stream",
     "text": [
      "[18:04:20] WARNING: C:/Users/Administrator/workspace/xgboost-win64_release_1.4.0/src/learner.cc:1095: Starting in XGBoost 1.3.0, the default evaluation metric used with the objective 'binary:logistic' was changed from 'error' to 'logloss'. Explicitly set eval_metric if you'd like to restore the old behavior.\n",
      " 33%|████████▋                 | 8/24 [09:16<18:17, 68.62s/trial, best loss: 0.0022160712660819204]"
     ]
    },
    {
     "name": "stderr",
     "output_type": "stream",
     "text": [
      "C:\\Program Files\\Python39\\python-3.9.0rc1.amd64\\lib\\site-packages\\xgboost\\sklearn.py:1146: UserWarning: The use of label encoder in XGBClassifier is deprecated and will be removed in a future release. To remove this warning, do the following: 1) Pass option use_label_encoder=False when constructing XGBClassifier object; and 2) Encode your labels (y) as integers starting with 0, i.e. 0, 1, 2, ..., [num_class - 1].\n",
      "  warnings.warn(label_encoder_deprecation_msg, UserWarning)\n",
      "\n"
     ]
    },
    {
     "name": "stdout",
     "output_type": "stream",
     "text": [
      "[18:04:23] WARNING: C:/Users/Administrator/workspace/xgboost-win64_release_1.4.0/src/learner.cc:1095: Starting in XGBoost 1.3.0, the default evaluation metric used with the objective 'binary:logistic' was changed from 'error' to 'logloss'. Explicitly set eval_metric if you'd like to restore the old behavior.\n",
      " 38%|█████████▊                | 9/24 [09:19<13:41, 54.76s/trial, best loss: 0.0022160712660819204]"
     ]
    },
    {
     "name": "stderr",
     "output_type": "stream",
     "text": [
      "C:\\Program Files\\Python39\\python-3.9.0rc1.amd64\\lib\\site-packages\\xgboost\\sklearn.py:1146: UserWarning: The use of label encoder in XGBClassifier is deprecated and will be removed in a future release. To remove this warning, do the following: 1) Pass option use_label_encoder=False when constructing XGBClassifier object; and 2) Encode your labels (y) as integers starting with 0, i.e. 0, 1, 2, ..., [num_class - 1].\n",
      "  warnings.warn(label_encoder_deprecation_msg, UserWarning)\n",
      "\n"
     ]
    },
    {
     "name": "stdout",
     "output_type": "stream",
     "text": [
      "[18:04:24] WARNING: C:/Users/Administrator/workspace/xgboost-win64_release_1.4.0/src/learner.cc:1095: Starting in XGBoost 1.3.0, the default evaluation metric used with the objective 'binary:logistic' was changed from 'error' to 'logloss'. Explicitly set eval_metric if you'd like to restore the old behavior.\n",
      " 38%|█████████▊                | 9/24 [09:20<13:41, 54.76s/trial, best loss: 0.0022160712660819204]"
     ]
    },
    {
     "name": "stderr",
     "output_type": "stream",
     "text": [
      "C:\\Program Files\\Python39\\python-3.9.0rc1.amd64\\lib\\site-packages\\xgboost\\sklearn.py:1146: UserWarning: The use of label encoder in XGBClassifier is deprecated and will be removed in a future release. To remove this warning, do the following: 1) Pass option use_label_encoder=False when constructing XGBClassifier object; and 2) Encode your labels (y) as integers starting with 0, i.e. 0, 1, 2, ..., [num_class - 1].\n",
      "  warnings.warn(label_encoder_deprecation_msg, UserWarning)\n",
      "\n"
     ]
    },
    {
     "name": "stdout",
     "output_type": "stream",
     "text": [
      "[18:04:26] WARNING: C:/Users/Administrator/workspace/xgboost-win64_release_1.4.0/src/learner.cc:1095: Starting in XGBoost 1.3.0, the default evaluation metric used with the objective 'binary:logistic' was changed from 'error' to 'logloss'. Explicitly set eval_metric if you'd like to restore the old behavior.\n",
      " 38%|█████████▊                | 9/24 [09:22<13:41, 54.76s/trial, best loss: 0.0022160712660819204]"
     ]
    },
    {
     "name": "stderr",
     "output_type": "stream",
     "text": [
      "C:\\Program Files\\Python39\\python-3.9.0rc1.amd64\\lib\\site-packages\\xgboost\\sklearn.py:1146: UserWarning: The use of label encoder in XGBClassifier is deprecated and will be removed in a future release. To remove this warning, do the following: 1) Pass option use_label_encoder=False when constructing XGBClassifier object; and 2) Encode your labels (y) as integers starting with 0, i.e. 0, 1, 2, ..., [num_class - 1].\n",
      "  warnings.warn(label_encoder_deprecation_msg, UserWarning)\n",
      "\n"
     ]
    },
    {
     "name": "stdout",
     "output_type": "stream",
     "text": [
      "[18:04:27] WARNING: C:/Users/Administrator/workspace/xgboost-win64_release_1.4.0/src/learner.cc:1095: Starting in XGBoost 1.3.0, the default evaluation metric used with the objective 'binary:logistic' was changed from 'error' to 'logloss'. Explicitly set eval_metric if you'd like to restore the old behavior.\n",
      " 38%|█████████▊                | 9/24 [09:23<13:41, 54.76s/trial, best loss: 0.0022160712660819204]"
     ]
    },
    {
     "name": "stderr",
     "output_type": "stream",
     "text": [
      "C:\\Program Files\\Python39\\python-3.9.0rc1.amd64\\lib\\site-packages\\xgboost\\sklearn.py:1146: UserWarning: The use of label encoder in XGBClassifier is deprecated and will be removed in a future release. To remove this warning, do the following: 1) Pass option use_label_encoder=False when constructing XGBClassifier object; and 2) Encode your labels (y) as integers starting with 0, i.e. 0, 1, 2, ..., [num_class - 1].\n",
      "  warnings.warn(label_encoder_deprecation_msg, UserWarning)\n",
      "\n"
     ]
    },
    {
     "name": "stdout",
     "output_type": "stream",
     "text": [
      "[18:04:29] WARNING: C:/Users/Administrator/workspace/xgboost-win64_release_1.4.0/src/learner.cc:1095: Starting in XGBoost 1.3.0, the default evaluation metric used with the objective 'binary:logistic' was changed from 'error' to 'logloss'. Explicitly set eval_metric if you'd like to restore the old behavior.\n",
      " 38%|█████████▊                | 9/24 [09:25<13:41, 54.76s/trial, best loss: 0.0022160712660819204]"
     ]
    },
    {
     "name": "stderr",
     "output_type": "stream",
     "text": [
      "C:\\Program Files\\Python39\\python-3.9.0rc1.amd64\\lib\\site-packages\\xgboost\\sklearn.py:1146: UserWarning: The use of label encoder in XGBClassifier is deprecated and will be removed in a future release. To remove this warning, do the following: 1) Pass option use_label_encoder=False when constructing XGBClassifier object; and 2) Encode your labels (y) as integers starting with 0, i.e. 0, 1, 2, ..., [num_class - 1].\n",
      "  warnings.warn(label_encoder_deprecation_msg, UserWarning)\n",
      "\n"
     ]
    },
    {
     "name": "stdout",
     "output_type": "stream",
     "text": [
      "[18:04:31] WARNING: C:/Users/Administrator/workspace/xgboost-win64_release_1.4.0/src/learner.cc:1095: Starting in XGBoost 1.3.0, the default evaluation metric used with the objective 'binary:logistic' was changed from 'error' to 'logloss'. Explicitly set eval_metric if you'd like to restore the old behavior.\n",
      " 42%|██████████▍              | 10/24 [09:27<09:30, 40.78s/trial, best loss: 0.0022160712660819204]"
     ]
    },
    {
     "name": "stderr",
     "output_type": "stream",
     "text": [
      "C:\\Program Files\\Python39\\python-3.9.0rc1.amd64\\lib\\site-packages\\xgboost\\sklearn.py:1146: UserWarning: The use of label encoder in XGBClassifier is deprecated and will be removed in a future release. To remove this warning, do the following: 1) Pass option use_label_encoder=False when constructing XGBClassifier object; and 2) Encode your labels (y) as integers starting with 0, i.e. 0, 1, 2, ..., [num_class - 1].\n",
      "  warnings.warn(label_encoder_deprecation_msg, UserWarning)\n",
      "\n"
     ]
    },
    {
     "name": "stdout",
     "output_type": "stream",
     "text": [
      "[18:04:33] WARNING: C:/Users/Administrator/workspace/xgboost-win64_release_1.4.0/src/learner.cc:1095: Starting in XGBoost 1.3.0, the default evaluation metric used with the objective 'binary:logistic' was changed from 'error' to 'logloss'. Explicitly set eval_metric if you'd like to restore the old behavior.\n",
      " 42%|██████████▍              | 10/24 [09:29<09:30, 40.78s/trial, best loss: 0.0022160712660819204]"
     ]
    },
    {
     "name": "stderr",
     "output_type": "stream",
     "text": [
      "C:\\Program Files\\Python39\\python-3.9.0rc1.amd64\\lib\\site-packages\\xgboost\\sklearn.py:1146: UserWarning: The use of label encoder in XGBClassifier is deprecated and will be removed in a future release. To remove this warning, do the following: 1) Pass option use_label_encoder=False when constructing XGBClassifier object; and 2) Encode your labels (y) as integers starting with 0, i.e. 0, 1, 2, ..., [num_class - 1].\n",
      "  warnings.warn(label_encoder_deprecation_msg, UserWarning)\n",
      "\n"
     ]
    },
    {
     "name": "stdout",
     "output_type": "stream",
     "text": [
      "[18:04:35] WARNING: C:/Users/Administrator/workspace/xgboost-win64_release_1.4.0/src/learner.cc:1095: Starting in XGBoost 1.3.0, the default evaluation metric used with the objective 'binary:logistic' was changed from 'error' to 'logloss'. Explicitly set eval_metric if you'd like to restore the old behavior.\n",
      " 42%|██████████▍              | 10/24 [09:31<09:30, 40.78s/trial, best loss: 0.0022160712660819204]"
     ]
    },
    {
     "name": "stderr",
     "output_type": "stream",
     "text": [
      "C:\\Program Files\\Python39\\python-3.9.0rc1.amd64\\lib\\site-packages\\xgboost\\sklearn.py:1146: UserWarning: The use of label encoder in XGBClassifier is deprecated and will be removed in a future release. To remove this warning, do the following: 1) Pass option use_label_encoder=False when constructing XGBClassifier object; and 2) Encode your labels (y) as integers starting with 0, i.e. 0, 1, 2, ..., [num_class - 1].\n",
      "  warnings.warn(label_encoder_deprecation_msg, UserWarning)\n",
      "\n"
     ]
    },
    {
     "name": "stdout",
     "output_type": "stream",
     "text": [
      "[18:04:38] WARNING: C:/Users/Administrator/workspace/xgboost-win64_release_1.4.0/src/learner.cc:1095: Starting in XGBoost 1.3.0, the default evaluation metric used with the objective 'binary:logistic' was changed from 'error' to 'logloss'. Explicitly set eval_metric if you'd like to restore the old behavior.\n",
      " 42%|██████████▍              | 10/24 [09:34<09:30, 40.78s/trial, best loss: 0.0022160712660819204]"
     ]
    },
    {
     "name": "stderr",
     "output_type": "stream",
     "text": [
      "C:\\Program Files\\Python39\\python-3.9.0rc1.amd64\\lib\\site-packages\\xgboost\\sklearn.py:1146: UserWarning: The use of label encoder in XGBClassifier is deprecated and will be removed in a future release. To remove this warning, do the following: 1) Pass option use_label_encoder=False when constructing XGBClassifier object; and 2) Encode your labels (y) as integers starting with 0, i.e. 0, 1, 2, ..., [num_class - 1].\n",
      "  warnings.warn(label_encoder_deprecation_msg, UserWarning)\n",
      "\n"
     ]
    },
    {
     "name": "stdout",
     "output_type": "stream",
     "text": [
      "[18:04:40] WARNING: C:/Users/Administrator/workspace/xgboost-win64_release_1.4.0/src/learner.cc:1095: Starting in XGBoost 1.3.0, the default evaluation metric used with the objective 'binary:logistic' was changed from 'error' to 'logloss'. Explicitly set eval_metric if you'd like to restore the old behavior.\n",
      " 42%|██████████▍              | 10/24 [09:36<09:30, 40.78s/trial, best loss: 0.0022160712660819204]"
     ]
    },
    {
     "name": "stderr",
     "output_type": "stream",
     "text": [
      "C:\\Program Files\\Python39\\python-3.9.0rc1.amd64\\lib\\site-packages\\xgboost\\sklearn.py:1146: UserWarning: The use of label encoder in XGBClassifier is deprecated and will be removed in a future release. To remove this warning, do the following: 1) Pass option use_label_encoder=False when constructing XGBClassifier object; and 2) Encode your labels (y) as integers starting with 0, i.e. 0, 1, 2, ..., [num_class - 1].\n",
      "  warnings.warn(label_encoder_deprecation_msg, UserWarning)\n",
      "\n"
     ]
    },
    {
     "name": "stdout",
     "output_type": "stream",
     "text": [
      "[18:04:42] WARNING: C:/Users/Administrator/workspace/xgboost-win64_release_1.4.0/src/learner.cc:1095: Starting in XGBoost 1.3.0, the default evaluation metric used with the objective 'binary:logistic' was changed from 'error' to 'logloss'. Explicitly set eval_metric if you'd like to restore the old behavior.\n",
      " 46%|███████████▍             | 11/24 [09:38<06:54, 31.88s/trial, best loss: 0.0022160712660819204]"
     ]
    },
    {
     "name": "stderr",
     "output_type": "stream",
     "text": [
      "C:\\Program Files\\Python39\\python-3.9.0rc1.amd64\\lib\\site-packages\\xgboost\\sklearn.py:1146: UserWarning: The use of label encoder in XGBClassifier is deprecated and will be removed in a future release. To remove this warning, do the following: 1) Pass option use_label_encoder=False when constructing XGBClassifier object; and 2) Encode your labels (y) as integers starting with 0, i.e. 0, 1, 2, ..., [num_class - 1].\n",
      "  warnings.warn(label_encoder_deprecation_msg, UserWarning)\n",
      "\n"
     ]
    },
    {
     "name": "stdout",
     "output_type": "stream",
     "text": [
      "[18:04:44] WARNING: C:/Users/Administrator/workspace/xgboost-win64_release_1.4.0/src/learner.cc:1095: Starting in XGBoost 1.3.0, the default evaluation metric used with the objective 'binary:logistic' was changed from 'error' to 'logloss'. Explicitly set eval_metric if you'd like to restore the old behavior.\n",
      " 46%|███████████▍             | 11/24 [09:40<06:54, 31.88s/trial, best loss: 0.0022160712660819204]"
     ]
    },
    {
     "name": "stderr",
     "output_type": "stream",
     "text": [
      "C:\\Program Files\\Python39\\python-3.9.0rc1.amd64\\lib\\site-packages\\xgboost\\sklearn.py:1146: UserWarning: The use of label encoder in XGBClassifier is deprecated and will be removed in a future release. To remove this warning, do the following: 1) Pass option use_label_encoder=False when constructing XGBClassifier object; and 2) Encode your labels (y) as integers starting with 0, i.e. 0, 1, 2, ..., [num_class - 1].\n",
      "  warnings.warn(label_encoder_deprecation_msg, UserWarning)\n",
      "\n"
     ]
    },
    {
     "name": "stdout",
     "output_type": "stream",
     "text": [
      "[18:04:45] WARNING: C:/Users/Administrator/workspace/xgboost-win64_release_1.4.0/src/learner.cc:1095: Starting in XGBoost 1.3.0, the default evaluation metric used with the objective 'binary:logistic' was changed from 'error' to 'logloss'. Explicitly set eval_metric if you'd like to restore the old behavior.\n",
      " 46%|███████████▍             | 11/24 [09:41<06:54, 31.88s/trial, best loss: 0.0022160712660819204]"
     ]
    },
    {
     "name": "stderr",
     "output_type": "stream",
     "text": [
      "C:\\Program Files\\Python39\\python-3.9.0rc1.amd64\\lib\\site-packages\\xgboost\\sklearn.py:1146: UserWarning: The use of label encoder in XGBClassifier is deprecated and will be removed in a future release. To remove this warning, do the following: 1) Pass option use_label_encoder=False when constructing XGBClassifier object; and 2) Encode your labels (y) as integers starting with 0, i.e. 0, 1, 2, ..., [num_class - 1].\n",
      "  warnings.warn(label_encoder_deprecation_msg, UserWarning)\n",
      "\n"
     ]
    },
    {
     "name": "stdout",
     "output_type": "stream",
     "text": [
      "[18:04:48] WARNING: C:/Users/Administrator/workspace/xgboost-win64_release_1.4.0/src/learner.cc:1095: Starting in XGBoost 1.3.0, the default evaluation metric used with the objective 'binary:logistic' was changed from 'error' to 'logloss'. Explicitly set eval_metric if you'd like to restore the old behavior.\n",
      " 46%|███████████▍             | 11/24 [09:44<06:54, 31.88s/trial, best loss: 0.0022160712660819204]"
     ]
    },
    {
     "name": "stderr",
     "output_type": "stream",
     "text": [
      "C:\\Program Files\\Python39\\python-3.9.0rc1.amd64\\lib\\site-packages\\xgboost\\sklearn.py:1146: UserWarning: The use of label encoder in XGBClassifier is deprecated and will be removed in a future release. To remove this warning, do the following: 1) Pass option use_label_encoder=False when constructing XGBClassifier object; and 2) Encode your labels (y) as integers starting with 0, i.e. 0, 1, 2, ..., [num_class - 1].\n",
      "  warnings.warn(label_encoder_deprecation_msg, UserWarning)\n",
      "\n"
     ]
    },
    {
     "name": "stdout",
     "output_type": "stream",
     "text": [
      "[18:04:49] WARNING: C:/Users/Administrator/workspace/xgboost-win64_release_1.4.0/src/learner.cc:1095: Starting in XGBoost 1.3.0, the default evaluation metric used with the objective 'binary:logistic' was changed from 'error' to 'logloss'. Explicitly set eval_metric if you'd like to restore the old behavior.\n",
      " 46%|███████████▍             | 11/24 [09:46<06:54, 31.88s/trial, best loss: 0.0022160712660819204]"
     ]
    },
    {
     "name": "stderr",
     "output_type": "stream",
     "text": [
      "C:\\Program Files\\Python39\\python-3.9.0rc1.amd64\\lib\\site-packages\\xgboost\\sklearn.py:1146: UserWarning: The use of label encoder in XGBClassifier is deprecated and will be removed in a future release. To remove this warning, do the following: 1) Pass option use_label_encoder=False when constructing XGBClassifier object; and 2) Encode your labels (y) as integers starting with 0, i.e. 0, 1, 2, ..., [num_class - 1].\n",
      "  warnings.warn(label_encoder_deprecation_msg, UserWarning)\n",
      "\n"
     ]
    },
    {
     "name": "stdout",
     "output_type": "stream",
     "text": [
      "[18:04:52] WARNING: C:/Users/Administrator/workspace/xgboost-win64_release_1.4.0/src/learner.cc:1095: Starting in XGBoost 1.3.0, the default evaluation metric used with the objective 'binary:logistic' was changed from 'error' to 'logloss'. Explicitly set eval_metric if you'd like to restore the old behavior.\n",
      " 50%|████████████▌            | 12/24 [09:48<05:03, 25.27s/trial, best loss: 0.0022160712660819204]"
     ]
    },
    {
     "name": "stderr",
     "output_type": "stream",
     "text": [
      "C:\\Program Files\\Python39\\python-3.9.0rc1.amd64\\lib\\site-packages\\xgboost\\sklearn.py:1146: UserWarning: The use of label encoder in XGBClassifier is deprecated and will be removed in a future release. To remove this warning, do the following: 1) Pass option use_label_encoder=False when constructing XGBClassifier object; and 2) Encode your labels (y) as integers starting with 0, i.e. 0, 1, 2, ..., [num_class - 1].\n",
      "  warnings.warn(label_encoder_deprecation_msg, UserWarning)\n",
      "\n"
     ]
    },
    {
     "name": "stdout",
     "output_type": "stream",
     "text": [
      "[18:04:54] WARNING: C:/Users/Administrator/workspace/xgboost-win64_release_1.4.0/src/learner.cc:1095: Starting in XGBoost 1.3.0, the default evaluation metric used with the objective 'binary:logistic' was changed from 'error' to 'logloss'. Explicitly set eval_metric if you'd like to restore the old behavior.\n",
      " 50%|████████████▌            | 12/24 [09:50<05:03, 25.27s/trial, best loss: 0.0022160712660819204]"
     ]
    },
    {
     "name": "stderr",
     "output_type": "stream",
     "text": [
      "C:\\Program Files\\Python39\\python-3.9.0rc1.amd64\\lib\\site-packages\\xgboost\\sklearn.py:1146: UserWarning: The use of label encoder in XGBClassifier is deprecated and will be removed in a future release. To remove this warning, do the following: 1) Pass option use_label_encoder=False when constructing XGBClassifier object; and 2) Encode your labels (y) as integers starting with 0, i.e. 0, 1, 2, ..., [num_class - 1].\n",
      "  warnings.warn(label_encoder_deprecation_msg, UserWarning)\n",
      "\n"
     ]
    },
    {
     "name": "stdout",
     "output_type": "stream",
     "text": [
      "[18:04:57] WARNING: C:/Users/Administrator/workspace/xgboost-win64_release_1.4.0/src/learner.cc:1095: Starting in XGBoost 1.3.0, the default evaluation metric used with the objective 'binary:logistic' was changed from 'error' to 'logloss'. Explicitly set eval_metric if you'd like to restore the old behavior.\n",
      " 50%|████████████▌            | 12/24 [09:53<05:03, 25.27s/trial, best loss: 0.0022160712660819204]"
     ]
    },
    {
     "name": "stderr",
     "output_type": "stream",
     "text": [
      "C:\\Program Files\\Python39\\python-3.9.0rc1.amd64\\lib\\site-packages\\xgboost\\sklearn.py:1146: UserWarning: The use of label encoder in XGBClassifier is deprecated and will be removed in a future release. To remove this warning, do the following: 1) Pass option use_label_encoder=False when constructing XGBClassifier object; and 2) Encode your labels (y) as integers starting with 0, i.e. 0, 1, 2, ..., [num_class - 1].\n",
      "  warnings.warn(label_encoder_deprecation_msg, UserWarning)\n",
      "\n"
     ]
    },
    {
     "name": "stdout",
     "output_type": "stream",
     "text": [
      "[18:05:00] WARNING: C:/Users/Administrator/workspace/xgboost-win64_release_1.4.0/src/learner.cc:1095: Starting in XGBoost 1.3.0, the default evaluation metric used with the objective 'binary:logistic' was changed from 'error' to 'logloss'. Explicitly set eval_metric if you'd like to restore the old behavior.\n",
      " 50%|████████████▌            | 12/24 [09:56<05:03, 25.27s/trial, best loss: 0.0022160712660819204]"
     ]
    },
    {
     "name": "stderr",
     "output_type": "stream",
     "text": [
      "C:\\Program Files\\Python39\\python-3.9.0rc1.amd64\\lib\\site-packages\\xgboost\\sklearn.py:1146: UserWarning: The use of label encoder in XGBClassifier is deprecated and will be removed in a future release. To remove this warning, do the following: 1) Pass option use_label_encoder=False when constructing XGBClassifier object; and 2) Encode your labels (y) as integers starting with 0, i.e. 0, 1, 2, ..., [num_class - 1].\n",
      "  warnings.warn(label_encoder_deprecation_msg, UserWarning)\n",
      "\n",
      "C:\\Program Files\\Python39\\python-3.9.0rc1.amd64\\lib\\site-packages\\xgboost\\sklearn.py:1146: UserWarning: The use of label encoder in XGBClassifier is deprecated and will be removed in a future release. To remove this warning, do the following: 1) Pass option use_label_encoder=False when constructing XGBClassifier object; and 2) Encode your labels (y) as integers starting with 0, i.e. 0, 1, 2, ..., [num_class - 1].\n",
      "  warnings.warn(label_encoder_deprecation_msg, UserWarning)\n",
      "\n"
     ]
    },
    {
     "name": "stdout",
     "output_type": "stream",
     "text": [
      "[18:05:03] WARNING: C:/Users/Administrator/workspace/xgboost-win64_release_1.4.0/src/learner.cc:1095: Starting in XGBoost 1.3.0, the default evaluation metric used with the objective 'binary:logistic' was changed from 'error' to 'logloss'. Explicitly set eval_metric if you'd like to restore the old behavior.\n",
      "[18:05:07] WARNING: C:/Users/Administrator/workspace/xgboost-win64_release_1.4.0/src/learner.cc:1095: Starting in XGBoost 1.3.0, the default evaluation metric used with the objective 'binary:logistic' was changed from 'error' to 'logloss'. Explicitly set eval_metric if you'd like to restore the old behavior.\n",
      " 54%|█████████████▌           | 13/24 [10:03<04:04, 22.27s/trial, best loss: 0.0022160712660819204]"
     ]
    },
    {
     "name": "stderr",
     "output_type": "stream",
     "text": [
      "C:\\Program Files\\Python39\\python-3.9.0rc1.amd64\\lib\\site-packages\\xgboost\\sklearn.py:1146: UserWarning: The use of label encoder in XGBClassifier is deprecated and will be removed in a future release. To remove this warning, do the following: 1) Pass option use_label_encoder=False when constructing XGBClassifier object; and 2) Encode your labels (y) as integers starting with 0, i.e. 0, 1, 2, ..., [num_class - 1].\n",
      "  warnings.warn(label_encoder_deprecation_msg, UserWarning)\n",
      "\n"
     ]
    },
    {
     "name": "stdout",
     "output_type": "stream",
     "text": [
      "[18:05:08] WARNING: C:/Users/Administrator/workspace/xgboost-win64_release_1.4.0/src/learner.cc:1095: Starting in XGBoost 1.3.0, the default evaluation metric used with the objective 'binary:logistic' was changed from 'error' to 'logloss'. Explicitly set eval_metric if you'd like to restore the old behavior.\n",
      " 54%|█████████████▌           | 13/24 [10:04<04:04, 22.27s/trial, best loss: 0.0022160712660819204]"
     ]
    },
    {
     "name": "stderr",
     "output_type": "stream",
     "text": [
      "C:\\Program Files\\Python39\\python-3.9.0rc1.amd64\\lib\\site-packages\\xgboost\\sklearn.py:1146: UserWarning: The use of label encoder in XGBClassifier is deprecated and will be removed in a future release. To remove this warning, do the following: 1) Pass option use_label_encoder=False when constructing XGBClassifier object; and 2) Encode your labels (y) as integers starting with 0, i.e. 0, 1, 2, ..., [num_class - 1].\n",
      "  warnings.warn(label_encoder_deprecation_msg, UserWarning)\n",
      "\n"
     ]
    },
    {
     "name": "stdout",
     "output_type": "stream",
     "text": [
      "[18:05:08] WARNING: C:/Users/Administrator/workspace/xgboost-win64_release_1.4.0/src/learner.cc:1095: Starting in XGBoost 1.3.0, the default evaluation metric used with the objective 'binary:logistic' was changed from 'error' to 'logloss'. Explicitly set eval_metric if you'd like to restore the old behavior.\n",
      " 54%|█████████████▌           | 13/24 [10:04<04:04, 22.27s/trial, best loss: 0.0022160712660819204]"
     ]
    },
    {
     "name": "stderr",
     "output_type": "stream",
     "text": [
      "C:\\Program Files\\Python39\\python-3.9.0rc1.amd64\\lib\\site-packages\\xgboost\\sklearn.py:1146: UserWarning: The use of label encoder in XGBClassifier is deprecated and will be removed in a future release. To remove this warning, do the following: 1) Pass option use_label_encoder=False when constructing XGBClassifier object; and 2) Encode your labels (y) as integers starting with 0, i.e. 0, 1, 2, ..., [num_class - 1].\n",
      "  warnings.warn(label_encoder_deprecation_msg, UserWarning)\n",
      "\n"
     ]
    },
    {
     "name": "stdout",
     "output_type": "stream",
     "text": [
      "[18:05:09] WARNING: C:/Users/Administrator/workspace/xgboost-win64_release_1.4.0/src/learner.cc:1095: Starting in XGBoost 1.3.0, the default evaluation metric used with the objective 'binary:logistic' was changed from 'error' to 'logloss'. Explicitly set eval_metric if you'd like to restore the old behavior.\n",
      " 54%|█████████████▌           | 13/24 [10:05<04:04, 22.27s/trial, best loss: 0.0022160712660819204]"
     ]
    },
    {
     "name": "stderr",
     "output_type": "stream",
     "text": [
      "C:\\Program Files\\Python39\\python-3.9.0rc1.amd64\\lib\\site-packages\\xgboost\\sklearn.py:1146: UserWarning: The use of label encoder in XGBClassifier is deprecated and will be removed in a future release. To remove this warning, do the following: 1) Pass option use_label_encoder=False when constructing XGBClassifier object; and 2) Encode your labels (y) as integers starting with 0, i.e. 0, 1, 2, ..., [num_class - 1].\n",
      "  warnings.warn(label_encoder_deprecation_msg, UserWarning)\n",
      "\n"
     ]
    },
    {
     "name": "stdout",
     "output_type": "stream",
     "text": [
      "[18:05:10] WARNING: C:/Users/Administrator/workspace/xgboost-win64_release_1.4.0/src/learner.cc:1095: Starting in XGBoost 1.3.0, the default evaluation metric used with the objective 'binary:logistic' was changed from 'error' to 'logloss'. Explicitly set eval_metric if you'd like to restore the old behavior.\n",
      " 54%|█████████████▌           | 13/24 [10:06<04:04, 22.27s/trial, best loss: 0.0022160712660819204]"
     ]
    },
    {
     "name": "stderr",
     "output_type": "stream",
     "text": [
      "C:\\Program Files\\Python39\\python-3.9.0rc1.amd64\\lib\\site-packages\\xgboost\\sklearn.py:1146: UserWarning: The use of label encoder in XGBClassifier is deprecated and will be removed in a future release. To remove this warning, do the following: 1) Pass option use_label_encoder=False when constructing XGBClassifier object; and 2) Encode your labels (y) as integers starting with 0, i.e. 0, 1, 2, ..., [num_class - 1].\n",
      "  warnings.warn(label_encoder_deprecation_msg, UserWarning)\n",
      "\n"
     ]
    },
    {
     "name": "stdout",
     "output_type": "stream",
     "text": [
      "[18:05:10] WARNING: C:/Users/Administrator/workspace/xgboost-win64_release_1.4.0/src/learner.cc:1095: Starting in XGBoost 1.3.0, the default evaluation metric used with the objective 'binary:logistic' was changed from 'error' to 'logloss'. Explicitly set eval_metric if you'd like to restore the old behavior.\n",
      " 58%|██████████████▌          | 14/24 [10:06<02:46, 16.64s/trial, best loss: 0.0022160712660819204]"
     ]
    },
    {
     "name": "stderr",
     "output_type": "stream",
     "text": [
      "C:\\Program Files\\Python39\\python-3.9.0rc1.amd64\\lib\\site-packages\\xgboost\\sklearn.py:1146: UserWarning: The use of label encoder in XGBClassifier is deprecated and will be removed in a future release. To remove this warning, do the following: 1) Pass option use_label_encoder=False when constructing XGBClassifier object; and 2) Encode your labels (y) as integers starting with 0, i.e. 0, 1, 2, ..., [num_class - 1].\n",
      "  warnings.warn(label_encoder_deprecation_msg, UserWarning)\n",
      "\n"
     ]
    },
    {
     "name": "stdout",
     "output_type": "stream",
     "text": [
      "[18:05:12] WARNING: C:/Users/Administrator/workspace/xgboost-win64_release_1.4.0/src/learner.cc:1095: Starting in XGBoost 1.3.0, the default evaluation metric used with the objective 'binary:logistic' was changed from 'error' to 'logloss'. Explicitly set eval_metric if you'd like to restore the old behavior.\n",
      " 58%|██████████████▌          | 14/24 [10:08<02:46, 16.64s/trial, best loss: 0.0022160712660819204]"
     ]
    },
    {
     "name": "stderr",
     "output_type": "stream",
     "text": [
      "C:\\Program Files\\Python39\\python-3.9.0rc1.amd64\\lib\\site-packages\\xgboost\\sklearn.py:1146: UserWarning: The use of label encoder in XGBClassifier is deprecated and will be removed in a future release. To remove this warning, do the following: 1) Pass option use_label_encoder=False when constructing XGBClassifier object; and 2) Encode your labels (y) as integers starting with 0, i.e. 0, 1, 2, ..., [num_class - 1].\n",
      "  warnings.warn(label_encoder_deprecation_msg, UserWarning)\n",
      "\n"
     ]
    },
    {
     "name": "stdout",
     "output_type": "stream",
     "text": [
      "[18:05:18] WARNING: C:/Users/Administrator/workspace/xgboost-win64_release_1.4.0/src/learner.cc:1095: Starting in XGBoost 1.3.0, the default evaluation metric used with the objective 'binary:logistic' was changed from 'error' to 'logloss'. Explicitly set eval_metric if you'd like to restore the old behavior.\n",
      " 58%|██████████████▌          | 14/24 [10:14<02:46, 16.64s/trial, best loss: 0.0022160712660819204]"
     ]
    },
    {
     "name": "stderr",
     "output_type": "stream",
     "text": [
      "C:\\Program Files\\Python39\\python-3.9.0rc1.amd64\\lib\\site-packages\\xgboost\\sklearn.py:1146: UserWarning: The use of label encoder in XGBClassifier is deprecated and will be removed in a future release. To remove this warning, do the following: 1) Pass option use_label_encoder=False when constructing XGBClassifier object; and 2) Encode your labels (y) as integers starting with 0, i.e. 0, 1, 2, ..., [num_class - 1].\n",
      "  warnings.warn(label_encoder_deprecation_msg, UserWarning)\n",
      "\n"
     ]
    },
    {
     "name": "stdout",
     "output_type": "stream",
     "text": [
      "[18:05:19] WARNING: C:/Users/Administrator/workspace/xgboost-win64_release_1.4.0/src/learner.cc:1095: Starting in XGBoost 1.3.0, the default evaluation metric used with the objective 'binary:logistic' was changed from 'error' to 'logloss'. Explicitly set eval_metric if you'd like to restore the old behavior.\n",
      " 58%|██████████████▌          | 14/24 [10:15<02:46, 16.64s/trial, best loss: 0.0022160712660819204]"
     ]
    },
    {
     "name": "stderr",
     "output_type": "stream",
     "text": [
      "C:\\Program Files\\Python39\\python-3.9.0rc1.amd64\\lib\\site-packages\\xgboost\\sklearn.py:1146: UserWarning: The use of label encoder in XGBClassifier is deprecated and will be removed in a future release. To remove this warning, do the following: 1) Pass option use_label_encoder=False when constructing XGBClassifier object; and 2) Encode your labels (y) as integers starting with 0, i.e. 0, 1, 2, ..., [num_class - 1].\n",
      "  warnings.warn(label_encoder_deprecation_msg, UserWarning)\n",
      "\n"
     ]
    },
    {
     "name": "stdout",
     "output_type": "stream",
     "text": [
      "[18:05:20] WARNING: C:/Users/Administrator/workspace/xgboost-win64_release_1.4.0/src/learner.cc:1095: Starting in XGBoost 1.3.0, the default evaluation metric used with the objective 'binary:logistic' was changed from 'error' to 'logloss'. Explicitly set eval_metric if you'd like to restore the old behavior.\n",
      " 58%|██████████████▌          | 14/24 [10:16<02:46, 16.64s/trial, best loss: 0.0022160712660819204]"
     ]
    },
    {
     "name": "stderr",
     "output_type": "stream",
     "text": [
      "C:\\Program Files\\Python39\\python-3.9.0rc1.amd64\\lib\\site-packages\\xgboost\\sklearn.py:1146: UserWarning: The use of label encoder in XGBClassifier is deprecated and will be removed in a future release. To remove this warning, do the following: 1) Pass option use_label_encoder=False when constructing XGBClassifier object; and 2) Encode your labels (y) as integers starting with 0, i.e. 0, 1, 2, ..., [num_class - 1].\n",
      "  warnings.warn(label_encoder_deprecation_msg, UserWarning)\n",
      "\n"
     ]
    },
    {
     "name": "stdout",
     "output_type": "stream",
     "text": [
      "[18:05:21] WARNING: C:/Users/Administrator/workspace/xgboost-win64_release_1.4.0/src/learner.cc:1095: Starting in XGBoost 1.3.0, the default evaluation metric used with the objective 'binary:logistic' was changed from 'error' to 'logloss'. Explicitly set eval_metric if you'd like to restore the old behavior.\n",
      " 62%|███████████████▋         | 15/24 [10:17<02:13, 14.88s/trial, best loss: 0.0022160712660819204]"
     ]
    },
    {
     "name": "stderr",
     "output_type": "stream",
     "text": [
      "C:\\Program Files\\Python39\\python-3.9.0rc1.amd64\\lib\\site-packages\\xgboost\\sklearn.py:1146: UserWarning: The use of label encoder in XGBClassifier is deprecated and will be removed in a future release. To remove this warning, do the following: 1) Pass option use_label_encoder=False when constructing XGBClassifier object; and 2) Encode your labels (y) as integers starting with 0, i.e. 0, 1, 2, ..., [num_class - 1].\n",
      "  warnings.warn(label_encoder_deprecation_msg, UserWarning)\n",
      "\n"
     ]
    },
    {
     "name": "stdout",
     "output_type": "stream",
     "text": [
      "[18:05:24] WARNING: C:/Users/Administrator/workspace/xgboost-win64_release_1.4.0/src/learner.cc:1095: Starting in XGBoost 1.3.0, the default evaluation metric used with the objective 'binary:logistic' was changed from 'error' to 'logloss'. Explicitly set eval_metric if you'd like to restore the old behavior.\n",
      " 62%|███████████████▋         | 15/24 [10:20<02:13, 14.88s/trial, best loss: 0.0022160712660819204]"
     ]
    },
    {
     "name": "stderr",
     "output_type": "stream",
     "text": [
      "C:\\Program Files\\Python39\\python-3.9.0rc1.amd64\\lib\\site-packages\\xgboost\\sklearn.py:1146: UserWarning: The use of label encoder in XGBClassifier is deprecated and will be removed in a future release. To remove this warning, do the following: 1) Pass option use_label_encoder=False when constructing XGBClassifier object; and 2) Encode your labels (y) as integers starting with 0, i.e. 0, 1, 2, ..., [num_class - 1].\n",
      "  warnings.warn(label_encoder_deprecation_msg, UserWarning)\n",
      "\n"
     ]
    },
    {
     "name": "stdout",
     "output_type": "stream",
     "text": [
      "[18:05:28] WARNING: C:/Users/Administrator/workspace/xgboost-win64_release_1.4.0/src/learner.cc:1095: Starting in XGBoost 1.3.0, the default evaluation metric used with the objective 'binary:logistic' was changed from 'error' to 'logloss'. Explicitly set eval_metric if you'd like to restore the old behavior.\n",
      " 62%|███████████████▋         | 15/24 [10:24<02:13, 14.88s/trial, best loss: 0.0022160712660819204]"
     ]
    },
    {
     "name": "stderr",
     "output_type": "stream",
     "text": [
      "C:\\Program Files\\Python39\\python-3.9.0rc1.amd64\\lib\\site-packages\\xgboost\\sklearn.py:1146: UserWarning: The use of label encoder in XGBClassifier is deprecated and will be removed in a future release. To remove this warning, do the following: 1) Pass option use_label_encoder=False when constructing XGBClassifier object; and 2) Encode your labels (y) as integers starting with 0, i.e. 0, 1, 2, ..., [num_class - 1].\n",
      "  warnings.warn(label_encoder_deprecation_msg, UserWarning)\n",
      "\n"
     ]
    },
    {
     "name": "stdout",
     "output_type": "stream",
     "text": [
      "[18:05:31] WARNING: C:/Users/Administrator/workspace/xgboost-win64_release_1.4.0/src/learner.cc:1095: Starting in XGBoost 1.3.0, the default evaluation metric used with the objective 'binary:logistic' was changed from 'error' to 'logloss'. Explicitly set eval_metric if you'd like to restore the old behavior.\n",
      " 62%|███████████████▋         | 15/24 [10:27<02:13, 14.88s/trial, best loss: 0.0022160712660819204]"
     ]
    },
    {
     "name": "stderr",
     "output_type": "stream",
     "text": [
      "C:\\Program Files\\Python39\\python-3.9.0rc1.amd64\\lib\\site-packages\\xgboost\\sklearn.py:1146: UserWarning: The use of label encoder in XGBClassifier is deprecated and will be removed in a future release. To remove this warning, do the following: 1) Pass option use_label_encoder=False when constructing XGBClassifier object; and 2) Encode your labels (y) as integers starting with 0, i.e. 0, 1, 2, ..., [num_class - 1].\n",
      "  warnings.warn(label_encoder_deprecation_msg, UserWarning)\n",
      "\n",
      "C:\\Program Files\\Python39\\python-3.9.0rc1.amd64\\lib\\site-packages\\xgboost\\sklearn.py:1146: UserWarning: The use of label encoder in XGBClassifier is deprecated and will be removed in a future release. To remove this warning, do the following: 1) Pass option use_label_encoder=False when constructing XGBClassifier object; and 2) Encode your labels (y) as integers starting with 0, i.e. 0, 1, 2, ..., [num_class - 1].\n",
      "  warnings.warn(label_encoder_deprecation_msg, UserWarning)\n",
      "\n"
     ]
    },
    {
     "name": "stdout",
     "output_type": "stream",
     "text": [
      "[18:05:35] WARNING: C:/Users/Administrator/workspace/xgboost-win64_release_1.4.0/src/learner.cc:1095: Starting in XGBoost 1.3.0, the default evaluation metric used with the objective 'binary:logistic' was changed from 'error' to 'logloss'. Explicitly set eval_metric if you'd like to restore the old behavior.\n",
      "[18:05:37] WARNING: C:/Users/Administrator/workspace/xgboost-win64_release_1.4.0/src/learner.cc:1095: Starting in XGBoost 1.3.0, the default evaluation metric used with the objective 'binary:logistic' was changed from 'error' to 'logloss'. Explicitly set eval_metric if you'd like to restore the old behavior.\n",
      " 67%|████████████████▋        | 16/24 [10:33<02:01, 15.25s/trial, best loss: 0.0022160712660819204]"
     ]
    },
    {
     "name": "stderr",
     "output_type": "stream",
     "text": [
      "C:\\Program Files\\Python39\\python-3.9.0rc1.amd64\\lib\\site-packages\\xgboost\\sklearn.py:1146: UserWarning: The use of label encoder in XGBClassifier is deprecated and will be removed in a future release. To remove this warning, do the following: 1) Pass option use_label_encoder=False when constructing XGBClassifier object; and 2) Encode your labels (y) as integers starting with 0, i.e. 0, 1, 2, ..., [num_class - 1].\n",
      "  warnings.warn(label_encoder_deprecation_msg, UserWarning)\n",
      "\n"
     ]
    },
    {
     "name": "stdout",
     "output_type": "stream",
     "text": [
      "[18:05:41] WARNING: C:/Users/Administrator/workspace/xgboost-win64_release_1.4.0/src/learner.cc:1095: Starting in XGBoost 1.3.0, the default evaluation metric used with the objective 'binary:logistic' was changed from 'error' to 'logloss'. Explicitly set eval_metric if you'd like to restore the old behavior.\n",
      " 67%|████████████████▋        | 16/24 [10:37<02:01, 15.25s/trial, best loss: 0.0022160712660819204]"
     ]
    },
    {
     "name": "stderr",
     "output_type": "stream",
     "text": [
      "C:\\Program Files\\Python39\\python-3.9.0rc1.amd64\\lib\\site-packages\\xgboost\\sklearn.py:1146: UserWarning: The use of label encoder in XGBClassifier is deprecated and will be removed in a future release. To remove this warning, do the following: 1) Pass option use_label_encoder=False when constructing XGBClassifier object; and 2) Encode your labels (y) as integers starting with 0, i.e. 0, 1, 2, ..., [num_class - 1].\n",
      "  warnings.warn(label_encoder_deprecation_msg, UserWarning)\n",
      "\n"
     ]
    },
    {
     "name": "stdout",
     "output_type": "stream",
     "text": [
      "[18:05:43] WARNING: C:/Users/Administrator/workspace/xgboost-win64_release_1.4.0/src/learner.cc:1095: Starting in XGBoost 1.3.0, the default evaluation metric used with the objective 'binary:logistic' was changed from 'error' to 'logloss'. Explicitly set eval_metric if you'd like to restore the old behavior.\n",
      " 67%|████████████████▋        | 16/24 [10:39<02:01, 15.25s/trial, best loss: 0.0022160712660819204]"
     ]
    },
    {
     "name": "stderr",
     "output_type": "stream",
     "text": [
      "C:\\Program Files\\Python39\\python-3.9.0rc1.amd64\\lib\\site-packages\\xgboost\\sklearn.py:1146: UserWarning: The use of label encoder in XGBClassifier is deprecated and will be removed in a future release. To remove this warning, do the following: 1) Pass option use_label_encoder=False when constructing XGBClassifier object; and 2) Encode your labels (y) as integers starting with 0, i.e. 0, 1, 2, ..., [num_class - 1].\n",
      "  warnings.warn(label_encoder_deprecation_msg, UserWarning)\n",
      "\n"
     ]
    },
    {
     "name": "stdout",
     "output_type": "stream",
     "text": [
      "[18:05:46] WARNING: C:/Users/Administrator/workspace/xgboost-win64_release_1.4.0/src/learner.cc:1095: Starting in XGBoost 1.3.0, the default evaluation metric used with the objective 'binary:logistic' was changed from 'error' to 'logloss'. Explicitly set eval_metric if you'd like to restore the old behavior.\n",
      " 67%|████████████████▋        | 16/24 [10:42<02:01, 15.25s/trial, best loss: 0.0022160712660819204]"
     ]
    },
    {
     "name": "stderr",
     "output_type": "stream",
     "text": [
      "C:\\Program Files\\Python39\\python-3.9.0rc1.amd64\\lib\\site-packages\\xgboost\\sklearn.py:1146: UserWarning: The use of label encoder in XGBClassifier is deprecated and will be removed in a future release. To remove this warning, do the following: 1) Pass option use_label_encoder=False when constructing XGBClassifier object; and 2) Encode your labels (y) as integers starting with 0, i.e. 0, 1, 2, ..., [num_class - 1].\n",
      "  warnings.warn(label_encoder_deprecation_msg, UserWarning)\n",
      "\n"
     ]
    },
    {
     "name": "stdout",
     "output_type": "stream",
     "text": [
      "[18:05:49] WARNING: C:/Users/Administrator/workspace/xgboost-win64_release_1.4.0/src/learner.cc:1095: Starting in XGBoost 1.3.0, the default evaluation metric used with the objective 'binary:logistic' was changed from 'error' to 'logloss'. Explicitly set eval_metric if you'd like to restore the old behavior.\n",
      " 67%|████████████████▋        | 16/24 [10:45<02:01, 15.25s/trial, best loss: 0.0022160712660819204]"
     ]
    },
    {
     "name": "stderr",
     "output_type": "stream",
     "text": [
      "C:\\Program Files\\Python39\\python-3.9.0rc1.amd64\\lib\\site-packages\\xgboost\\sklearn.py:1146: UserWarning: The use of label encoder in XGBClassifier is deprecated and will be removed in a future release. To remove this warning, do the following: 1) Pass option use_label_encoder=False when constructing XGBClassifier object; and 2) Encode your labels (y) as integers starting with 0, i.e. 0, 1, 2, ..., [num_class - 1].\n",
      "  warnings.warn(label_encoder_deprecation_msg, UserWarning)\n",
      "\n"
     ]
    },
    {
     "name": "stdout",
     "output_type": "stream",
     "text": [
      "[18:05:52] WARNING: C:/Users/Administrator/workspace/xgboost-win64_release_1.4.0/src/learner.cc:1095: Starting in XGBoost 1.3.0, the default evaluation metric used with the objective 'binary:logistic' was changed from 'error' to 'logloss'. Explicitly set eval_metric if you'd like to restore the old behavior.\n",
      " 71%|█████████████████▋       | 17/24 [10:48<01:45, 15.14s/trial, best loss: 0.0022160712660819204]"
     ]
    },
    {
     "name": "stderr",
     "output_type": "stream",
     "text": [
      "C:\\Program Files\\Python39\\python-3.9.0rc1.amd64\\lib\\site-packages\\xgboost\\sklearn.py:1146: UserWarning: The use of label encoder in XGBClassifier is deprecated and will be removed in a future release. To remove this warning, do the following: 1) Pass option use_label_encoder=False when constructing XGBClassifier object; and 2) Encode your labels (y) as integers starting with 0, i.e. 0, 1, 2, ..., [num_class - 1].\n",
      "  warnings.warn(label_encoder_deprecation_msg, UserWarning)\n",
      "\n"
     ]
    },
    {
     "name": "stdout",
     "output_type": "stream",
     "text": [
      "[18:05:56] WARNING: C:/Users/Administrator/workspace/xgboost-win64_release_1.4.0/src/learner.cc:1095: Starting in XGBoost 1.3.0, the default evaluation metric used with the objective 'binary:logistic' was changed from 'error' to 'logloss'. Explicitly set eval_metric if you'd like to restore the old behavior.\n",
      " 71%|█████████████████▋       | 17/24 [10:52<01:45, 15.14s/trial, best loss: 0.0022160712660819204]"
     ]
    },
    {
     "name": "stderr",
     "output_type": "stream",
     "text": [
      "C:\\Program Files\\Python39\\python-3.9.0rc1.amd64\\lib\\site-packages\\xgboost\\sklearn.py:1146: UserWarning: The use of label encoder in XGBClassifier is deprecated and will be removed in a future release. To remove this warning, do the following: 1) Pass option use_label_encoder=False when constructing XGBClassifier object; and 2) Encode your labels (y) as integers starting with 0, i.e. 0, 1, 2, ..., [num_class - 1].\n",
      "  warnings.warn(label_encoder_deprecation_msg, UserWarning)\n",
      "\n"
     ]
    },
    {
     "name": "stdout",
     "output_type": "stream",
     "text": [
      "[18:05:59] WARNING: C:/Users/Administrator/workspace/xgboost-win64_release_1.4.0/src/learner.cc:1095: Starting in XGBoost 1.3.0, the default evaluation metric used with the objective 'binary:logistic' was changed from 'error' to 'logloss'. Explicitly set eval_metric if you'd like to restore the old behavior.\n",
      " 71%|█████████████████▋       | 17/24 [10:55<01:45, 15.14s/trial, best loss: 0.0022160712660819204]"
     ]
    },
    {
     "name": "stderr",
     "output_type": "stream",
     "text": [
      "C:\\Program Files\\Python39\\python-3.9.0rc1.amd64\\lib\\site-packages\\xgboost\\sklearn.py:1146: UserWarning: The use of label encoder in XGBClassifier is deprecated and will be removed in a future release. To remove this warning, do the following: 1) Pass option use_label_encoder=False when constructing XGBClassifier object; and 2) Encode your labels (y) as integers starting with 0, i.e. 0, 1, 2, ..., [num_class - 1].\n",
      "  warnings.warn(label_encoder_deprecation_msg, UserWarning)\n",
      "\n"
     ]
    },
    {
     "name": "stdout",
     "output_type": "stream",
     "text": [
      "[18:06:03] WARNING: C:/Users/Administrator/workspace/xgboost-win64_release_1.4.0/src/learner.cc:1095: Starting in XGBoost 1.3.0, the default evaluation metric used with the objective 'binary:logistic' was changed from 'error' to 'logloss'. Explicitly set eval_metric if you'd like to restore the old behavior.\n",
      " 71%|█████████████████▋       | 17/24 [10:59<01:45, 15.14s/trial, best loss: 0.0022160712660819204]"
     ]
    },
    {
     "name": "stderr",
     "output_type": "stream",
     "text": [
      "C:\\Program Files\\Python39\\python-3.9.0rc1.amd64\\lib\\site-packages\\xgboost\\sklearn.py:1146: UserWarning: The use of label encoder in XGBClassifier is deprecated and will be removed in a future release. To remove this warning, do the following: 1) Pass option use_label_encoder=False when constructing XGBClassifier object; and 2) Encode your labels (y) as integers starting with 0, i.e. 0, 1, 2, ..., [num_class - 1].\n",
      "  warnings.warn(label_encoder_deprecation_msg, UserWarning)\n",
      "\n"
     ]
    },
    {
     "name": "stdout",
     "output_type": "stream",
     "text": [
      "[18:06:06] WARNING: C:/Users/Administrator/workspace/xgboost-win64_release_1.4.0/src/learner.cc:1095: Starting in XGBoost 1.3.0, the default evaluation metric used with the objective 'binary:logistic' was changed from 'error' to 'logloss'. Explicitly set eval_metric if you'd like to restore the old behavior.\n",
      " 71%|█████████████████▋       | 17/24 [11:02<01:45, 15.14s/trial, best loss: 0.0022160712660819204]"
     ]
    },
    {
     "name": "stderr",
     "output_type": "stream",
     "text": [
      "C:\\Program Files\\Python39\\python-3.9.0rc1.amd64\\lib\\site-packages\\xgboost\\sklearn.py:1146: UserWarning: The use of label encoder in XGBClassifier is deprecated and will be removed in a future release. To remove this warning, do the following: 1) Pass option use_label_encoder=False when constructing XGBClassifier object; and 2) Encode your labels (y) as integers starting with 0, i.e. 0, 1, 2, ..., [num_class - 1].\n",
      "  warnings.warn(label_encoder_deprecation_msg, UserWarning)\n",
      "\n"
     ]
    },
    {
     "name": "stdout",
     "output_type": "stream",
     "text": [
      "[18:06:10] WARNING: C:/Users/Administrator/workspace/xgboost-win64_release_1.4.0/src/learner.cc:1095: Starting in XGBoost 1.3.0, the default evaluation metric used with the objective 'binary:logistic' was changed from 'error' to 'logloss'. Explicitly set eval_metric if you'd like to restore the old behavior.\n",
      " 75%|██████████████████▊      | 18/24 [11:06<01:35, 15.84s/trial, best loss: 0.0022160712660819204]"
     ]
    },
    {
     "name": "stderr",
     "output_type": "stream",
     "text": [
      "C:\\Program Files\\Python39\\python-3.9.0rc1.amd64\\lib\\site-packages\\xgboost\\sklearn.py:1146: UserWarning: The use of label encoder in XGBClassifier is deprecated and will be removed in a future release. To remove this warning, do the following: 1) Pass option use_label_encoder=False when constructing XGBClassifier object; and 2) Encode your labels (y) as integers starting with 0, i.e. 0, 1, 2, ..., [num_class - 1].\n",
      "  warnings.warn(label_encoder_deprecation_msg, UserWarning)\n",
      "\n"
     ]
    },
    {
     "name": "stdout",
     "output_type": "stream",
     "text": [
      "[18:06:11] WARNING: C:/Users/Administrator/workspace/xgboost-win64_release_1.4.0/src/learner.cc:1095: Starting in XGBoost 1.3.0, the default evaluation metric used with the objective 'binary:logistic' was changed from 'error' to 'logloss'. Explicitly set eval_metric if you'd like to restore the old behavior.\n",
      " 75%|██████████████████▊      | 18/24 [11:07<01:35, 15.84s/trial, best loss: 0.0022160712660819204]"
     ]
    },
    {
     "name": "stderr",
     "output_type": "stream",
     "text": [
      "C:\\Program Files\\Python39\\python-3.9.0rc1.amd64\\lib\\site-packages\\xgboost\\sklearn.py:1146: UserWarning: The use of label encoder in XGBClassifier is deprecated and will be removed in a future release. To remove this warning, do the following: 1) Pass option use_label_encoder=False when constructing XGBClassifier object; and 2) Encode your labels (y) as integers starting with 0, i.e. 0, 1, 2, ..., [num_class - 1].\n",
      "  warnings.warn(label_encoder_deprecation_msg, UserWarning)\n",
      "\n"
     ]
    },
    {
     "name": "stdout",
     "output_type": "stream",
     "text": [
      "[18:06:13] WARNING: C:/Users/Administrator/workspace/xgboost-win64_release_1.4.0/src/learner.cc:1095: Starting in XGBoost 1.3.0, the default evaluation metric used with the objective 'binary:logistic' was changed from 'error' to 'logloss'. Explicitly set eval_metric if you'd like to restore the old behavior.\n",
      " 75%|██████████████████▊      | 18/24 [11:09<01:35, 15.84s/trial, best loss: 0.0022160712660819204]"
     ]
    },
    {
     "name": "stderr",
     "output_type": "stream",
     "text": [
      "C:\\Program Files\\Python39\\python-3.9.0rc1.amd64\\lib\\site-packages\\xgboost\\sklearn.py:1146: UserWarning: The use of label encoder in XGBClassifier is deprecated and will be removed in a future release. To remove this warning, do the following: 1) Pass option use_label_encoder=False when constructing XGBClassifier object; and 2) Encode your labels (y) as integers starting with 0, i.e. 0, 1, 2, ..., [num_class - 1].\n",
      "  warnings.warn(label_encoder_deprecation_msg, UserWarning)\n",
      "\n"
     ]
    },
    {
     "name": "stdout",
     "output_type": "stream",
     "text": [
      "[18:06:15] WARNING: C:/Users/Administrator/workspace/xgboost-win64_release_1.4.0/src/learner.cc:1095: Starting in XGBoost 1.3.0, the default evaluation metric used with the objective 'binary:logistic' was changed from 'error' to 'logloss'. Explicitly set eval_metric if you'd like to restore the old behavior.\n",
      " 75%|██████████████████▊      | 18/24 [11:11<01:35, 15.84s/trial, best loss: 0.0022160712660819204]"
     ]
    },
    {
     "name": "stderr",
     "output_type": "stream",
     "text": [
      "C:\\Program Files\\Python39\\python-3.9.0rc1.amd64\\lib\\site-packages\\xgboost\\sklearn.py:1146: UserWarning: The use of label encoder in XGBClassifier is deprecated and will be removed in a future release. To remove this warning, do the following: 1) Pass option use_label_encoder=False when constructing XGBClassifier object; and 2) Encode your labels (y) as integers starting with 0, i.e. 0, 1, 2, ..., [num_class - 1].\n",
      "  warnings.warn(label_encoder_deprecation_msg, UserWarning)\n",
      "\n"
     ]
    },
    {
     "name": "stdout",
     "output_type": "stream",
     "text": [
      "[18:06:17] WARNING: C:/Users/Administrator/workspace/xgboost-win64_release_1.4.0/src/learner.cc:1095: Starting in XGBoost 1.3.0, the default evaluation metric used with the objective 'binary:logistic' was changed from 'error' to 'logloss'. Explicitly set eval_metric if you'd like to restore the old behavior.\n",
      " 75%|██████████████████▊      | 18/24 [11:13<01:35, 15.84s/trial, best loss: 0.0022160712660819204]"
     ]
    },
    {
     "name": "stderr",
     "output_type": "stream",
     "text": [
      "C:\\Program Files\\Python39\\python-3.9.0rc1.amd64\\lib\\site-packages\\xgboost\\sklearn.py:1146: UserWarning: The use of label encoder in XGBClassifier is deprecated and will be removed in a future release. To remove this warning, do the following: 1) Pass option use_label_encoder=False when constructing XGBClassifier object; and 2) Encode your labels (y) as integers starting with 0, i.e. 0, 1, 2, ..., [num_class - 1].\n",
      "  warnings.warn(label_encoder_deprecation_msg, UserWarning)\n",
      "\n"
     ]
    },
    {
     "name": "stdout",
     "output_type": "stream",
     "text": [
      "[18:06:23] WARNING: C:/Users/Administrator/workspace/xgboost-win64_release_1.4.0/src/learner.cc:1095: Starting in XGBoost 1.3.0, the default evaluation metric used with the objective 'binary:logistic' was changed from 'error' to 'logloss'. Explicitly set eval_metric if you'd like to restore the old behavior.\n",
      " 79%|███████████████████▊     | 19/24 [11:19<01:16, 15.20s/trial, best loss: 0.0022160712660819204]"
     ]
    },
    {
     "name": "stderr",
     "output_type": "stream",
     "text": [
      "C:\\Program Files\\Python39\\python-3.9.0rc1.amd64\\lib\\site-packages\\xgboost\\sklearn.py:1146: UserWarning: The use of label encoder in XGBClassifier is deprecated and will be removed in a future release. To remove this warning, do the following: 1) Pass option use_label_encoder=False when constructing XGBClassifier object; and 2) Encode your labels (y) as integers starting with 0, i.e. 0, 1, 2, ..., [num_class - 1].\n",
      "  warnings.warn(label_encoder_deprecation_msg, UserWarning)\n",
      "\n"
     ]
    },
    {
     "name": "stdout",
     "output_type": "stream",
     "text": [
      "[18:06:27] WARNING: C:/Users/Administrator/workspace/xgboost-win64_release_1.4.0/src/learner.cc:1095: Starting in XGBoost 1.3.0, the default evaluation metric used with the objective 'binary:logistic' was changed from 'error' to 'logloss'. Explicitly set eval_metric if you'd like to restore the old behavior.\n",
      " 79%|███████████████████▊     | 19/24 [11:23<01:16, 15.20s/trial, best loss: 0.0022160712660819204]"
     ]
    },
    {
     "name": "stderr",
     "output_type": "stream",
     "text": [
      "C:\\Program Files\\Python39\\python-3.9.0rc1.amd64\\lib\\site-packages\\xgboost\\sklearn.py:1146: UserWarning: The use of label encoder in XGBClassifier is deprecated and will be removed in a future release. To remove this warning, do the following: 1) Pass option use_label_encoder=False when constructing XGBClassifier object; and 2) Encode your labels (y) as integers starting with 0, i.e. 0, 1, 2, ..., [num_class - 1].\n",
      "  warnings.warn(label_encoder_deprecation_msg, UserWarning)\n",
      "\n"
     ]
    },
    {
     "name": "stdout",
     "output_type": "stream",
     "text": [
      "[18:06:30] WARNING: C:/Users/Administrator/workspace/xgboost-win64_release_1.4.0/src/learner.cc:1095: Starting in XGBoost 1.3.0, the default evaluation metric used with the objective 'binary:logistic' was changed from 'error' to 'logloss'. Explicitly set eval_metric if you'd like to restore the old behavior.\n",
      " 79%|███████████████████▊     | 19/24 [11:26<01:16, 15.20s/trial, best loss: 0.0022160712660819204]"
     ]
    },
    {
     "name": "stderr",
     "output_type": "stream",
     "text": [
      "C:\\Program Files\\Python39\\python-3.9.0rc1.amd64\\lib\\site-packages\\xgboost\\sklearn.py:1146: UserWarning: The use of label encoder in XGBClassifier is deprecated and will be removed in a future release. To remove this warning, do the following: 1) Pass option use_label_encoder=False when constructing XGBClassifier object; and 2) Encode your labels (y) as integers starting with 0, i.e. 0, 1, 2, ..., [num_class - 1].\n",
      "  warnings.warn(label_encoder_deprecation_msg, UserWarning)\n",
      "\n"
     ]
    },
    {
     "name": "stdout",
     "output_type": "stream",
     "text": [
      "[18:06:33] WARNING: C:/Users/Administrator/workspace/xgboost-win64_release_1.4.0/src/learner.cc:1095: Starting in XGBoost 1.3.0, the default evaluation metric used with the objective 'binary:logistic' was changed from 'error' to 'logloss'. Explicitly set eval_metric if you'd like to restore the old behavior.\n",
      " 79%|███████████████████▊     | 19/24 [11:29<01:16, 15.20s/trial, best loss: 0.0022160712660819204]"
     ]
    },
    {
     "name": "stderr",
     "output_type": "stream",
     "text": [
      "C:\\Program Files\\Python39\\python-3.9.0rc1.amd64\\lib\\site-packages\\xgboost\\sklearn.py:1146: UserWarning: The use of label encoder in XGBClassifier is deprecated and will be removed in a future release. To remove this warning, do the following: 1) Pass option use_label_encoder=False when constructing XGBClassifier object; and 2) Encode your labels (y) as integers starting with 0, i.e. 0, 1, 2, ..., [num_class - 1].\n",
      "  warnings.warn(label_encoder_deprecation_msg, UserWarning)\n",
      "\n"
     ]
    },
    {
     "name": "stdout",
     "output_type": "stream",
     "text": [
      "[18:06:36] WARNING: C:/Users/Administrator/workspace/xgboost-win64_release_1.4.0/src/learner.cc:1095: Starting in XGBoost 1.3.0, the default evaluation metric used with the objective 'binary:logistic' was changed from 'error' to 'logloss'. Explicitly set eval_metric if you'd like to restore the old behavior.\n",
      " 79%|███████████████████▊     | 19/24 [11:32<01:16, 15.20s/trial, best loss: 0.0022160712660819204]"
     ]
    },
    {
     "name": "stderr",
     "output_type": "stream",
     "text": [
      "C:\\Program Files\\Python39\\python-3.9.0rc1.amd64\\lib\\site-packages\\xgboost\\sklearn.py:1146: UserWarning: The use of label encoder in XGBClassifier is deprecated and will be removed in a future release. To remove this warning, do the following: 1) Pass option use_label_encoder=False when constructing XGBClassifier object; and 2) Encode your labels (y) as integers starting with 0, i.e. 0, 1, 2, ..., [num_class - 1].\n",
      "  warnings.warn(label_encoder_deprecation_msg, UserWarning)\n",
      "\n"
     ]
    },
    {
     "name": "stdout",
     "output_type": "stream",
     "text": [
      "[18:06:40] WARNING: C:/Users/Administrator/workspace/xgboost-win64_release_1.4.0/src/learner.cc:1095: Starting in XGBoost 1.3.0, the default evaluation metric used with the objective 'binary:logistic' was changed from 'error' to 'logloss'. Explicitly set eval_metric if you'd like to restore the old behavior.\n",
      " 83%|████████████████████▊    | 20/24 [11:36<01:02, 15.61s/trial, best loss: 0.0022160712660819204]"
     ]
    },
    {
     "name": "stderr",
     "output_type": "stream",
     "text": [
      "C:\\Program Files\\Python39\\python-3.9.0rc1.amd64\\lib\\site-packages\\xgboost\\sklearn.py:1146: UserWarning: The use of label encoder in XGBClassifier is deprecated and will be removed in a future release. To remove this warning, do the following: 1) Pass option use_label_encoder=False when constructing XGBClassifier object; and 2) Encode your labels (y) as integers starting with 0, i.e. 0, 1, 2, ..., [num_class - 1].\n",
      "  warnings.warn(label_encoder_deprecation_msg, UserWarning)\n",
      "\n"
     ]
    },
    {
     "name": "stdout",
     "output_type": "stream",
     "text": [
      "[18:06:49] WARNING: C:/Users/Administrator/workspace/xgboost-win64_release_1.4.0/src/learner.cc:1095: Starting in XGBoost 1.3.0, the default evaluation metric used with the objective 'binary:logistic' was changed from 'error' to 'logloss'. Explicitly set eval_metric if you'd like to restore the old behavior.\n",
      " 83%|████████████████████▊    | 20/24 [11:45<01:02, 15.61s/trial, best loss: 0.0022160712660819204]"
     ]
    },
    {
     "name": "stderr",
     "output_type": "stream",
     "text": [
      "C:\\Program Files\\Python39\\python-3.9.0rc1.amd64\\lib\\site-packages\\xgboost\\sklearn.py:1146: UserWarning: The use of label encoder in XGBClassifier is deprecated and will be removed in a future release. To remove this warning, do the following: 1) Pass option use_label_encoder=False when constructing XGBClassifier object; and 2) Encode your labels (y) as integers starting with 0, i.e. 0, 1, 2, ..., [num_class - 1].\n",
      "  warnings.warn(label_encoder_deprecation_msg, UserWarning)\n",
      "\n"
     ]
    },
    {
     "name": "stdout",
     "output_type": "stream",
     "text": [
      "[18:07:00] WARNING: C:/Users/Administrator/workspace/xgboost-win64_release_1.4.0/src/learner.cc:1095: Starting in XGBoost 1.3.0, the default evaluation metric used with the objective 'binary:logistic' was changed from 'error' to 'logloss'. Explicitly set eval_metric if you'd like to restore the old behavior.\n",
      " 83%|████████████████████▊    | 20/24 [11:56<01:02, 15.61s/trial, best loss: 0.0022160712660819204]"
     ]
    },
    {
     "name": "stderr",
     "output_type": "stream",
     "text": [
      "C:\\Program Files\\Python39\\python-3.9.0rc1.amd64\\lib\\site-packages\\xgboost\\sklearn.py:1146: UserWarning: The use of label encoder in XGBClassifier is deprecated and will be removed in a future release. To remove this warning, do the following: 1) Pass option use_label_encoder=False when constructing XGBClassifier object; and 2) Encode your labels (y) as integers starting with 0, i.e. 0, 1, 2, ..., [num_class - 1].\n",
      "  warnings.warn(label_encoder_deprecation_msg, UserWarning)\n",
      "\n"
     ]
    },
    {
     "name": "stdout",
     "output_type": "stream",
     "text": [
      "[18:07:09] WARNING: C:/Users/Administrator/workspace/xgboost-win64_release_1.4.0/src/learner.cc:1095: Starting in XGBoost 1.3.0, the default evaluation metric used with the objective 'binary:logistic' was changed from 'error' to 'logloss'. Explicitly set eval_metric if you'd like to restore the old behavior.\n",
      " 83%|████████████████████▊    | 20/24 [12:05<01:02, 15.61s/trial, best loss: 0.0022160712660819204]"
     ]
    },
    {
     "name": "stderr",
     "output_type": "stream",
     "text": [
      "C:\\Program Files\\Python39\\python-3.9.0rc1.amd64\\lib\\site-packages\\xgboost\\sklearn.py:1146: UserWarning: The use of label encoder in XGBClassifier is deprecated and will be removed in a future release. To remove this warning, do the following: 1) Pass option use_label_encoder=False when constructing XGBClassifier object; and 2) Encode your labels (y) as integers starting with 0, i.e. 0, 1, 2, ..., [num_class - 1].\n",
      "  warnings.warn(label_encoder_deprecation_msg, UserWarning)\n",
      "\n"
     ]
    },
    {
     "name": "stdout",
     "output_type": "stream",
     "text": [
      "[18:07:19] WARNING: C:/Users/Administrator/workspace/xgboost-win64_release_1.4.0/src/learner.cc:1095: Starting in XGBoost 1.3.0, the default evaluation metric used with the objective 'binary:logistic' was changed from 'error' to 'logloss'. Explicitly set eval_metric if you'd like to restore the old behavior.\n",
      " 83%|████████████████████▊    | 20/24 [12:15<01:02, 15.61s/trial, best loss: 0.0022160712660819204]"
     ]
    },
    {
     "name": "stderr",
     "output_type": "stream",
     "text": [
      "C:\\Program Files\\Python39\\python-3.9.0rc1.amd64\\lib\\site-packages\\xgboost\\sklearn.py:1146: UserWarning: The use of label encoder in XGBClassifier is deprecated and will be removed in a future release. To remove this warning, do the following: 1) Pass option use_label_encoder=False when constructing XGBClassifier object; and 2) Encode your labels (y) as integers starting with 0, i.e. 0, 1, 2, ..., [num_class - 1].\n",
      "  warnings.warn(label_encoder_deprecation_msg, UserWarning)\n",
      "\n"
     ]
    },
    {
     "name": "stdout",
     "output_type": "stream",
     "text": [
      "[18:07:33] WARNING: C:/Users/Administrator/workspace/xgboost-win64_release_1.4.0/src/learner.cc:1095: Starting in XGBoost 1.3.0, the default evaluation metric used with the objective 'binary:logistic' was changed from 'error' to 'logloss'. Explicitly set eval_metric if you'd like to restore the old behavior.\n",
      " 88%|█████████████████████▉   | 21/24 [12:29<01:20, 26.76s/trial, best loss: 0.0022160712660819204]"
     ]
    },
    {
     "name": "stderr",
     "output_type": "stream",
     "text": [
      "C:\\Program Files\\Python39\\python-3.9.0rc1.amd64\\lib\\site-packages\\xgboost\\sklearn.py:1146: UserWarning: The use of label encoder in XGBClassifier is deprecated and will be removed in a future release. To remove this warning, do the following: 1) Pass option use_label_encoder=False when constructing XGBClassifier object; and 2) Encode your labels (y) as integers starting with 0, i.e. 0, 1, 2, ..., [num_class - 1].\n",
      "  warnings.warn(label_encoder_deprecation_msg, UserWarning)\n",
      "\n"
     ]
    },
    {
     "name": "stdout",
     "output_type": "stream",
     "text": [
      "[18:07:38] WARNING: C:/Users/Administrator/workspace/xgboost-win64_release_1.4.0/src/learner.cc:1095: Starting in XGBoost 1.3.0, the default evaluation metric used with the objective 'binary:logistic' was changed from 'error' to 'logloss'. Explicitly set eval_metric if you'd like to restore the old behavior.\n",
      " 88%|█████████████████████▉   | 21/24 [12:34<01:20, 26.76s/trial, best loss: 0.0022160712660819204]"
     ]
    },
    {
     "name": "stderr",
     "output_type": "stream",
     "text": [
      "C:\\Program Files\\Python39\\python-3.9.0rc1.amd64\\lib\\site-packages\\xgboost\\sklearn.py:1146: UserWarning: The use of label encoder in XGBClassifier is deprecated and will be removed in a future release. To remove this warning, do the following: 1) Pass option use_label_encoder=False when constructing XGBClassifier object; and 2) Encode your labels (y) as integers starting with 0, i.e. 0, 1, 2, ..., [num_class - 1].\n",
      "  warnings.warn(label_encoder_deprecation_msg, UserWarning)\n",
      "\n"
     ]
    },
    {
     "name": "stdout",
     "output_type": "stream",
     "text": [
      "[18:07:42] WARNING: C:/Users/Administrator/workspace/xgboost-win64_release_1.4.0/src/learner.cc:1095: Starting in XGBoost 1.3.0, the default evaluation metric used with the objective 'binary:logistic' was changed from 'error' to 'logloss'. Explicitly set eval_metric if you'd like to restore the old behavior.\n",
      " 88%|█████████████████████▉   | 21/24 [12:38<01:20, 26.76s/trial, best loss: 0.0022160712660819204]"
     ]
    },
    {
     "name": "stderr",
     "output_type": "stream",
     "text": [
      "C:\\Program Files\\Python39\\python-3.9.0rc1.amd64\\lib\\site-packages\\xgboost\\sklearn.py:1146: UserWarning: The use of label encoder in XGBClassifier is deprecated and will be removed in a future release. To remove this warning, do the following: 1) Pass option use_label_encoder=False when constructing XGBClassifier object; and 2) Encode your labels (y) as integers starting with 0, i.e. 0, 1, 2, ..., [num_class - 1].\n",
      "  warnings.warn(label_encoder_deprecation_msg, UserWarning)\n",
      "\n"
     ]
    },
    {
     "name": "stdout",
     "output_type": "stream",
     "text": [
      "[18:07:47] WARNING: C:/Users/Administrator/workspace/xgboost-win64_release_1.4.0/src/learner.cc:1095: Starting in XGBoost 1.3.0, the default evaluation metric used with the objective 'binary:logistic' was changed from 'error' to 'logloss'. Explicitly set eval_metric if you'd like to restore the old behavior.\n",
      " 88%|█████████████████████▉   | 21/24 [12:43<01:20, 26.76s/trial, best loss: 0.0022160712660819204]"
     ]
    },
    {
     "name": "stderr",
     "output_type": "stream",
     "text": [
      "C:\\Program Files\\Python39\\python-3.9.0rc1.amd64\\lib\\site-packages\\xgboost\\sklearn.py:1146: UserWarning: The use of label encoder in XGBClassifier is deprecated and will be removed in a future release. To remove this warning, do the following: 1) Pass option use_label_encoder=False when constructing XGBClassifier object; and 2) Encode your labels (y) as integers starting with 0, i.e. 0, 1, 2, ..., [num_class - 1].\n",
      "  warnings.warn(label_encoder_deprecation_msg, UserWarning)\n",
      "\n"
     ]
    },
    {
     "name": "stdout",
     "output_type": "stream",
     "text": [
      "[18:07:53] WARNING: C:/Users/Administrator/workspace/xgboost-win64_release_1.4.0/src/learner.cc:1095: Starting in XGBoost 1.3.0, the default evaluation metric used with the objective 'binary:logistic' was changed from 'error' to 'logloss'. Explicitly set eval_metric if you'd like to restore the old behavior.\n",
      " 88%|█████████████████████▉   | 21/24 [12:49<01:20, 26.76s/trial, best loss: 0.0022160712660819204]"
     ]
    },
    {
     "name": "stderr",
     "output_type": "stream",
     "text": [
      "C:\\Program Files\\Python39\\python-3.9.0rc1.amd64\\lib\\site-packages\\xgboost\\sklearn.py:1146: UserWarning: The use of label encoder in XGBClassifier is deprecated and will be removed in a future release. To remove this warning, do the following: 1) Pass option use_label_encoder=False when constructing XGBClassifier object; and 2) Encode your labels (y) as integers starting with 0, i.e. 0, 1, 2, ..., [num_class - 1].\n",
      "  warnings.warn(label_encoder_deprecation_msg, UserWarning)\n",
      "\n"
     ]
    },
    {
     "name": "stdout",
     "output_type": "stream",
     "text": [
      "[18:07:58] WARNING: C:/Users/Administrator/workspace/xgboost-win64_release_1.4.0/src/learner.cc:1095: Starting in XGBoost 1.3.0, the default evaluation metric used with the objective 'binary:logistic' was changed from 'error' to 'logloss'. Explicitly set eval_metric if you'd like to restore the old behavior.\n",
      " 92%|██████████████████████▉  | 22/24 [12:54<00:52, 26.36s/trial, best loss: 0.0022160712660819204]"
     ]
    },
    {
     "name": "stderr",
     "output_type": "stream",
     "text": [
      "C:\\Program Files\\Python39\\python-3.9.0rc1.amd64\\lib\\site-packages\\xgboost\\sklearn.py:1146: UserWarning: The use of label encoder in XGBClassifier is deprecated and will be removed in a future release. To remove this warning, do the following: 1) Pass option use_label_encoder=False when constructing XGBClassifier object; and 2) Encode your labels (y) as integers starting with 0, i.e. 0, 1, 2, ..., [num_class - 1].\n",
      "  warnings.warn(label_encoder_deprecation_msg, UserWarning)\n",
      "\n"
     ]
    },
    {
     "name": "stdout",
     "output_type": "stream",
     "text": [
      "[18:08:04] WARNING: C:/Users/Administrator/workspace/xgboost-win64_release_1.4.0/src/learner.cc:1095: Starting in XGBoost 1.3.0, the default evaluation metric used with the objective 'binary:logistic' was changed from 'error' to 'logloss'. Explicitly set eval_metric if you'd like to restore the old behavior.\n",
      " 92%|██████████████████████▉  | 22/24 [13:00<00:52, 26.36s/trial, best loss: 0.0022160712660819204]"
     ]
    },
    {
     "name": "stderr",
     "output_type": "stream",
     "text": [
      "C:\\Program Files\\Python39\\python-3.9.0rc1.amd64\\lib\\site-packages\\xgboost\\sklearn.py:1146: UserWarning: The use of label encoder in XGBClassifier is deprecated and will be removed in a future release. To remove this warning, do the following: 1) Pass option use_label_encoder=False when constructing XGBClassifier object; and 2) Encode your labels (y) as integers starting with 0, i.e. 0, 1, 2, ..., [num_class - 1].\n",
      "  warnings.warn(label_encoder_deprecation_msg, UserWarning)\n",
      "\n"
     ]
    },
    {
     "name": "stdout",
     "output_type": "stream",
     "text": [
      "[18:08:09] WARNING: C:/Users/Administrator/workspace/xgboost-win64_release_1.4.0/src/learner.cc:1095: Starting in XGBoost 1.3.0, the default evaluation metric used with the objective 'binary:logistic' was changed from 'error' to 'logloss'. Explicitly set eval_metric if you'd like to restore the old behavior.\n",
      " 92%|██████████████████████▉  | 22/24 [13:05<00:52, 26.36s/trial, best loss: 0.0022160712660819204]"
     ]
    },
    {
     "name": "stderr",
     "output_type": "stream",
     "text": [
      "C:\\Program Files\\Python39\\python-3.9.0rc1.amd64\\lib\\site-packages\\xgboost\\sklearn.py:1146: UserWarning: The use of label encoder in XGBClassifier is deprecated and will be removed in a future release. To remove this warning, do the following: 1) Pass option use_label_encoder=False when constructing XGBClassifier object; and 2) Encode your labels (y) as integers starting with 0, i.e. 0, 1, 2, ..., [num_class - 1].\n",
      "  warnings.warn(label_encoder_deprecation_msg, UserWarning)\n",
      "\n"
     ]
    },
    {
     "name": "stdout",
     "output_type": "stream",
     "text": [
      "[18:08:14] WARNING: C:/Users/Administrator/workspace/xgboost-win64_release_1.4.0/src/learner.cc:1095: Starting in XGBoost 1.3.0, the default evaluation metric used with the objective 'binary:logistic' was changed from 'error' to 'logloss'. Explicitly set eval_metric if you'd like to restore the old behavior.\n",
      " 92%|██████████████████████▉  | 22/24 [13:10<00:52, 26.36s/trial, best loss: 0.0022160712660819204]"
     ]
    },
    {
     "name": "stderr",
     "output_type": "stream",
     "text": [
      "C:\\Program Files\\Python39\\python-3.9.0rc1.amd64\\lib\\site-packages\\xgboost\\sklearn.py:1146: UserWarning: The use of label encoder in XGBClassifier is deprecated and will be removed in a future release. To remove this warning, do the following: 1) Pass option use_label_encoder=False when constructing XGBClassifier object; and 2) Encode your labels (y) as integers starting with 0, i.e. 0, 1, 2, ..., [num_class - 1].\n",
      "  warnings.warn(label_encoder_deprecation_msg, UserWarning)\n",
      "\n"
     ]
    },
    {
     "name": "stdout",
     "output_type": "stream",
     "text": [
      "[18:08:20] WARNING: C:/Users/Administrator/workspace/xgboost-win64_release_1.4.0/src/learner.cc:1095: Starting in XGBoost 1.3.0, the default evaluation metric used with the objective 'binary:logistic' was changed from 'error' to 'logloss'. Explicitly set eval_metric if you'd like to restore the old behavior.\n",
      " 92%|██████████████████████▉  | 22/24 [13:16<00:52, 26.36s/trial, best loss: 0.0022160712660819204]"
     ]
    },
    {
     "name": "stderr",
     "output_type": "stream",
     "text": [
      "C:\\Program Files\\Python39\\python-3.9.0rc1.amd64\\lib\\site-packages\\xgboost\\sklearn.py:1146: UserWarning: The use of label encoder in XGBClassifier is deprecated and will be removed in a future release. To remove this warning, do the following: 1) Pass option use_label_encoder=False when constructing XGBClassifier object; and 2) Encode your labels (y) as integers starting with 0, i.e. 0, 1, 2, ..., [num_class - 1].\n",
      "  warnings.warn(label_encoder_deprecation_msg, UserWarning)\n",
      "\n"
     ]
    },
    {
     "name": "stdout",
     "output_type": "stream",
     "text": [
      "[18:08:25] WARNING: C:/Users/Administrator/workspace/xgboost-win64_release_1.4.0/src/learner.cc:1095: Starting in XGBoost 1.3.0, the default evaluation metric used with the objective 'binary:logistic' was changed from 'error' to 'logloss'. Explicitly set eval_metric if you'd like to restore the old behavior.\n",
      " 96%|███████████████████████▉ | 23/24 [13:21<00:26, 26.63s/trial, best loss: 0.0022160712660819204]"
     ]
    },
    {
     "name": "stderr",
     "output_type": "stream",
     "text": [
      "C:\\Program Files\\Python39\\python-3.9.0rc1.amd64\\lib\\site-packages\\xgboost\\sklearn.py:1146: UserWarning: The use of label encoder in XGBClassifier is deprecated and will be removed in a future release. To remove this warning, do the following: 1) Pass option use_label_encoder=False when constructing XGBClassifier object; and 2) Encode your labels (y) as integers starting with 0, i.e. 0, 1, 2, ..., [num_class - 1].\n",
      "  warnings.warn(label_encoder_deprecation_msg, UserWarning)\n",
      "\n"
     ]
    },
    {
     "name": "stdout",
     "output_type": "stream",
     "text": [
      "[18:08:35] WARNING: C:/Users/Administrator/workspace/xgboost-win64_release_1.4.0/src/learner.cc:1095: Starting in XGBoost 1.3.0, the default evaluation metric used with the objective 'binary:logistic' was changed from 'error' to 'logloss'. Explicitly set eval_metric if you'd like to restore the old behavior.\n",
      " 96%|███████████████████████▉ | 23/24 [13:31<00:26, 26.63s/trial, best loss: 0.0022160712660819204]"
     ]
    },
    {
     "name": "stderr",
     "output_type": "stream",
     "text": [
      "C:\\Program Files\\Python39\\python-3.9.0rc1.amd64\\lib\\site-packages\\xgboost\\sklearn.py:1146: UserWarning: The use of label encoder in XGBClassifier is deprecated and will be removed in a future release. To remove this warning, do the following: 1) Pass option use_label_encoder=False when constructing XGBClassifier object; and 2) Encode your labels (y) as integers starting with 0, i.e. 0, 1, 2, ..., [num_class - 1].\n",
      "  warnings.warn(label_encoder_deprecation_msg, UserWarning)\n",
      "\n"
     ]
    },
    {
     "name": "stdout",
     "output_type": "stream",
     "text": [
      "[18:08:41] WARNING: C:/Users/Administrator/workspace/xgboost-win64_release_1.4.0/src/learner.cc:1095: Starting in XGBoost 1.3.0, the default evaluation metric used with the objective 'binary:logistic' was changed from 'error' to 'logloss'. Explicitly set eval_metric if you'd like to restore the old behavior.\n",
      " 96%|███████████████████████▉ | 23/24 [13:37<00:26, 26.63s/trial, best loss: 0.0022160712660819204]"
     ]
    },
    {
     "name": "stderr",
     "output_type": "stream",
     "text": [
      "C:\\Program Files\\Python39\\python-3.9.0rc1.amd64\\lib\\site-packages\\xgboost\\sklearn.py:1146: UserWarning: The use of label encoder in XGBClassifier is deprecated and will be removed in a future release. To remove this warning, do the following: 1) Pass option use_label_encoder=False when constructing XGBClassifier object; and 2) Encode your labels (y) as integers starting with 0, i.e. 0, 1, 2, ..., [num_class - 1].\n",
      "  warnings.warn(label_encoder_deprecation_msg, UserWarning)\n",
      "\n"
     ]
    },
    {
     "name": "stdout",
     "output_type": "stream",
     "text": [
      "[18:08:48] WARNING: C:/Users/Administrator/workspace/xgboost-win64_release_1.4.0/src/learner.cc:1095: Starting in XGBoost 1.3.0, the default evaluation metric used with the objective 'binary:logistic' was changed from 'error' to 'logloss'. Explicitly set eval_metric if you'd like to restore the old behavior.\n",
      " 96%|███████████████████████▉ | 23/24 [13:44<00:26, 26.63s/trial, best loss: 0.0022160712660819204]"
     ]
    },
    {
     "name": "stderr",
     "output_type": "stream",
     "text": [
      "C:\\Program Files\\Python39\\python-3.9.0rc1.amd64\\lib\\site-packages\\xgboost\\sklearn.py:1146: UserWarning: The use of label encoder in XGBClassifier is deprecated and will be removed in a future release. To remove this warning, do the following: 1) Pass option use_label_encoder=False when constructing XGBClassifier object; and 2) Encode your labels (y) as integers starting with 0, i.e. 0, 1, 2, ..., [num_class - 1].\n",
      "  warnings.warn(label_encoder_deprecation_msg, UserWarning)\n",
      "\n"
     ]
    },
    {
     "name": "stdout",
     "output_type": "stream",
     "text": [
      "[18:08:57] WARNING: C:/Users/Administrator/workspace/xgboost-win64_release_1.4.0/src/learner.cc:1095: Starting in XGBoost 1.3.0, the default evaluation metric used with the objective 'binary:logistic' was changed from 'error' to 'logloss'. Explicitly set eval_metric if you'd like to restore the old behavior.\n",
      " 96%|███████████████████████▉ | 23/24 [13:53<00:26, 26.63s/trial, best loss: 0.0022160712660819204]"
     ]
    },
    {
     "name": "stderr",
     "output_type": "stream",
     "text": [
      "C:\\Program Files\\Python39\\python-3.9.0rc1.amd64\\lib\\site-packages\\xgboost\\sklearn.py:1146: UserWarning: The use of label encoder in XGBClassifier is deprecated and will be removed in a future release. To remove this warning, do the following: 1) Pass option use_label_encoder=False when constructing XGBClassifier object; and 2) Encode your labels (y) as integers starting with 0, i.e. 0, 1, 2, ..., [num_class - 1].\n",
      "  warnings.warn(label_encoder_deprecation_msg, UserWarning)\n",
      "\n"
     ]
    },
    {
     "name": "stdout",
     "output_type": "stream",
     "text": [
      "100%|█████████████████████████| 24/24 [14:03<00:00, 35.16s/trial, best loss: 0.0022160712660819204]\n",
      "{'gamma': 0.05, 'learning_rate': 0.03, 'max_depth': 35, 'min_child_weight': 3.0, 'n_estimators': 30}\n"
     ]
    }
   ],
   "source": [
    "space_lr = {'max_depth': hp.choice('max_depth', range(5, 70,1)),\n",
    "                'learning_rate':hp.quniform('learning_rate',0.01,0.5,0.01),\n",
    "            'n_estimators':hp.choice('n_estimators',range(20,200,5)),\n",
    "            'gamma':hp.quniform('gamma',0,0.5,0.01),\n",
    "            'min_child_weight':hp.quniform('min_child_weight',1,10,1),\n",
    "            #'subsample':hp.quniform('subsample',0.1,1,0.01),\n",
    "            #'colsample_bytree':hp.quniform('colsample_bytree',0.1,1,0.01)\n",
    "            \n",
    "        }\n",
    "\n",
    "\n",
    "def xgb(params):\n",
    "    params = {'max_depth': params['max_depth'],\n",
    "                 'learning_rate': params['learning_rate'],\n",
    "                  'gamma':params['gamma'],\n",
    "                  \n",
    "                'min_child_weight':params['min_child_weight'],\n",
    "             # 'subsample':params['subsample'],\n",
    "                  'n_estimators': params['n_estimators'],\n",
    "            #  'colsample_bytree':params['colsample_bytree']\n",
    "                  \n",
    "                 }\n",
    "    \n",
    "    xgb_bo = XGBClassifier( **params)\n",
    "    cv= StratifiedKFold(n_splits=5)\n",
    "    best_score = cross_val_score(xgb_bo, X_train, y_train, scoring='roc_auc', cv=cv).mean()\n",
    "    return 1 - best_score\n",
    "xgb_best_param = fmin(fn=xgb,\n",
    "                    space=space_lr,\n",
    "                    max_evals=24,\n",
    "                    rstate=np.random.RandomState(42),\n",
    "                    algo=tpe.suggest)\n",
    "print(xgb_best_param)"
   ]
  },
  {
   "cell_type": "code",
   "execution_count": 59,
   "metadata": {},
   "outputs": [
    {
     "name": "stderr",
     "output_type": "stream",
     "text": [
      "C:\\Program Files\\Python39\\python-3.9.0rc1.amd64\\lib\\site-packages\\xgboost\\sklearn.py:1146: UserWarning: The use of label encoder in XGBClassifier is deprecated and will be removed in a future release. To remove this warning, do the following: 1) Pass option use_label_encoder=False when constructing XGBClassifier object; and 2) Encode your labels (y) as integers starting with 0, i.e. 0, 1, 2, ..., [num_class - 1].\n",
      "  warnings.warn(label_encoder_deprecation_msg, UserWarning)\n"
     ]
    },
    {
     "name": "stdout",
     "output_type": "stream",
     "text": [
      "[18:09:08] WARNING: C:/Users/Administrator/workspace/xgboost-win64_release_1.4.0/src/learner.cc:1095: Starting in XGBoost 1.3.0, the default evaluation metric used with the objective 'binary:logistic' was changed from 'error' to 'logloss'. Explicitly set eval_metric if you'd like to restore the old behavior.\n"
     ]
    },
    {
     "name": "stderr",
     "output_type": "stream",
     "text": [
      "C:\\Program Files\\Python39\\python-3.9.0rc1.amd64\\lib\\site-packages\\xgboost\\data.py:112: UserWarning: Use subset (sliced data) of np.ndarray is not recommended because it will generate extra copies and increase memory consumption\n",
      "  warnings.warn(\n"
     ]
    }
   ],
   "source": [
    "param_values = [x for x in xgb_best_param.values()]\n",
    "\n",
    "\n",
    "xgb_best = XGBClassifier(\n",
    "   gamma= param_values[0],\n",
    "    learning_rate= param_values[1],\n",
    "   max_depth= param_values[2],\n",
    "   min_child_weight=param_values[3],\n",
    "n_estimators = param_values[4]\n",
    ")\n",
    "\n",
    "xgb_best=XGBClassifier()\n",
    "\n",
    "model= xgb_best.fit(X_train, y_train)\n",
    "pred = model.predict(X_test)\n",
    "\n"
   ]
  },
  {
   "cell_type": "code",
   "execution_count": 60,
   "metadata": {},
   "outputs": [
    {
     "name": "stdout",
     "output_type": "stream",
     "text": [
      "Confusion Matrix:\n",
      " [[7485   33]\n",
      " [ 120   10]]\n",
      "Precision: 0.232558\n",
      "Recall: 0.076923\n",
      "F1 score: 0.115607\n",
      "Sensitivity :  0.9842209072978304\n",
      "Specificity :  0.23255813953488372\n",
      "Negative predictive Value:  0.07692307692307693\n",
      "Positive Predictive Value:  0.9956105347166799\n",
      "Geometric Mean:  0.4784230168924972\n"
     ]
    }
   ],
   "source": [
    "cm= confusion_matrix(y_test, pred)\n",
    "print('Confusion Matrix:\\n',cm)\n",
    "\n",
    "precision = precision_score(y_test, pred)\n",
    "print( 'Precision: %f' % precision)\n",
    "\n",
    "recall = recall_score(y_test, pred)\n",
    "print('Recall: %f' % recall)\n",
    "\n",
    "f1 = f1_score(y_test, pred)\n",
    "print('F1 score: %f' % f1)\n",
    "\n",
    "sensitivity = cm[0,0]/(cm[0,0]+cm[1,0])\n",
    "print('Sensitivity : ', sensitivity )\n",
    "\n",
    "specificity = cm[1,1]/(cm[0,1]+cm[1,1])\n",
    "print('Specificity : ', specificity)\n",
    "\n",
    "NPV = cm[1,1]/(cm[1,1]+cm[1,0])\n",
    "print('Negative predictive Value: ', NPV)\n",
    "\n",
    "PPV = cm[0,0]/(cm[0,0]+cm[0,1])\n",
    "print('Positive Predictive Value: ', PPV)\n",
    "\n",
    "import math\n",
    "gm=math.sqrt(specificity*sensitivity)\n",
    "print('Geometric Mean: ', gm)"
   ]
  },
  {
   "cell_type": "code",
   "execution_count": 61,
   "metadata": {},
   "outputs": [
    {
     "name": "stderr",
     "output_type": "stream",
     "text": [
      "C:\\Program Files\\Python39\\python-3.9.0rc1.amd64\\lib\\site-packages\\xgboost\\data.py:112: UserWarning: Use subset (sliced data) of np.ndarray is not recommended because it will generate extra copies and increase memory consumption\n",
      "  warnings.warn(\n"
     ]
    },
    {
     "name": "stdout",
     "output_type": "stream",
     "text": [
      "Random chance= 0.500000\n",
      "AUCROC Value = 0.865286\n",
      "AUC:PrecisionRecall Value =0.117\n"
     ]
    },
    {
     "data": {
      "image/png": "[encoded data removed]",
      "text/plain": [
       "<Figure size 432x288 with 1 Axes>"
      ]
     },
     "metadata": {
      "needs_background": "light"
     },
     "output_type": "display_data"
    }
   ],
   "source": [
    "r_probs=[0 for _ in range(len(y_test))]\n",
    "xgb_probs=model.predict_proba(X_test)\n",
    "xgb_probs=xgb_probs[:,1]\n",
    "from sklearn.metrics import roc_curve, roc_auc_score\n",
    "r_auc=roc_auc_score(y_test,r_probs)\n",
    "xgb_auc =roc_auc_score(y_test,xgb_probs)\n",
    "print('Random chance= %3f'%(r_auc))\n",
    "print('AUCROC Value = %4f'%(xgb_auc))\n",
    "\n",
    "xgb_precision, xgb_recall, _ = precision_recall_curve(y_test, xgb_probs,pos_label=1)\n",
    "xgb_aucprc=auc(xgb_recall, xgb_precision)\n",
    "print('AUC:PrecisionRecall Value =%.3f' % (xgb_aucprc))\n",
    "    \n",
    "r_fpr, r_tpr, thresholds = metrics.roc_curve(y_test, r_probs, pos_label=1)\n",
    "xgb_fpr, xgb_tpr, thresholds = metrics.roc_curve(y_test, xgb_probs, pos_label=1)\n",
    "\n",
    "#ROC PLOT\n",
    "import matplotlib.pyplot as plt\n",
    "plt.plot(r_fpr,r_tpr,linestyle='--',label='Random prediction(AUCROC=%0.3f)'%r_auc)\n",
    "plt.plot(xgb_fpr,xgb_tpr,linestyle='--',label='Random prediction(AUCROC=%0.3f)'%xgb_auc)\n",
    "plt.title('ROC PLOT - XGB ')\n",
    "plt.xlabel('FALSE POSITIVE RATE')\n",
    "plt.ylabel('TRUE POSITIVE RATE')\n",
    "\n",
    "\n",
    "plt.plot(xgb_recall, xgb_precision, linestyle='--', label='Random prediction(AUCPRC=%0.3f)'%xgb_aucprc)\n",
    "# axis labels\n",
    "plt.xlabel('RECALL')\n",
    "plt.ylabel('PRECISION')\n",
    "plt.title('PRC PLOT - XGB')\n",
    "plt.legend()\n",
    "    #save plot\n",
    "plt.savefig('XGB_plot2.png', dpi=300, bbox_inches='tight')\n",
    "    # show the plot\n",
    "plt.show()"
   ]
  },
  {
   "cell_type": "code",
   "execution_count": 83,
   "metadata": {},
   "outputs": [
    {
     "name": "stderr",
     "output_type": "stream",
     "text": [
      "C:\\Program Files\\Python39\\python-3.9.0rc1.amd64\\lib\\site-packages\\xgboost\\data.py:112: UserWarning: Use subset (sliced data) of np.ndarray is not recommended because it will generate extra copies and increase memory consumption\n",
      "  warnings.warn(\n"
     ]
    },
    {
     "data": {
      "text/plain": [
       "array([1.95922863e+00, 9.59228635e-01, 9.49143469e-01, 9.29215193e-01,\n",
       "       9.19847369e-01, 8.95504236e-01, 7.26681411e-01, 7.17431784e-01,\n",
       "       6.71915829e-01, 6.54045761e-01, 6.18174970e-01, 6.09673202e-01,\n",
       "       6.02613270e-01, 5.86235940e-01, 5.84562361e-01, 5.59204817e-01,\n",
       "       4.89929616e-01, 4.84131187e-01, 4.64516968e-01, 4.58088785e-01,\n",
       "       4.51301873e-01, 4.50194538e-01, 4.37255204e-01, 4.34070826e-01,\n",
       "       4.24044609e-01, 4.20507163e-01, 4.00968939e-01, 4.00675744e-01,\n",
       "       3.84454757e-01, 3.64589542e-01, 3.60805809e-01, 3.55452091e-01,\n",
       "       3.51696014e-01, 3.50249708e-01, 2.60019422e-01, 2.59405762e-01,\n",
       "       2.51481414e-01, 2.48954162e-01, 2.46096775e-01, 2.45758221e-01,\n",
       "       2.43761465e-01, 2.42496148e-01, 2.30781138e-01, 2.30440080e-01,\n",
       "       2.22471446e-01, 2.22438604e-01, 2.22438559e-01, 2.20965907e-01,\n",
       "       2.17542127e-01, 2.17004776e-01, 2.12038264e-01, 2.11937577e-01,\n",
       "       2.02493206e-01, 1.98901430e-01, 1.91946998e-01, 1.90039426e-01,\n",
       "       1.68731228e-01, 1.68245018e-01, 1.64678171e-01, 1.64515764e-01,\n",
       "       1.52708307e-01, 1.52075395e-01, 1.44686610e-01, 1.42116770e-01,\n",
       "       1.36626527e-01, 1.31566867e-01, 1.26163244e-01, 1.25937164e-01,\n",
       "       1.22635938e-01, 1.22059748e-01, 1.21803313e-01, 1.18432716e-01,\n",
       "       1.15413733e-01, 1.15379877e-01, 1.09405443e-01, 1.09362558e-01,\n",
       "       9.61901471e-02, 9.58708152e-02, 9.37134176e-02, 9.36354399e-02,\n",
       "       9.14665684e-02, 9.05914456e-02, 8.58560950e-02, 8.57381672e-02,\n",
       "       8.33378658e-02, 8.26955587e-02, 8.17061439e-02, 8.14484358e-02,\n",
       "       6.87555745e-02, 6.85494393e-02, 6.68768287e-02, 6.68357089e-02,\n",
       "       6.54391795e-02, 6.54214323e-02, 6.36426955e-02, 6.26814589e-02,\n",
       "       5.92119880e-02, 5.90860881e-02, 5.76552935e-02, 5.76256812e-02,\n",
       "       5.58383092e-02, 5.57769910e-02, 5.36463782e-02, 5.35278022e-02,\n",
       "       5.20346723e-02, 5.18659465e-02, 4.81791981e-02, 4.79179509e-02,\n",
       "       4.53664958e-02, 4.52867076e-02, 4.34839502e-02, 4.34602425e-02,\n",
       "       4.33439165e-02, 4.31792662e-02, 4.27406877e-02, 4.26160321e-02,\n",
       "       4.14864905e-02, 4.14497182e-02, 3.78610156e-02, 3.78442332e-02,\n",
       "       3.75501029e-02, 3.74764241e-02, 3.57619636e-02, 3.57306190e-02,\n",
       "       3.50540467e-02, 3.48149575e-02, 3.42572555e-02, 3.40654925e-02,\n",
       "       3.38436998e-02, 3.33447307e-02, 3.27714011e-02, 3.27038094e-02,\n",
       "       3.26658189e-02, 3.26154158e-02, 3.08992732e-02, 3.05743869e-02,\n",
       "       2.47765128e-02, 2.47115847e-02, 2.41028890e-02, 2.40323711e-02,\n",
       "       2.25252733e-02, 2.25150827e-02, 2.08681040e-02, 2.08628774e-02,\n",
       "       2.00878177e-02, 2.00410448e-02, 1.84949990e-02, 1.84660032e-02,\n",
       "       1.69090871e-02, 1.69048551e-02, 1.49164982e-02, 1.49095291e-02,\n",
       "       1.45714954e-02, 1.45708583e-02, 1.40566733e-02, 1.39878085e-02,\n",
       "       1.32240225e-02, 1.32184047e-02, 1.22516695e-02, 1.22460034e-02,\n",
       "       1.16297537e-02, 1.16060507e-02, 1.15134399e-02, 1.14794737e-02,\n",
       "       1.11004636e-02, 1.10781770e-02, 1.00602722e-02, 1.00562032e-02,\n",
       "       1.00008110e-02, 9.99924820e-03, 8.18710774e-03, 8.17785971e-03,\n",
       "       7.22599775e-03, 7.21982587e-03, 6.58116536e-03, 6.57504192e-03,\n",
       "       6.43849326e-03, 6.40359707e-03, 6.15667598e-03, 6.15257537e-03,\n",
       "       5.82372956e-03, 5.82104689e-03, 5.12403995e-03, 5.12351049e-03,\n",
       "       4.73136781e-03, 4.73063625e-03, 4.60494729e-03, 4.59670788e-03,\n",
       "       4.44722688e-03, 4.43842588e-03, 4.32308670e-03, 4.32033138e-03,\n",
       "       4.13713744e-03, 4.13670344e-03, 4.09222441e-03, 4.08669515e-03,\n",
       "       3.96419223e-03, 3.96181690e-03, 3.90474359e-03, 3.89749301e-03,\n",
       "       3.46233742e-03, 3.45775508e-03, 3.44475964e-03, 3.44341598e-03,\n",
       "       2.05194019e-03, 2.04955251e-03, 1.96743361e-03, 1.96552929e-03,\n",
       "       1.85925665e-03, 1.85709167e-03, 1.75439485e-03, 1.75348809e-03,\n",
       "       1.68903172e-03, 1.68896583e-03, 1.55551534e-03, 1.55470078e-03,\n",
       "       1.53831264e-03, 1.53807970e-03, 1.40122406e-03, 1.40068296e-03,\n",
       "       1.30554079e-03, 1.30535173e-03, 1.24013901e-03, 1.23913423e-03,\n",
       "       8.49760894e-04, 8.47503543e-04, 7.64788536e-04, 7.64343713e-04,\n",
       "       6.27366477e-04, 6.26151217e-04, 5.92450146e-04, 5.92033262e-04,\n",
       "       4.82962991e-04, 4.82562813e-04, 2.88603129e-04, 2.88602314e-04,\n",
       "       1.98754758e-04, 1.98718742e-04, 1.55180081e-04, 1.55159069e-04,\n",
       "       1.19131801e-04, 1.19123055e-04, 1.01444995e-04, 1.01310528e-04,\n",
       "       1.22763799e-06], dtype=float32)"
      ]
     },
     "execution_count": 83,
     "metadata": {},
     "output_type": "execute_result"
    }
   ],
   "source": [
    "# threshold tuning\n",
    "\n",
    "xgb_probs = xgb_best.predict_proba(X_test)\n",
    "xgb_probs=xgb_probs[:,1]\n",
    "fpr, tpr,thresholds = roc_curve(y_test, xgb_probs)\n",
    "thresholds"
   ]
  },
  {
   "cell_type": "code",
   "execution_count": 84,
   "metadata": {},
   "outputs": [
    {
     "data": {
      "text/html": [
       "<div>\n",
       "<style scoped>\n",
       "    .dataframe tbody tr th:only-of-type {\n",
       "        vertical-align: middle;\n",
       "    }\n",
       "\n",
       "    .dataframe tbody tr th {\n",
       "        vertical-align: top;\n",
       "    }\n",
       "\n",
       "    .dataframe thead th {\n",
       "        text-align: right;\n",
       "    }\n",
       "</style>\n",
       "<table border=\"1\" class=\"dataframe\">\n",
       "  <thead>\n",
       "    <tr style=\"text-align: right;\">\n",
       "      <th></th>\n",
       "      <th>thresholds</th>\n",
       "      <th>f1</th>\n",
       "    </tr>\n",
       "  </thead>\n",
       "  <tbody>\n",
       "    <tr>\n",
       "      <th>72</th>\n",
       "      <td>0.115414</td>\n",
       "      <td>0.232099</td>\n",
       "    </tr>\n",
       "    <tr>\n",
       "      <th>73</th>\n",
       "      <td>0.115380</td>\n",
       "      <td>0.231527</td>\n",
       "    </tr>\n",
       "    <tr>\n",
       "      <th>74</th>\n",
       "      <td>0.109405</td>\n",
       "      <td>0.230216</td>\n",
       "    </tr>\n",
       "    <tr>\n",
       "      <th>71</th>\n",
       "      <td>0.118433</td>\n",
       "      <td>0.230000</td>\n",
       "    </tr>\n",
       "    <tr>\n",
       "      <th>75</th>\n",
       "      <td>0.109363</td>\n",
       "      <td>0.229665</td>\n",
       "    </tr>\n",
       "    <tr>\n",
       "      <th>...</th>\n",
       "      <td>...</td>\n",
       "      <td>...</td>\n",
       "    </tr>\n",
       "    <tr>\n",
       "      <th>5</th>\n",
       "      <td>0.895504</td>\n",
       "      <td>0.014815</td>\n",
       "    </tr>\n",
       "    <tr>\n",
       "      <th>1</th>\n",
       "      <td>0.959229</td>\n",
       "      <td>0.000000</td>\n",
       "    </tr>\n",
       "    <tr>\n",
       "      <th>3</th>\n",
       "      <td>0.929215</td>\n",
       "      <td>0.000000</td>\n",
       "    </tr>\n",
       "    <tr>\n",
       "      <th>2</th>\n",
       "      <td>0.949143</td>\n",
       "      <td>0.000000</td>\n",
       "    </tr>\n",
       "    <tr>\n",
       "      <th>0</th>\n",
       "      <td>1.959229</td>\n",
       "      <td>0.000000</td>\n",
       "    </tr>\n",
       "  </tbody>\n",
       "</table>\n",
       "<p>245 rows × 2 columns</p>\n",
       "</div>"
      ],
      "text/plain": [
       "    thresholds        f1\n",
       "72    0.115414  0.232099\n",
       "73    0.115380  0.231527\n",
       "74    0.109405  0.230216\n",
       "71    0.118433  0.230000\n",
       "75    0.109363  0.229665\n",
       "..         ...       ...\n",
       "5     0.895504  0.014815\n",
       "1     0.959229  0.000000\n",
       "3     0.929215  0.000000\n",
       "2     0.949143  0.000000\n",
       "0     1.959229  0.000000\n",
       "\n",
       "[245 rows x 2 columns]"
      ]
     },
     "execution_count": 84,
     "metadata": {},
     "output_type": "execute_result"
    }
   ],
   "source": [
    "from sklearn.metrics import f1_score\n",
    "f1_ls =[]\n",
    "for thres in thresholds:\n",
    "    y_pred = np.where(xgb_probs> thres, 1,0)\n",
    "    f1_ls.append(f1_score(y_test,y_pred))\n",
    "f1_ls = pd.concat([pd.Series(thresholds),pd.Series(f1_ls)], axis=1)\n",
    "f1_ls.columns= ['thresholds', 'f1']\n",
    "f1_ls.sort_values(by='f1', ascending = False, inplace=True)\n",
    "f1_ls"
   ]
  },
  {
   "cell_type": "code",
   "execution_count": 85,
   "metadata": {},
   "outputs": [
    {
     "name": "stderr",
     "output_type": "stream",
     "text": [
      "C:\\Program Files\\Python39\\python-3.9.0rc1.amd64\\lib\\site-packages\\xgboost\\data.py:112: UserWarning: Use subset (sliced data) of np.ndarray is not recommended because it will generate extra copies and increase memory consumption\n",
      "  warnings.warn(\n"
     ]
    }
   ],
   "source": [
    "pred_best = model.predict_proba(X_test)[:,1]\n",
    "pred_best[pred_best>0.115] =1\n",
    "pred_best[pred_best<=0.115] =0"
   ]
  },
  {
   "cell_type": "code",
   "execution_count": 86,
   "metadata": {},
   "outputs": [
    {
     "name": "stdout",
     "output_type": "stream",
     "text": [
      "Confusion Matrix:\n",
      " [[7288  230]\n",
      " [  82   48]]\n",
      "Precision: 0.172662\n",
      "Recall: 0.369231\n",
      "F1 score: 0.235294\n",
      "Sensitivity :  0.9888738127544098\n",
      "Specificity :  0.17266187050359713\n",
      "Negative predictive Value:  0.36923076923076925\n",
      "Positive Predictive Value:  0.9694067571162543\n",
      "Geometric Mean:  0.41320794063304284\n"
     ]
    }
   ],
   "source": [
    "cm= confusion_matrix(y_test, pred_best)\n",
    "print('Confusion Matrix:\\n',cm)\n",
    "\n",
    "precision = precision_score(y_test, pred_best)\n",
    "print('Precision: %f' % precision)\n",
    "\n",
    "recall = recall_score(y_test,pred_best)\n",
    "print('Recall: %f' % recall)\n",
    "\n",
    "f1 = f1_score(y_test, pred_best)\n",
    "print('F1 score: %f' % f1)\n",
    "\n",
    "sensitivity = cm[0,0]/(cm[0,0]+cm[1,0])\n",
    "print('Sensitivity : ', sensitivity )\n",
    "\n",
    "specificity = cm[1,1]/(cm[0,1]+cm[1,1])\n",
    "print('Specificity : ', specificity)\n",
    "\n",
    "NPV = cm[1,1]/(cm[1,1]+cm[1,0])\n",
    "print('Negative predictive Value: ', NPV)\n",
    "\n",
    "PPV = cm[0,0]/(cm[0,0]+cm[0,1])\n",
    "print('Positive Predictive Value: ', PPV)\n",
    "\n",
    "import math\n",
    "gm=math.sqrt(specificity*sensitivity)\n",
    "print('Geometric Mean: ', gm)"
   ]
  },
  {
   "cell_type": "code",
   "execution_count": 62,
   "metadata": {},
   "outputs": [
    {
     "name": "stdout",
     "output_type": "stream",
     "text": [
      "100%|███████████████████████████| 24/24 [00:57<00:00,  2.42s/trial, best loss: 0.12007668661113835]\n",
      "It takes 0.9665220260620118 minutes\n",
      "Best Paramters for Logistic Regression Elastic Net model {'C': 650.0, 'l1_ratio': 0.4, 'max_iter': 2013}\n"
     ]
    }
   ],
   "source": [
    "#Logistic Regression Hyper Parameter tuning\n",
    "\n",
    "start = time.time()\n",
    "space_lr = {'penalty': 'elasticnet',\n",
    "               'C' : hp.quniform('C',1,1000,10),\n",
    "                'solver': 'saga',\n",
    "               'class_weight' : 'balanced',\n",
    "               'max_iter': hp.randint('max_iter', 1000,10000) ,\n",
    "               'l1_ratio':hp.quniform('l1_ratio',0.1,0.9,0.1)\n",
    "               }\n",
    "def lr(params):\n",
    "    params = {'penalty': params['penalty'],\n",
    "                 'C': params['C'],\n",
    "                  'class_weight': params['class_weight'],                       \n",
    "                  'solver': params['solver'],\n",
    "                 'max_iter':params['max_iter'],\n",
    "              'l1_ratio':params['l1_ratio']\n",
    "             }\n",
    "    lr_bo2 =sklearn.linear_model.LogisticRegression(**params)\n",
    "    cv= StratifiedKFold(n_splits=5)\n",
    "    best_score = cross_val_score(lr_bo2, X_train, y_train, scoring='roc_auc', cv=cv).mean()\n",
    "    return 1 - best_score\n",
    "\n",
    "lr_best_param = fmin(fn=lr,\n",
    "                    space=space_lr,\n",
    "                    max_evals=24,\n",
    "                    rstate=np.random.RandomState(42),\n",
    "                    algo=tpe.suggest)\n",
    "print('It takes %s minutes' % ((time.time() - start)/60))\n",
    "print('Best Paramters for Logistic Regression Elastic Net model',lr_best_param)"
   ]
  },
  {
   "cell_type": "code",
   "execution_count": 63,
   "metadata": {},
   "outputs": [],
   "source": [
    "\n",
    "param_values = [x for x in lr_best_param.values()]\n",
    "\n",
    "C= param_values[0]\n",
    "l1_ratio=param_values[1]\n",
    "max_iter = param_values[2]\n",
    "\n",
    "        \n",
    "lr_best= sklearn.linear_model.LogisticRegression(solver='saga',l1_ratio=l1_ratio,penalty='elasticnet',C=C,max_iter=max_iter,class_weight='balanced')\n",
    "model= lr_best.fit(X_train, y_train)\n",
    "pred = model.predict(X_test)"
   ]
  },
  {
   "cell_type": "code",
   "execution_count": 64,
   "metadata": {},
   "outputs": [
    {
     "name": "stdout",
     "output_type": "stream",
     "text": [
      "Confusion Matrix:\n",
      " [[6373 1145]\n",
      " [  29  101]]\n",
      " Precision: 0.081059\n",
      "Recall: 0.776923\n",
      " F1 score: 0.146802\n",
      "Sensitivity :  0.9954701655732584\n",
      " Specificity :  0.08105939004815409\n",
      "Negative predictive Value:  0.7769230769230769\n",
      " Positive Predictive Value:  0.8476988560787444\n",
      "Geometric Mean:  0.2840637330468346\n"
     ]
    }
   ],
   "source": [
    "#Printing the performance metrics\n",
    "\n",
    "cm= confusion_matrix(y_test, pred)\n",
    "print('Confusion Matrix:\\n',cm)\n",
    "\n",
    "precision = precision_score(y_test, pred)\n",
    "print(' Precision: %f' % precision)\n",
    "\n",
    "recall = recall_score(y_test, pred)\n",
    "print('Recall: %f' % recall)\n",
    "\n",
    "f1 = f1_score(y_test, pred)\n",
    "print(' F1 score: %f' % f1)\n",
    "\n",
    "sensitivity = cm[0,0]/(cm[0,0]+cm[1,0])\n",
    "print('Sensitivity : ', sensitivity )\n",
    "\n",
    "specificity = cm[1,1]/(cm[0,1]+cm[1,1])\n",
    "print(' Specificity : ', specificity)\n",
    "\n",
    "NPV = cm[1,1]/(cm[1,1]+cm[1,0])\n",
    "print('Negative predictive Value: ', NPV)\n",
    "\n",
    "PPV = cm[0,0]/(cm[0,0]+cm[0,1])\n",
    "print(' Positive Predictive Value: ', PPV)\n",
    "\n",
    "import math\n",
    "gm=math.sqrt(specificity*sensitivity)\n",
    "print('Geometric Mean: ', gm)"
   ]
  },
  {
   "cell_type": "code",
   "execution_count": 65,
   "metadata": {},
   "outputs": [
    {
     "name": "stdout",
     "output_type": "stream",
     "text": [
      "Random chance= 0.500000\n",
      "AUCROC Value = 0.887812\n",
      "AUC:PrecisionRecall=0.165\n"
     ]
    },
    {
     "data": {
      "image/png": "[encoded data removed]",
      "text/plain": [
       "<Figure size 432x288 with 1 Axes>"
      ]
     },
     "metadata": {
      "needs_background": "light"
     },
     "output_type": "display_data"
    },
    {
     "data": {
      "image/png": "[encoded data removed]",
      "text/plain": [
       "<Figure size 432x288 with 1 Axes>"
      ]
     },
     "metadata": {
      "needs_background": "light"
     },
     "output_type": "display_data"
    }
   ],
   "source": [
    "r_probs=[0 for _ in range(len(y_test))]\n",
    "lr_probs=model.predict_proba(X_test)\n",
    "lr_probs=lr_probs[:,1]\n",
    "    \n",
    "from sklearn.metrics import roc_curve, roc_auc_score\n",
    "r_auc=roc_auc_score(y_test,r_probs)\n",
    "lr_auc =roc_auc_score(y_test,lr_probs)\n",
    "print('Random chance= %3f'%(r_auc))\n",
    "print('AUCROC Value = %4f'%(lr_auc))\n",
    "\n",
    "     \n",
    "lr_precision, lr_recall, _ = precision_recall_curve(y_test, lr_probs,pos_label=1)\n",
    "lr_aucprc=auc(lr_recall, lr_precision)\n",
    "print('AUC:PrecisionRecall=%.3f' % (lr_aucprc))\n",
    "\n",
    "r_fpr, r_tpr, thresholds = metrics.roc_curve(y_test, r_probs, pos_label=1)\n",
    "lr_fpr, lr_tpr, thresholds = metrics.roc_curve(y_test, lr_probs, pos_label=1)\n",
    "\n",
    "#ROC CURVE PLOT\n",
    "import matplotlib.pyplot as plt\n",
    "plt.plot(r_fpr,r_tpr,linestyle='--',label='Random prediction(AUCROC=%0.3f)'%r_auc)\n",
    "plt.plot(lr_fpr,lr_tpr,linestyle='--',label='Random prediction(AUCROC=%0.3f)'%lr_auc)\n",
    "plt.title('ROC PLOT - LR ELASTIC MODEL')\n",
    "plt.xlabel('FALSE POSITIVE RATE')\n",
    "plt.ylabel('TRUE POSITIVE RATE')\n",
    "plt.legend()\n",
    "#save\n",
    "plt.savefig('lr_elastic_plot1.png', dpi=300, bbox_inches='tight')\n",
    "    # show the plot\n",
    "plt.show()\n",
    "\n",
    "#PRECISION RECALL PLOT\n",
    "    \n",
    "plt.plot(lr_recall, lr_precision, linestyle='--', label='Random prediction(AUCPRC=%0.3f)'%lr_aucprc)\n",
    "plt.xlabel('RECALL')\n",
    "plt.ylabel('PRECISION')\n",
    "plt.legend()\n",
    "plt.title('PRC PLOT - LR ELASTIC MODEL')\n",
    "#save\n",
    "plt.savefig('lr_elastic_plot2.png', dpi=300, bbox_inches='tight')\n",
    "    # show the plot\n",
    "plt.show()"
   ]
  },
  {
   "cell_type": "code",
   "execution_count": 91,
   "metadata": {},
   "outputs": [
    {
     "data": {
      "text/plain": [
       "array([1.99996642e+00, 9.99966418e-01, 9.98973351e-01, 9.94871115e-01,\n",
       "       9.94477967e-01, 9.93046069e-01, 9.91634777e-01, 9.87194851e-01,\n",
       "       9.85465177e-01, 9.83257115e-01, 9.82839877e-01, 9.80917061e-01,\n",
       "       9.79825757e-01, 9.79381233e-01, 9.79235161e-01, 9.79068019e-01,\n",
       "       9.78467427e-01, 9.75144559e-01, 9.74881306e-01, 9.70174366e-01,\n",
       "       9.69174376e-01, 9.66698632e-01, 9.65941775e-01, 9.64072249e-01,\n",
       "       9.63826753e-01, 9.63757672e-01, 9.63344228e-01, 9.61068112e-01,\n",
       "       9.60014660e-01, 9.60005732e-01, 9.59852185e-01, 9.57876153e-01,\n",
       "       9.55994826e-01, 9.54842132e-01, 9.53078861e-01, 9.50967186e-01,\n",
       "       9.50576206e-01, 9.50314894e-01, 9.50306285e-01, 9.48205330e-01,\n",
       "       9.47994869e-01, 9.47077273e-01, 9.47035552e-01, 9.41561545e-01,\n",
       "       9.41458256e-01, 9.41326334e-01, 9.40371830e-01, 9.40177313e-01,\n",
       "       9.39905908e-01, 9.38251057e-01, 9.38092897e-01, 9.35815739e-01,\n",
       "       9.35439863e-01, 9.33812316e-01, 9.33389383e-01, 9.31620252e-01,\n",
       "       9.30981813e-01, 9.28800809e-01, 9.28475083e-01, 9.21650336e-01,\n",
       "       9.21166333e-01, 9.20469330e-01, 9.20348155e-01, 9.17810285e-01,\n",
       "       9.17315195e-01, 9.16688695e-01, 9.16217424e-01, 9.15917297e-01,\n",
       "       9.15672305e-01, 9.15228991e-01, 9.14541932e-01, 9.13076840e-01,\n",
       "       9.12937671e-01, 9.04621936e-01, 9.04214544e-01, 8.99645290e-01,\n",
       "       8.99362313e-01, 8.94075950e-01, 8.93280673e-01, 8.83888362e-01,\n",
       "       8.83653336e-01, 8.82032656e-01, 8.81914679e-01, 8.78329898e-01,\n",
       "       8.78178794e-01, 8.76827310e-01, 8.75694373e-01, 8.74508603e-01,\n",
       "       8.74384213e-01, 8.68623762e-01, 8.68477353e-01, 8.65432624e-01,\n",
       "       8.64899644e-01, 8.62190456e-01, 8.62184145e-01, 8.62177618e-01,\n",
       "       8.62010504e-01, 8.61847697e-01, 8.61703588e-01, 8.59283525e-01,\n",
       "       8.59248625e-01, 8.53130705e-01, 8.52995385e-01, 8.50901659e-01,\n",
       "       8.50481226e-01, 8.39546202e-01, 8.38890222e-01, 8.37564542e-01,\n",
       "       8.37163117e-01, 8.36358986e-01, 8.36323544e-01, 8.34111466e-01,\n",
       "       8.33937406e-01, 8.23432880e-01, 8.23401337e-01, 8.14526050e-01,\n",
       "       8.13938887e-01, 7.95449319e-01, 7.95332353e-01, 7.93302148e-01,\n",
       "       7.93100342e-01, 7.87356270e-01, 7.87328331e-01, 7.84115512e-01,\n",
       "       7.83435974e-01, 7.83161431e-01, 7.82939953e-01, 7.80792210e-01,\n",
       "       7.80593258e-01, 7.67299046e-01, 7.66688486e-01, 7.59865134e-01,\n",
       "       7.59795794e-01, 7.56098218e-01, 7.56029969e-01, 7.49532883e-01,\n",
       "       7.49417106e-01, 7.48760137e-01, 7.48111960e-01, 7.45800623e-01,\n",
       "       7.45219046e-01, 7.32552698e-01, 7.32231423e-01, 7.32080012e-01,\n",
       "       7.32058731e-01, 7.28946046e-01, 7.28715911e-01, 7.18585022e-01,\n",
       "       7.18109440e-01, 7.01615014e-01, 7.01542890e-01, 6.96936891e-01,\n",
       "       6.96741154e-01, 6.91557761e-01, 6.91282062e-01, 6.89594611e-01,\n",
       "       6.89544595e-01, 6.77051523e-01, 6.76713617e-01, 6.68470073e-01,\n",
       "       6.67851543e-01, 6.66730366e-01, 6.65965050e-01, 6.42869675e-01,\n",
       "       6.42610831e-01, 6.38615682e-01, 6.38506879e-01, 6.24078285e-01,\n",
       "       6.22921863e-01, 6.18393016e-01, 6.17829941e-01, 6.09944721e-01,\n",
       "       6.09793734e-01, 6.09349990e-01, 6.09321125e-01, 6.09054189e-01,\n",
       "       6.09044516e-01, 6.04823530e-01, 6.04070531e-01, 5.60829320e-01,\n",
       "       5.60788599e-01, 5.47823694e-01, 5.47701192e-01, 5.28760220e-01,\n",
       "       5.27985638e-01, 5.17113498e-01, 5.17056659e-01, 4.84175818e-01,\n",
       "       4.83854025e-01, 4.66274361e-01, 4.66242991e-01, 4.53998524e-01,\n",
       "       4.53823718e-01, 4.48848149e-01, 4.48847594e-01, 4.48717912e-01,\n",
       "       4.48698602e-01, 4.28826520e-01, 4.28653116e-01, 3.76664411e-01,\n",
       "       3.76426734e-01, 3.74056928e-01, 3.73979232e-01, 3.21905565e-01,\n",
       "       3.21792730e-01, 3.11211043e-01, 3.10771499e-01, 2.99769156e-01,\n",
       "       2.99456152e-01, 2.86975502e-01, 2.86769468e-01, 2.59478792e-01,\n",
       "       2.59414911e-01, 2.56017621e-01, 2.55630649e-01, 2.30481924e-01,\n",
       "       2.30384009e-01, 2.23238127e-01, 2.23189462e-01, 1.78175524e-01,\n",
       "       1.78171919e-01, 1.59767404e-01, 1.59682096e-01, 1.37359164e-01,\n",
       "       1.37330021e-01, 1.33548038e-01, 1.33519048e-01, 1.28149059e-01,\n",
       "       1.28115246e-01, 7.15301842e-02, 7.14436157e-02, 2.14587499e-02,\n",
       "       2.14570669e-02, 1.76587619e-02, 1.76456293e-02, 5.25459039e-06])"
      ]
     },
     "execution_count": 91,
     "metadata": {},
     "output_type": "execute_result"
    }
   ],
   "source": [
    "lr_probs = lr_best.predict_proba(X_test)\n",
    "lr_probs=lr_probs[:,1]\n",
    "fpr, tpr,thresholds = roc_curve(y_test, lr_probs)\n",
    "thresholds"
   ]
  },
  {
   "cell_type": "code",
   "execution_count": 92,
   "metadata": {},
   "outputs": [
    {
     "data": {
      "text/html": [
       "<div>\n",
       "<style scoped>\n",
       "    .dataframe tbody tr th:only-of-type {\n",
       "        vertical-align: middle;\n",
       "    }\n",
       "\n",
       "    .dataframe tbody tr th {\n",
       "        vertical-align: top;\n",
       "    }\n",
       "\n",
       "    .dataframe thead th {\n",
       "        text-align: right;\n",
       "    }\n",
       "</style>\n",
       "<table border=\"1\" class=\"dataframe\">\n",
       "  <thead>\n",
       "    <tr style=\"text-align: right;\">\n",
       "      <th></th>\n",
       "      <th>thresholds</th>\n",
       "      <th>f1</th>\n",
       "    </tr>\n",
       "  </thead>\n",
       "  <tbody>\n",
       "    <tr>\n",
       "      <th>71</th>\n",
       "      <td>0.913077</td>\n",
       "      <td>0.256410</td>\n",
       "    </tr>\n",
       "    <tr>\n",
       "      <th>72</th>\n",
       "      <td>0.912938</td>\n",
       "      <td>0.255682</td>\n",
       "    </tr>\n",
       "    <tr>\n",
       "      <th>69</th>\n",
       "      <td>0.915229</td>\n",
       "      <td>0.255072</td>\n",
       "    </tr>\n",
       "    <tr>\n",
       "      <th>70</th>\n",
       "      <td>0.914542</td>\n",
       "      <td>0.254335</td>\n",
       "    </tr>\n",
       "    <tr>\n",
       "      <th>67</th>\n",
       "      <td>0.915917</td>\n",
       "      <td>0.250729</td>\n",
       "    </tr>\n",
       "    <tr>\n",
       "      <th>...</th>\n",
       "      <td>...</td>\n",
       "      <td>...</td>\n",
       "    </tr>\n",
       "    <tr>\n",
       "      <th>3</th>\n",
       "      <td>0.994871</td>\n",
       "      <td>0.029412</td>\n",
       "    </tr>\n",
       "    <tr>\n",
       "      <th>4</th>\n",
       "      <td>0.994478</td>\n",
       "      <td>0.029197</td>\n",
       "    </tr>\n",
       "    <tr>\n",
       "      <th>2</th>\n",
       "      <td>0.998973</td>\n",
       "      <td>0.015267</td>\n",
       "    </tr>\n",
       "    <tr>\n",
       "      <th>1</th>\n",
       "      <td>0.999966</td>\n",
       "      <td>0.000000</td>\n",
       "    </tr>\n",
       "    <tr>\n",
       "      <th>0</th>\n",
       "      <td>1.999966</td>\n",
       "      <td>0.000000</td>\n",
       "    </tr>\n",
       "  </tbody>\n",
       "</table>\n",
       "<p>236 rows × 2 columns</p>\n",
       "</div>"
      ],
      "text/plain": [
       "    thresholds        f1\n",
       "71    0.913077  0.256410\n",
       "72    0.912938  0.255682\n",
       "69    0.915229  0.255072\n",
       "70    0.914542  0.254335\n",
       "67    0.915917  0.250729\n",
       "..         ...       ...\n",
       "3     0.994871  0.029412\n",
       "4     0.994478  0.029197\n",
       "2     0.998973  0.015267\n",
       "1     0.999966  0.000000\n",
       "0     1.999966  0.000000\n",
       "\n",
       "[236 rows x 2 columns]"
      ]
     },
     "execution_count": 92,
     "metadata": {},
     "output_type": "execute_result"
    }
   ],
   "source": [
    "from sklearn.metrics import f1_score\n",
    "f1_ls =[]\n",
    "for thres in thresholds:\n",
    "    y_pred = np.where(lr_probs> thres, 1,0)\n",
    "    f1_ls.append(f1_score(y_test,y_pred))\n",
    "f1_ls = pd.concat([pd.Series(thresholds),pd.Series(f1_ls)], axis=1)\n",
    "f1_ls.columns= ['thresholds', 'f1']\n",
    "f1_ls.sort_values(by='f1', ascending = False, inplace=True)\n",
    "f1_ls"
   ]
  },
  {
   "cell_type": "code",
   "execution_count": 93,
   "metadata": {},
   "outputs": [],
   "source": [
    "pred_best = model.predict_proba(X_test)[:,1]\n",
    "pred_best[pred_best>0.913] =1\n",
    "pred_best[pred_best<=0.913] =0"
   ]
  },
  {
   "cell_type": "code",
   "execution_count": 94,
   "metadata": {},
   "outputs": [
    {
     "name": "stdout",
     "output_type": "stream",
     "text": [
      "Confusion Matrix:\n",
      " [[7341  177]\n",
      " [  85   45]]\n",
      "Precision: 0.202703\n",
      "Recall: 0.346154\n",
      "F1 score: 0.255682\n",
      "Sensitivity :  0.9885537301373553\n",
      "Specificity :  0.20270270270270271\n",
      "Negative predictive Value:  0.34615384615384615\n",
      "Positive Predictive Value:  0.9764565043894653\n",
      "Geometric Mean:  0.4476410535972769\n"
     ]
    }
   ],
   "source": [
    "cm= confusion_matrix(y_test, pred_best)\n",
    "print('Confusion Matrix:\\n',cm)\n",
    "\n",
    "precision = precision_score(y_test, pred_best)\n",
    "print('Precision: %f' % precision)\n",
    "\n",
    "recall = recall_score(y_test,pred_best)\n",
    "print('Recall: %f' % recall)\n",
    "\n",
    "f1 = f1_score(y_test, pred_best)\n",
    "print('F1 score: %f' % f1)\n",
    "\n",
    "sensitivity = cm[0,0]/(cm[0,0]+cm[1,0])\n",
    "print('Sensitivity : ', sensitivity )\n",
    "\n",
    "specificity = cm[1,1]/(cm[0,1]+cm[1,1])\n",
    "print('Specificity : ', specificity)\n",
    "\n",
    "NPV = cm[1,1]/(cm[1,1]+cm[1,0])\n",
    "print('Negative predictive Value: ', NPV)\n",
    "\n",
    "PPV = cm[0,0]/(cm[0,0]+cm[0,1])\n",
    "print('Positive Predictive Value: ', PPV)\n",
    "\n",
    "import math\n",
    "gm=math.sqrt(specificity*sensitivity)\n",
    "print('Geometric Mean: ', gm)"
   ]
  }
 ],
 "metadata": {
  "kernelspec": {
   "display_name": "Python 3",
   "language": "python",
   "name": "python3"
  },
  "language_info": {
   "codemirror_mode": {
    "name": "ipython",
    "version": 3
   },
   "file_extension": ".py",
   "mimetype": "text/x-python",
   "name": "python",
   "nbconvert_exporter": "python",
   "pygments_lexer": "ipython3",
   "version": "3.9.0rc1"
  }
 },
 "nbformat": 4,
 "nbformat_minor": 4
}
