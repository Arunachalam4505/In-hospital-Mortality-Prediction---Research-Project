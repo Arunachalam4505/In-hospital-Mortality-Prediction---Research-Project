{
 "cells": [
  {
   "cell_type": "code",
   "execution_count": 2,
   "metadata": {
    "scrolled": true
   },
   "outputs": [],
   "source": [
    "import pandas as pd\n",
    "import numpy as np\n",
    "from sklearn import model_selection, ensemble, metrics\n",
    "from sklearn.metrics import confusion_matrix\n",
    "from sklearn.metrics import accuracy_score\n",
    "from sklearn.metrics import classification_report\n",
    "from sklearn.metrics import precision_recall_fscore_support as score, precision_score, recall_score, f1_score,accuracy_score\n",
    "from sklearn.metrics import precision_recall_curve,auc\n",
    "from sklearn.linear_model import LogisticRegression\n",
    "from sklearn.model_selection import train_test_split, cross_val_score\n",
    "from functools import partial\n",
    "\n",
    "from numpy import mean\n",
    "from sklearn.model_selection import cross_val_score\n",
    "import time\n",
    "from scipy.stats import uniform\n",
    "#from bayes_opt import BayesianOptimization\n",
    "from xgboost import XGBClassifier\n",
    "from hyperopt import hp, fmin, tpe\n",
    "import sklearn.tree\n",
    "from matplotlib import pyplot\n",
    "from sklearn.preprocessing import scale\n",
    "from xgboost import XGBClassifier\n",
    "from sklearn.utils import resample\n",
    "import numpy"
   ]
  },
  {
   "cell_type": "code",
   "execution_count": 3,
   "metadata": {},
   "outputs": [
    {
     "name": "stdout",
     "output_type": "stream",
     "text": [
      "C:\\Users\\hdns014\n"
     ]
    }
   ],
   "source": [
    "cd"
   ]
  },
  {
   "cell_type": "code",
   "execution_count": 5,
   "metadata": {},
   "outputs": [
    {
     "name": "stdout",
     "output_type": "stream",
     "text": [
      "C:\\\n"
     ]
    }
   ],
   "source": [
    "cd .."
   ]
  },
  {
   "cell_type": "code",
   "execution_count": 6,
   "metadata": {},
   "outputs": [
    {
     "name": "stdout",
     "output_type": "stream",
     "text": [
      "C:\\Program files\n"
     ]
    }
   ],
   "source": [
    "cd Program files"
   ]
  },
  {
   "cell_type": "code",
   "execution_count": 7,
   "metadata": {},
   "outputs": [
    {
     "name": "stdout",
     "output_type": "stream",
     "text": [
      "C:\\Program files\\Python39\n"
     ]
    }
   ],
   "source": [
    "cd Python39"
   ]
  },
  {
   "cell_type": "code",
   "execution_count": 8,
   "metadata": {},
   "outputs": [
    {
     "name": "stdout",
     "output_type": "stream",
     "text": [
      "C:\\Program files\\Python39\\notebooks\n"
     ]
    }
   ],
   "source": [
    "cd notebooks"
   ]
  },
  {
   "cell_type": "code",
   "execution_count": 9,
   "metadata": {},
   "outputs": [],
   "source": [
    "test = pd.read_csv(\"validation_p_mortality.csv\")\n",
    "train = pd.read_csv(\"derivation_p_mortality.csv\")"
   ]
  },
  {
   "cell_type": "code",
   "execution_count": 10,
   "metadata": {},
   "outputs": [],
   "source": [
    "train=train.drop(train.columns[0],axis=1)\n",
    "test=test.drop(test.columns[0],axis=1)"
   ]
  },
  {
   "cell_type": "code",
   "execution_count": 11,
   "metadata": {},
   "outputs": [],
   "source": [
    "y_train=train[train.columns[0]]\n",
    "y_test=test[test.columns[0]]\n",
    "X_train=train.drop(train.columns[0],axis=1)\n",
    "X_test=test.drop(test.columns[0],axis=1)"
   ]
  },
  {
   "cell_type": "code",
   "execution_count": 12,
   "metadata": {},
   "outputs": [],
   "source": [
    "from imblearn.pipeline import Pipeline\n",
    "from imblearn.over_sampling import RandomOverSampler, SMOTE\n",
    "from imblearn.under_sampling import RandomUnderSampler\n",
    "from sklearn.model_selection import StratifiedKFold"
   ]
  },
  {
   "cell_type": "code",
   "execution_count": null,
   "metadata": {},
   "outputs": [],
   "source": [
    "#Logistic Regression Base model\n",
    "under = RandomUnderSampler(sampling_strategy='auto')  \n",
    "lr_base = sklearn.linear_model.LogisticRegression(max_iter=10000)\n",
    "pipe = Pipeline([('u', under),('m', lr_base )])\n",
    "model= pipe.fit(X_train, y_train)\n",
    "pred = model.predict(X_test)"
   ]
  },
  {
   "cell_type": "code",
   "execution_count": 13,
   "metadata": {},
   "outputs": [
    {
     "name": "stdout",
     "output_type": "stream",
     "text": [
      "Confusion Matrix:\n",
      " [[6189 1329]\n",
      " [  21  109]]\n",
      "Precision: 0.075800\n",
      "Recall: 0.838462\n",
      "F1 score: 0.139031\n",
      "Sensitivity :  0.9966183574879227\n",
      "Specificity :  0.07579972183588317\n",
      "Negative predictive Value:  0.8384615384615385\n",
      "Positive Predictive Value:  0.8232242617717478\n",
      "Geometric Mean:  0.27485158590431913\n"
     ]
    }
   ],
   "source": [
    "cm= confusion_matrix(y_test, pred)\n",
    "print('Confusion Matrix:\\n',cm)\n",
    "\n",
    "precision = precision_score(y_test, pred)\n",
    "print('Precision: %f' % precision)\n",
    "\n",
    "recall = recall_score(y_test, pred)\n",
    "print('Recall: %f' % recall)\n",
    "\n",
    "f1 = f1_score(y_test, pred)\n",
    "print('F1 score: %f' % f1)\n",
    "\n",
    "sensitivity = cm[0,0]/(cm[0,0]+cm[1,0])\n",
    "print('Sensitivity : ', sensitivity )\n",
    "\n",
    "specificity = cm[1,1]/(cm[0,1]+cm[1,1])\n",
    "print('Specificity : ', specificity)\n",
    "\n",
    "NPV = cm[1,1]/(cm[1,1]+cm[1,0])\n",
    "print('Negative predictive Value: ', NPV)\n",
    "\n",
    "PPV = cm[0,0]/(cm[0,0]+cm[0,1])\n",
    "print('Positive Predictive Value: ', PPV)\n",
    "\n",
    "import math\n",
    "gm=math.sqrt(specificity*sensitivity)\n",
    "print('Geometric Mean: ', gm)"
   ]
  },
  {
   "cell_type": "code",
   "execution_count": 14,
   "metadata": {},
   "outputs": [
    {
     "name": "stdout",
     "output_type": "stream",
     "text": [
      "Coefficient Values: [[ 8.98450745e-01  9.50186565e-02  6.53352348e-02 -4.30912456e-03\n",
      "   2.69413247e-01  2.77728662e-01  8.56955904e-02 -7.74408987e-01\n",
      "  -3.06628751e-01  2.67910919e-01  7.93953459e-01  1.68117097e-01\n",
      "  -4.39902490e-01  2.06973686e-05 -7.04955116e-02 -9.81580862e-02\n",
      "  -3.66791590e-03  4.68304976e-02 -8.60334742e-01 -3.98801479e-01\n",
      "   6.36094472e-03 -1.46451570e-02 -2.88384088e-03 -2.96965847e-03\n",
      "   1.34838447e-02  2.42888068e-02 -2.37620481e-02  2.34607273e-03\n",
      "   8.25595781e-03  1.77288879e-03  5.88604707e-01 -3.62442575e-01\n",
      "  -3.27428134e-01 -1.76273419e+00 -1.18524836e-01  1.19725648e-01\n",
      "   3.31457449e-01 -6.01255124e-01  6.03758465e-01]]\n",
      "Intercept Model : [-4.91154385]\n"
     ]
    },
    {
     "data": {
      "text/html": [
       "<div>\n",
       "<style scoped>\n",
       "    .dataframe tbody tr th:only-of-type {\n",
       "        vertical-align: middle;\n",
       "    }\n",
       "\n",
       "    .dataframe tbody tr th {\n",
       "        vertical-align: top;\n",
       "    }\n",
       "\n",
       "    .dataframe thead th {\n",
       "        text-align: right;\n",
       "    }\n",
       "</style>\n",
       "<table border=\"1\" class=\"dataframe\">\n",
       "  <thead>\n",
       "    <tr style=\"text-align: right;\">\n",
       "      <th></th>\n",
       "      <th>Features</th>\n",
       "      <th>Ceofficients</th>\n",
       "    </tr>\n",
       "  </thead>\n",
       "  <tbody>\n",
       "    <tr>\n",
       "      <th>0</th>\n",
       "      <td>emerg_surgery</td>\n",
       "      <td>[0.8984507450529292]</td>\n",
       "    </tr>\n",
       "    <tr>\n",
       "      <th>1</th>\n",
       "      <td>female</td>\n",
       "      <td>[0.09501865649786405]</td>\n",
       "    </tr>\n",
       "    <tr>\n",
       "      <th>2</th>\n",
       "      <td>age</td>\n",
       "      <td>[0.06533523483116192]</td>\n",
       "    </tr>\n",
       "    <tr>\n",
       "      <th>3</th>\n",
       "      <td>rcri7</td>\n",
       "      <td>[-0.00430912456113592]</td>\n",
       "    </tr>\n",
       "    <tr>\n",
       "      <th>4</th>\n",
       "      <td>pimr2</td>\n",
       "      <td>[0.26941324710800585]</td>\n",
       "    </tr>\n",
       "    <tr>\n",
       "      <th>5</th>\n",
       "      <td>eci32</td>\n",
       "      <td>[0.2777286615559684]</td>\n",
       "    </tr>\n",
       "    <tr>\n",
       "      <th>6</th>\n",
       "      <td>hfrs</td>\n",
       "      <td>[0.08569559035720886]</td>\n",
       "    </tr>\n",
       "    <tr>\n",
       "      <th>7</th>\n",
       "      <td>obesity_total</td>\n",
       "      <td>[-0.7744089872081621]</td>\n",
       "    </tr>\n",
       "    <tr>\n",
       "      <th>8</th>\n",
       "      <td>hypertension</td>\n",
       "      <td>[-0.306628750514829]</td>\n",
       "    </tr>\n",
       "    <tr>\n",
       "      <th>9</th>\n",
       "      <td>copd</td>\n",
       "      <td>[0.2679109194854758]</td>\n",
       "    </tr>\n",
       "    <tr>\n",
       "      <th>10</th>\n",
       "      <td>general</td>\n",
       "      <td>[0.7939534590690506]</td>\n",
       "    </tr>\n",
       "    <tr>\n",
       "      <th>11</th>\n",
       "      <td>neuraxial</td>\n",
       "      <td>[0.16811709745495385]</td>\n",
       "    </tr>\n",
       "    <tr>\n",
       "      <th>12</th>\n",
       "      <td>peripheral</td>\n",
       "      <td>[-0.43990249019934147]</td>\n",
       "    </tr>\n",
       "    <tr>\n",
       "      <th>13</th>\n",
       "      <td>crystalloid</td>\n",
       "      <td>[2.0697368581841235e-05]</td>\n",
       "    </tr>\n",
       "    <tr>\n",
       "      <th>14</th>\n",
       "      <td>vasoinoused</td>\n",
       "      <td>[-0.07049551164569941]</td>\n",
       "    </tr>\n",
       "    <tr>\n",
       "      <th>15</th>\n",
       "      <td>vasodilatorused</td>\n",
       "      <td>[-0.0981580861595363]</td>\n",
       "    </tr>\n",
       "    <tr>\n",
       "      <th>16</th>\n",
       "      <td>surgeryduration</td>\n",
       "      <td>[-0.003667915901705103]</td>\n",
       "    </tr>\n",
       "    <tr>\n",
       "      <th>17</th>\n",
       "      <td>lap_actual</td>\n",
       "      <td>[0.04683049761621268]</td>\n",
       "    </tr>\n",
       "    <tr>\n",
       "      <th>18</th>\n",
       "      <td>mac_adjusted_general</td>\n",
       "      <td>[-0.8603347416906378]</td>\n",
       "    </tr>\n",
       "    <tr>\n",
       "      <th>19</th>\n",
       "      <td>sbp_maxdelta_rel_innov</td>\n",
       "      <td>[-0.3988014793936593]</td>\n",
       "    </tr>\n",
       "    <tr>\n",
       "      <th>20</th>\n",
       "      <td>map_total_70</td>\n",
       "      <td>[0.006360944718519722]</td>\n",
       "    </tr>\n",
       "    <tr>\n",
       "      <th>21</th>\n",
       "      <td>hr_max_pos_abs_innov</td>\n",
       "      <td>[-0.01464515703050682]</td>\n",
       "    </tr>\n",
       "    <tr>\n",
       "      <th>22</th>\n",
       "      <td>hr_max_neg_abs_innov</td>\n",
       "      <td>[-0.0028838408828528927]</td>\n",
       "    </tr>\n",
       "    <tr>\n",
       "      <th>23</th>\n",
       "      <td>hr_total_60</td>\n",
       "      <td>[-0.002969658469754671]</td>\n",
       "    </tr>\n",
       "    <tr>\n",
       "      <th>24</th>\n",
       "      <td>hr_total_100</td>\n",
       "      <td>[0.013483844656504379]</td>\n",
       "    </tr>\n",
       "    <tr>\n",
       "      <th>25</th>\n",
       "      <td>spo2_total_88</td>\n",
       "      <td>[0.024288806834699722]</td>\n",
       "    </tr>\n",
       "    <tr>\n",
       "      <th>26</th>\n",
       "      <td>tempabove_38</td>\n",
       "      <td>[-0.023762048062072282]</td>\n",
       "    </tr>\n",
       "    <tr>\n",
       "      <th>27</th>\n",
       "      <td>tempbelow_36</td>\n",
       "      <td>[0.002346072733302882]</td>\n",
       "    </tr>\n",
       "    <tr>\n",
       "      <th>28</th>\n",
       "      <td>etco2_total_30_General</td>\n",
       "      <td>[0.008255957812104676]</td>\n",
       "    </tr>\n",
       "    <tr>\n",
       "      <th>29</th>\n",
       "      <td>etco2_total_45_General</td>\n",
       "      <td>[0.0017728887867349]</td>\n",
       "    </tr>\n",
       "    <tr>\n",
       "      <th>30</th>\n",
       "      <td>proc_neuro</td>\n",
       "      <td>[0.5886047067333228]</td>\n",
       "    </tr>\n",
       "    <tr>\n",
       "      <th>31</th>\n",
       "      <td>proc_gyne</td>\n",
       "      <td>[-0.36244257530267054]</td>\n",
       "    </tr>\n",
       "    <tr>\n",
       "      <th>32</th>\n",
       "      <td>proc_ortho</td>\n",
       "      <td>[-0.32742813402337895]</td>\n",
       "    </tr>\n",
       "    <tr>\n",
       "      <th>33</th>\n",
       "      <td>proc_other</td>\n",
       "      <td>[-1.7627341901347433]</td>\n",
       "    </tr>\n",
       "    <tr>\n",
       "      <th>34</th>\n",
       "      <td>proc_otol</td>\n",
       "      <td>[-0.11852483563070973]</td>\n",
       "    </tr>\n",
       "    <tr>\n",
       "      <th>35</th>\n",
       "      <td>proc_plas</td>\n",
       "      <td>[0.11972564761683156]</td>\n",
       "    </tr>\n",
       "    <tr>\n",
       "      <th>36</th>\n",
       "      <td>proc_thor</td>\n",
       "      <td>[0.3314574485104146]</td>\n",
       "    </tr>\n",
       "    <tr>\n",
       "      <th>37</th>\n",
       "      <td>proc_uro</td>\n",
       "      <td>[-0.6012551238094729]</td>\n",
       "    </tr>\n",
       "    <tr>\n",
       "      <th>38</th>\n",
       "      <td>proc_vasc</td>\n",
       "      <td>[0.6037584648658839]</td>\n",
       "    </tr>\n",
       "  </tbody>\n",
       "</table>\n",
       "</div>"
      ],
      "text/plain": [
       "                  Features              Ceofficients\n",
       "0            emerg_surgery      [0.8984507450529292]\n",
       "1                   female     [0.09501865649786405]\n",
       "2                      age     [0.06533523483116192]\n",
       "3                    rcri7    [-0.00430912456113592]\n",
       "4                    pimr2     [0.26941324710800585]\n",
       "5                    eci32      [0.2777286615559684]\n",
       "6                     hfrs     [0.08569559035720886]\n",
       "7            obesity_total     [-0.7744089872081621]\n",
       "8             hypertension      [-0.306628750514829]\n",
       "9                     copd      [0.2679109194854758]\n",
       "10                 general      [0.7939534590690506]\n",
       "11               neuraxial     [0.16811709745495385]\n",
       "12              peripheral    [-0.43990249019934147]\n",
       "13             crystalloid  [2.0697368581841235e-05]\n",
       "14             vasoinoused    [-0.07049551164569941]\n",
       "15         vasodilatorused     [-0.0981580861595363]\n",
       "16         surgeryduration   [-0.003667915901705103]\n",
       "17              lap_actual     [0.04683049761621268]\n",
       "18    mac_adjusted_general     [-0.8603347416906378]\n",
       "19  sbp_maxdelta_rel_innov     [-0.3988014793936593]\n",
       "20            map_total_70    [0.006360944718519722]\n",
       "21    hr_max_pos_abs_innov    [-0.01464515703050682]\n",
       "22    hr_max_neg_abs_innov  [-0.0028838408828528927]\n",
       "23             hr_total_60   [-0.002969658469754671]\n",
       "24            hr_total_100    [0.013483844656504379]\n",
       "25           spo2_total_88    [0.024288806834699722]\n",
       "26            tempabove_38   [-0.023762048062072282]\n",
       "27            tempbelow_36    [0.002346072733302882]\n",
       "28  etco2_total_30_General    [0.008255957812104676]\n",
       "29  etco2_total_45_General      [0.0017728887867349]\n",
       "30              proc_neuro      [0.5886047067333228]\n",
       "31               proc_gyne    [-0.36244257530267054]\n",
       "32              proc_ortho    [-0.32742813402337895]\n",
       "33              proc_other     [-1.7627341901347433]\n",
       "34               proc_otol    [-0.11852483563070973]\n",
       "35               proc_plas     [0.11972564761683156]\n",
       "36               proc_thor      [0.3314574485104146]\n",
       "37                proc_uro     [-0.6012551238094729]\n",
       "38               proc_vasc      [0.6037584648658839]"
      ]
     },
     "execution_count": 14,
     "metadata": {},
     "output_type": "execute_result"
    }
   ],
   "source": [
    "print('Coefficient Values:',pipe['m'].coef_)\n",
    "print('Intercept Model :',pipe['m'].intercept_)\n",
    "pd.DataFrame(zip(X_train.columns,np.transpose(pipe['m'].coef_)),columns=['Features','Ceofficients'])"
   ]
  },
  {
   "cell_type": "code",
   "execution_count": 15,
   "metadata": {},
   "outputs": [
    {
     "name": "stdout",
     "output_type": "stream",
     "text": [
      "Random chance= 0.500000\n",
      "AUCROC Value = 0.895272\n",
      "AUC:PrecisionRecall=0.157\n"
     ]
    },
    {
     "data": {
      "image/png": "[encoded data removed]",
      "text/plain": [
       "<Figure size 432x288 with 1 Axes>"
      ]
     },
     "metadata": {
      "needs_background": "light"
     },
     "output_type": "display_data"
    },
    {
     "data": {
      "image/png": "[encoded data removed]",
      "text/plain": [
       "<Figure size 432x288 with 1 Axes>"
      ]
     },
     "metadata": {
      "needs_background": "light"
     },
     "output_type": "display_data"
    }
   ],
   "source": [
    "r_probs=[0 for _ in range(len(y_test))]\n",
    "lr_probs=model.predict_proba(X_test)\n",
    "lr_probs=lr_probs[:,1]\n",
    "    \n",
    "from sklearn.metrics import roc_curve, roc_auc_score\n",
    "r_auc=roc_auc_score(y_test,r_probs)\n",
    "lr_auc =roc_auc_score(y_test,lr_probs)\n",
    "print('Random chance= %3f'%(r_auc))\n",
    "print('AUCROC Value = %4f'%(lr_auc))\n",
    "\n",
    "     \n",
    "lr_precision, lr_recall, _ = precision_recall_curve(y_test, lr_probs,pos_label=1)\n",
    "lr_aucprc=auc(lr_recall, lr_precision)\n",
    "print('AUC:PrecisionRecall=%.3f' % (lr_aucprc))\n",
    "\n",
    "r_fpr, r_tpr, thresholds = metrics.roc_curve(y_test, r_probs, pos_label=1)\n",
    "lr_fpr, lr_tpr, thresholds = metrics.roc_curve(y_test, lr_probs, pos_label=1)\n",
    "\n",
    "#ROC CURVE PLOT\n",
    "import matplotlib.pyplot as plt\n",
    "plt.plot(r_fpr,r_tpr,linestyle='--',label='Random prediction(AUCROC=%0.3f)'%r_auc)\n",
    "plt.plot(lr_fpr,lr_tpr,linestyle='--',label='Random prediction(AUCROC=%0.3f)'%lr_auc)\n",
    "plt.title('ROC PLOT - LR BASE')\n",
    "plt.xlabel('FALSE POSITIVE RATE')\n",
    "plt.ylabel('TRUE POSITIVE RATE')\n",
    "plt.legend()\n",
    "#save\n",
    "plt.savefig('lr_base_plot1.png', dpi=300, bbox_inches='tight')\n",
    "    # show the plot\n",
    "plt.show()\n",
    "\n",
    "#PRECISION RECALL PLOT\n",
    "    \n",
    "plt.plot(lr_recall, lr_precision, linestyle='--', label='Random prediction(AUCPRC=%0.3f)'%lr_aucprc)\n",
    "plt.xlabel('RECALL')\n",
    "plt.ylabel('PRECISION')\n",
    "plt.legend()\n",
    "plt.title('PRC PLOT - LR BASE')\n",
    "#save\n",
    "plt.savefig('lr_base_plot2.png', dpi=300, bbox_inches='tight')\n",
    "    # show the plot\n",
    "plt.show()\n",
    "\n"
   ]
  },
  {
   "cell_type": "code",
   "execution_count": 16,
   "metadata": {},
   "outputs": [
    {
     "data": {
      "image/png": "[encoded data removed]",
      "text/plain": [
       "<Figure size 432x288 with 1 Axes>"
      ]
     },
     "metadata": {
      "needs_background": "light"
     },
     "output_type": "display_data"
    }
   ],
   "source": [
    "from sklearn.calibration import calibration_curve\n",
    "lr_probs=model.predict_proba(X_test)\n",
    "lr_probs=lr_probs[:,1]\n",
    "\n",
    "x,y= calibration_curve(y_test,lr_probs, n_bins=50)\n",
    "plt.plot([0,1],[0,1], linestyle='--', label='Ideally Calibrated')\n",
    "plt.plot(y,x, marker='o', linewidth=1, label='lr')\n",
    "leg= plt.legend(loc='upper left')\n",
    "plt.xlabel('average predicted probabilty in each bin')\n",
    "plt.ylabel('Ratio of Positives')\n",
    "plt.savefig('lr_base_calibration1.png', dpi=300, bbox_inches='tight')\n",
    "plt.show()"
   ]
  },
  {
   "cell_type": "code",
   "execution_count": 17,
   "metadata": {},
   "outputs": [],
   "source": [
    "#saving the file\n",
    "lr_probs=model.predict_proba(X_test)\n",
    "lr_pos=lr_probs[:,1]\n",
    "lr_neg=lr_probs[:,0]\n",
    "pd.DataFrame({'Actual': y_test,'Pred_LR': pred, 'PredProb_1_LR_base': lr_pos,'PredProb_0_LR_base':lr_neg}).to_csv('lr_base.csv', index=False)"
   ]
  },
  {
   "cell_type": "code",
   "execution_count": 18,
   "metadata": {},
   "outputs": [],
   "source": [
    "#apparent train\n",
    "pred1 = model.predict(X_train)"
   ]
  },
  {
   "cell_type": "code",
   "execution_count": 19,
   "metadata": {},
   "outputs": [
    {
     "name": "stdout",
     "output_type": "stream",
     "text": [
      "Random chance= 0.500000\n",
      "AUCROC Value = 0.883738\n",
      "AUC:PrecisionRecall=0.145\n"
     ]
    },
    {
     "data": {
      "image/png": "[encoded data removed]",
      "text/plain": [
       "<Figure size 432x288 with 1 Axes>"
      ]
     },
     "metadata": {
      "needs_background": "light"
     },
     "output_type": "display_data"
    },
    {
     "data": {
      "image/png": "[encoded data removed]",
      "text/plain": [
       "<Figure size 432x288 with 1 Axes>"
      ]
     },
     "metadata": {
      "needs_background": "light"
     },
     "output_type": "display_data"
    }
   ],
   "source": [
    "# print AUC_ROC for apparent train\n",
    "\n",
    "r_probs=[0 for _ in range(len(y_train))]\n",
    "lr_probs1=model.predict_proba(X_train)\n",
    "lr_probs1=lr_probs1[:,1]\n",
    "    \n",
    "from sklearn.metrics import roc_curve, roc_auc_score\n",
    "r_auc=roc_auc_score(y_train,r_probs)\n",
    "lr_auc =roc_auc_score(y_train,lr_probs1)\n",
    "print('Random chance= %3f'%(r_auc))\n",
    "print('AUCROC Value = %4f'%(lr_auc))\n",
    "\n",
    "     \n",
    "lr_precision, lr_recall, _ = precision_recall_curve(y_train, lr_probs1,pos_label=1)\n",
    "lr_aucprc=auc(lr_recall, lr_precision)\n",
    "print('AUC:PrecisionRecall=%.3f' % (lr_aucprc))\n",
    "\n",
    "r_fpr, r_tpr, thresholds = metrics.roc_curve(y_train, r_probs, pos_label=1)\n",
    "lr_fpr, lr_tpr, thresholds = metrics.roc_curve(y_train, lr_probs1, pos_label=1)\n",
    "\n",
    "#ROC CURVE PLOT\n",
    "import matplotlib.pyplot as plt\n",
    "plt.plot(r_fpr,r_tpr,linestyle='--',label='Random prediction(AUCROC=%0.3f)'%r_auc)\n",
    "plt.plot(lr_fpr,lr_tpr,linestyle='--',label='Random prediction(AUCROC=%0.3f)'%lr_auc)\n",
    "plt.title(' APPARENT -ROC PLOT')\n",
    "plt.xlabel('FALSE POSITIVE RATE')\n",
    "plt.ylabel('TRUE POSITIVE RATE')\n",
    "plt.legend()\n",
    "#save\n",
    "plt.savefig('lr_base_apparent1.png', dpi=300, bbox_inches='tight')\n",
    "    # show the plot\n",
    "plt.show()\n",
    "\n",
    "#PRECISION RECALL PLOT\n",
    "    \n",
    "plt.plot(lr_recall, lr_precision, linestyle='--', label='Random prediction(AUCPRC=%0.3f)'%lr_aucprc)\n",
    "plt.xlabel('RECALL')\n",
    "plt.ylabel('PRECISION')\n",
    "plt.legend()\n",
    "plt.title('APPARENT - PRC PLOT')\n",
    "#save\n",
    "plt.savefig('lr_base_apparent2.png', dpi=300, bbox_inches='tight')\n",
    "    # show the plot\n",
    "plt.show()"
   ]
  },
  {
   "cell_type": "code",
   "execution_count": 20,
   "metadata": {},
   "outputs": [
    {
     "data": {
      "image/png": "[encoded data removed]",
      "text/plain": [
       "<Figure size 432x288 with 1 Axes>"
      ]
     },
     "metadata": {
      "needs_background": "light"
     },
     "output_type": "display_data"
    }
   ],
   "source": [
    "from sklearn.calibration import calibration_curve\n",
    "lr_probs=model.predict_proba(X_train)\n",
    "lr_probs=lr_probs[:,1]\n",
    "\n",
    "x,y= calibration_curve(y_train,lr_probs, n_bins=50)\n",
    "plt.plot([0,1],[0,1], linestyle='--', label='Ideally Calibrated')\n",
    "plt.plot(y,x, marker='o', linewidth=1, label='lr')\n",
    "leg= plt.legend(loc='upper left')\n",
    "plt.xlabel('average predicted probabilty in each bin')\n",
    "plt.ylabel('Ratio of Positives')\n",
    "plt.savefig('lr_base_calibration2.png', dpi=300, bbox_inches='tight')\n",
    "plt.show()"
   ]
  },
  {
   "cell_type": "code",
   "execution_count": 21,
   "metadata": {},
   "outputs": [
    {
     "name": "stdout",
     "output_type": "stream",
     "text": [
      "Apparent - Confusion Matrix:\n",
      " [[17376  5076]\n",
      " [   75   416]]\n",
      "Apparent - Precision: 0.075747\n",
      "Apparent  - Recall: 0.847251\n",
      "Apparent - F1 score: 0.139061\n",
      "Apparent - Sensitivity :  0.9957022520199416\n",
      "Apparent  - Specificity :  0.07574654042243263\n",
      "Apparent  - Negative predictive Value:  0.8472505091649695\n",
      "Apparent  - Positive Predictive Value:  0.7739176910742919\n",
      "Apparent  - Geometric Mean:  0.27462884204201077\n"
     ]
    }
   ],
   "source": [
    "cm1 = confusion_matrix(y_train, pred1)\n",
    "print('Apparent - Confusion Matrix:\\n',cm1)\n",
    "\n",
    "precision = precision_score(y_train, pred1)\n",
    "print('Apparent - Precision: %f' % precision)\n",
    "\n",
    "recall = recall_score(y_train, pred1)\n",
    "print('Apparent  - Recall: %f' % recall)\n",
    "\n",
    "f1 = f1_score(y_train, pred1)\n",
    "print('Apparent - F1 score: %f' % f1)\n",
    "\n",
    "sensitivity1 = cm1[0,0]/(cm1[0,0]+cm1[1,0])\n",
    "print('Apparent - Sensitivity : ', sensitivity1 )\n",
    "\n",
    "specificity1= cm1[1,1]/(cm1[0,1]+cm1[1,1])\n",
    "print('Apparent  - Specificity : ', specificity1)\n",
    "\n",
    "NPV = cm1[1,1]/(cm1[1,1]+cm1[1,0])\n",
    "print('Apparent  - Negative predictive Value: ', NPV)\n",
    "\n",
    "PPV = cm1[0,0]/(cm1[0,0]+cm1[0,1])\n",
    "print('Apparent  - Positive Predictive Value: ', PPV)\n",
    "\n",
    "import math\n",
    "gm1=math.sqrt(specificity1*sensitivity1)\n",
    "print('Apparent  - Geometric Mean: ', gm1)"
   ]
  },
  {
   "cell_type": "code",
   "execution_count": 22,
   "metadata": {},
   "outputs": [],
   "source": [
    "#saving file\n",
    "\n",
    "lr_probs1=model.predict_proba(X_train)\n",
    "lr_pos1=lr_probs1[:,1]\n",
    "lr_neg1=lr_probs1[:,0]\n",
    "pd.DataFrame({'Actual': y_train,'Pred_LR': pred1, 'PredProb_1_LR_base': lr_pos1,'PredProb_0_LR_base':lr_neg1}).to_csv('lr_base_apparent.csv', index=False)"
   ]
  },
  {
   "cell_type": "code",
   "execution_count": 14,
   "metadata": {},
   "outputs": [],
   "source": [
    "#Scaling data\n",
    "scaler=sklearn.preprocessing.StandardScaler().fit(X_train)\n",
    "X_train=scaler.transform(X_train)\n",
    "X_test=scaler.transform(X_test)\n"
   ]
  },
  {
   "cell_type": "code",
   "execution_count": 24,
   "metadata": {},
   "outputs": [],
   "source": [
    "from imblearn.pipeline import Pipeline\n",
    "from imblearn.over_sampling import RandomOverSampler, SMOTE\n",
    "from imblearn.under_sampling import RandomUnderSampler\n",
    "from sklearn.model_selection import StratifiedKFold"
   ]
  },
  {
   "cell_type": "code",
   "execution_count": 25,
   "metadata": {},
   "outputs": [
    {
     "name": "stdout",
     "output_type": "stream",
     "text": [
      "100%|███████████████████████████| 24/24 [00:02<00:00,  9.90trial/s, best loss: 0.21602144053931183]\n",
      "It takes 0.04060240983963013 minutes\n",
      "Decision Tree Best Parameters {'criterion': 0, 'max_depth': 43, 'max_features': 0, 'min_samples_leaf': 1, 'sampling_strategy': 0.1}\n"
     ]
    }
   ],
   "source": [
    "start = time.time()\n",
    "space_lr ={\n",
    "        'max_depth': hp.randint('max_depth', 5, 70),\n",
    "        'max_features': hp.choice('max_features', ['sqrt', 'log2']),\n",
    "        'criterion': hp.choice('criterion', [\"gini\", \"entropy\"]),\n",
    "             'min_samples_leaf': hp.choice('min_samples_leaf',[1,100,200,300,400,500]),\n",
    "'sampling_strategy':hp.quniform('sampling_strategy',0.1,0.9,0.1)}\n",
    "\n",
    "def dt(params):\n",
    "    params = {'max_depth': params['max_depth'],\n",
    "                  'min_samples_leaf': params['min_samples_leaf'],\n",
    "                  'criterion': params['criterion'],\n",
    "                 'max_features': params['max_features'],\n",
    "             'sampling_strategy' : params['sampling_strategy']}\n",
    "\n",
    "\n",
    "    dt_bo = sklearn.tree.DecisionTreeClassifier (random_state=42,max_depth=params['max_depth'], min_samples_leaf= params['min_samples_leaf'], criterion=params['criterion'],max_features=params['max_features'])\n",
    "    cv= StratifiedKFold(n_splits=5,random_state=42,shuffle=True)\n",
    "    over = RandomUnderSampler(random_state=42,sampling_strategy=params['sampling_strategy'])\n",
    "    pipe = Pipeline([('o', over),('m', dt_bo)])\n",
    "    best_score = cross_val_score(pipe, X_train, y_train, scoring='roc_auc', cv=cv).mean()\n",
    "    return 1-best_score\n",
    "    \n",
    "dt_best_param = fmin(fn=dt,\n",
    "                    space=space_lr,\n",
    "                    max_evals=24,\n",
    "                    rstate=np.random.RandomState(42),\n",
    "                    algo=tpe.suggest)\n",
    "print('It takes %s minutes' % ((time.time() - start)/60))\n",
    "print('Decision Tree Best Parameters',dt_best_param)\n",
    "    "
   ]
  },
  {
   "cell_type": "code",
   "execution_count": 26,
   "metadata": {},
   "outputs": [],
   "source": [
    "param_values = [x for x in dt_best_param.values()]\n",
    "\n",
    "if param_values[2] ==1:\n",
    "    max_features = 'log2'\n",
    "else:\n",
    "    max_features ='sqrt'\n",
    "\n",
    "if param_values[0] == 1:\n",
    "    criterion = 'entropy'\n",
    "else:\n",
    "    criterion= 'gini'\n",
    "        \n",
    "\n",
    "\n",
    "under = RandomUnderSampler(random_state=42,sampling_strategy=param_values[4])\n",
    "dt_best =sklearn.tree.DecisionTreeClassifier(random_state=42,\n",
    "    criterion=criterion,\n",
    "     max_depth= param_values[1],\n",
    "    min_samples_leaf= param_values[3],\n",
    "    max_features=max_features)\n",
    "\n",
    "                                   \n",
    "pipe = Pipeline([('u', under),('m', dt_best)])  \n",
    "model= pipe.fit(X_train, y_train)\n",
    "pred = model.predict(X_test)"
   ]
  },
  {
   "cell_type": "code",
   "execution_count": 27,
   "metadata": {},
   "outputs": [
    {
     "name": "stdout",
     "output_type": "stream",
     "text": [
      "Confusion Matrix:\n",
      " [[7029  489]\n",
      " [  90   40]]\n",
      "Precision: 0.075614\n",
      "Recall: 0.307692\n",
      "F1 score: 0.121396\n",
      "Sensitivity :  0.9873577749683944\n",
      "Specificity :  0.07561436672967864\n",
      "Negative predictive Value:  0.3076923076923077\n",
      "Positive Predictive Value:  0.9349561053471668\n",
      "Geometric Mean:  0.27323695374136286\n"
     ]
    }
   ],
   "source": [
    "cm= confusion_matrix(y_test, pred)\n",
    "print('Confusion Matrix:\\n',cm)\n",
    "\n",
    "precision = precision_score(y_test, pred)\n",
    "print('Precision: %f' % precision)\n",
    "\n",
    "recall = recall_score(y_test, pred)\n",
    "print('Recall: %f' % recall)\n",
    "\n",
    "f1 = f1_score(y_test, pred)\n",
    "print('F1 score: %f' % f1)\n",
    "\n",
    "sensitivity = cm[0,0]/(cm[0,0]+cm[1,0])\n",
    "print('Sensitivity : ', sensitivity )\n",
    "\n",
    "specificity = cm[1,1]/(cm[0,1]+cm[1,1])\n",
    "print('Specificity : ', specificity)\n",
    "\n",
    "NPV = cm[1,1]/(cm[1,1]+cm[1,0])\n",
    "print('Negative predictive Value: ', NPV)\n",
    "\n",
    "PPV = cm[0,0]/(cm[0,0]+cm[0,1])\n",
    "print('Positive Predictive Value: ', PPV)\n",
    "\n",
    "import math\n",
    "gm=math.sqrt(specificity*sensitivity)\n",
    "print('Geometric Mean: ', gm)"
   ]
  },
  {
   "cell_type": "code",
   "execution_count": 28,
   "metadata": {},
   "outputs": [
    {
     "name": "stdout",
     "output_type": "stream",
     "text": [
      "Random chance= 0.500000\n",
      "AUCROC Value = 0.621324\n",
      "AUC:PrecisionRecall Value =0.198\n"
     ]
    },
    {
     "data": {
      "image/png": "[encoded data removed]",
      "text/plain": [
       "<Figure size 432x288 with 1 Axes>"
      ]
     },
     "metadata": {
      "needs_background": "light"
     },
     "output_type": "display_data"
    },
    {
     "data": {
      "image/png": "[encoded data removed]",
      "text/plain": [
       "<Figure size 432x288 with 1 Axes>"
      ]
     },
     "metadata": {
      "needs_background": "light"
     },
     "output_type": "display_data"
    }
   ],
   "source": [
    "r_probs=[0 for _ in range(len(y_test))]\n",
    "dt_probs=model.predict_proba(X_test)\n",
    "dt_probs=dt_probs[:,1]\n",
    "from sklearn.metrics import roc_curve, roc_auc_score\n",
    "r_auc=roc_auc_score(y_test,r_probs)\n",
    "dt_auc =roc_auc_score(y_test,dt_probs)\n",
    "print('Random chance= %3f'%(r_auc))\n",
    "print('AUCROC Value = %4f'%(dt_auc))\n",
    "\n",
    "dt_precision, dt_recall, _ = precision_recall_curve(y_test, dt_probs,pos_label=1)\n",
    "dt_aucprc=auc(dt_recall, dt_precision)\n",
    "print('AUC:PrecisionRecall Value =%.3f' % (dt_aucprc))\n",
    "    \n",
    "r_fpr, r_tpr, thresholds = metrics.roc_curve(y_test, r_probs, pos_label=1)\n",
    "dt_fpr, dt_tpr, thresholds = metrics.roc_curve(y_test, dt_probs, pos_label=1)\n",
    "\n",
    "    #ROC PLOT\n",
    "import matplotlib.pyplot as plt\n",
    "plt.plot(r_fpr,r_tpr,linestyle='--',label='Random prediction(AUCROC=%0.3f)'%r_auc)\n",
    "plt.plot(dt_fpr,dt_tpr,linestyle='--',label='Random prediction(AUCROC=%0.3f)'%dt_auc)\n",
    "plt.title('ROC PLOT - DT ')\n",
    "plt.xlabel('FALSE POSITIVE RATE')\n",
    "plt.ylabel('TRUE POSITIVE RATE')\n",
    "plt.legend()\n",
    "plt.savefig('DT_plot1.png', dpi=300, bbox_inches='tight')\n",
    "plt.show()\n",
    "    \n",
    "    #PRC Plot\n",
    "    \n",
    "plt.plot(dt_recall, dt_precision, linestyle='--', label='Random prediction(AUCPRC=%0.3f)'%dt_aucprc)\n",
    "plt.xlabel('RECALL')\n",
    "plt.ylabel('PRECISION')\n",
    "plt.title('PRC PLOT - DT')\n",
    "plt.legend()\n",
    "plt.savefig('DT_plot2.png', dpi=300, bbox_inches='tight')\n",
    "plt.show()"
   ]
  },
  {
   "cell_type": "code",
   "execution_count": 29,
   "metadata": {},
   "outputs": [
    {
     "data": {
      "image/png": "[encoded data removed]",
      "text/plain": [
       "<Figure size 432x288 with 1 Axes>"
      ]
     },
     "metadata": {
      "needs_background": "light"
     },
     "output_type": "display_data"
    }
   ],
   "source": [
    "from sklearn.calibration import calibration_curve\n",
    "dt_probs=model.predict_proba(X_test)\n",
    "dt_probs=dt_probs[:,1]\n",
    "\n",
    "x,y= calibration_curve(y_test,dt_probs, n_bins=50)\n",
    "plt.plot([0,1],[0,1], linestyle='--', label='Ideally Calibrated')\n",
    "plt.plot(y,x, marker='o', linewidth=1, label='dt')\n",
    "leg= plt.legend(loc='upper left')\n",
    "plt.xlabel('average predicted probabilty in each bin')\n",
    "plt.ylabel('Ratio of Positives')\n",
    "plt.savefig('DT_calibration1.png', dpi=300, bbox_inches='tight')\n",
    "plt.show()"
   ]
  },
  {
   "cell_type": "code",
   "execution_count": 30,
   "metadata": {},
   "outputs": [],
   "source": [
    "#saving file\n",
    "dt_probs=model.predict_proba(X_test)\n",
    "dt_pos=dt_probs[:,1]\n",
    "dt_neg=dt_probs[:,0]\n",
    "pd.DataFrame({'Actual': y_test,'Pred_DT': pred, 'PredProb_1_DT': dt_pos,'PredProb_0_DT':dt_neg}).to_csv('dt.csv', index=False)"
   ]
  },
  {
   "cell_type": "code",
   "execution_count": 31,
   "metadata": {},
   "outputs": [],
   "source": [
    "pred1 = model.predict(X_train)"
   ]
  },
  {
   "cell_type": "code",
   "execution_count": 32,
   "metadata": {},
   "outputs": [
    {
     "name": "stdout",
     "output_type": "stream",
     "text": [
      "Random chance= 0.500000\n",
      "AUCROC Value = 0.968288\n",
      "AUC:PrecisionRecall Value =0.628\n"
     ]
    },
    {
     "data": {
      "image/png": "[encoded data removed]",
      "text/plain": [
       "<Figure size 432x288 with 1 Axes>"
      ]
     },
     "metadata": {
      "needs_background": "light"
     },
     "output_type": "display_data"
    },
    {
     "data": {
      "image/png": "[encoded data removed]",
      "text/plain": [
       "<Figure size 432x288 with 1 Axes>"
      ]
     },
     "metadata": {
      "needs_background": "light"
     },
     "output_type": "display_data"
    }
   ],
   "source": [
    "r_probs=[0 for _ in range(len(y_train))]\n",
    "dt_probs1=model.predict_proba(X_train)\n",
    "dt_probs1=dt_probs1[:,1]\n",
    "from sklearn.metrics import roc_curve, roc_auc_score\n",
    "r_auc=roc_auc_score(y_train,r_probs)\n",
    "dt_auc =roc_auc_score(y_train,dt_probs1)\n",
    "print('Random chance= %3f'%(r_auc))\n",
    "print('AUCROC Value = %4f'%(dt_auc))\n",
    "\n",
    "dt_precision, dt_recall, _ = precision_recall_curve(y_train, dt_probs1,pos_label=1)\n",
    "dt_aucprc=auc(dt_recall, dt_precision)\n",
    "print('AUC:PrecisionRecall Value =%.3f' % (dt_aucprc))\n",
    "    \n",
    "r_fpr, r_tpr, thresholds = metrics.roc_curve(y_train, r_probs, pos_label=1)\n",
    "dt_fpr, dt_tpr, thresholds = metrics.roc_curve(y_train, dt_probs1, pos_label=1)\n",
    "\n",
    "    #ROC PLOT\n",
    "import matplotlib.pyplot as plt\n",
    "plt.plot(r_fpr,r_tpr,linestyle='--',label='Random prediction(AUCROC=%0.3f)'%r_auc)\n",
    "plt.plot(dt_fpr,dt_tpr,linestyle='--',label='Random prediction(AUCROC=%0.3f)'%dt_auc)\n",
    "plt.title('APPARENT - ROC PLOT - DT')\n",
    "plt.xlabel('FALSE POSITIVE RATE')\n",
    "plt.ylabel('TRUE POSITIVE RATE')\n",
    "plt.legend()\n",
    "plt.savefig('DT_apparent1.png', dpi=300, bbox_inches='tight')\n",
    "plt.show()\n",
    "    \n",
    "    #PRC Plot\n",
    "    \n",
    "plt.plot(dt_recall, dt_precision, linestyle='--', label='Random prediction(AUCPRC=%0.3f)'%dt_aucprc)\n",
    "plt.xlabel('RECALL')\n",
    "plt.ylabel('PRECISION')\n",
    "plt.title('APPARENT - PRC PLOT- DT')\n",
    "plt.legend()\n",
    "plt.savefig('DT_apparent2.png', dpi=300, bbox_inches='tight')\n",
    "plt.show()"
   ]
  },
  {
   "cell_type": "code",
   "execution_count": 33,
   "metadata": {},
   "outputs": [
    {
     "data": {
      "image/png": "[encoded data removed]",
      "text/plain": [
       "<Figure size 432x288 with 1 Axes>"
      ]
     },
     "metadata": {
      "needs_background": "light"
     },
     "output_type": "display_data"
    }
   ],
   "source": [
    "from sklearn.calibration import calibration_curve\n",
    "dt_probs1=model.predict_proba(X_train)\n",
    "dt_probs1=dt_probs1[:,1]\n",
    "x,y= calibration_curve(y_train,dt_probs1, n_bins=50)\n",
    "plt.plot([0,1],[0,1], linestyle='--', label='Ideally Calibrated')\n",
    "plt.plot(y,x, marker='o', linewidth=1, label='dt')\n",
    "leg= plt.legend(loc='upper left')\n",
    "plt.xlabel('average predicted probabilty in each bin')\n",
    "plt.ylabel('Ratio of Positives')\n",
    "plt.savefig('DT_calibration2.png', dpi=300, bbox_inches='tight')\n",
    "plt.show()"
   ]
  },
  {
   "cell_type": "code",
   "execution_count": 34,
   "metadata": {},
   "outputs": [
    {
     "name": "stdout",
     "output_type": "stream",
     "text": [
      "Apparent- Confusion Matrix:\n",
      " [[21028  1424]\n",
      " [    0   491]]\n",
      "Apparent - Precision: 0.256397\n",
      "Apparent  - Recall: 1.000000\n",
      "Apparent  - F1 score: 0.408146\n",
      "Apparent  - Sensitivity :  1.0\n",
      "Apparent  - Specificity :  0.2563968668407311\n",
      "Apparent- Negative predictive Value:  1.0\n",
      "Apparent - Positive Predictive Value:  0.9365758061642615\n",
      "Apparent  - Geometric Mean:  0.5063564622286666\n"
     ]
    }
   ],
   "source": [
    "cm1 = confusion_matrix(y_train, pred1)\n",
    "print('Apparent- Confusion Matrix:\\n',cm1)\n",
    "\n",
    "precision = precision_score(y_train, pred1)\n",
    "print('Apparent - Precision: %f' % precision)\n",
    "\n",
    "recall = recall_score(y_train, pred1)\n",
    "print('Apparent  - Recall: %f' % recall)\n",
    "\n",
    "f1 = f1_score(y_train, pred1)\n",
    "print('Apparent  - F1 score: %f' % f1)\n",
    "\n",
    "sensitivity1 = cm1[0,0]/(cm1[0,0]+cm1[1,0])\n",
    "print('Apparent  - Sensitivity : ', sensitivity1 )\n",
    "\n",
    "specificity1= cm1[1,1]/(cm1[0,1]+cm1[1,1])\n",
    "print('Apparent  - Specificity : ', specificity1)\n",
    "\n",
    "NPV = cm1[1,1]/(cm1[1,1]+cm1[1,0])\n",
    "print('Apparent- Negative predictive Value: ', NPV)\n",
    "\n",
    "PPV = cm1[0,0]/(cm1[0,0]+cm1[0,1])\n",
    "print('Apparent - Positive Predictive Value: ', PPV)\n",
    "\n",
    "import math\n",
    "gm1=math.sqrt(specificity1*sensitivity1)\n",
    "print('Apparent  - Geometric Mean: ', gm1)"
   ]
  },
  {
   "cell_type": "code",
   "execution_count": 35,
   "metadata": {},
   "outputs": [],
   "source": [
    "#saving file\n",
    "dt_probs1=model.predict_proba(X_train)\n",
    "dt_pos1=dt_probs1[:,1]\n",
    "dt_neg1=dt_probs1[:,0]\n",
    "pd.DataFrame({'Actual': y_train,'Pred_DT': pred1, 'PredProb_1_DT': dt_pos1,'PredProb_0_DT':dt_neg1}).to_csv('dt_apparent.csv', index=False)"
   ]
  },
  {
   "cell_type": "code",
   "execution_count": 36,
   "metadata": {},
   "outputs": [
    {
     "name": "stdout",
     "output_type": "stream",
     "text": [
      "[13:15:08] WARNING: C:/Users/Administrator/workspace/xgboost-win64_release_1.4.0/src/learner.cc:1095: Starting in XGBoost 1.3.0, the default evaluation metric used with the objective 'binary:logistic' was changed from 'error' to 'logloss'. Explicitly set eval_metric if you'd like to restore the old behavior.\n",
      "  0%|                                                       | 0/24 [00:00<?, ?trial/s, best loss=?]"
     ]
    },
    {
     "name": "stderr",
     "output_type": "stream",
     "text": [
      "C:\\Program Files\\Python39\\python-3.9.0rc1.amd64\\lib\\site-packages\\xgboost\\sklearn.py:1146: UserWarning: The use of label encoder in XGBClassifier is deprecated and will be removed in a future release. To remove this warning, do the following: 1) Pass option use_label_encoder=False when constructing XGBClassifier object; and 2) Encode your labels (y) as integers starting with 0, i.e. 0, 1, 2, ..., [num_class - 1].\n",
      "  warnings.warn(label_encoder_deprecation_msg, UserWarning)\n",
      "\n"
     ]
    },
    {
     "name": "stdout",
     "output_type": "stream",
     "text": [
      "[13:15:09] WARNING: C:/Users/Administrator/workspace/xgboost-win64_release_1.4.0/src/learner.cc:1095: Starting in XGBoost 1.3.0, the default evaluation metric used with the objective 'binary:logistic' was changed from 'error' to 'logloss'. Explicitly set eval_metric if you'd like to restore the old behavior.\n",
      "  0%|                                                       | 0/24 [00:00<?, ?trial/s, best loss=?]"
     ]
    },
    {
     "name": "stderr",
     "output_type": "stream",
     "text": [
      "C:\\Program Files\\Python39\\python-3.9.0rc1.amd64\\lib\\site-packages\\xgboost\\sklearn.py:1146: UserWarning: The use of label encoder in XGBClassifier is deprecated and will be removed in a future release. To remove this warning, do the following: 1) Pass option use_label_encoder=False when constructing XGBClassifier object; and 2) Encode your labels (y) as integers starting with 0, i.e. 0, 1, 2, ..., [num_class - 1].\n",
      "  warnings.warn(label_encoder_deprecation_msg, UserWarning)\n",
      "\n"
     ]
    },
    {
     "name": "stdout",
     "output_type": "stream",
     "text": [
      "[13:15:09] WARNING: C:/Users/Administrator/workspace/xgboost-win64_release_1.4.0/src/learner.cc:1095: Starting in XGBoost 1.3.0, the default evaluation metric used with the objective 'binary:logistic' was changed from 'error' to 'logloss'. Explicitly set eval_metric if you'd like to restore the old behavior.\n",
      "  0%|                                                       | 0/24 [00:00<?, ?trial/s, best loss=?]"
     ]
    },
    {
     "name": "stderr",
     "output_type": "stream",
     "text": [
      "C:\\Program Files\\Python39\\python-3.9.0rc1.amd64\\lib\\site-packages\\xgboost\\sklearn.py:1146: UserWarning: The use of label encoder in XGBClassifier is deprecated and will be removed in a future release. To remove this warning, do the following: 1) Pass option use_label_encoder=False when constructing XGBClassifier object; and 2) Encode your labels (y) as integers starting with 0, i.e. 0, 1, 2, ..., [num_class - 1].\n",
      "  warnings.warn(label_encoder_deprecation_msg, UserWarning)\n",
      "\n"
     ]
    },
    {
     "name": "stdout",
     "output_type": "stream",
     "text": [
      "[13:15:09] WARNING: C:/Users/Administrator/workspace/xgboost-win64_release_1.4.0/src/learner.cc:1095: Starting in XGBoost 1.3.0, the default evaluation metric used with the objective 'binary:logistic' was changed from 'error' to 'logloss'. Explicitly set eval_metric if you'd like to restore the old behavior.\n",
      "  0%|                                                       | 0/24 [00:01<?, ?trial/s, best loss=?]"
     ]
    },
    {
     "name": "stderr",
     "output_type": "stream",
     "text": [
      "C:\\Program Files\\Python39\\python-3.9.0rc1.amd64\\lib\\site-packages\\xgboost\\sklearn.py:1146: UserWarning: The use of label encoder in XGBClassifier is deprecated and will be removed in a future release. To remove this warning, do the following: 1) Pass option use_label_encoder=False when constructing XGBClassifier object; and 2) Encode your labels (y) as integers starting with 0, i.e. 0, 1, 2, ..., [num_class - 1].\n",
      "  warnings.warn(label_encoder_deprecation_msg, UserWarning)\n",
      "\n"
     ]
    },
    {
     "name": "stdout",
     "output_type": "stream",
     "text": [
      "[13:15:10] WARNING: C:/Users/Administrator/workspace/xgboost-win64_release_1.4.0/src/learner.cc:1095: Starting in XGBoost 1.3.0, the default evaluation metric used with the objective 'binary:logistic' was changed from 'error' to 'logloss'. Explicitly set eval_metric if you'd like to restore the old behavior.\n",
      "  0%|                                                       | 0/24 [00:01<?, ?trial/s, best loss=?]"
     ]
    },
    {
     "name": "stderr",
     "output_type": "stream",
     "text": [
      "C:\\Program Files\\Python39\\python-3.9.0rc1.amd64\\lib\\site-packages\\xgboost\\sklearn.py:1146: UserWarning: The use of label encoder in XGBClassifier is deprecated and will be removed in a future release. To remove this warning, do the following: 1) Pass option use_label_encoder=False when constructing XGBClassifier object; and 2) Encode your labels (y) as integers starting with 0, i.e. 0, 1, 2, ..., [num_class - 1].\n",
      "  warnings.warn(label_encoder_deprecation_msg, UserWarning)\n",
      "\n"
     ]
    },
    {
     "name": "stdout",
     "output_type": "stream",
     "text": [
      "[13:15:10] WARNING: C:/Users/Administrator/workspace/xgboost-win64_release_1.4.0/src/learner.cc:1095: Starting in XGBoost 1.3.0, the default evaluation metric used with the objective 'binary:logistic' was changed from 'error' to 'logloss'. Explicitly set eval_metric if you'd like to restore the old behavior.\n",
      "  4%|█▎                            | 1/24 [00:01<00:42,  1.83s/trial, best loss: 0.128480808871702]"
     ]
    },
    {
     "name": "stderr",
     "output_type": "stream",
     "text": [
      "C:\\Program Files\\Python39\\python-3.9.0rc1.amd64\\lib\\site-packages\\xgboost\\sklearn.py:1146: UserWarning: The use of label encoder in XGBClassifier is deprecated and will be removed in a future release. To remove this warning, do the following: 1) Pass option use_label_encoder=False when constructing XGBClassifier object; and 2) Encode your labels (y) as integers starting with 0, i.e. 0, 1, 2, ..., [num_class - 1].\n",
      "  warnings.warn(label_encoder_deprecation_msg, UserWarning)\n",
      "\n"
     ]
    },
    {
     "name": "stdout",
     "output_type": "stream",
     "text": [
      "[13:15:11] WARNING: C:/Users/Administrator/workspace/xgboost-win64_release_1.4.0/src/learner.cc:1095: Starting in XGBoost 1.3.0, the default evaluation metric used with the objective 'binary:logistic' was changed from 'error' to 'logloss'. Explicitly set eval_metric if you'd like to restore the old behavior.\n",
      "  4%|█▎                            | 1/24 [00:02<00:42,  1.83s/trial, best loss: 0.128480808871702]"
     ]
    },
    {
     "name": "stderr",
     "output_type": "stream",
     "text": [
      "C:\\Program Files\\Python39\\python-3.9.0rc1.amd64\\lib\\site-packages\\xgboost\\sklearn.py:1146: UserWarning: The use of label encoder in XGBClassifier is deprecated and will be removed in a future release. To remove this warning, do the following: 1) Pass option use_label_encoder=False when constructing XGBClassifier object; and 2) Encode your labels (y) as integers starting with 0, i.e. 0, 1, 2, ..., [num_class - 1].\n",
      "  warnings.warn(label_encoder_deprecation_msg, UserWarning)\n",
      "\n"
     ]
    },
    {
     "name": "stdout",
     "output_type": "stream",
     "text": [
      "[13:15:11] WARNING: C:/Users/Administrator/workspace/xgboost-win64_release_1.4.0/src/learner.cc:1095: Starting in XGBoost 1.3.0, the default evaluation metric used with the objective 'binary:logistic' was changed from 'error' to 'logloss'. Explicitly set eval_metric if you'd like to restore the old behavior.\n",
      "  4%|█▎                            | 1/24 [00:02<00:42,  1.83s/trial, best loss: 0.128480808871702]"
     ]
    },
    {
     "name": "stderr",
     "output_type": "stream",
     "text": [
      "C:\\Program Files\\Python39\\python-3.9.0rc1.amd64\\lib\\site-packages\\xgboost\\sklearn.py:1146: UserWarning: The use of label encoder in XGBClassifier is deprecated and will be removed in a future release. To remove this warning, do the following: 1) Pass option use_label_encoder=False when constructing XGBClassifier object; and 2) Encode your labels (y) as integers starting with 0, i.e. 0, 1, 2, ..., [num_class - 1].\n",
      "  warnings.warn(label_encoder_deprecation_msg, UserWarning)\n",
      "\n"
     ]
    },
    {
     "name": "stdout",
     "output_type": "stream",
     "text": [
      "[13:15:11] WARNING: C:/Users/Administrator/workspace/xgboost-win64_release_1.4.0/src/learner.cc:1095: Starting in XGBoost 1.3.0, the default evaluation metric used with the objective 'binary:logistic' was changed from 'error' to 'logloss'. Explicitly set eval_metric if you'd like to restore the old behavior.\n",
      "  4%|█▎                            | 1/24 [00:03<00:42,  1.83s/trial, best loss: 0.128480808871702]"
     ]
    },
    {
     "name": "stderr",
     "output_type": "stream",
     "text": [
      "C:\\Program Files\\Python39\\python-3.9.0rc1.amd64\\lib\\site-packages\\xgboost\\sklearn.py:1146: UserWarning: The use of label encoder in XGBClassifier is deprecated and will be removed in a future release. To remove this warning, do the following: 1) Pass option use_label_encoder=False when constructing XGBClassifier object; and 2) Encode your labels (y) as integers starting with 0, i.e. 0, 1, 2, ..., [num_class - 1].\n",
      "  warnings.warn(label_encoder_deprecation_msg, UserWarning)\n",
      "\n"
     ]
    },
    {
     "name": "stdout",
     "output_type": "stream",
     "text": [
      "[13:15:12] WARNING: C:/Users/Administrator/workspace/xgboost-win64_release_1.4.0/src/learner.cc:1095: Starting in XGBoost 1.3.0, the default evaluation metric used with the objective 'binary:logistic' was changed from 'error' to 'logloss'. Explicitly set eval_metric if you'd like to restore the old behavior.\n",
      "  4%|█▎                            | 1/24 [00:03<00:42,  1.83s/trial, best loss: 0.128480808871702]"
     ]
    },
    {
     "name": "stderr",
     "output_type": "stream",
     "text": [
      "C:\\Program Files\\Python39\\python-3.9.0rc1.amd64\\lib\\site-packages\\xgboost\\sklearn.py:1146: UserWarning: The use of label encoder in XGBClassifier is deprecated and will be removed in a future release. To remove this warning, do the following: 1) Pass option use_label_encoder=False when constructing XGBClassifier object; and 2) Encode your labels (y) as integers starting with 0, i.e. 0, 1, 2, ..., [num_class - 1].\n",
      "  warnings.warn(label_encoder_deprecation_msg, UserWarning)\n",
      "\n"
     ]
    },
    {
     "name": "stdout",
     "output_type": "stream",
     "text": [
      "[13:15:12] WARNING: C:/Users/Administrator/workspace/xgboost-win64_release_1.4.0/src/learner.cc:1095: Starting in XGBoost 1.3.0, the default evaluation metric used with the objective 'binary:logistic' was changed from 'error' to 'logloss'. Explicitly set eval_metric if you'd like to restore the old behavior.\n",
      "  8%|██▌                           | 2/24 [00:03<00:41,  1.90s/trial, best loss: 0.128480808871702]"
     ]
    },
    {
     "name": "stderr",
     "output_type": "stream",
     "text": [
      "C:\\Program Files\\Python39\\python-3.9.0rc1.amd64\\lib\\site-packages\\xgboost\\sklearn.py:1146: UserWarning: The use of label encoder in XGBClassifier is deprecated and will be removed in a future release. To remove this warning, do the following: 1) Pass option use_label_encoder=False when constructing XGBClassifier object; and 2) Encode your labels (y) as integers starting with 0, i.e. 0, 1, 2, ..., [num_class - 1].\n",
      "  warnings.warn(label_encoder_deprecation_msg, UserWarning)\n",
      "\n"
     ]
    },
    {
     "name": "stdout",
     "output_type": "stream",
     "text": [
      "[13:15:13] WARNING: C:/Users/Administrator/workspace/xgboost-win64_release_1.4.0/src/learner.cc:1095: Starting in XGBoost 1.3.0, the default evaluation metric used with the objective 'binary:logistic' was changed from 'error' to 'logloss'. Explicitly set eval_metric if you'd like to restore the old behavior.\n",
      "  8%|██▌                           | 2/24 [00:04<00:41,  1.90s/trial, best loss: 0.128480808871702]"
     ]
    },
    {
     "name": "stderr",
     "output_type": "stream",
     "text": [
      "C:\\Program Files\\Python39\\python-3.9.0rc1.amd64\\lib\\site-packages\\xgboost\\sklearn.py:1146: UserWarning: The use of label encoder in XGBClassifier is deprecated and will be removed in a future release. To remove this warning, do the following: 1) Pass option use_label_encoder=False when constructing XGBClassifier object; and 2) Encode your labels (y) as integers starting with 0, i.e. 0, 1, 2, ..., [num_class - 1].\n",
      "  warnings.warn(label_encoder_deprecation_msg, UserWarning)\n",
      "\n"
     ]
    },
    {
     "name": "stdout",
     "output_type": "stream",
     "text": [
      "[13:15:13] WARNING: C:/Users/Administrator/workspace/xgboost-win64_release_1.4.0/src/learner.cc:1095: Starting in XGBoost 1.3.0, the default evaluation metric used with the objective 'binary:logistic' was changed from 'error' to 'logloss'. Explicitly set eval_metric if you'd like to restore the old behavior.\n",
      "  8%|██▌                           | 2/24 [00:04<00:41,  1.90s/trial, best loss: 0.128480808871702]"
     ]
    },
    {
     "name": "stderr",
     "output_type": "stream",
     "text": [
      "C:\\Program Files\\Python39\\python-3.9.0rc1.amd64\\lib\\site-packages\\xgboost\\sklearn.py:1146: UserWarning: The use of label encoder in XGBClassifier is deprecated and will be removed in a future release. To remove this warning, do the following: 1) Pass option use_label_encoder=False when constructing XGBClassifier object; and 2) Encode your labels (y) as integers starting with 0, i.e. 0, 1, 2, ..., [num_class - 1].\n",
      "  warnings.warn(label_encoder_deprecation_msg, UserWarning)\n",
      "\n"
     ]
    },
    {
     "name": "stdout",
     "output_type": "stream",
     "text": [
      "[13:15:13] WARNING: C:/Users/Administrator/workspace/xgboost-win64_release_1.4.0/src/learner.cc:1095: Starting in XGBoost 1.3.0, the default evaluation metric used with the objective 'binary:logistic' was changed from 'error' to 'logloss'. Explicitly set eval_metric if you'd like to restore the old behavior.\n",
      "  8%|██▌                           | 2/24 [00:04<00:41,  1.90s/trial, best loss: 0.128480808871702]"
     ]
    },
    {
     "name": "stderr",
     "output_type": "stream",
     "text": [
      "C:\\Program Files\\Python39\\python-3.9.0rc1.amd64\\lib\\site-packages\\xgboost\\sklearn.py:1146: UserWarning: The use of label encoder in XGBClassifier is deprecated and will be removed in a future release. To remove this warning, do the following: 1) Pass option use_label_encoder=False when constructing XGBClassifier object; and 2) Encode your labels (y) as integers starting with 0, i.e. 0, 1, 2, ..., [num_class - 1].\n",
      "  warnings.warn(label_encoder_deprecation_msg, UserWarning)\n",
      "\n"
     ]
    },
    {
     "name": "stdout",
     "output_type": "stream",
     "text": [
      "[13:15:13] WARNING: C:/Users/Administrator/workspace/xgboost-win64_release_1.4.0/src/learner.cc:1095: Starting in XGBoost 1.3.0, the default evaluation metric used with the objective 'binary:logistic' was changed from 'error' to 'logloss'. Explicitly set eval_metric if you'd like to restore the old behavior.\n",
      "  8%|██▌                           | 2/24 [00:05<00:41,  1.90s/trial, best loss: 0.128480808871702]"
     ]
    },
    {
     "name": "stderr",
     "output_type": "stream",
     "text": [
      "C:\\Program Files\\Python39\\python-3.9.0rc1.amd64\\lib\\site-packages\\xgboost\\sklearn.py:1146: UserWarning: The use of label encoder in XGBClassifier is deprecated and will be removed in a future release. To remove this warning, do the following: 1) Pass option use_label_encoder=False when constructing XGBClassifier object; and 2) Encode your labels (y) as integers starting with 0, i.e. 0, 1, 2, ..., [num_class - 1].\n",
      "  warnings.warn(label_encoder_deprecation_msg, UserWarning)\n",
      "\n"
     ]
    },
    {
     "name": "stdout",
     "output_type": "stream",
     "text": [
      "[13:15:14] WARNING: C:/Users/Administrator/workspace/xgboost-win64_release_1.4.0/src/learner.cc:1095: Starting in XGBoost 1.3.0, the default evaluation metric used with the objective 'binary:logistic' was changed from 'error' to 'logloss'. Explicitly set eval_metric if you'd like to restore the old behavior.\n",
      " 12%|███▊                          | 3/24 [00:05<00:37,  1.77s/trial, best loss: 0.128480808871702]"
     ]
    },
    {
     "name": "stderr",
     "output_type": "stream",
     "text": [
      "C:\\Program Files\\Python39\\python-3.9.0rc1.amd64\\lib\\site-packages\\xgboost\\sklearn.py:1146: UserWarning: The use of label encoder in XGBClassifier is deprecated and will be removed in a future release. To remove this warning, do the following: 1) Pass option use_label_encoder=False when constructing XGBClassifier object; and 2) Encode your labels (y) as integers starting with 0, i.e. 0, 1, 2, ..., [num_class - 1].\n",
      "  warnings.warn(label_encoder_deprecation_msg, UserWarning)\n",
      "\n"
     ]
    },
    {
     "name": "stdout",
     "output_type": "stream",
     "text": [
      "[13:15:14] WARNING: C:/Users/Administrator/workspace/xgboost-win64_release_1.4.0/src/learner.cc:1095: Starting in XGBoost 1.3.0, the default evaluation metric used with the objective 'binary:logistic' was changed from 'error' to 'logloss'. Explicitly set eval_metric if you'd like to restore the old behavior.\n",
      " 12%|███▊                          | 3/24 [00:05<00:37,  1.77s/trial, best loss: 0.128480808871702]"
     ]
    },
    {
     "name": "stderr",
     "output_type": "stream",
     "text": [
      "C:\\Program Files\\Python39\\python-3.9.0rc1.amd64\\lib\\site-packages\\xgboost\\sklearn.py:1146: UserWarning: The use of label encoder in XGBClassifier is deprecated and will be removed in a future release. To remove this warning, do the following: 1) Pass option use_label_encoder=False when constructing XGBClassifier object; and 2) Encode your labels (y) as integers starting with 0, i.e. 0, 1, 2, ..., [num_class - 1].\n",
      "  warnings.warn(label_encoder_deprecation_msg, UserWarning)\n",
      "\n"
     ]
    },
    {
     "name": "stdout",
     "output_type": "stream",
     "text": [
      "[13:15:14] WARNING: C:/Users/Administrator/workspace/xgboost-win64_release_1.4.0/src/learner.cc:1095: Starting in XGBoost 1.3.0, the default evaluation metric used with the objective 'binary:logistic' was changed from 'error' to 'logloss'. Explicitly set eval_metric if you'd like to restore the old behavior.\n",
      " 12%|███▊                          | 3/24 [00:05<00:37,  1.77s/trial, best loss: 0.128480808871702]"
     ]
    },
    {
     "name": "stderr",
     "output_type": "stream",
     "text": [
      "C:\\Program Files\\Python39\\python-3.9.0rc1.amd64\\lib\\site-packages\\xgboost\\sklearn.py:1146: UserWarning: The use of label encoder in XGBClassifier is deprecated and will be removed in a future release. To remove this warning, do the following: 1) Pass option use_label_encoder=False when constructing XGBClassifier object; and 2) Encode your labels (y) as integers starting with 0, i.e. 0, 1, 2, ..., [num_class - 1].\n",
      "  warnings.warn(label_encoder_deprecation_msg, UserWarning)\n",
      "\n"
     ]
    },
    {
     "name": "stdout",
     "output_type": "stream",
     "text": [
      "[13:15:15] WARNING: C:/Users/Administrator/workspace/xgboost-win64_release_1.4.0/src/learner.cc:1095: Starting in XGBoost 1.3.0, the default evaluation metric used with the objective 'binary:logistic' was changed from 'error' to 'logloss'. Explicitly set eval_metric if you'd like to restore the old behavior.\n",
      " 12%|███▊                          | 3/24 [00:06<00:37,  1.77s/trial, best loss: 0.128480808871702]"
     ]
    },
    {
     "name": "stderr",
     "output_type": "stream",
     "text": [
      "C:\\Program Files\\Python39\\python-3.9.0rc1.amd64\\lib\\site-packages\\xgboost\\sklearn.py:1146: UserWarning: The use of label encoder in XGBClassifier is deprecated and will be removed in a future release. To remove this warning, do the following: 1) Pass option use_label_encoder=False when constructing XGBClassifier object; and 2) Encode your labels (y) as integers starting with 0, i.e. 0, 1, 2, ..., [num_class - 1].\n",
      "  warnings.warn(label_encoder_deprecation_msg, UserWarning)\n",
      "\n"
     ]
    },
    {
     "name": "stdout",
     "output_type": "stream",
     "text": [
      "[13:15:15] WARNING: C:/Users/Administrator/workspace/xgboost-win64_release_1.4.0/src/learner.cc:1095: Starting in XGBoost 1.3.0, the default evaluation metric used with the objective 'binary:logistic' was changed from 'error' to 'logloss'. Explicitly set eval_metric if you'd like to restore the old behavior.\n",
      " 12%|███▊                          | 3/24 [00:06<00:37,  1.77s/trial, best loss: 0.128480808871702]"
     ]
    },
    {
     "name": "stderr",
     "output_type": "stream",
     "text": [
      "C:\\Program Files\\Python39\\python-3.9.0rc1.amd64\\lib\\site-packages\\xgboost\\sklearn.py:1146: UserWarning: The use of label encoder in XGBClassifier is deprecated and will be removed in a future release. To remove this warning, do the following: 1) Pass option use_label_encoder=False when constructing XGBClassifier object; and 2) Encode your labels (y) as integers starting with 0, i.e. 0, 1, 2, ..., [num_class - 1].\n",
      "  warnings.warn(label_encoder_deprecation_msg, UserWarning)\n",
      "\n"
     ]
    },
    {
     "name": "stdout",
     "output_type": "stream",
     "text": [
      "[13:15:15] WARNING: C:/Users/Administrator/workspace/xgboost-win64_release_1.4.0/src/learner.cc:1095: Starting in XGBoost 1.3.0, the default evaluation metric used with the objective 'binary:logistic' was changed from 'error' to 'logloss'. Explicitly set eval_metric if you'd like to restore the old behavior.\n",
      "[13:15:15] WARNING: C:/Users/Administrator/workspace/xgboost-win64_release_1.4.0/src/learner.cc:1095: Starting in XGBoost 1.3.0, the default evaluation metric used with the objective 'binary:logistic' was changed from 'error' to 'logloss'. Explicitly set eval_metric if you'd like to restore the old behavior.\n",
      " 17%|█████                         | 4/24 [00:06<00:33,  1.67s/trial, best loss: 0.128480808871702]"
     ]
    },
    {
     "name": "stderr",
     "output_type": "stream",
     "text": [
      "C:\\Program Files\\Python39\\python-3.9.0rc1.amd64\\lib\\site-packages\\xgboost\\sklearn.py:1146: UserWarning: The use of label encoder in XGBClassifier is deprecated and will be removed in a future release. To remove this warning, do the following: 1) Pass option use_label_encoder=False when constructing XGBClassifier object; and 2) Encode your labels (y) as integers starting with 0, i.e. 0, 1, 2, ..., [num_class - 1].\n",
      "  warnings.warn(label_encoder_deprecation_msg, UserWarning)\n",
      "\n",
      "C:\\Program Files\\Python39\\python-3.9.0rc1.amd64\\lib\\site-packages\\xgboost\\sklearn.py:1146: UserWarning: The use of label encoder in XGBClassifier is deprecated and will be removed in a future release. To remove this warning, do the following: 1) Pass option use_label_encoder=False when constructing XGBClassifier object; and 2) Encode your labels (y) as integers starting with 0, i.e. 0, 1, 2, ..., [num_class - 1].\n",
      "  warnings.warn(label_encoder_deprecation_msg, UserWarning)\n",
      "\n"
     ]
    },
    {
     "name": "stdout",
     "output_type": "stream",
     "text": [
      "[13:15:16] WARNING: C:/Users/Administrator/workspace/xgboost-win64_release_1.4.0/src/learner.cc:1095: Starting in XGBoost 1.3.0, the default evaluation metric used with the objective 'binary:logistic' was changed from 'error' to 'logloss'. Explicitly set eval_metric if you'd like to restore the old behavior.\n",
      "[13:15:16] WARNING: C:/Users/Administrator/workspace/xgboost-win64_release_1.4.0/src/learner.cc:1095: Starting in XGBoost 1.3.0, the default evaluation metric used with the objective 'binary:logistic' was changed from 'error' to 'logloss'. Explicitly set eval_metric if you'd like to restore the old behavior.\n",
      " 17%|█████                         | 4/24 [00:07<00:33,  1.67s/trial, best loss: 0.128480808871702]"
     ]
    },
    {
     "name": "stderr",
     "output_type": "stream",
     "text": [
      "C:\\Program Files\\Python39\\python-3.9.0rc1.amd64\\lib\\site-packages\\xgboost\\sklearn.py:1146: UserWarning: The use of label encoder in XGBClassifier is deprecated and will be removed in a future release. To remove this warning, do the following: 1) Pass option use_label_encoder=False when constructing XGBClassifier object; and 2) Encode your labels (y) as integers starting with 0, i.e. 0, 1, 2, ..., [num_class - 1].\n",
      "  warnings.warn(label_encoder_deprecation_msg, UserWarning)\n",
      "\n",
      "C:\\Program Files\\Python39\\python-3.9.0rc1.amd64\\lib\\site-packages\\xgboost\\sklearn.py:1146: UserWarning: The use of label encoder in XGBClassifier is deprecated and will be removed in a future release. To remove this warning, do the following: 1) Pass option use_label_encoder=False when constructing XGBClassifier object; and 2) Encode your labels (y) as integers starting with 0, i.e. 0, 1, 2, ..., [num_class - 1].\n",
      "  warnings.warn(label_encoder_deprecation_msg, UserWarning)\n",
      "\n"
     ]
    },
    {
     "name": "stdout",
     "output_type": "stream",
     "text": [
      "[13:15:16] WARNING: C:/Users/Administrator/workspace/xgboost-win64_release_1.4.0/src/learner.cc:1095: Starting in XGBoost 1.3.0, the default evaluation metric used with the objective 'binary:logistic' was changed from 'error' to 'logloss'. Explicitly set eval_metric if you'd like to restore the old behavior.\n",
      " 21%|██████▎                       | 5/24 [00:07<00:27,  1.44s/trial, best loss: 0.128480808871702]"
     ]
    },
    {
     "name": "stderr",
     "output_type": "stream",
     "text": [
      "C:\\Program Files\\Python39\\python-3.9.0rc1.amd64\\lib\\site-packages\\xgboost\\sklearn.py:1146: UserWarning: The use of label encoder in XGBClassifier is deprecated and will be removed in a future release. To remove this warning, do the following: 1) Pass option use_label_encoder=False when constructing XGBClassifier object; and 2) Encode your labels (y) as integers starting with 0, i.e. 0, 1, 2, ..., [num_class - 1].\n",
      "  warnings.warn(label_encoder_deprecation_msg, UserWarning)\n",
      "\n"
     ]
    },
    {
     "name": "stdout",
     "output_type": "stream",
     "text": [
      "[13:15:16] WARNING: C:/Users/Administrator/workspace/xgboost-win64_release_1.4.0/src/learner.cc:1095: Starting in XGBoost 1.3.0, the default evaluation metric used with the objective 'binary:logistic' was changed from 'error' to 'logloss'. Explicitly set eval_metric if you'd like to restore the old behavior.\n",
      "[13:15:16] WARNING: C:/Users/Administrator/workspace/xgboost-win64_release_1.4.0/src/learner.cc:1095: Starting in XGBoost 1.3.0, the default evaluation metric used with the objective 'binary:logistic' was changed from 'error' to 'logloss'. Explicitly set eval_metric if you'd like to restore the old behavior.\n",
      " 21%|██████▎                       | 5/24 [00:07<00:27,  1.44s/trial, best loss: 0.128480808871702]"
     ]
    },
    {
     "name": "stderr",
     "output_type": "stream",
     "text": [
      "C:\\Program Files\\Python39\\python-3.9.0rc1.amd64\\lib\\site-packages\\xgboost\\sklearn.py:1146: UserWarning: The use of label encoder in XGBClassifier is deprecated and will be removed in a future release. To remove this warning, do the following: 1) Pass option use_label_encoder=False when constructing XGBClassifier object; and 2) Encode your labels (y) as integers starting with 0, i.e. 0, 1, 2, ..., [num_class - 1].\n",
      "  warnings.warn(label_encoder_deprecation_msg, UserWarning)\n",
      "\n",
      "C:\\Program Files\\Python39\\python-3.9.0rc1.amd64\\lib\\site-packages\\xgboost\\sklearn.py:1146: UserWarning: The use of label encoder in XGBClassifier is deprecated and will be removed in a future release. To remove this warning, do the following: 1) Pass option use_label_encoder=False when constructing XGBClassifier object; and 2) Encode your labels (y) as integers starting with 0, i.e. 0, 1, 2, ..., [num_class - 1].\n",
      "  warnings.warn(label_encoder_deprecation_msg, UserWarning)\n",
      "\n"
     ]
    },
    {
     "name": "stdout",
     "output_type": "stream",
     "text": [
      "[13:15:16] WARNING: C:/Users/Administrator/workspace/xgboost-win64_release_1.4.0/src/learner.cc:1095: Starting in XGBoost 1.3.0, the default evaluation metric used with the objective 'binary:logistic' was changed from 'error' to 'logloss'. Explicitly set eval_metric if you'd like to restore the old behavior.\n",
      "[13:15:17] WARNING: C:/Users/Administrator/workspace/xgboost-win64_release_1.4.0/src/learner.cc:1095: Starting in XGBoost 1.3.0, the default evaluation metric used with the objective 'binary:logistic' was changed from 'error' to 'logloss'. Explicitly set eval_metric if you'd like to restore the old behavior.\n",
      " 21%|██████▎                       | 5/24 [00:08<00:27,  1.44s/trial, best loss: 0.128480808871702]"
     ]
    },
    {
     "name": "stderr",
     "output_type": "stream",
     "text": [
      "C:\\Program Files\\Python39\\python-3.9.0rc1.amd64\\lib\\site-packages\\xgboost\\sklearn.py:1146: UserWarning: The use of label encoder in XGBClassifier is deprecated and will be removed in a future release. To remove this warning, do the following: 1) Pass option use_label_encoder=False when constructing XGBClassifier object; and 2) Encode your labels (y) as integers starting with 0, i.e. 0, 1, 2, ..., [num_class - 1].\n",
      "  warnings.warn(label_encoder_deprecation_msg, UserWarning)\n",
      "\n",
      "C:\\Program Files\\Python39\\python-3.9.0rc1.amd64\\lib\\site-packages\\xgboost\\sklearn.py:1146: UserWarning: The use of label encoder in XGBClassifier is deprecated and will be removed in a future release. To remove this warning, do the following: 1) Pass option use_label_encoder=False when constructing XGBClassifier object; and 2) Encode your labels (y) as integers starting with 0, i.e. 0, 1, 2, ..., [num_class - 1].\n",
      "  warnings.warn(label_encoder_deprecation_msg, UserWarning)\n",
      "\n"
     ]
    },
    {
     "name": "stdout",
     "output_type": "stream",
     "text": [
      "[13:15:17] WARNING: C:/Users/Administrator/workspace/xgboost-win64_release_1.4.0/src/learner.cc:1095: Starting in XGBoost 1.3.0, the default evaluation metric used with the objective 'binary:logistic' was changed from 'error' to 'logloss'. Explicitly set eval_metric if you'd like to restore the old behavior.\n",
      "[13:15:17] WARNING: C:/Users/Administrator/workspace/xgboost-win64_release_1.4.0/src/learner.cc:1095: Starting in XGBoost 1.3.0, the default evaluation metric used with the objective 'binary:logistic' was changed from 'error' to 'logloss'. Explicitly set eval_metric if you'd like to restore the old behavior.\n",
      " 25%|███████▌                      | 6/24 [00:08<00:21,  1.20s/trial, best loss: 0.128480808871702]"
     ]
    },
    {
     "name": "stderr",
     "output_type": "stream",
     "text": [
      "C:\\Program Files\\Python39\\python-3.9.0rc1.amd64\\lib\\site-packages\\xgboost\\sklearn.py:1146: UserWarning: The use of label encoder in XGBClassifier is deprecated and will be removed in a future release. To remove this warning, do the following: 1) Pass option use_label_encoder=False when constructing XGBClassifier object; and 2) Encode your labels (y) as integers starting with 0, i.e. 0, 1, 2, ..., [num_class - 1].\n",
      "  warnings.warn(label_encoder_deprecation_msg, UserWarning)\n",
      "\n",
      "C:\\Program Files\\Python39\\python-3.9.0rc1.amd64\\lib\\site-packages\\xgboost\\sklearn.py:1146: UserWarning: The use of label encoder in XGBClassifier is deprecated and will be removed in a future release. To remove this warning, do the following: 1) Pass option use_label_encoder=False when constructing XGBClassifier object; and 2) Encode your labels (y) as integers starting with 0, i.e. 0, 1, 2, ..., [num_class - 1].\n",
      "  warnings.warn(label_encoder_deprecation_msg, UserWarning)\n",
      "\n"
     ]
    },
    {
     "name": "stdout",
     "output_type": "stream",
     "text": [
      "[13:15:17] WARNING: C:/Users/Administrator/workspace/xgboost-win64_release_1.4.0/src/learner.cc:1095: Starting in XGBoost 1.3.0, the default evaluation metric used with the objective 'binary:logistic' was changed from 'error' to 'logloss'. Explicitly set eval_metric if you'd like to restore the old behavior.\n",
      " 25%|███████▌                      | 6/24 [00:08<00:21,  1.20s/trial, best loss: 0.128480808871702]"
     ]
    },
    {
     "name": "stderr",
     "output_type": "stream",
     "text": [
      "C:\\Program Files\\Python39\\python-3.9.0rc1.amd64\\lib\\site-packages\\xgboost\\sklearn.py:1146: UserWarning: The use of label encoder in XGBClassifier is deprecated and will be removed in a future release. To remove this warning, do the following: 1) Pass option use_label_encoder=False when constructing XGBClassifier object; and 2) Encode your labels (y) as integers starting with 0, i.e. 0, 1, 2, ..., [num_class - 1].\n",
      "  warnings.warn(label_encoder_deprecation_msg, UserWarning)\n",
      "\n"
     ]
    },
    {
     "name": "stdout",
     "output_type": "stream",
     "text": [
      "[13:15:17] WARNING: C:/Users/Administrator/workspace/xgboost-win64_release_1.4.0/src/learner.cc:1095: Starting in XGBoost 1.3.0, the default evaluation metric used with the objective 'binary:logistic' was changed from 'error' to 'logloss'. Explicitly set eval_metric if you'd like to restore the old behavior.\n",
      " 25%|███████▌                      | 6/24 [00:08<00:21,  1.20s/trial, best loss: 0.128480808871702]"
     ]
    },
    {
     "name": "stderr",
     "output_type": "stream",
     "text": [
      "C:\\Program Files\\Python39\\python-3.9.0rc1.amd64\\lib\\site-packages\\xgboost\\sklearn.py:1146: UserWarning: The use of label encoder in XGBClassifier is deprecated and will be removed in a future release. To remove this warning, do the following: 1) Pass option use_label_encoder=False when constructing XGBClassifier object; and 2) Encode your labels (y) as integers starting with 0, i.e. 0, 1, 2, ..., [num_class - 1].\n",
      "  warnings.warn(label_encoder_deprecation_msg, UserWarning)\n",
      "\n"
     ]
    },
    {
     "name": "stdout",
     "output_type": "stream",
     "text": [
      "[13:15:18] WARNING: C:/Users/Administrator/workspace/xgboost-win64_release_1.4.0/src/learner.cc:1095: Starting in XGBoost 1.3.0, the default evaluation metric used with the objective 'binary:logistic' was changed from 'error' to 'logloss'. Explicitly set eval_metric if you'd like to restore the old behavior.\n",
      " 25%|███████▌                      | 6/24 [00:09<00:21,  1.20s/trial, best loss: 0.128480808871702]"
     ]
    },
    {
     "name": "stderr",
     "output_type": "stream",
     "text": [
      "C:\\Program Files\\Python39\\python-3.9.0rc1.amd64\\lib\\site-packages\\xgboost\\sklearn.py:1146: UserWarning: The use of label encoder in XGBClassifier is deprecated and will be removed in a future release. To remove this warning, do the following: 1) Pass option use_label_encoder=False when constructing XGBClassifier object; and 2) Encode your labels (y) as integers starting with 0, i.e. 0, 1, 2, ..., [num_class - 1].\n",
      "  warnings.warn(label_encoder_deprecation_msg, UserWarning)\n",
      "\n"
     ]
    },
    {
     "name": "stdout",
     "output_type": "stream",
     "text": [
      "[13:15:18] WARNING: C:/Users/Administrator/workspace/xgboost-win64_release_1.4.0/src/learner.cc:1095: Starting in XGBoost 1.3.0, the default evaluation metric used with the objective 'binary:logistic' was changed from 'error' to 'logloss'. Explicitly set eval_metric if you'd like to restore the old behavior.\n",
      " 25%|███████▌                      | 6/24 [00:09<00:21,  1.20s/trial, best loss: 0.128480808871702]"
     ]
    },
    {
     "name": "stderr",
     "output_type": "stream",
     "text": [
      "C:\\Program Files\\Python39\\python-3.9.0rc1.amd64\\lib\\site-packages\\xgboost\\sklearn.py:1146: UserWarning: The use of label encoder in XGBClassifier is deprecated and will be removed in a future release. To remove this warning, do the following: 1) Pass option use_label_encoder=False when constructing XGBClassifier object; and 2) Encode your labels (y) as integers starting with 0, i.e. 0, 1, 2, ..., [num_class - 1].\n",
      "  warnings.warn(label_encoder_deprecation_msg, UserWarning)\n",
      "\n"
     ]
    },
    {
     "name": "stdout",
     "output_type": "stream",
     "text": [
      "[13:15:18] WARNING: C:/Users/Administrator/workspace/xgboost-win64_release_1.4.0/src/learner.cc:1095: Starting in XGBoost 1.3.0, the default evaluation metric used with the objective 'binary:logistic' was changed from 'error' to 'logloss'. Explicitly set eval_metric if you'd like to restore the old behavior.\n",
      " 29%|████████▊                     | 7/24 [00:09<00:22,  1.30s/trial, best loss: 0.128480808871702]"
     ]
    },
    {
     "name": "stderr",
     "output_type": "stream",
     "text": [
      "C:\\Program Files\\Python39\\python-3.9.0rc1.amd64\\lib\\site-packages\\xgboost\\sklearn.py:1146: UserWarning: The use of label encoder in XGBClassifier is deprecated and will be removed in a future release. To remove this warning, do the following: 1) Pass option use_label_encoder=False when constructing XGBClassifier object; and 2) Encode your labels (y) as integers starting with 0, i.e. 0, 1, 2, ..., [num_class - 1].\n",
      "  warnings.warn(label_encoder_deprecation_msg, UserWarning)\n",
      "\n"
     ]
    },
    {
     "name": "stdout",
     "output_type": "stream",
     "text": [
      "[13:15:19] WARNING: C:/Users/Administrator/workspace/xgboost-win64_release_1.4.0/src/learner.cc:1095: Starting in XGBoost 1.3.0, the default evaluation metric used with the objective 'binary:logistic' was changed from 'error' to 'logloss'. Explicitly set eval_metric if you'd like to restore the old behavior.\n",
      " 29%|████████▊                     | 7/24 [00:10<00:22,  1.30s/trial, best loss: 0.128480808871702]"
     ]
    },
    {
     "name": "stderr",
     "output_type": "stream",
     "text": [
      "C:\\Program Files\\Python39\\python-3.9.0rc1.amd64\\lib\\site-packages\\xgboost\\sklearn.py:1146: UserWarning: The use of label encoder in XGBClassifier is deprecated and will be removed in a future release. To remove this warning, do the following: 1) Pass option use_label_encoder=False when constructing XGBClassifier object; and 2) Encode your labels (y) as integers starting with 0, i.e. 0, 1, 2, ..., [num_class - 1].\n",
      "  warnings.warn(label_encoder_deprecation_msg, UserWarning)\n",
      "\n"
     ]
    },
    {
     "name": "stdout",
     "output_type": "stream",
     "text": [
      "[13:15:19] WARNING: C:/Users/Administrator/workspace/xgboost-win64_release_1.4.0/src/learner.cc:1095: Starting in XGBoost 1.3.0, the default evaluation metric used with the objective 'binary:logistic' was changed from 'error' to 'logloss'. Explicitly set eval_metric if you'd like to restore the old behavior.\n",
      " 29%|████████▊                     | 7/24 [00:10<00:22,  1.30s/trial, best loss: 0.128480808871702]"
     ]
    },
    {
     "name": "stderr",
     "output_type": "stream",
     "text": [
      "C:\\Program Files\\Python39\\python-3.9.0rc1.amd64\\lib\\site-packages\\xgboost\\sklearn.py:1146: UserWarning: The use of label encoder in XGBClassifier is deprecated and will be removed in a future release. To remove this warning, do the following: 1) Pass option use_label_encoder=False when constructing XGBClassifier object; and 2) Encode your labels (y) as integers starting with 0, i.e. 0, 1, 2, ..., [num_class - 1].\n",
      "  warnings.warn(label_encoder_deprecation_msg, UserWarning)\n",
      "\n"
     ]
    },
    {
     "name": "stdout",
     "output_type": "stream",
     "text": [
      "[13:15:20] WARNING: C:/Users/Administrator/workspace/xgboost-win64_release_1.4.0/src/learner.cc:1095: Starting in XGBoost 1.3.0, the default evaluation metric used with the objective 'binary:logistic' was changed from 'error' to 'logloss'. Explicitly set eval_metric if you'd like to restore the old behavior.\n",
      " 29%|████████▊                     | 7/24 [00:11<00:22,  1.30s/trial, best loss: 0.128480808871702]"
     ]
    },
    {
     "name": "stderr",
     "output_type": "stream",
     "text": [
      "C:\\Program Files\\Python39\\python-3.9.0rc1.amd64\\lib\\site-packages\\xgboost\\sklearn.py:1146: UserWarning: The use of label encoder in XGBClassifier is deprecated and will be removed in a future release. To remove this warning, do the following: 1) Pass option use_label_encoder=False when constructing XGBClassifier object; and 2) Encode your labels (y) as integers starting with 0, i.e. 0, 1, 2, ..., [num_class - 1].\n",
      "  warnings.warn(label_encoder_deprecation_msg, UserWarning)\n",
      "\n"
     ]
    },
    {
     "name": "stdout",
     "output_type": "stream",
     "text": [
      "[13:15:20] WARNING: C:/Users/Administrator/workspace/xgboost-win64_release_1.4.0/src/learner.cc:1095: Starting in XGBoost 1.3.0, the default evaluation metric used with the objective 'binary:logistic' was changed from 'error' to 'logloss'. Explicitly set eval_metric if you'd like to restore the old behavior.\n",
      " 29%|████████▊                     | 7/24 [00:11<00:22,  1.30s/trial, best loss: 0.128480808871702]"
     ]
    },
    {
     "name": "stderr",
     "output_type": "stream",
     "text": [
      "C:\\Program Files\\Python39\\python-3.9.0rc1.amd64\\lib\\site-packages\\xgboost\\sklearn.py:1146: UserWarning: The use of label encoder in XGBClassifier is deprecated and will be removed in a future release. To remove this warning, do the following: 1) Pass option use_label_encoder=False when constructing XGBClassifier object; and 2) Encode your labels (y) as integers starting with 0, i.e. 0, 1, 2, ..., [num_class - 1].\n",
      "  warnings.warn(label_encoder_deprecation_msg, UserWarning)\n",
      "\n"
     ]
    },
    {
     "name": "stdout",
     "output_type": "stream",
     "text": [
      "[13:15:20] WARNING: C:/Users/Administrator/workspace/xgboost-win64_release_1.4.0/src/learner.cc:1095: Starting in XGBoost 1.3.0, the default evaluation metric used with the objective 'binary:logistic' was changed from 'error' to 'logloss'. Explicitly set eval_metric if you'd like to restore the old behavior.\n",
      " 33%|██████████                    | 8/24 [00:11<00:24,  1.50s/trial, best loss: 0.128480808871702]"
     ]
    },
    {
     "name": "stderr",
     "output_type": "stream",
     "text": [
      "C:\\Program Files\\Python39\\python-3.9.0rc1.amd64\\lib\\site-packages\\xgboost\\sklearn.py:1146: UserWarning: The use of label encoder in XGBClassifier is deprecated and will be removed in a future release. To remove this warning, do the following: 1) Pass option use_label_encoder=False when constructing XGBClassifier object; and 2) Encode your labels (y) as integers starting with 0, i.e. 0, 1, 2, ..., [num_class - 1].\n",
      "  warnings.warn(label_encoder_deprecation_msg, UserWarning)\n",
      "\n"
     ]
    },
    {
     "name": "stdout",
     "output_type": "stream",
     "text": [
      "[13:15:21] WARNING: C:/Users/Administrator/workspace/xgboost-win64_release_1.4.0/src/learner.cc:1095: Starting in XGBoost 1.3.0, the default evaluation metric used with the objective 'binary:logistic' was changed from 'error' to 'logloss'. Explicitly set eval_metric if you'd like to restore the old behavior.\n",
      " 33%|██████████                    | 8/24 [00:12<00:24,  1.50s/trial, best loss: 0.128480808871702]"
     ]
    },
    {
     "name": "stderr",
     "output_type": "stream",
     "text": [
      "C:\\Program Files\\Python39\\python-3.9.0rc1.amd64\\lib\\site-packages\\xgboost\\sklearn.py:1146: UserWarning: The use of label encoder in XGBClassifier is deprecated and will be removed in a future release. To remove this warning, do the following: 1) Pass option use_label_encoder=False when constructing XGBClassifier object; and 2) Encode your labels (y) as integers starting with 0, i.e. 0, 1, 2, ..., [num_class - 1].\n",
      "  warnings.warn(label_encoder_deprecation_msg, UserWarning)\n",
      "\n"
     ]
    },
    {
     "name": "stdout",
     "output_type": "stream",
     "text": [
      "[13:15:21] WARNING: C:/Users/Administrator/workspace/xgboost-win64_release_1.4.0/src/learner.cc:1095: Starting in XGBoost 1.3.0, the default evaluation metric used with the objective 'binary:logistic' was changed from 'error' to 'logloss'. Explicitly set eval_metric if you'd like to restore the old behavior.\n",
      " 33%|██████████                    | 8/24 [00:12<00:24,  1.50s/trial, best loss: 0.128480808871702]"
     ]
    },
    {
     "name": "stderr",
     "output_type": "stream",
     "text": [
      "C:\\Program Files\\Python39\\python-3.9.0rc1.amd64\\lib\\site-packages\\xgboost\\sklearn.py:1146: UserWarning: The use of label encoder in XGBClassifier is deprecated and will be removed in a future release. To remove this warning, do the following: 1) Pass option use_label_encoder=False when constructing XGBClassifier object; and 2) Encode your labels (y) as integers starting with 0, i.e. 0, 1, 2, ..., [num_class - 1].\n",
      "  warnings.warn(label_encoder_deprecation_msg, UserWarning)\n",
      "\n"
     ]
    },
    {
     "name": "stdout",
     "output_type": "stream",
     "text": [
      "[13:15:21] WARNING: C:/Users/Administrator/workspace/xgboost-win64_release_1.4.0/src/learner.cc:1095: Starting in XGBoost 1.3.0, the default evaluation metric used with the objective 'binary:logistic' was changed from 'error' to 'logloss'. Explicitly set eval_metric if you'd like to restore the old behavior.\n",
      " 33%|██████████                    | 8/24 [00:13<00:24,  1.50s/trial, best loss: 0.128480808871702]"
     ]
    },
    {
     "name": "stderr",
     "output_type": "stream",
     "text": [
      "C:\\Program Files\\Python39\\python-3.9.0rc1.amd64\\lib\\site-packages\\xgboost\\sklearn.py:1146: UserWarning: The use of label encoder in XGBClassifier is deprecated and will be removed in a future release. To remove this warning, do the following: 1) Pass option use_label_encoder=False when constructing XGBClassifier object; and 2) Encode your labels (y) as integers starting with 0, i.e. 0, 1, 2, ..., [num_class - 1].\n",
      "  warnings.warn(label_encoder_deprecation_msg, UserWarning)\n",
      "\n"
     ]
    },
    {
     "name": "stdout",
     "output_type": "stream",
     "text": [
      "[13:15:22] WARNING: C:/Users/Administrator/workspace/xgboost-win64_release_1.4.0/src/learner.cc:1095: Starting in XGBoost 1.3.0, the default evaluation metric used with the objective 'binary:logistic' was changed from 'error' to 'logloss'. Explicitly set eval_metric if you'd like to restore the old behavior.\n",
      " 33%|██████████                    | 8/24 [00:13<00:24,  1.50s/trial, best loss: 0.128480808871702]"
     ]
    },
    {
     "name": "stderr",
     "output_type": "stream",
     "text": [
      "C:\\Program Files\\Python39\\python-3.9.0rc1.amd64\\lib\\site-packages\\xgboost\\sklearn.py:1146: UserWarning: The use of label encoder in XGBClassifier is deprecated and will be removed in a future release. To remove this warning, do the following: 1) Pass option use_label_encoder=False when constructing XGBClassifier object; and 2) Encode your labels (y) as integers starting with 0, i.e. 0, 1, 2, ..., [num_class - 1].\n",
      "  warnings.warn(label_encoder_deprecation_msg, UserWarning)\n",
      "\n"
     ]
    },
    {
     "name": "stdout",
     "output_type": "stream",
     "text": [
      "[13:15:22] WARNING: C:/Users/Administrator/workspace/xgboost-win64_release_1.4.0/src/learner.cc:1095: Starting in XGBoost 1.3.0, the default evaluation metric used with the objective 'binary:logistic' was changed from 'error' to 'logloss'. Explicitly set eval_metric if you'd like to restore the old behavior.\n",
      " 38%|███████████▎                  | 9/24 [00:13<00:23,  1.55s/trial, best loss: 0.128480808871702]"
     ]
    },
    {
     "name": "stderr",
     "output_type": "stream",
     "text": [
      "C:\\Program Files\\Python39\\python-3.9.0rc1.amd64\\lib\\site-packages\\xgboost\\sklearn.py:1146: UserWarning: The use of label encoder in XGBClassifier is deprecated and will be removed in a future release. To remove this warning, do the following: 1) Pass option use_label_encoder=False when constructing XGBClassifier object; and 2) Encode your labels (y) as integers starting with 0, i.e. 0, 1, 2, ..., [num_class - 1].\n",
      "  warnings.warn(label_encoder_deprecation_msg, UserWarning)\n",
      "\n",
      "C:\\Program Files\\Python39\\python-3.9.0rc1.amd64\\lib\\site-packages\\xgboost\\sklearn.py:1146: UserWarning: The use of label encoder in XGBClassifier is deprecated and will be removed in a future release. To remove this warning, do the following: 1) Pass option use_label_encoder=False when constructing XGBClassifier object; and 2) Encode your labels (y) as integers starting with 0, i.e. 0, 1, 2, ..., [num_class - 1].\n",
      "  warnings.warn(label_encoder_deprecation_msg, UserWarning)\n"
     ]
    },
    {
     "name": "stdout",
     "output_type": "stream",
     "text": [
      "[13:15:22] WARNING: C:/Users/Administrator/workspace/xgboost-win64_release_1.4.0/src/learner.cc:1095: Starting in XGBoost 1.3.0, the default evaluation metric used with the objective 'binary:logistic' was changed from 'error' to 'logloss'. Explicitly set eval_metric if you'd like to restore the old behavior.\n",
      " 38%|███████████▎                  | 9/24 [00:13<00:23,  1.55s/trial, best loss: 0.128480808871702]"
     ]
    },
    {
     "name": "stderr",
     "output_type": "stream",
     "text": [
      "\n"
     ]
    },
    {
     "name": "stdout",
     "output_type": "stream",
     "text": [
      "[13:15:23] WARNING: C:/Users/Administrator/workspace/xgboost-win64_release_1.4.0/src/learner.cc:1095: Starting in XGBoost 1.3.0, the default evaluation metric used with the objective 'binary:logistic' was changed from 'error' to 'logloss'. Explicitly set eval_metric if you'd like to restore the old behavior.\n",
      " 38%|███████████▎                  | 9/24 [00:14<00:23,  1.55s/trial, best loss: 0.128480808871702]"
     ]
    },
    {
     "name": "stderr",
     "output_type": "stream",
     "text": [
      "C:\\Program Files\\Python39\\python-3.9.0rc1.amd64\\lib\\site-packages\\xgboost\\sklearn.py:1146: UserWarning: The use of label encoder in XGBClassifier is deprecated and will be removed in a future release. To remove this warning, do the following: 1) Pass option use_label_encoder=False when constructing XGBClassifier object; and 2) Encode your labels (y) as integers starting with 0, i.e. 0, 1, 2, ..., [num_class - 1].\n",
      "  warnings.warn(label_encoder_deprecation_msg, UserWarning)\n",
      "\n"
     ]
    },
    {
     "name": "stdout",
     "output_type": "stream",
     "text": [
      "[13:15:23] WARNING: C:/Users/Administrator/workspace/xgboost-win64_release_1.4.0/src/learner.cc:1095: Starting in XGBoost 1.3.0, the default evaluation metric used with the objective 'binary:logistic' was changed from 'error' to 'logloss'. Explicitly set eval_metric if you'd like to restore the old behavior.\n",
      " 38%|███████████▎                  | 9/24 [00:14<00:23,  1.55s/trial, best loss: 0.128480808871702]"
     ]
    },
    {
     "name": "stderr",
     "output_type": "stream",
     "text": [
      "C:\\Program Files\\Python39\\python-3.9.0rc1.amd64\\lib\\site-packages\\xgboost\\sklearn.py:1146: UserWarning: The use of label encoder in XGBClassifier is deprecated and will be removed in a future release. To remove this warning, do the following: 1) Pass option use_label_encoder=False when constructing XGBClassifier object; and 2) Encode your labels (y) as integers starting with 0, i.e. 0, 1, 2, ..., [num_class - 1].\n",
      "  warnings.warn(label_encoder_deprecation_msg, UserWarning)\n",
      "\n"
     ]
    },
    {
     "name": "stdout",
     "output_type": "stream",
     "text": [
      "[13:15:23] WARNING: C:/Users/Administrator/workspace/xgboost-win64_release_1.4.0/src/learner.cc:1095: Starting in XGBoost 1.3.0, the default evaluation metric used with the objective 'binary:logistic' was changed from 'error' to 'logloss'. Explicitly set eval_metric if you'd like to restore the old behavior.\n",
      " 38%|███████████▎                  | 9/24 [00:14<00:23,  1.55s/trial, best loss: 0.128480808871702]"
     ]
    },
    {
     "name": "stderr",
     "output_type": "stream",
     "text": [
      "C:\\Program Files\\Python39\\python-3.9.0rc1.amd64\\lib\\site-packages\\xgboost\\sklearn.py:1146: UserWarning: The use of label encoder in XGBClassifier is deprecated and will be removed in a future release. To remove this warning, do the following: 1) Pass option use_label_encoder=False when constructing XGBClassifier object; and 2) Encode your labels (y) as integers starting with 0, i.e. 0, 1, 2, ..., [num_class - 1].\n",
      "  warnings.warn(label_encoder_deprecation_msg, UserWarning)\n",
      "\n"
     ]
    },
    {
     "name": "stdout",
     "output_type": "stream",
     "text": [
      "[13:15:23] WARNING: C:/Users/Administrator/workspace/xgboost-win64_release_1.4.0/src/learner.cc:1095: Starting in XGBoost 1.3.0, the default evaluation metric used with the objective 'binary:logistic' was changed from 'error' to 'logloss'. Explicitly set eval_metric if you'd like to restore the old behavior.\n",
      " 42%|████████████                 | 10/24 [00:14<00:21,  1.50s/trial, best loss: 0.128480808871702]"
     ]
    },
    {
     "name": "stderr",
     "output_type": "stream",
     "text": [
      "C:\\Program Files\\Python39\\python-3.9.0rc1.amd64\\lib\\site-packages\\xgboost\\sklearn.py:1146: UserWarning: The use of label encoder in XGBClassifier is deprecated and will be removed in a future release. To remove this warning, do the following: 1) Pass option use_label_encoder=False when constructing XGBClassifier object; and 2) Encode your labels (y) as integers starting with 0, i.e. 0, 1, 2, ..., [num_class - 1].\n",
      "  warnings.warn(label_encoder_deprecation_msg, UserWarning)\n",
      "\n"
     ]
    },
    {
     "name": "stdout",
     "output_type": "stream",
     "text": [
      "[13:15:24] WARNING: C:/Users/Administrator/workspace/xgboost-win64_release_1.4.0/src/learner.cc:1095: Starting in XGBoost 1.3.0, the default evaluation metric used with the objective 'binary:logistic' was changed from 'error' to 'logloss'. Explicitly set eval_metric if you'd like to restore the old behavior.\n",
      " 42%|████████████                 | 10/24 [00:15<00:21,  1.50s/trial, best loss: 0.128480808871702]"
     ]
    },
    {
     "name": "stderr",
     "output_type": "stream",
     "text": [
      "C:\\Program Files\\Python39\\python-3.9.0rc1.amd64\\lib\\site-packages\\xgboost\\sklearn.py:1146: UserWarning: The use of label encoder in XGBClassifier is deprecated and will be removed in a future release. To remove this warning, do the following: 1) Pass option use_label_encoder=False when constructing XGBClassifier object; and 2) Encode your labels (y) as integers starting with 0, i.e. 0, 1, 2, ..., [num_class - 1].\n",
      "  warnings.warn(label_encoder_deprecation_msg, UserWarning)\n",
      "\n"
     ]
    },
    {
     "name": "stdout",
     "output_type": "stream",
     "text": [
      "[13:15:24] WARNING: C:/Users/Administrator/workspace/xgboost-win64_release_1.4.0/src/learner.cc:1095: Starting in XGBoost 1.3.0, the default evaluation metric used with the objective 'binary:logistic' was changed from 'error' to 'logloss'. Explicitly set eval_metric if you'd like to restore the old behavior.\n",
      " 42%|████████████                 | 10/24 [00:15<00:21,  1.50s/trial, best loss: 0.128480808871702]"
     ]
    },
    {
     "name": "stderr",
     "output_type": "stream",
     "text": [
      "C:\\Program Files\\Python39\\python-3.9.0rc1.amd64\\lib\\site-packages\\xgboost\\sklearn.py:1146: UserWarning: The use of label encoder in XGBClassifier is deprecated and will be removed in a future release. To remove this warning, do the following: 1) Pass option use_label_encoder=False when constructing XGBClassifier object; and 2) Encode your labels (y) as integers starting with 0, i.e. 0, 1, 2, ..., [num_class - 1].\n",
      "  warnings.warn(label_encoder_deprecation_msg, UserWarning)\n",
      "\n"
     ]
    },
    {
     "name": "stdout",
     "output_type": "stream",
     "text": [
      "[13:15:24] WARNING: C:/Users/Administrator/workspace/xgboost-win64_release_1.4.0/src/learner.cc:1095: Starting in XGBoost 1.3.0, the default evaluation metric used with the objective 'binary:logistic' was changed from 'error' to 'logloss'. Explicitly set eval_metric if you'd like to restore the old behavior.\n",
      " 42%|████████████                 | 10/24 [00:16<00:21,  1.50s/trial, best loss: 0.128480808871702]"
     ]
    },
    {
     "name": "stderr",
     "output_type": "stream",
     "text": [
      "C:\\Program Files\\Python39\\python-3.9.0rc1.amd64\\lib\\site-packages\\xgboost\\sklearn.py:1146: UserWarning: The use of label encoder in XGBClassifier is deprecated and will be removed in a future release. To remove this warning, do the following: 1) Pass option use_label_encoder=False when constructing XGBClassifier object; and 2) Encode your labels (y) as integers starting with 0, i.e. 0, 1, 2, ..., [num_class - 1].\n",
      "  warnings.warn(label_encoder_deprecation_msg, UserWarning)\n",
      "\n"
     ]
    },
    {
     "name": "stdout",
     "output_type": "stream",
     "text": [
      "[13:15:25] WARNING: C:/Users/Administrator/workspace/xgboost-win64_release_1.4.0/src/learner.cc:1095: Starting in XGBoost 1.3.0, the default evaluation metric used with the objective 'binary:logistic' was changed from 'error' to 'logloss'. Explicitly set eval_metric if you'd like to restore the old behavior.\n",
      " 42%|████████████                 | 10/24 [00:16<00:21,  1.50s/trial, best loss: 0.128480808871702]"
     ]
    },
    {
     "name": "stderr",
     "output_type": "stream",
     "text": [
      "C:\\Program Files\\Python39\\python-3.9.0rc1.amd64\\lib\\site-packages\\xgboost\\sklearn.py:1146: UserWarning: The use of label encoder in XGBClassifier is deprecated and will be removed in a future release. To remove this warning, do the following: 1) Pass option use_label_encoder=False when constructing XGBClassifier object; and 2) Encode your labels (y) as integers starting with 0, i.e. 0, 1, 2, ..., [num_class - 1].\n",
      "  warnings.warn(label_encoder_deprecation_msg, UserWarning)\n",
      "\n"
     ]
    },
    {
     "name": "stdout",
     "output_type": "stream",
     "text": [
      "[13:15:25] WARNING: C:/Users/Administrator/workspace/xgboost-win64_release_1.4.0/src/learner.cc:1095: Starting in XGBoost 1.3.0, the default evaluation metric used with the objective 'binary:logistic' was changed from 'error' to 'logloss'. Explicitly set eval_metric if you'd like to restore the old behavior.\n",
      " 46%|████████████▍              | 11/24 [00:17<00:21,  1.66s/trial, best loss: 0.12739959833573722]"
     ]
    },
    {
     "name": "stderr",
     "output_type": "stream",
     "text": [
      "C:\\Program Files\\Python39\\python-3.9.0rc1.amd64\\lib\\site-packages\\xgboost\\sklearn.py:1146: UserWarning: The use of label encoder in XGBClassifier is deprecated and will be removed in a future release. To remove this warning, do the following: 1) Pass option use_label_encoder=False when constructing XGBClassifier object; and 2) Encode your labels (y) as integers starting with 0, i.e. 0, 1, 2, ..., [num_class - 1].\n",
      "  warnings.warn(label_encoder_deprecation_msg, UserWarning)\n",
      "\n"
     ]
    },
    {
     "name": "stdout",
     "output_type": "stream",
     "text": [
      "[13:15:26] WARNING: C:/Users/Administrator/workspace/xgboost-win64_release_1.4.0/src/learner.cc:1095: Starting in XGBoost 1.3.0, the default evaluation metric used with the objective 'binary:logistic' was changed from 'error' to 'logloss'. Explicitly set eval_metric if you'd like to restore the old behavior.\n",
      " 46%|████████████▍              | 11/24 [00:17<00:21,  1.66s/trial, best loss: 0.12739959833573722]"
     ]
    },
    {
     "name": "stderr",
     "output_type": "stream",
     "text": [
      "C:\\Program Files\\Python39\\python-3.9.0rc1.amd64\\lib\\site-packages\\xgboost\\sklearn.py:1146: UserWarning: The use of label encoder in XGBClassifier is deprecated and will be removed in a future release. To remove this warning, do the following: 1) Pass option use_label_encoder=False when constructing XGBClassifier object; and 2) Encode your labels (y) as integers starting with 0, i.e. 0, 1, 2, ..., [num_class - 1].\n",
      "  warnings.warn(label_encoder_deprecation_msg, UserWarning)\n",
      "\n"
     ]
    },
    {
     "name": "stdout",
     "output_type": "stream",
     "text": [
      "[13:15:26] WARNING: C:/Users/Administrator/workspace/xgboost-win64_release_1.4.0/src/learner.cc:1095: Starting in XGBoost 1.3.0, the default evaluation metric used with the objective 'binary:logistic' was changed from 'error' to 'logloss'. Explicitly set eval_metric if you'd like to restore the old behavior.\n",
      "[13:15:26] WARNING: C:/Users/Administrator/workspace/xgboost-win64_release_1.4.0/src/learner.cc:1095: Starting in XGBoost 1.3.0, the default evaluation metric used with the objective 'binary:logistic' was changed from 'error' to 'logloss'. Explicitly set eval_metric if you'd like to restore the old behavior.\n",
      " 46%|████████████▍              | 11/24 [00:17<00:21,  1.66s/trial, best loss: 0.12739959833573722]"
     ]
    },
    {
     "name": "stderr",
     "output_type": "stream",
     "text": [
      "C:\\Program Files\\Python39\\python-3.9.0rc1.amd64\\lib\\site-packages\\xgboost\\sklearn.py:1146: UserWarning: The use of label encoder in XGBClassifier is deprecated and will be removed in a future release. To remove this warning, do the following: 1) Pass option use_label_encoder=False when constructing XGBClassifier object; and 2) Encode your labels (y) as integers starting with 0, i.e. 0, 1, 2, ..., [num_class - 1].\n",
      "  warnings.warn(label_encoder_deprecation_msg, UserWarning)\n",
      "\n",
      "C:\\Program Files\\Python39\\python-3.9.0rc1.amd64\\lib\\site-packages\\xgboost\\sklearn.py:1146: UserWarning: The use of label encoder in XGBClassifier is deprecated and will be removed in a future release. To remove this warning, do the following: 1) Pass option use_label_encoder=False when constructing XGBClassifier object; and 2) Encode your labels (y) as integers starting with 0, i.e. 0, 1, 2, ..., [num_class - 1].\n",
      "  warnings.warn(label_encoder_deprecation_msg, UserWarning)\n",
      "\n"
     ]
    },
    {
     "name": "stdout",
     "output_type": "stream",
     "text": [
      "[13:15:26] WARNING: C:/Users/Administrator/workspace/xgboost-win64_release_1.4.0/src/learner.cc:1095: Starting in XGBoost 1.3.0, the default evaluation metric used with the objective 'binary:logistic' was changed from 'error' to 'logloss'. Explicitly set eval_metric if you'd like to restore the old behavior.\n",
      " 46%|████████████▍              | 11/24 [00:18<00:21,  1.66s/trial, best loss: 0.12739959833573722]"
     ]
    },
    {
     "name": "stderr",
     "output_type": "stream",
     "text": [
      "C:\\Program Files\\Python39\\python-3.9.0rc1.amd64\\lib\\site-packages\\xgboost\\sklearn.py:1146: UserWarning: The use of label encoder in XGBClassifier is deprecated and will be removed in a future release. To remove this warning, do the following: 1) Pass option use_label_encoder=False when constructing XGBClassifier object; and 2) Encode your labels (y) as integers starting with 0, i.e. 0, 1, 2, ..., [num_class - 1].\n",
      "  warnings.warn(label_encoder_deprecation_msg, UserWarning)\n",
      "\n"
     ]
    },
    {
     "name": "stdout",
     "output_type": "stream",
     "text": [
      "[13:15:27] WARNING: C:/Users/Administrator/workspace/xgboost-win64_release_1.4.0/src/learner.cc:1095: Starting in XGBoost 1.3.0, the default evaluation metric used with the objective 'binary:logistic' was changed from 'error' to 'logloss'. Explicitly set eval_metric if you'd like to restore the old behavior.\n",
      " 50%|█████████████▌             | 12/24 [00:18<00:18,  1.54s/trial, best loss: 0.12739959833573722]"
     ]
    },
    {
     "name": "stderr",
     "output_type": "stream",
     "text": [
      "C:\\Program Files\\Python39\\python-3.9.0rc1.amd64\\lib\\site-packages\\xgboost\\sklearn.py:1146: UserWarning: The use of label encoder in XGBClassifier is deprecated and will be removed in a future release. To remove this warning, do the following: 1) Pass option use_label_encoder=False when constructing XGBClassifier object; and 2) Encode your labels (y) as integers starting with 0, i.e. 0, 1, 2, ..., [num_class - 1].\n",
      "  warnings.warn(label_encoder_deprecation_msg, UserWarning)\n",
      "\n"
     ]
    },
    {
     "name": "stdout",
     "output_type": "stream",
     "text": [
      "[13:15:27] WARNING: C:/Users/Administrator/workspace/xgboost-win64_release_1.4.0/src/learner.cc:1095: Starting in XGBoost 1.3.0, the default evaluation metric used with the objective 'binary:logistic' was changed from 'error' to 'logloss'. Explicitly set eval_metric if you'd like to restore the old behavior.\n",
      " 50%|█████████████▌             | 12/24 [00:18<00:18,  1.54s/trial, best loss: 0.12739959833573722]"
     ]
    },
    {
     "name": "stderr",
     "output_type": "stream",
     "text": [
      "C:\\Program Files\\Python39\\python-3.9.0rc1.amd64\\lib\\site-packages\\xgboost\\sklearn.py:1146: UserWarning: The use of label encoder in XGBClassifier is deprecated and will be removed in a future release. To remove this warning, do the following: 1) Pass option use_label_encoder=False when constructing XGBClassifier object; and 2) Encode your labels (y) as integers starting with 0, i.e. 0, 1, 2, ..., [num_class - 1].\n",
      "  warnings.warn(label_encoder_deprecation_msg, UserWarning)\n",
      "\n"
     ]
    },
    {
     "name": "stdout",
     "output_type": "stream",
     "text": [
      "[13:15:27] WARNING: C:/Users/Administrator/workspace/xgboost-win64_release_1.4.0/src/learner.cc:1095: Starting in XGBoost 1.3.0, the default evaluation metric used with the objective 'binary:logistic' was changed from 'error' to 'logloss'. Explicitly set eval_metric if you'd like to restore the old behavior.\n",
      " 50%|█████████████▌             | 12/24 [00:18<00:18,  1.54s/trial, best loss: 0.12739959833573722]"
     ]
    },
    {
     "name": "stderr",
     "output_type": "stream",
     "text": [
      "C:\\Program Files\\Python39\\python-3.9.0rc1.amd64\\lib\\site-packages\\xgboost\\sklearn.py:1146: UserWarning: The use of label encoder in XGBClassifier is deprecated and will be removed in a future release. To remove this warning, do the following: 1) Pass option use_label_encoder=False when constructing XGBClassifier object; and 2) Encode your labels (y) as integers starting with 0, i.e. 0, 1, 2, ..., [num_class - 1].\n",
      "  warnings.warn(label_encoder_deprecation_msg, UserWarning)\n",
      "\n"
     ]
    },
    {
     "name": "stdout",
     "output_type": "stream",
     "text": [
      "[13:15:28] WARNING: C:/Users/Administrator/workspace/xgboost-win64_release_1.4.0/src/learner.cc:1095: Starting in XGBoost 1.3.0, the default evaluation metric used with the objective 'binary:logistic' was changed from 'error' to 'logloss'. Explicitly set eval_metric if you'd like to restore the old behavior.\n",
      " 50%|█████████████▌             | 12/24 [00:19<00:18,  1.54s/trial, best loss: 0.12739959833573722]"
     ]
    },
    {
     "name": "stderr",
     "output_type": "stream",
     "text": [
      "C:\\Program Files\\Python39\\python-3.9.0rc1.amd64\\lib\\site-packages\\xgboost\\sklearn.py:1146: UserWarning: The use of label encoder in XGBClassifier is deprecated and will be removed in a future release. To remove this warning, do the following: 1) Pass option use_label_encoder=False when constructing XGBClassifier object; and 2) Encode your labels (y) as integers starting with 0, i.e. 0, 1, 2, ..., [num_class - 1].\n",
      "  warnings.warn(label_encoder_deprecation_msg, UserWarning)\n",
      "\n"
     ]
    },
    {
     "name": "stdout",
     "output_type": "stream",
     "text": [
      "[13:15:28] WARNING: C:/Users/Administrator/workspace/xgboost-win64_release_1.4.0/src/learner.cc:1095: Starting in XGBoost 1.3.0, the default evaluation metric used with the objective 'binary:logistic' was changed from 'error' to 'logloss'. Explicitly set eval_metric if you'd like to restore the old behavior.\n",
      " 50%|█████████████▌             | 12/24 [00:19<00:18,  1.54s/trial, best loss: 0.12739959833573722]"
     ]
    },
    {
     "name": "stderr",
     "output_type": "stream",
     "text": [
      "C:\\Program Files\\Python39\\python-3.9.0rc1.amd64\\lib\\site-packages\\xgboost\\sklearn.py:1146: UserWarning: The use of label encoder in XGBClassifier is deprecated and will be removed in a future release. To remove this warning, do the following: 1) Pass option use_label_encoder=False when constructing XGBClassifier object; and 2) Encode your labels (y) as integers starting with 0, i.e. 0, 1, 2, ..., [num_class - 1].\n",
      "  warnings.warn(label_encoder_deprecation_msg, UserWarning)\n",
      "\n"
     ]
    },
    {
     "name": "stdout",
     "output_type": "stream",
     "text": [
      "[13:15:28] WARNING: C:/Users/Administrator/workspace/xgboost-win64_release_1.4.0/src/learner.cc:1095: Starting in XGBoost 1.3.0, the default evaluation metric used with the objective 'binary:logistic' was changed from 'error' to 'logloss'. Explicitly set eval_metric if you'd like to restore the old behavior.\n",
      " 54%|██████████████▌            | 13/24 [00:19<00:17,  1.57s/trial, best loss: 0.12739959833573722]"
     ]
    },
    {
     "name": "stderr",
     "output_type": "stream",
     "text": [
      "C:\\Program Files\\Python39\\python-3.9.0rc1.amd64\\lib\\site-packages\\xgboost\\sklearn.py:1146: UserWarning: The use of label encoder in XGBClassifier is deprecated and will be removed in a future release. To remove this warning, do the following: 1) Pass option use_label_encoder=False when constructing XGBClassifier object; and 2) Encode your labels (y) as integers starting with 0, i.e. 0, 1, 2, ..., [num_class - 1].\n",
      "  warnings.warn(label_encoder_deprecation_msg, UserWarning)\n",
      "\n"
     ]
    },
    {
     "name": "stdout",
     "output_type": "stream",
     "text": [
      "[13:15:29] WARNING: C:/Users/Administrator/workspace/xgboost-win64_release_1.4.0/src/learner.cc:1095: Starting in XGBoost 1.3.0, the default evaluation metric used with the objective 'binary:logistic' was changed from 'error' to 'logloss'. Explicitly set eval_metric if you'd like to restore the old behavior.\n",
      " 54%|██████████████▌            | 13/24 [00:20<00:17,  1.57s/trial, best loss: 0.12739959833573722]"
     ]
    },
    {
     "name": "stderr",
     "output_type": "stream",
     "text": [
      "C:\\Program Files\\Python39\\python-3.9.0rc1.amd64\\lib\\site-packages\\xgboost\\sklearn.py:1146: UserWarning: The use of label encoder in XGBClassifier is deprecated and will be removed in a future release. To remove this warning, do the following: 1) Pass option use_label_encoder=False when constructing XGBClassifier object; and 2) Encode your labels (y) as integers starting with 0, i.e. 0, 1, 2, ..., [num_class - 1].\n",
      "  warnings.warn(label_encoder_deprecation_msg, UserWarning)\n",
      "\n"
     ]
    },
    {
     "name": "stdout",
     "output_type": "stream",
     "text": [
      "[13:15:29] WARNING: C:/Users/Administrator/workspace/xgboost-win64_release_1.4.0/src/learner.cc:1095: Starting in XGBoost 1.3.0, the default evaluation metric used with the objective 'binary:logistic' was changed from 'error' to 'logloss'. Explicitly set eval_metric if you'd like to restore the old behavior.\n",
      " 54%|██████████████▌            | 13/24 [00:20<00:17,  1.57s/trial, best loss: 0.12739959833573722]"
     ]
    },
    {
     "name": "stderr",
     "output_type": "stream",
     "text": [
      "C:\\Program Files\\Python39\\python-3.9.0rc1.amd64\\lib\\site-packages\\xgboost\\sklearn.py:1146: UserWarning: The use of label encoder in XGBClassifier is deprecated and will be removed in a future release. To remove this warning, do the following: 1) Pass option use_label_encoder=False when constructing XGBClassifier object; and 2) Encode your labels (y) as integers starting with 0, i.e. 0, 1, 2, ..., [num_class - 1].\n",
      "  warnings.warn(label_encoder_deprecation_msg, UserWarning)\n",
      "\n"
     ]
    },
    {
     "name": "stdout",
     "output_type": "stream",
     "text": [
      "[13:15:29] WARNING: C:/Users/Administrator/workspace/xgboost-win64_release_1.4.0/src/learner.cc:1095: Starting in XGBoost 1.3.0, the default evaluation metric used with the objective 'binary:logistic' was changed from 'error' to 'logloss'. Explicitly set eval_metric if you'd like to restore the old behavior.\n",
      " 54%|██████████████▌            | 13/24 [00:21<00:17,  1.57s/trial, best loss: 0.12739959833573722]"
     ]
    },
    {
     "name": "stderr",
     "output_type": "stream",
     "text": [
      "C:\\Program Files\\Python39\\python-3.9.0rc1.amd64\\lib\\site-packages\\xgboost\\sklearn.py:1146: UserWarning: The use of label encoder in XGBClassifier is deprecated and will be removed in a future release. To remove this warning, do the following: 1) Pass option use_label_encoder=False when constructing XGBClassifier object; and 2) Encode your labels (y) as integers starting with 0, i.e. 0, 1, 2, ..., [num_class - 1].\n",
      "  warnings.warn(label_encoder_deprecation_msg, UserWarning)\n",
      "\n"
     ]
    },
    {
     "name": "stdout",
     "output_type": "stream",
     "text": [
      "[13:15:30] WARNING: C:/Users/Administrator/workspace/xgboost-win64_release_1.4.0/src/learner.cc:1095: Starting in XGBoost 1.3.0, the default evaluation metric used with the objective 'binary:logistic' was changed from 'error' to 'logloss'. Explicitly set eval_metric if you'd like to restore the old behavior.\n",
      " 54%|██████████████▌            | 13/24 [00:21<00:17,  1.57s/trial, best loss: 0.12739959833573722]"
     ]
    },
    {
     "name": "stderr",
     "output_type": "stream",
     "text": [
      "C:\\Program Files\\Python39\\python-3.9.0rc1.amd64\\lib\\site-packages\\xgboost\\sklearn.py:1146: UserWarning: The use of label encoder in XGBClassifier is deprecated and will be removed in a future release. To remove this warning, do the following: 1) Pass option use_label_encoder=False when constructing XGBClassifier object; and 2) Encode your labels (y) as integers starting with 0, i.e. 0, 1, 2, ..., [num_class - 1].\n",
      "  warnings.warn(label_encoder_deprecation_msg, UserWarning)\n",
      "\n"
     ]
    },
    {
     "name": "stdout",
     "output_type": "stream",
     "text": [
      "[13:15:30] WARNING: C:/Users/Administrator/workspace/xgboost-win64_release_1.4.0/src/learner.cc:1095: Starting in XGBoost 1.3.0, the default evaluation metric used with the objective 'binary:logistic' was changed from 'error' to 'logloss'. Explicitly set eval_metric if you'd like to restore the old behavior.\n",
      " 58%|███████████████▊           | 14/24 [00:21<00:16,  1.66s/trial, best loss: 0.12739959833573722]"
     ]
    },
    {
     "name": "stderr",
     "output_type": "stream",
     "text": [
      "C:\\Program Files\\Python39\\python-3.9.0rc1.amd64\\lib\\site-packages\\xgboost\\sklearn.py:1146: UserWarning: The use of label encoder in XGBClassifier is deprecated and will be removed in a future release. To remove this warning, do the following: 1) Pass option use_label_encoder=False when constructing XGBClassifier object; and 2) Encode your labels (y) as integers starting with 0, i.e. 0, 1, 2, ..., [num_class - 1].\n",
      "  warnings.warn(label_encoder_deprecation_msg, UserWarning)\n",
      "\n"
     ]
    },
    {
     "name": "stdout",
     "output_type": "stream",
     "text": [
      "[13:15:31] WARNING: C:/Users/Administrator/workspace/xgboost-win64_release_1.4.0/src/learner.cc:1095: Starting in XGBoost 1.3.0, the default evaluation metric used with the objective 'binary:logistic' was changed from 'error' to 'logloss'. Explicitly set eval_metric if you'd like to restore the old behavior.\n",
      " 58%|███████████████▊           | 14/24 [00:22<00:16,  1.66s/trial, best loss: 0.12739959833573722]"
     ]
    },
    {
     "name": "stderr",
     "output_type": "stream",
     "text": [
      "C:\\Program Files\\Python39\\python-3.9.0rc1.amd64\\lib\\site-packages\\xgboost\\sklearn.py:1146: UserWarning: The use of label encoder in XGBClassifier is deprecated and will be removed in a future release. To remove this warning, do the following: 1) Pass option use_label_encoder=False when constructing XGBClassifier object; and 2) Encode your labels (y) as integers starting with 0, i.e. 0, 1, 2, ..., [num_class - 1].\n",
      "  warnings.warn(label_encoder_deprecation_msg, UserWarning)\n",
      "\n"
     ]
    },
    {
     "name": "stdout",
     "output_type": "stream",
     "text": [
      "[13:15:31] WARNING: C:/Users/Administrator/workspace/xgboost-win64_release_1.4.0/src/learner.cc:1095: Starting in XGBoost 1.3.0, the default evaluation metric used with the objective 'binary:logistic' was changed from 'error' to 'logloss'. Explicitly set eval_metric if you'd like to restore the old behavior.\n",
      " 58%|███████████████▊           | 14/24 [00:22<00:16,  1.66s/trial, best loss: 0.12739959833573722]"
     ]
    },
    {
     "name": "stderr",
     "output_type": "stream",
     "text": [
      "C:\\Program Files\\Python39\\python-3.9.0rc1.amd64\\lib\\site-packages\\xgboost\\sklearn.py:1146: UserWarning: The use of label encoder in XGBClassifier is deprecated and will be removed in a future release. To remove this warning, do the following: 1) Pass option use_label_encoder=False when constructing XGBClassifier object; and 2) Encode your labels (y) as integers starting with 0, i.e. 0, 1, 2, ..., [num_class - 1].\n",
      "  warnings.warn(label_encoder_deprecation_msg, UserWarning)\n",
      "\n"
     ]
    },
    {
     "name": "stdout",
     "output_type": "stream",
     "text": [
      "[13:15:32] WARNING: C:/Users/Administrator/workspace/xgboost-win64_release_1.4.0/src/learner.cc:1095: Starting in XGBoost 1.3.0, the default evaluation metric used with the objective 'binary:logistic' was changed from 'error' to 'logloss'. Explicitly set eval_metric if you'd like to restore the old behavior.\n",
      " 58%|███████████████▊           | 14/24 [00:23<00:16,  1.66s/trial, best loss: 0.12739959833573722]"
     ]
    },
    {
     "name": "stderr",
     "output_type": "stream",
     "text": [
      "C:\\Program Files\\Python39\\python-3.9.0rc1.amd64\\lib\\site-packages\\xgboost\\sklearn.py:1146: UserWarning: The use of label encoder in XGBClassifier is deprecated and will be removed in a future release. To remove this warning, do the following: 1) Pass option use_label_encoder=False when constructing XGBClassifier object; and 2) Encode your labels (y) as integers starting with 0, i.e. 0, 1, 2, ..., [num_class - 1].\n",
      "  warnings.warn(label_encoder_deprecation_msg, UserWarning)\n",
      "\n"
     ]
    },
    {
     "name": "stdout",
     "output_type": "stream",
     "text": [
      "[13:15:34] WARNING: C:/Users/Administrator/workspace/xgboost-win64_release_1.4.0/src/learner.cc:1095: Starting in XGBoost 1.3.0, the default evaluation metric used with the objective 'binary:logistic' was changed from 'error' to 'logloss'. Explicitly set eval_metric if you'd like to restore the old behavior.\n",
      " 58%|███████████████▊           | 14/24 [00:25<00:16,  1.66s/trial, best loss: 0.12739959833573722]"
     ]
    },
    {
     "name": "stderr",
     "output_type": "stream",
     "text": [
      "C:\\Program Files\\Python39\\python-3.9.0rc1.amd64\\lib\\site-packages\\xgboost\\sklearn.py:1146: UserWarning: The use of label encoder in XGBClassifier is deprecated and will be removed in a future release. To remove this warning, do the following: 1) Pass option use_label_encoder=False when constructing XGBClassifier object; and 2) Encode your labels (y) as integers starting with 0, i.e. 0, 1, 2, ..., [num_class - 1].\n",
      "  warnings.warn(label_encoder_deprecation_msg, UserWarning)\n",
      "\n"
     ]
    },
    {
     "name": "stdout",
     "output_type": "stream",
     "text": [
      "[13:15:37] WARNING: C:/Users/Administrator/workspace/xgboost-win64_release_1.4.0/src/learner.cc:1095: Starting in XGBoost 1.3.0, the default evaluation metric used with the objective 'binary:logistic' was changed from 'error' to 'logloss'. Explicitly set eval_metric if you'd like to restore the old behavior.\n",
      " 62%|████████████████▉          | 15/24 [00:28<00:28,  3.13s/trial, best loss: 0.12739959833573722]"
     ]
    },
    {
     "name": "stderr",
     "output_type": "stream",
     "text": [
      "C:\\Program Files\\Python39\\python-3.9.0rc1.amd64\\lib\\site-packages\\xgboost\\sklearn.py:1146: UserWarning: The use of label encoder in XGBClassifier is deprecated and will be removed in a future release. To remove this warning, do the following: 1) Pass option use_label_encoder=False when constructing XGBClassifier object; and 2) Encode your labels (y) as integers starting with 0, i.e. 0, 1, 2, ..., [num_class - 1].\n",
      "  warnings.warn(label_encoder_deprecation_msg, UserWarning)\n",
      "\n"
     ]
    },
    {
     "name": "stdout",
     "output_type": "stream",
     "text": [
      "[13:15:43] WARNING: C:/Users/Administrator/workspace/xgboost-win64_release_1.4.0/src/learner.cc:1095: Starting in XGBoost 1.3.0, the default evaluation metric used with the objective 'binary:logistic' was changed from 'error' to 'logloss'. Explicitly set eval_metric if you'd like to restore the old behavior.\n",
      " 62%|████████████████▉          | 15/24 [00:34<00:28,  3.13s/trial, best loss: 0.12739959833573722]"
     ]
    },
    {
     "name": "stderr",
     "output_type": "stream",
     "text": [
      "C:\\Program Files\\Python39\\python-3.9.0rc1.amd64\\lib\\site-packages\\xgboost\\sklearn.py:1146: UserWarning: The use of label encoder in XGBClassifier is deprecated and will be removed in a future release. To remove this warning, do the following: 1) Pass option use_label_encoder=False when constructing XGBClassifier object; and 2) Encode your labels (y) as integers starting with 0, i.e. 0, 1, 2, ..., [num_class - 1].\n",
      "  warnings.warn(label_encoder_deprecation_msg, UserWarning)\n",
      "\n"
     ]
    },
    {
     "name": "stdout",
     "output_type": "stream",
     "text": [
      "[13:15:43] WARNING: C:/Users/Administrator/workspace/xgboost-win64_release_1.4.0/src/learner.cc:1095: Starting in XGBoost 1.3.0, the default evaluation metric used with the objective 'binary:logistic' was changed from 'error' to 'logloss'. Explicitly set eval_metric if you'd like to restore the old behavior.\n",
      " 62%|████████████████▉          | 15/24 [00:34<00:28,  3.13s/trial, best loss: 0.12739959833573722]"
     ]
    },
    {
     "name": "stderr",
     "output_type": "stream",
     "text": [
      "C:\\Program Files\\Python39\\python-3.9.0rc1.amd64\\lib\\site-packages\\xgboost\\sklearn.py:1146: UserWarning: The use of label encoder in XGBClassifier is deprecated and will be removed in a future release. To remove this warning, do the following: 1) Pass option use_label_encoder=False when constructing XGBClassifier object; and 2) Encode your labels (y) as integers starting with 0, i.e. 0, 1, 2, ..., [num_class - 1].\n",
      "  warnings.warn(label_encoder_deprecation_msg, UserWarning)\n",
      "\n"
     ]
    },
    {
     "name": "stdout",
     "output_type": "stream",
     "text": [
      "[13:15:44] WARNING: C:/Users/Administrator/workspace/xgboost-win64_release_1.4.0/src/learner.cc:1095: Starting in XGBoost 1.3.0, the default evaluation metric used with the objective 'binary:logistic' was changed from 'error' to 'logloss'. Explicitly set eval_metric if you'd like to restore the old behavior.\n",
      " 62%|████████████████▉          | 15/24 [00:35<00:28,  3.13s/trial, best loss: 0.12739959833573722]"
     ]
    },
    {
     "name": "stderr",
     "output_type": "stream",
     "text": [
      "C:\\Program Files\\Python39\\python-3.9.0rc1.amd64\\lib\\site-packages\\xgboost\\sklearn.py:1146: UserWarning: The use of label encoder in XGBClassifier is deprecated and will be removed in a future release. To remove this warning, do the following: 1) Pass option use_label_encoder=False when constructing XGBClassifier object; and 2) Encode your labels (y) as integers starting with 0, i.e. 0, 1, 2, ..., [num_class - 1].\n",
      "  warnings.warn(label_encoder_deprecation_msg, UserWarning)\n",
      "\n"
     ]
    },
    {
     "name": "stdout",
     "output_type": "stream",
     "text": [
      "[13:15:44] WARNING: C:/Users/Administrator/workspace/xgboost-win64_release_1.4.0/src/learner.cc:1095: Starting in XGBoost 1.3.0, the default evaluation metric used with the objective 'binary:logistic' was changed from 'error' to 'logloss'. Explicitly set eval_metric if you'd like to restore the old behavior.\n",
      " 62%|████████████████▉          | 15/24 [00:35<00:28,  3.13s/trial, best loss: 0.12739959833573722]"
     ]
    },
    {
     "name": "stderr",
     "output_type": "stream",
     "text": [
      "C:\\Program Files\\Python39\\python-3.9.0rc1.amd64\\lib\\site-packages\\xgboost\\sklearn.py:1146: UserWarning: The use of label encoder in XGBClassifier is deprecated and will be removed in a future release. To remove this warning, do the following: 1) Pass option use_label_encoder=False when constructing XGBClassifier object; and 2) Encode your labels (y) as integers starting with 0, i.e. 0, 1, 2, ..., [num_class - 1].\n",
      "  warnings.warn(label_encoder_deprecation_msg, UserWarning)\n",
      "\n"
     ]
    },
    {
     "name": "stdout",
     "output_type": "stream",
     "text": [
      "[13:15:45] WARNING: C:/Users/Administrator/workspace/xgboost-win64_release_1.4.0/src/learner.cc:1095: Starting in XGBoost 1.3.0, the default evaluation metric used with the objective 'binary:logistic' was changed from 'error' to 'logloss'. Explicitly set eval_metric if you'd like to restore the old behavior.\n",
      " 67%|██████████████████         | 16/24 [00:36<00:37,  4.66s/trial, best loss: 0.12739959833573722]"
     ]
    },
    {
     "name": "stderr",
     "output_type": "stream",
     "text": [
      "C:\\Program Files\\Python39\\python-3.9.0rc1.amd64\\lib\\site-packages\\xgboost\\sklearn.py:1146: UserWarning: The use of label encoder in XGBClassifier is deprecated and will be removed in a future release. To remove this warning, do the following: 1) Pass option use_label_encoder=False when constructing XGBClassifier object; and 2) Encode your labels (y) as integers starting with 0, i.e. 0, 1, 2, ..., [num_class - 1].\n",
      "  warnings.warn(label_encoder_deprecation_msg, UserWarning)\n",
      "\n"
     ]
    },
    {
     "name": "stdout",
     "output_type": "stream",
     "text": [
      "[13:15:46] WARNING: C:/Users/Administrator/workspace/xgboost-win64_release_1.4.0/src/learner.cc:1095: Starting in XGBoost 1.3.0, the default evaluation metric used with the objective 'binary:logistic' was changed from 'error' to 'logloss'. Explicitly set eval_metric if you'd like to restore the old behavior.\n",
      " 67%|██████████████████         | 16/24 [00:37<00:37,  4.66s/trial, best loss: 0.12739959833573722]"
     ]
    },
    {
     "name": "stderr",
     "output_type": "stream",
     "text": [
      "C:\\Program Files\\Python39\\python-3.9.0rc1.amd64\\lib\\site-packages\\xgboost\\sklearn.py:1146: UserWarning: The use of label encoder in XGBClassifier is deprecated and will be removed in a future release. To remove this warning, do the following: 1) Pass option use_label_encoder=False when constructing XGBClassifier object; and 2) Encode your labels (y) as integers starting with 0, i.e. 0, 1, 2, ..., [num_class - 1].\n",
      "  warnings.warn(label_encoder_deprecation_msg, UserWarning)\n",
      "\n"
     ]
    },
    {
     "name": "stdout",
     "output_type": "stream",
     "text": [
      "[13:15:46] WARNING: C:/Users/Administrator/workspace/xgboost-win64_release_1.4.0/src/learner.cc:1095: Starting in XGBoost 1.3.0, the default evaluation metric used with the objective 'binary:logistic' was changed from 'error' to 'logloss'. Explicitly set eval_metric if you'd like to restore the old behavior.\n",
      " 67%|██████████████████         | 16/24 [00:37<00:37,  4.66s/trial, best loss: 0.12739959833573722]"
     ]
    },
    {
     "name": "stderr",
     "output_type": "stream",
     "text": [
      "C:\\Program Files\\Python39\\python-3.9.0rc1.amd64\\lib\\site-packages\\xgboost\\sklearn.py:1146: UserWarning: The use of label encoder in XGBClassifier is deprecated and will be removed in a future release. To remove this warning, do the following: 1) Pass option use_label_encoder=False when constructing XGBClassifier object; and 2) Encode your labels (y) as integers starting with 0, i.e. 0, 1, 2, ..., [num_class - 1].\n",
      "  warnings.warn(label_encoder_deprecation_msg, UserWarning)\n",
      "\n"
     ]
    },
    {
     "name": "stdout",
     "output_type": "stream",
     "text": [
      "[13:15:47] WARNING: C:/Users/Administrator/workspace/xgboost-win64_release_1.4.0/src/learner.cc:1095: Starting in XGBoost 1.3.0, the default evaluation metric used with the objective 'binary:logistic' was changed from 'error' to 'logloss'. Explicitly set eval_metric if you'd like to restore the old behavior.\n",
      " 67%|██████████████████         | 16/24 [00:38<00:37,  4.66s/trial, best loss: 0.12739959833573722]"
     ]
    },
    {
     "name": "stderr",
     "output_type": "stream",
     "text": [
      "C:\\Program Files\\Python39\\python-3.9.0rc1.amd64\\lib\\site-packages\\xgboost\\sklearn.py:1146: UserWarning: The use of label encoder in XGBClassifier is deprecated and will be removed in a future release. To remove this warning, do the following: 1) Pass option use_label_encoder=False when constructing XGBClassifier object; and 2) Encode your labels (y) as integers starting with 0, i.e. 0, 1, 2, ..., [num_class - 1].\n",
      "  warnings.warn(label_encoder_deprecation_msg, UserWarning)\n",
      "\n"
     ]
    },
    {
     "name": "stdout",
     "output_type": "stream",
     "text": [
      "[13:15:48] WARNING: C:/Users/Administrator/workspace/xgboost-win64_release_1.4.0/src/learner.cc:1095: Starting in XGBoost 1.3.0, the default evaluation metric used with the objective 'binary:logistic' was changed from 'error' to 'logloss'. Explicitly set eval_metric if you'd like to restore the old behavior.\n",
      " 67%|██████████████████         | 16/24 [00:40<00:37,  4.66s/trial, best loss: 0.12739959833573722]"
     ]
    },
    {
     "name": "stderr",
     "output_type": "stream",
     "text": [
      "C:\\Program Files\\Python39\\python-3.9.0rc1.amd64\\lib\\site-packages\\xgboost\\sklearn.py:1146: UserWarning: The use of label encoder in XGBClassifier is deprecated and will be removed in a future release. To remove this warning, do the following: 1) Pass option use_label_encoder=False when constructing XGBClassifier object; and 2) Encode your labels (y) as integers starting with 0, i.e. 0, 1, 2, ..., [num_class - 1].\n",
      "  warnings.warn(label_encoder_deprecation_msg, UserWarning)\n",
      "\n"
     ]
    },
    {
     "name": "stdout",
     "output_type": "stream",
     "text": [
      "[13:15:50] WARNING: C:/Users/Administrator/workspace/xgboost-win64_release_1.4.0/src/learner.cc:1095: Starting in XGBoost 1.3.0, the default evaluation metric used with the objective 'binary:logistic' was changed from 'error' to 'logloss'. Explicitly set eval_metric if you'd like to restore the old behavior.\n",
      " 71%|███████████████████▏       | 17/24 [00:41<00:33,  4.77s/trial, best loss: 0.12739959833573722]"
     ]
    },
    {
     "name": "stderr",
     "output_type": "stream",
     "text": [
      "C:\\Program Files\\Python39\\python-3.9.0rc1.amd64\\lib\\site-packages\\xgboost\\sklearn.py:1146: UserWarning: The use of label encoder in XGBClassifier is deprecated and will be removed in a future release. To remove this warning, do the following: 1) Pass option use_label_encoder=False when constructing XGBClassifier object; and 2) Encode your labels (y) as integers starting with 0, i.e. 0, 1, 2, ..., [num_class - 1].\n",
      "  warnings.warn(label_encoder_deprecation_msg, UserWarning)\n",
      "\n"
     ]
    },
    {
     "name": "stdout",
     "output_type": "stream",
     "text": [
      "[13:15:51] WARNING: C:/Users/Administrator/workspace/xgboost-win64_release_1.4.0/src/learner.cc:1095: Starting in XGBoost 1.3.0, the default evaluation metric used with the objective 'binary:logistic' was changed from 'error' to 'logloss'. Explicitly set eval_metric if you'd like to restore the old behavior.\n",
      " 71%|███████████████████▏       | 17/24 [00:42<00:33,  4.77s/trial, best loss: 0.12739959833573722]"
     ]
    },
    {
     "name": "stderr",
     "output_type": "stream",
     "text": [
      "C:\\Program Files\\Python39\\python-3.9.0rc1.amd64\\lib\\site-packages\\xgboost\\sklearn.py:1146: UserWarning: The use of label encoder in XGBClassifier is deprecated and will be removed in a future release. To remove this warning, do the following: 1) Pass option use_label_encoder=False when constructing XGBClassifier object; and 2) Encode your labels (y) as integers starting with 0, i.e. 0, 1, 2, ..., [num_class - 1].\n",
      "  warnings.warn(label_encoder_deprecation_msg, UserWarning)\n",
      "\n"
     ]
    },
    {
     "name": "stdout",
     "output_type": "stream",
     "text": [
      "[13:15:51] WARNING: C:/Users/Administrator/workspace/xgboost-win64_release_1.4.0/src/learner.cc:1095: Starting in XGBoost 1.3.0, the default evaluation metric used with the objective 'binary:logistic' was changed from 'error' to 'logloss'. Explicitly set eval_metric if you'd like to restore the old behavior.\n",
      " 71%|███████████████████▏       | 17/24 [00:42<00:33,  4.77s/trial, best loss: 0.12739959833573722]"
     ]
    },
    {
     "name": "stderr",
     "output_type": "stream",
     "text": [
      "C:\\Program Files\\Python39\\python-3.9.0rc1.amd64\\lib\\site-packages\\xgboost\\sklearn.py:1146: UserWarning: The use of label encoder in XGBClassifier is deprecated and will be removed in a future release. To remove this warning, do the following: 1) Pass option use_label_encoder=False when constructing XGBClassifier object; and 2) Encode your labels (y) as integers starting with 0, i.e. 0, 1, 2, ..., [num_class - 1].\n",
      "  warnings.warn(label_encoder_deprecation_msg, UserWarning)\n",
      "\n"
     ]
    },
    {
     "name": "stdout",
     "output_type": "stream",
     "text": [
      "[13:15:52] WARNING: C:/Users/Administrator/workspace/xgboost-win64_release_1.4.0/src/learner.cc:1095: Starting in XGBoost 1.3.0, the default evaluation metric used with the objective 'binary:logistic' was changed from 'error' to 'logloss'. Explicitly set eval_metric if you'd like to restore the old behavior.\n",
      " 71%|███████████████████▏       | 17/24 [00:43<00:33,  4.77s/trial, best loss: 0.12739959833573722]"
     ]
    },
    {
     "name": "stderr",
     "output_type": "stream",
     "text": [
      "C:\\Program Files\\Python39\\python-3.9.0rc1.amd64\\lib\\site-packages\\xgboost\\sklearn.py:1146: UserWarning: The use of label encoder in XGBClassifier is deprecated and will be removed in a future release. To remove this warning, do the following: 1) Pass option use_label_encoder=False when constructing XGBClassifier object; and 2) Encode your labels (y) as integers starting with 0, i.e. 0, 1, 2, ..., [num_class - 1].\n",
      "  warnings.warn(label_encoder_deprecation_msg, UserWarning)\n",
      "\n"
     ]
    },
    {
     "name": "stdout",
     "output_type": "stream",
     "text": [
      "[13:15:52] WARNING: C:/Users/Administrator/workspace/xgboost-win64_release_1.4.0/src/learner.cc:1095: Starting in XGBoost 1.3.0, the default evaluation metric used with the objective 'binary:logistic' was changed from 'error' to 'logloss'. Explicitly set eval_metric if you'd like to restore the old behavior.\n",
      " 71%|███████████████████▏       | 17/24 [00:43<00:33,  4.77s/trial, best loss: 0.12739959833573722]"
     ]
    },
    {
     "name": "stderr",
     "output_type": "stream",
     "text": [
      "C:\\Program Files\\Python39\\python-3.9.0rc1.amd64\\lib\\site-packages\\xgboost\\sklearn.py:1146: UserWarning: The use of label encoder in XGBClassifier is deprecated and will be removed in a future release. To remove this warning, do the following: 1) Pass option use_label_encoder=False when constructing XGBClassifier object; and 2) Encode your labels (y) as integers starting with 0, i.e. 0, 1, 2, ..., [num_class - 1].\n",
      "  warnings.warn(label_encoder_deprecation_msg, UserWarning)\n",
      "\n"
     ]
    },
    {
     "name": "stdout",
     "output_type": "stream",
     "text": [
      "[13:15:53] WARNING: C:/Users/Administrator/workspace/xgboost-win64_release_1.4.0/src/learner.cc:1095: Starting in XGBoost 1.3.0, the default evaluation metric used with the objective 'binary:logistic' was changed from 'error' to 'logloss'. Explicitly set eval_metric if you'd like to restore the old behavior.\n",
      " 75%|████████████████████▎      | 18/24 [00:44<00:25,  4.17s/trial, best loss: 0.12739959833573722]"
     ]
    },
    {
     "name": "stderr",
     "output_type": "stream",
     "text": [
      "C:\\Program Files\\Python39\\python-3.9.0rc1.amd64\\lib\\site-packages\\xgboost\\sklearn.py:1146: UserWarning: The use of label encoder in XGBClassifier is deprecated and will be removed in a future release. To remove this warning, do the following: 1) Pass option use_label_encoder=False when constructing XGBClassifier object; and 2) Encode your labels (y) as integers starting with 0, i.e. 0, 1, 2, ..., [num_class - 1].\n",
      "  warnings.warn(label_encoder_deprecation_msg, UserWarning)\n",
      "\n"
     ]
    },
    {
     "name": "stdout",
     "output_type": "stream",
     "text": [
      "[13:15:53] WARNING: C:/Users/Administrator/workspace/xgboost-win64_release_1.4.0/src/learner.cc:1095: Starting in XGBoost 1.3.0, the default evaluation metric used with the objective 'binary:logistic' was changed from 'error' to 'logloss'. Explicitly set eval_metric if you'd like to restore the old behavior.\n",
      " 75%|████████████████████▎      | 18/24 [00:44<00:25,  4.17s/trial, best loss: 0.12739959833573722]"
     ]
    },
    {
     "name": "stderr",
     "output_type": "stream",
     "text": [
      "C:\\Program Files\\Python39\\python-3.9.0rc1.amd64\\lib\\site-packages\\xgboost\\sklearn.py:1146: UserWarning: The use of label encoder in XGBClassifier is deprecated and will be removed in a future release. To remove this warning, do the following: 1) Pass option use_label_encoder=False when constructing XGBClassifier object; and 2) Encode your labels (y) as integers starting with 0, i.e. 0, 1, 2, ..., [num_class - 1].\n",
      "  warnings.warn(label_encoder_deprecation_msg, UserWarning)\n",
      "\n"
     ]
    },
    {
     "name": "stdout",
     "output_type": "stream",
     "text": [
      "[13:15:54] WARNING: C:/Users/Administrator/workspace/xgboost-win64_release_1.4.0/src/learner.cc:1095: Starting in XGBoost 1.3.0, the default evaluation metric used with the objective 'binary:logistic' was changed from 'error' to 'logloss'. Explicitly set eval_metric if you'd like to restore the old behavior.\n",
      " 75%|████████████████████▎      | 18/24 [00:45<00:25,  4.17s/trial, best loss: 0.12739959833573722]"
     ]
    },
    {
     "name": "stderr",
     "output_type": "stream",
     "text": [
      "C:\\Program Files\\Python39\\python-3.9.0rc1.amd64\\lib\\site-packages\\xgboost\\sklearn.py:1146: UserWarning: The use of label encoder in XGBClassifier is deprecated and will be removed in a future release. To remove this warning, do the following: 1) Pass option use_label_encoder=False when constructing XGBClassifier object; and 2) Encode your labels (y) as integers starting with 0, i.e. 0, 1, 2, ..., [num_class - 1].\n",
      "  warnings.warn(label_encoder_deprecation_msg, UserWarning)\n",
      "\n"
     ]
    },
    {
     "name": "stdout",
     "output_type": "stream",
     "text": [
      "[13:15:55] WARNING: C:/Users/Administrator/workspace/xgboost-win64_release_1.4.0/src/learner.cc:1095: Starting in XGBoost 1.3.0, the default evaluation metric used with the objective 'binary:logistic' was changed from 'error' to 'logloss'. Explicitly set eval_metric if you'd like to restore the old behavior.\n",
      " 75%|████████████████████▎      | 18/24 [00:46<00:25,  4.17s/trial, best loss: 0.12739959833573722]"
     ]
    },
    {
     "name": "stderr",
     "output_type": "stream",
     "text": [
      "C:\\Program Files\\Python39\\python-3.9.0rc1.amd64\\lib\\site-packages\\xgboost\\sklearn.py:1146: UserWarning: The use of label encoder in XGBClassifier is deprecated and will be removed in a future release. To remove this warning, do the following: 1) Pass option use_label_encoder=False when constructing XGBClassifier object; and 2) Encode your labels (y) as integers starting with 0, i.e. 0, 1, 2, ..., [num_class - 1].\n",
      "  warnings.warn(label_encoder_deprecation_msg, UserWarning)\n",
      "\n"
     ]
    },
    {
     "name": "stdout",
     "output_type": "stream",
     "text": [
      "[13:15:55] WARNING: C:/Users/Administrator/workspace/xgboost-win64_release_1.4.0/src/learner.cc:1095: Starting in XGBoost 1.3.0, the default evaluation metric used with the objective 'binary:logistic' was changed from 'error' to 'logloss'. Explicitly set eval_metric if you'd like to restore the old behavior.\n",
      " 75%|████████████████████▎      | 18/24 [00:47<00:25,  4.17s/trial, best loss: 0.12739959833573722]"
     ]
    },
    {
     "name": "stderr",
     "output_type": "stream",
     "text": [
      "C:\\Program Files\\Python39\\python-3.9.0rc1.amd64\\lib\\site-packages\\xgboost\\sklearn.py:1146: UserWarning: The use of label encoder in XGBClassifier is deprecated and will be removed in a future release. To remove this warning, do the following: 1) Pass option use_label_encoder=False when constructing XGBClassifier object; and 2) Encode your labels (y) as integers starting with 0, i.e. 0, 1, 2, ..., [num_class - 1].\n",
      "  warnings.warn(label_encoder_deprecation_msg, UserWarning)\n",
      "\n"
     ]
    },
    {
     "name": "stdout",
     "output_type": "stream",
     "text": [
      "[13:15:56] WARNING: C:/Users/Administrator/workspace/xgboost-win64_release_1.4.0/src/learner.cc:1095: Starting in XGBoost 1.3.0, the default evaluation metric used with the objective 'binary:logistic' was changed from 'error' to 'logloss'. Explicitly set eval_metric if you'd like to restore the old behavior.\n",
      " 79%|█████████████████████▍     | 19/24 [00:47<00:19,  3.90s/trial, best loss: 0.12739959833573722]"
     ]
    },
    {
     "name": "stderr",
     "output_type": "stream",
     "text": [
      "C:\\Program Files\\Python39\\python-3.9.0rc1.amd64\\lib\\site-packages\\xgboost\\sklearn.py:1146: UserWarning: The use of label encoder in XGBClassifier is deprecated and will be removed in a future release. To remove this warning, do the following: 1) Pass option use_label_encoder=False when constructing XGBClassifier object; and 2) Encode your labels (y) as integers starting with 0, i.e. 0, 1, 2, ..., [num_class - 1].\n",
      "  warnings.warn(label_encoder_deprecation_msg, UserWarning)\n",
      "\n"
     ]
    },
    {
     "name": "stdout",
     "output_type": "stream",
     "text": [
      "[13:15:57] WARNING: C:/Users/Administrator/workspace/xgboost-win64_release_1.4.0/src/learner.cc:1095: Starting in XGBoost 1.3.0, the default evaluation metric used with the objective 'binary:logistic' was changed from 'error' to 'logloss'. Explicitly set eval_metric if you'd like to restore the old behavior.\n",
      " 79%|█████████████████████▍     | 19/24 [00:48<00:19,  3.90s/trial, best loss: 0.12739959833573722]"
     ]
    },
    {
     "name": "stderr",
     "output_type": "stream",
     "text": [
      "C:\\Program Files\\Python39\\python-3.9.0rc1.amd64\\lib\\site-packages\\xgboost\\sklearn.py:1146: UserWarning: The use of label encoder in XGBClassifier is deprecated and will be removed in a future release. To remove this warning, do the following: 1) Pass option use_label_encoder=False when constructing XGBClassifier object; and 2) Encode your labels (y) as integers starting with 0, i.e. 0, 1, 2, ..., [num_class - 1].\n",
      "  warnings.warn(label_encoder_deprecation_msg, UserWarning)\n",
      "\n"
     ]
    },
    {
     "name": "stdout",
     "output_type": "stream",
     "text": [
      "[13:15:57] WARNING: C:/Users/Administrator/workspace/xgboost-win64_release_1.4.0/src/learner.cc:1095: Starting in XGBoost 1.3.0, the default evaluation metric used with the objective 'binary:logistic' was changed from 'error' to 'logloss'. Explicitly set eval_metric if you'd like to restore the old behavior.\n",
      " 79%|█████████████████████▍     | 19/24 [00:48<00:19,  3.90s/trial, best loss: 0.12739959833573722]"
     ]
    },
    {
     "name": "stderr",
     "output_type": "stream",
     "text": [
      "C:\\Program Files\\Python39\\python-3.9.0rc1.amd64\\lib\\site-packages\\xgboost\\sklearn.py:1146: UserWarning: The use of label encoder in XGBClassifier is deprecated and will be removed in a future release. To remove this warning, do the following: 1) Pass option use_label_encoder=False when constructing XGBClassifier object; and 2) Encode your labels (y) as integers starting with 0, i.e. 0, 1, 2, ..., [num_class - 1].\n",
      "  warnings.warn(label_encoder_deprecation_msg, UserWarning)\n",
      "\n"
     ]
    },
    {
     "name": "stdout",
     "output_type": "stream",
     "text": [
      "[13:15:57] WARNING: C:/Users/Administrator/workspace/xgboost-win64_release_1.4.0/src/learner.cc:1095: Starting in XGBoost 1.3.0, the default evaluation metric used with the objective 'binary:logistic' was changed from 'error' to 'logloss'. Explicitly set eval_metric if you'd like to restore the old behavior.\n",
      " 79%|█████████████████████▍     | 19/24 [00:48<00:19,  3.90s/trial, best loss: 0.12739959833573722]"
     ]
    },
    {
     "name": "stderr",
     "output_type": "stream",
     "text": [
      "C:\\Program Files\\Python39\\python-3.9.0rc1.amd64\\lib\\site-packages\\xgboost\\sklearn.py:1146: UserWarning: The use of label encoder in XGBClassifier is deprecated and will be removed in a future release. To remove this warning, do the following: 1) Pass option use_label_encoder=False when constructing XGBClassifier object; and 2) Encode your labels (y) as integers starting with 0, i.e. 0, 1, 2, ..., [num_class - 1].\n",
      "  warnings.warn(label_encoder_deprecation_msg, UserWarning)\n",
      "\n"
     ]
    },
    {
     "name": "stdout",
     "output_type": "stream",
     "text": [
      "[13:15:57] WARNING: C:/Users/Administrator/workspace/xgboost-win64_release_1.4.0/src/learner.cc:1095: Starting in XGBoost 1.3.0, the default evaluation metric used with the objective 'binary:logistic' was changed from 'error' to 'logloss'. Explicitly set eval_metric if you'd like to restore the old behavior.\n",
      " 79%|█████████████████████▍     | 19/24 [00:49<00:19,  3.90s/trial, best loss: 0.12739959833573722]"
     ]
    },
    {
     "name": "stderr",
     "output_type": "stream",
     "text": [
      "C:\\Program Files\\Python39\\python-3.9.0rc1.amd64\\lib\\site-packages\\xgboost\\sklearn.py:1146: UserWarning: The use of label encoder in XGBClassifier is deprecated and will be removed in a future release. To remove this warning, do the following: 1) Pass option use_label_encoder=False when constructing XGBClassifier object; and 2) Encode your labels (y) as integers starting with 0, i.e. 0, 1, 2, ..., [num_class - 1].\n",
      "  warnings.warn(label_encoder_deprecation_msg, UserWarning)\n",
      "\n"
     ]
    },
    {
     "name": "stdout",
     "output_type": "stream",
     "text": [
      "[13:15:58] WARNING: C:/Users/Administrator/workspace/xgboost-win64_release_1.4.0/src/learner.cc:1095: Starting in XGBoost 1.3.0, the default evaluation metric used with the objective 'binary:logistic' was changed from 'error' to 'logloss'. Explicitly set eval_metric if you'd like to restore the old behavior.\n",
      " 83%|██████████████████████▌    | 20/24 [00:49<00:13,  3.36s/trial, best loss: 0.12739959833573722]"
     ]
    },
    {
     "name": "stderr",
     "output_type": "stream",
     "text": [
      "C:\\Program Files\\Python39\\python-3.9.0rc1.amd64\\lib\\site-packages\\xgboost\\sklearn.py:1146: UserWarning: The use of label encoder in XGBClassifier is deprecated and will be removed in a future release. To remove this warning, do the following: 1) Pass option use_label_encoder=False when constructing XGBClassifier object; and 2) Encode your labels (y) as integers starting with 0, i.e. 0, 1, 2, ..., [num_class - 1].\n",
      "  warnings.warn(label_encoder_deprecation_msg, UserWarning)\n",
      "\n"
     ]
    },
    {
     "name": "stdout",
     "output_type": "stream",
     "text": [
      "[13:15:59] WARNING: C:/Users/Administrator/workspace/xgboost-win64_release_1.4.0/src/learner.cc:1095: Starting in XGBoost 1.3.0, the default evaluation metric used with the objective 'binary:logistic' was changed from 'error' to 'logloss'. Explicitly set eval_metric if you'd like to restore the old behavior.\n",
      " 83%|██████████████████████▌    | 20/24 [00:50<00:13,  3.36s/trial, best loss: 0.12739959833573722]"
     ]
    },
    {
     "name": "stderr",
     "output_type": "stream",
     "text": [
      "C:\\Program Files\\Python39\\python-3.9.0rc1.amd64\\lib\\site-packages\\xgboost\\sklearn.py:1146: UserWarning: The use of label encoder in XGBClassifier is deprecated and will be removed in a future release. To remove this warning, do the following: 1) Pass option use_label_encoder=False when constructing XGBClassifier object; and 2) Encode your labels (y) as integers starting with 0, i.e. 0, 1, 2, ..., [num_class - 1].\n",
      "  warnings.warn(label_encoder_deprecation_msg, UserWarning)\n",
      "\n"
     ]
    },
    {
     "name": "stdout",
     "output_type": "stream",
     "text": [
      "[13:16:00] WARNING: C:/Users/Administrator/workspace/xgboost-win64_release_1.4.0/src/learner.cc:1095: Starting in XGBoost 1.3.0, the default evaluation metric used with the objective 'binary:logistic' was changed from 'error' to 'logloss'. Explicitly set eval_metric if you'd like to restore the old behavior.\n",
      " 83%|██████████████████████▌    | 20/24 [00:51<00:13,  3.36s/trial, best loss: 0.12739959833573722]"
     ]
    },
    {
     "name": "stderr",
     "output_type": "stream",
     "text": [
      "C:\\Program Files\\Python39\\python-3.9.0rc1.amd64\\lib\\site-packages\\xgboost\\sklearn.py:1146: UserWarning: The use of label encoder in XGBClassifier is deprecated and will be removed in a future release. To remove this warning, do the following: 1) Pass option use_label_encoder=False when constructing XGBClassifier object; and 2) Encode your labels (y) as integers starting with 0, i.e. 0, 1, 2, ..., [num_class - 1].\n",
      "  warnings.warn(label_encoder_deprecation_msg, UserWarning)\n",
      "\n"
     ]
    },
    {
     "name": "stdout",
     "output_type": "stream",
     "text": [
      "[13:16:01] WARNING: C:/Users/Administrator/workspace/xgboost-win64_release_1.4.0/src/learner.cc:1095: Starting in XGBoost 1.3.0, the default evaluation metric used with the objective 'binary:logistic' was changed from 'error' to 'logloss'. Explicitly set eval_metric if you'd like to restore the old behavior.\n",
      " 83%|██████████████████████▌    | 20/24 [00:52<00:13,  3.36s/trial, best loss: 0.12739959833573722]"
     ]
    },
    {
     "name": "stderr",
     "output_type": "stream",
     "text": [
      "C:\\Program Files\\Python39\\python-3.9.0rc1.amd64\\lib\\site-packages\\xgboost\\sklearn.py:1146: UserWarning: The use of label encoder in XGBClassifier is deprecated and will be removed in a future release. To remove this warning, do the following: 1) Pass option use_label_encoder=False when constructing XGBClassifier object; and 2) Encode your labels (y) as integers starting with 0, i.e. 0, 1, 2, ..., [num_class - 1].\n",
      "  warnings.warn(label_encoder_deprecation_msg, UserWarning)\n",
      "\n"
     ]
    },
    {
     "name": "stdout",
     "output_type": "stream",
     "text": [
      "[13:16:02] WARNING: C:/Users/Administrator/workspace/xgboost-win64_release_1.4.0/src/learner.cc:1095: Starting in XGBoost 1.3.0, the default evaluation metric used with the objective 'binary:logistic' was changed from 'error' to 'logloss'. Explicitly set eval_metric if you'd like to restore the old behavior.\n",
      " 83%|██████████████████████▌    | 20/24 [00:53<00:13,  3.36s/trial, best loss: 0.12739959833573722]"
     ]
    },
    {
     "name": "stderr",
     "output_type": "stream",
     "text": [
      "C:\\Program Files\\Python39\\python-3.9.0rc1.amd64\\lib\\site-packages\\xgboost\\sklearn.py:1146: UserWarning: The use of label encoder in XGBClassifier is deprecated and will be removed in a future release. To remove this warning, do the following: 1) Pass option use_label_encoder=False when constructing XGBClassifier object; and 2) Encode your labels (y) as integers starting with 0, i.e. 0, 1, 2, ..., [num_class - 1].\n",
      "  warnings.warn(label_encoder_deprecation_msg, UserWarning)\n",
      "\n"
     ]
    },
    {
     "name": "stdout",
     "output_type": "stream",
     "text": [
      "[13:16:03] WARNING: C:/Users/Administrator/workspace/xgboost-win64_release_1.4.0/src/learner.cc:1095: Starting in XGBoost 1.3.0, the default evaluation metric used with the objective 'binary:logistic' was changed from 'error' to 'logloss'. Explicitly set eval_metric if you'd like to restore the old behavior.\n",
      " 88%|███████████████████████▋   | 21/24 [00:54<00:11,  3.89s/trial, best loss: 0.12583497201616023]"
     ]
    },
    {
     "name": "stderr",
     "output_type": "stream",
     "text": [
      "C:\\Program Files\\Python39\\python-3.9.0rc1.amd64\\lib\\site-packages\\xgboost\\sklearn.py:1146: UserWarning: The use of label encoder in XGBClassifier is deprecated and will be removed in a future release. To remove this warning, do the following: 1) Pass option use_label_encoder=False when constructing XGBClassifier object; and 2) Encode your labels (y) as integers starting with 0, i.e. 0, 1, 2, ..., [num_class - 1].\n",
      "  warnings.warn(label_encoder_deprecation_msg, UserWarning)\n",
      "\n"
     ]
    },
    {
     "name": "stdout",
     "output_type": "stream",
     "text": [
      "[13:16:05] WARNING: C:/Users/Administrator/workspace/xgboost-win64_release_1.4.0/src/learner.cc:1095: Starting in XGBoost 1.3.0, the default evaluation metric used with the objective 'binary:logistic' was changed from 'error' to 'logloss'. Explicitly set eval_metric if you'd like to restore the old behavior.\n",
      " 88%|███████████████████████▋   | 21/24 [00:56<00:11,  3.89s/trial, best loss: 0.12583497201616023]"
     ]
    },
    {
     "name": "stderr",
     "output_type": "stream",
     "text": [
      "C:\\Program Files\\Python39\\python-3.9.0rc1.amd64\\lib\\site-packages\\xgboost\\sklearn.py:1146: UserWarning: The use of label encoder in XGBClassifier is deprecated and will be removed in a future release. To remove this warning, do the following: 1) Pass option use_label_encoder=False when constructing XGBClassifier object; and 2) Encode your labels (y) as integers starting with 0, i.e. 0, 1, 2, ..., [num_class - 1].\n",
      "  warnings.warn(label_encoder_deprecation_msg, UserWarning)\n",
      "\n"
     ]
    },
    {
     "name": "stdout",
     "output_type": "stream",
     "text": [
      "[13:16:06] WARNING: C:/Users/Administrator/workspace/xgboost-win64_release_1.4.0/src/learner.cc:1095: Starting in XGBoost 1.3.0, the default evaluation metric used with the objective 'binary:logistic' was changed from 'error' to 'logloss'. Explicitly set eval_metric if you'd like to restore the old behavior.\n",
      " 88%|███████████████████████▋   | 21/24 [00:57<00:11,  3.89s/trial, best loss: 0.12583497201616023]"
     ]
    },
    {
     "name": "stderr",
     "output_type": "stream",
     "text": [
      "C:\\Program Files\\Python39\\python-3.9.0rc1.amd64\\lib\\site-packages\\xgboost\\sklearn.py:1146: UserWarning: The use of label encoder in XGBClassifier is deprecated and will be removed in a future release. To remove this warning, do the following: 1) Pass option use_label_encoder=False when constructing XGBClassifier object; and 2) Encode your labels (y) as integers starting with 0, i.e. 0, 1, 2, ..., [num_class - 1].\n",
      "  warnings.warn(label_encoder_deprecation_msg, UserWarning)\n",
      "\n"
     ]
    },
    {
     "name": "stdout",
     "output_type": "stream",
     "text": [
      "[13:16:08] WARNING: C:/Users/Administrator/workspace/xgboost-win64_release_1.4.0/src/learner.cc:1095: Starting in XGBoost 1.3.0, the default evaluation metric used with the objective 'binary:logistic' was changed from 'error' to 'logloss'. Explicitly set eval_metric if you'd like to restore the old behavior.\n",
      " 88%|███████████████████████▋   | 21/24 [00:59<00:11,  3.89s/trial, best loss: 0.12583497201616023]"
     ]
    },
    {
     "name": "stderr",
     "output_type": "stream",
     "text": [
      "C:\\Program Files\\Python39\\python-3.9.0rc1.amd64\\lib\\site-packages\\xgboost\\sklearn.py:1146: UserWarning: The use of label encoder in XGBClassifier is deprecated and will be removed in a future release. To remove this warning, do the following: 1) Pass option use_label_encoder=False when constructing XGBClassifier object; and 2) Encode your labels (y) as integers starting with 0, i.e. 0, 1, 2, ..., [num_class - 1].\n",
      "  warnings.warn(label_encoder_deprecation_msg, UserWarning)\n",
      "\n"
     ]
    },
    {
     "name": "stdout",
     "output_type": "stream",
     "text": [
      "[13:16:09] WARNING: C:/Users/Administrator/workspace/xgboost-win64_release_1.4.0/src/learner.cc:1095: Starting in XGBoost 1.3.0, the default evaluation metric used with the objective 'binary:logistic' was changed from 'error' to 'logloss'. Explicitly set eval_metric if you'd like to restore the old behavior.\n",
      " 88%|███████████████████████▋   | 21/24 [01:00<00:11,  3.89s/trial, best loss: 0.12583497201616023]"
     ]
    },
    {
     "name": "stderr",
     "output_type": "stream",
     "text": [
      "C:\\Program Files\\Python39\\python-3.9.0rc1.amd64\\lib\\site-packages\\xgboost\\sklearn.py:1146: UserWarning: The use of label encoder in XGBClassifier is deprecated and will be removed in a future release. To remove this warning, do the following: 1) Pass option use_label_encoder=False when constructing XGBClassifier object; and 2) Encode your labels (y) as integers starting with 0, i.e. 0, 1, 2, ..., [num_class - 1].\n",
      "  warnings.warn(label_encoder_deprecation_msg, UserWarning)\n",
      "\n"
     ]
    },
    {
     "name": "stdout",
     "output_type": "stream",
     "text": [
      "[13:16:11] WARNING: C:/Users/Administrator/workspace/xgboost-win64_release_1.4.0/src/learner.cc:1095: Starting in XGBoost 1.3.0, the default evaluation metric used with the objective 'binary:logistic' was changed from 'error' to 'logloss'. Explicitly set eval_metric if you'd like to restore the old behavior.\n",
      " 92%|████████████████████████▊  | 22/24 [01:02<00:10,  5.09s/trial, best loss: 0.12406778253244322]"
     ]
    },
    {
     "name": "stderr",
     "output_type": "stream",
     "text": [
      "C:\\Program Files\\Python39\\python-3.9.0rc1.amd64\\lib\\site-packages\\xgboost\\sklearn.py:1146: UserWarning: The use of label encoder in XGBClassifier is deprecated and will be removed in a future release. To remove this warning, do the following: 1) Pass option use_label_encoder=False when constructing XGBClassifier object; and 2) Encode your labels (y) as integers starting with 0, i.e. 0, 1, 2, ..., [num_class - 1].\n",
      "  warnings.warn(label_encoder_deprecation_msg, UserWarning)\n",
      "\n"
     ]
    },
    {
     "name": "stdout",
     "output_type": "stream",
     "text": [
      "[13:16:13] WARNING: C:/Users/Administrator/workspace/xgboost-win64_release_1.4.0/src/learner.cc:1095: Starting in XGBoost 1.3.0, the default evaluation metric used with the objective 'binary:logistic' was changed from 'error' to 'logloss'. Explicitly set eval_metric if you'd like to restore the old behavior.\n",
      " 92%|████████████████████████▊  | 22/24 [01:04<00:10,  5.09s/trial, best loss: 0.12406778253244322]"
     ]
    },
    {
     "name": "stderr",
     "output_type": "stream",
     "text": [
      "C:\\Program Files\\Python39\\python-3.9.0rc1.amd64\\lib\\site-packages\\xgboost\\sklearn.py:1146: UserWarning: The use of label encoder in XGBClassifier is deprecated and will be removed in a future release. To remove this warning, do the following: 1) Pass option use_label_encoder=False when constructing XGBClassifier object; and 2) Encode your labels (y) as integers starting with 0, i.e. 0, 1, 2, ..., [num_class - 1].\n",
      "  warnings.warn(label_encoder_deprecation_msg, UserWarning)\n",
      "\n"
     ]
    },
    {
     "name": "stdout",
     "output_type": "stream",
     "text": [
      "[13:16:14] WARNING: C:/Users/Administrator/workspace/xgboost-win64_release_1.4.0/src/learner.cc:1095: Starting in XGBoost 1.3.0, the default evaluation metric used with the objective 'binary:logistic' was changed from 'error' to 'logloss'. Explicitly set eval_metric if you'd like to restore the old behavior.\n",
      " 92%|████████████████████████▊  | 22/24 [01:05<00:10,  5.09s/trial, best loss: 0.12406778253244322]"
     ]
    },
    {
     "name": "stderr",
     "output_type": "stream",
     "text": [
      "C:\\Program Files\\Python39\\python-3.9.0rc1.amd64\\lib\\site-packages\\xgboost\\sklearn.py:1146: UserWarning: The use of label encoder in XGBClassifier is deprecated and will be removed in a future release. To remove this warning, do the following: 1) Pass option use_label_encoder=False when constructing XGBClassifier object; and 2) Encode your labels (y) as integers starting with 0, i.e. 0, 1, 2, ..., [num_class - 1].\n",
      "  warnings.warn(label_encoder_deprecation_msg, UserWarning)\n",
      "\n"
     ]
    },
    {
     "name": "stdout",
     "output_type": "stream",
     "text": [
      "[13:16:16] WARNING: C:/Users/Administrator/workspace/xgboost-win64_release_1.4.0/src/learner.cc:1095: Starting in XGBoost 1.3.0, the default evaluation metric used with the objective 'binary:logistic' was changed from 'error' to 'logloss'. Explicitly set eval_metric if you'd like to restore the old behavior.\n",
      " 92%|████████████████████████▊  | 22/24 [01:07<00:10,  5.09s/trial, best loss: 0.12406778253244322]"
     ]
    },
    {
     "name": "stderr",
     "output_type": "stream",
     "text": [
      "C:\\Program Files\\Python39\\python-3.9.0rc1.amd64\\lib\\site-packages\\xgboost\\sklearn.py:1146: UserWarning: The use of label encoder in XGBClassifier is deprecated and will be removed in a future release. To remove this warning, do the following: 1) Pass option use_label_encoder=False when constructing XGBClassifier object; and 2) Encode your labels (y) as integers starting with 0, i.e. 0, 1, 2, ..., [num_class - 1].\n",
      "  warnings.warn(label_encoder_deprecation_msg, UserWarning)\n",
      "\n"
     ]
    },
    {
     "name": "stdout",
     "output_type": "stream",
     "text": [
      "[13:16:20] WARNING: C:/Users/Administrator/workspace/xgboost-win64_release_1.4.0/src/learner.cc:1095: Starting in XGBoost 1.3.0, the default evaluation metric used with the objective 'binary:logistic' was changed from 'error' to 'logloss'. Explicitly set eval_metric if you'd like to restore the old behavior.\n",
      " 92%|████████████████████████▊  | 22/24 [01:11<00:10,  5.09s/trial, best loss: 0.12406778253244322]"
     ]
    },
    {
     "name": "stderr",
     "output_type": "stream",
     "text": [
      "C:\\Program Files\\Python39\\python-3.9.0rc1.amd64\\lib\\site-packages\\xgboost\\sklearn.py:1146: UserWarning: The use of label encoder in XGBClassifier is deprecated and will be removed in a future release. To remove this warning, do the following: 1) Pass option use_label_encoder=False when constructing XGBClassifier object; and 2) Encode your labels (y) as integers starting with 0, i.e. 0, 1, 2, ..., [num_class - 1].\n",
      "  warnings.warn(label_encoder_deprecation_msg, UserWarning)\n",
      "\n"
     ]
    },
    {
     "name": "stdout",
     "output_type": "stream",
     "text": [
      "[13:16:21] WARNING: C:/Users/Administrator/workspace/xgboost-win64_release_1.4.0/src/learner.cc:1095: Starting in XGBoost 1.3.0, the default evaluation metric used with the objective 'binary:logistic' was changed from 'error' to 'logloss'. Explicitly set eval_metric if you'd like to restore the old behavior.\n",
      " 96%|█████████████████████████▉ | 23/24 [01:12<00:06,  6.59s/trial, best loss: 0.12406778253244322]"
     ]
    },
    {
     "name": "stderr",
     "output_type": "stream",
     "text": [
      "C:\\Program Files\\Python39\\python-3.9.0rc1.amd64\\lib\\site-packages\\xgboost\\sklearn.py:1146: UserWarning: The use of label encoder in XGBClassifier is deprecated and will be removed in a future release. To remove this warning, do the following: 1) Pass option use_label_encoder=False when constructing XGBClassifier object; and 2) Encode your labels (y) as integers starting with 0, i.e. 0, 1, 2, ..., [num_class - 1].\n",
      "  warnings.warn(label_encoder_deprecation_msg, UserWarning)\n",
      "\n"
     ]
    },
    {
     "name": "stdout",
     "output_type": "stream",
     "text": [
      "[13:16:22] WARNING: C:/Users/Administrator/workspace/xgboost-win64_release_1.4.0/src/learner.cc:1095: Starting in XGBoost 1.3.0, the default evaluation metric used with the objective 'binary:logistic' was changed from 'error' to 'logloss'. Explicitly set eval_metric if you'd like to restore the old behavior.\n",
      " 96%|█████████████████████████▉ | 23/24 [01:13<00:06,  6.59s/trial, best loss: 0.12406778253244322]"
     ]
    },
    {
     "name": "stderr",
     "output_type": "stream",
     "text": [
      "C:\\Program Files\\Python39\\python-3.9.0rc1.amd64\\lib\\site-packages\\xgboost\\sklearn.py:1146: UserWarning: The use of label encoder in XGBClassifier is deprecated and will be removed in a future release. To remove this warning, do the following: 1) Pass option use_label_encoder=False when constructing XGBClassifier object; and 2) Encode your labels (y) as integers starting with 0, i.e. 0, 1, 2, ..., [num_class - 1].\n",
      "  warnings.warn(label_encoder_deprecation_msg, UserWarning)\n",
      "\n"
     ]
    },
    {
     "name": "stdout",
     "output_type": "stream",
     "text": [
      "[13:16:24] WARNING: C:/Users/Administrator/workspace/xgboost-win64_release_1.4.0/src/learner.cc:1095: Starting in XGBoost 1.3.0, the default evaluation metric used with the objective 'binary:logistic' was changed from 'error' to 'logloss'. Explicitly set eval_metric if you'd like to restore the old behavior.\n",
      " 96%|█████████████████████████▉ | 23/24 [01:15<00:06,  6.59s/trial, best loss: 0.12406778253244322]"
     ]
    },
    {
     "name": "stderr",
     "output_type": "stream",
     "text": [
      "C:\\Program Files\\Python39\\python-3.9.0rc1.amd64\\lib\\site-packages\\xgboost\\sklearn.py:1146: UserWarning: The use of label encoder in XGBClassifier is deprecated and will be removed in a future release. To remove this warning, do the following: 1) Pass option use_label_encoder=False when constructing XGBClassifier object; and 2) Encode your labels (y) as integers starting with 0, i.e. 0, 1, 2, ..., [num_class - 1].\n",
      "  warnings.warn(label_encoder_deprecation_msg, UserWarning)\n",
      "\n"
     ]
    },
    {
     "name": "stdout",
     "output_type": "stream",
     "text": [
      "[13:16:25] WARNING: C:/Users/Administrator/workspace/xgboost-win64_release_1.4.0/src/learner.cc:1095: Starting in XGBoost 1.3.0, the default evaluation metric used with the objective 'binary:logistic' was changed from 'error' to 'logloss'. Explicitly set eval_metric if you'd like to restore the old behavior.\n",
      " 96%|█████████████████████████▉ | 23/24 [01:16<00:06,  6.59s/trial, best loss: 0.12406778253244322]"
     ]
    },
    {
     "name": "stderr",
     "output_type": "stream",
     "text": [
      "C:\\Program Files\\Python39\\python-3.9.0rc1.amd64\\lib\\site-packages\\xgboost\\sklearn.py:1146: UserWarning: The use of label encoder in XGBClassifier is deprecated and will be removed in a future release. To remove this warning, do the following: 1) Pass option use_label_encoder=False when constructing XGBClassifier object; and 2) Encode your labels (y) as integers starting with 0, i.e. 0, 1, 2, ..., [num_class - 1].\n",
      "  warnings.warn(label_encoder_deprecation_msg, UserWarning)\n",
      "\n"
     ]
    },
    {
     "name": "stdout",
     "output_type": "stream",
     "text": [
      "[13:16:26] WARNING: C:/Users/Administrator/workspace/xgboost-win64_release_1.4.0/src/learner.cc:1095: Starting in XGBoost 1.3.0, the default evaluation metric used with the objective 'binary:logistic' was changed from 'error' to 'logloss'. Explicitly set eval_metric if you'd like to restore the old behavior.\n",
      " 96%|█████████████████████████▉ | 23/24 [01:17<00:06,  6.59s/trial, best loss: 0.12406778253244322]"
     ]
    },
    {
     "name": "stderr",
     "output_type": "stream",
     "text": [
      "C:\\Program Files\\Python39\\python-3.9.0rc1.amd64\\lib\\site-packages\\xgboost\\sklearn.py:1146: UserWarning: The use of label encoder in XGBClassifier is deprecated and will be removed in a future release. To remove this warning, do the following: 1) Pass option use_label_encoder=False when constructing XGBClassifier object; and 2) Encode your labels (y) as integers starting with 0, i.e. 0, 1, 2, ..., [num_class - 1].\n",
      "  warnings.warn(label_encoder_deprecation_msg, UserWarning)\n",
      "\n"
     ]
    },
    {
     "name": "stdout",
     "output_type": "stream",
     "text": [
      "100%|███████████████████████████| 24/24 [01:18<00:00,  3.26s/trial, best loss: 0.12406778253244322]\n",
      "{'gamma': 0.13, 'learning_rate': 0.1, 'max_depth': 44, 'min_child_weight': 1.0, 'n_estimators': 28, 'sampling_strategy': 0.1}\n"
     ]
    }
   ],
   "source": [
    "space_lr = {'max_depth': hp.choice('max_depth', range(5, 70,1)),\n",
    "                'learning_rate':hp.quniform('learning_rate',0.01,0.5,0.01),\n",
    "            'n_estimators':hp.choice('n_estimators',range(20,200,5)),\n",
    "            'gamma':hp.quniform('gamma',0,0.5,0.01),\n",
    "            'min_child_weight':hp.quniform('min_child_weight',1,10,1),\n",
    "            #'subsample':hp.quniform('subsample',0.1,1,0.01),\n",
    "            #'colsample_bytree':hp.quniform('colsample_bytree',0.1,1,0.01),\n",
    "            'sampling_strategy':hp.quniform('sampling_strategy',0.1,0.9,0.1)\n",
    "            \n",
    "        }\n",
    "\n",
    "\n",
    "def xgb(params):\n",
    "    params = {'max_depth': params['max_depth'],\n",
    "                 'learning_rate': params['learning_rate'],\n",
    "                  'gamma':params['gamma'],\n",
    "                  \n",
    "                'min_child_weight':params['min_child_weight'],\n",
    "             # 'subsample':params['subsample'],\n",
    "                  'n_estimators': params['n_estimators'],\n",
    "            #  'colsample_bytree':params['colsample_bytree'],\n",
    "              'sampling_strategy' : params['sampling_strategy']\n",
    "                  \n",
    "                 }\n",
    "\n",
    "    xgb_bo = XGBClassifier(random_state=42,max_depth=params['max_depth'],learning_rate=params['learning_rate'], n_estimators = params['n_estimators'], gamma = params['gamma'], min_child_weight = params['min_child_weight'])\n",
    "    cv= StratifiedKFold(n_splits=5, random_state=42, shuffle=True)\n",
    "    under = RandomUnderSampler(random_state=42, sampling_strategy=params['sampling_strategy'])\n",
    "    pipe = Pipeline([('o', under),('m', xgb_bo)])\n",
    "    best_score = cross_val_score(pipe, X_train, y_train, scoring='roc_auc', cv=cv).mean()\n",
    "    return 1 - best_score\n",
    "xgb_best_param = fmin(fn=xgb,\n",
    "                    space=space_lr,\n",
    "                    max_evals=24,\n",
    "                    rstate=np.random.RandomState(42),\n",
    "                    algo=tpe.suggest)\n",
    "print(xgb_best_param)"
   ]
  },
  {
   "cell_type": "code",
   "execution_count": 37,
   "metadata": {},
   "outputs": [
    {
     "name": "stdout",
     "output_type": "stream",
     "text": [
      "[13:16:27] WARNING: C:/Users/Administrator/workspace/xgboost-win64_release_1.4.0/src/learner.cc:1095: Starting in XGBoost 1.3.0, the default evaluation metric used with the objective 'binary:logistic' was changed from 'error' to 'logloss'. Explicitly set eval_metric if you'd like to restore the old behavior.\n"
     ]
    },
    {
     "name": "stderr",
     "output_type": "stream",
     "text": [
      "C:\\Program Files\\Python39\\python-3.9.0rc1.amd64\\lib\\site-packages\\xgboost\\sklearn.py:1146: UserWarning: The use of label encoder in XGBClassifier is deprecated and will be removed in a future release. To remove this warning, do the following: 1) Pass option use_label_encoder=False when constructing XGBClassifier object; and 2) Encode your labels (y) as integers starting with 0, i.e. 0, 1, 2, ..., [num_class - 1].\n",
      "  warnings.warn(label_encoder_deprecation_msg, UserWarning)\n",
      "C:\\Program Files\\Python39\\python-3.9.0rc1.amd64\\lib\\site-packages\\xgboost\\data.py:112: UserWarning: Use subset (sliced data) of np.ndarray is not recommended because it will generate extra copies and increase memory consumption\n",
      "  warnings.warn(\n"
     ]
    }
   ],
   "source": [
    "param_values = [x for x in xgb_best_param.values()]\n",
    "\n",
    "\n",
    "xgb_best = XGBClassifier(random_state=42,\n",
    "   gamma= param_values[0],\n",
    "    learning_rate= param_values[1],\n",
    "   max_depth= param_values[2],\n",
    "   min_child_weight=param_values[3],\n",
    "n_estimators = param_values[4]\n",
    ")\n",
    "\n",
    "under = RandomUnderSampler(random_state=42,sampling_strategy= param_values[5])\n",
    "pipe = Pipeline([('o', under),('m', xgb_best)])\n",
    "model= pipe.fit(X_train, y_train)\n",
    "pred = model.predict(X_test)\n",
    "\n"
   ]
  },
  {
   "cell_type": "code",
   "execution_count": 38,
   "metadata": {},
   "outputs": [
    {
     "name": "stdout",
     "output_type": "stream",
     "text": [
      "Confusion Matrix:\n",
      " [[7366  152]\n",
      " [ 105   25]]\n",
      "Precision: 0.141243\n",
      "Recall: 0.192308\n",
      "F1 score: 0.162866\n",
      "Sensitivity :  0.985945656538616\n",
      "Specificity :  0.14124293785310735\n",
      "Negative predictive Value:  0.19230769230769232\n",
      "Positive Predictive Value:  0.979781856876829\n",
      "Geometric Mean:  0.3731726960711687\n"
     ]
    }
   ],
   "source": [
    "cm= confusion_matrix(y_test, pred)\n",
    "print('Confusion Matrix:\\n',cm)\n",
    "\n",
    "precision = precision_score(y_test, pred)\n",
    "print( 'Precision: %f' % precision)\n",
    "\n",
    "recall = recall_score(y_test, pred)\n",
    "print('Recall: %f' % recall)\n",
    "\n",
    "f1 = f1_score(y_test, pred)\n",
    "print('F1 score: %f' % f1)\n",
    "\n",
    "sensitivity = cm[0,0]/(cm[0,0]+cm[1,0])\n",
    "print('Sensitivity : ', sensitivity )\n",
    "\n",
    "specificity = cm[1,1]/(cm[0,1]+cm[1,1])\n",
    "print('Specificity : ', specificity)\n",
    "\n",
    "NPV = cm[1,1]/(cm[1,1]+cm[1,0])\n",
    "print('Negative predictive Value: ', NPV)\n",
    "\n",
    "PPV = cm[0,0]/(cm[0,0]+cm[0,1])\n",
    "print('Positive Predictive Value: ', PPV)\n",
    "\n",
    "import math\n",
    "gm=math.sqrt(specificity*sensitivity)\n",
    "print('Geometric Mean: ', gm)"
   ]
  },
  {
   "cell_type": "code",
   "execution_count": 39,
   "metadata": {},
   "outputs": [
    {
     "name": "stdout",
     "output_type": "stream",
     "text": [
      "Random chance= 0.500000\n",
      "AUCROC Value = 0.891335\n",
      "AUC:PrecisionRecall Value =0.122\n"
     ]
    },
    {
     "data": {
      "image/png": "[encoded data removed]",
      "text/plain": [
       "<Figure size 432x288 with 1 Axes>"
      ]
     },
     "metadata": {
      "needs_background": "light"
     },
     "output_type": "display_data"
    },
    {
     "data": {
      "image/png": "[encoded data removed]",
      "text/plain": [
       "<Figure size 432x288 with 1 Axes>"
      ]
     },
     "metadata": {
      "needs_background": "light"
     },
     "output_type": "display_data"
    }
   ],
   "source": [
    "r_probs=[0 for _ in range(len(y_test))]\n",
    "xgb_probs=model.predict_proba(X_test)\n",
    "xgb_probs=xgb_probs[:,1]\n",
    "from sklearn.metrics import roc_curve, roc_auc_score\n",
    "r_auc=roc_auc_score(y_test,r_probs)\n",
    "xgb_auc =roc_auc_score(y_test,xgb_probs)\n",
    "print('Random chance= %3f'%(r_auc))\n",
    "print('AUCROC Value = %4f'%(xgb_auc))\n",
    "\n",
    "xgb_precision, xgb_recall, _ = precision_recall_curve(y_test, xgb_probs,pos_label=1)\n",
    "xgb_aucprc=auc(xgb_recall, xgb_precision)\n",
    "print('AUC:PrecisionRecall Value =%.3f' % (xgb_aucprc))\n",
    "    \n",
    "r_fpr, r_tpr, thresholds = metrics.roc_curve(y_test, r_probs, pos_label=1)\n",
    "xgb_fpr, xgb_tpr, thresholds = metrics.roc_curve(y_test, xgb_probs, pos_label=1)\n",
    "\n",
    "#ROC PLOT\n",
    "import matplotlib.pyplot as plt\n",
    "plt.plot(r_fpr,r_tpr,linestyle='--',label='Random prediction(AUCROC=%0.3f)'%r_auc)\n",
    "plt.plot(xgb_fpr,xgb_tpr,linestyle='--',label='Random prediction(AUCROC=%0.3f)'%xgb_auc)\n",
    "plt.title('ROC PLOT - XGB ')\n",
    "plt.xlabel('FALSE POSITIVE RATE')\n",
    "plt.ylabel('TRUE POSITIVE RATE')\n",
    "plt.legend()\n",
    "#plt.savefig('XBB_plot1.png', dpi=300, bbox_inches='tight')\n",
    "plt.show()\n",
    "\n",
    "plt.plot(xgb_recall, xgb_precision, linestyle='--', label='Random prediction(AUCPRC=%0.3f)'%xgb_aucprc)\n",
    "# axis labels\n",
    "plt.xlabel('RECALL')\n",
    "plt.ylabel('PRECISION')\n",
    "plt.title('PRC PLOT - XGB')\n",
    "plt.legend()\n",
    "    #save plot\n",
    "#plt.savefig('XGB_plot2.png', dpi=300, bbox_inches='tight')\n",
    "    # show the plot\n",
    "plt.show()"
   ]
  },
  {
   "cell_type": "code",
   "execution_count": 40,
   "metadata": {},
   "outputs": [
    {
     "name": "stderr",
     "output_type": "stream",
     "text": [
      "C:\\Program Files\\Python39\\python-3.9.0rc1.amd64\\lib\\site-packages\\xgboost\\data.py:112: UserWarning: Use subset (sliced data) of np.ndarray is not recommended because it will generate extra copies and increase memory consumption\n",
      "  warnings.warn(\n"
     ]
    },
    {
     "data": {
      "image/png": "[encoded data removed]",
      "text/plain": [
       "<Figure size 432x288 with 1 Axes>"
      ]
     },
     "metadata": {
      "needs_background": "light"
     },
     "output_type": "display_data"
    }
   ],
   "source": [
    "from sklearn.calibration import calibration_curve\n",
    "xgb_probs=model.predict_proba(X_test)\n",
    "xgb_probs=xgb_probs[:,1]\n",
    "\n",
    "x,y= calibration_curve(y_test,xgb_probs, n_bins=50)\n",
    "plt.plot([0,1],[0,1], linestyle='--', label='Ideally Calibrated')\n",
    "plt.plot(y,x, marker='o', linewidth=1, label='xgb')\n",
    "leg= plt.legend(loc='upper left')\n",
    "plt.xlabel('average predicted probabilty in each bin')\n",
    "plt.ylabel('Ratio of Positives')\n",
    "plt.savefig('XGB_calibration1.png', dpi=300, bbox_inches='tight')\n",
    "plt.show()"
   ]
  },
  {
   "cell_type": "code",
   "execution_count": 41,
   "metadata": {},
   "outputs": [
    {
     "name": "stderr",
     "output_type": "stream",
     "text": [
      "C:\\Program Files\\Python39\\python-3.9.0rc1.amd64\\lib\\site-packages\\xgboost\\data.py:112: UserWarning: Use subset (sliced data) of np.ndarray is not recommended because it will generate extra copies and increase memory consumption\n",
      "  warnings.warn(\n"
     ]
    }
   ],
   "source": [
    "#saving file\n",
    "xgb_probs=model.predict_proba(X_test)\n",
    "xgb_pos=xgb_probs[:,1]\n",
    "xgb_neg=xgb_probs[:,0]\n",
    "pd.DataFrame({'Actual': y_test,'Pred_XGB': pred, 'PredProb_1_XGB': xgb_pos,'PredProb_0_XGB':xgb_neg}).to_csv('xgb.csv', index=False)"
   ]
  },
  {
   "cell_type": "code",
   "execution_count": 42,
   "metadata": {},
   "outputs": [],
   "source": [
    "#Apparent test\n",
    "pred1 = model.predict(X_train)\n"
   ]
  },
  {
   "cell_type": "code",
   "execution_count": 43,
   "metadata": {},
   "outputs": [
    {
     "name": "stdout",
     "output_type": "stream",
     "text": [
      "Random chance= 0.500000\n",
      "AUCROC Value = 0.991138\n",
      "AUC:PrecisionRecall Value =0.803\n"
     ]
    },
    {
     "data": {
      "image/png": "[encoded data removed]",
      "text/plain": [
       "<Figure size 432x288 with 1 Axes>"
      ]
     },
     "metadata": {
      "needs_background": "light"
     },
     "output_type": "display_data"
    },
    {
     "data": {
      "image/png": "[encoded data removed]",
      "text/plain": [
       "<Figure size 432x288 with 1 Axes>"
      ]
     },
     "metadata": {
      "needs_background": "light"
     },
     "output_type": "display_data"
    }
   ],
   "source": [
    "r_probs=[0 for _ in range(len(y_train))]\n",
    "xgb_probs1=model.predict_proba(X_train)\n",
    "xgb_probs1=xgb_probs1[:,1]\n",
    "from sklearn.metrics import roc_curve, roc_auc_score\n",
    "r_auc=roc_auc_score(y_train,r_probs)\n",
    "xgb_auc =roc_auc_score(y_train,xgb_probs1)\n",
    "print('Random chance= %3f'%(r_auc))\n",
    "print('AUCROC Value = %4f'%(xgb_auc))\n",
    "\n",
    "xgb_precision, xgb_recall, _ = precision_recall_curve(y_train, xgb_probs1,pos_label=1)\n",
    "xgb_aucprc=auc(xgb_recall, xgb_precision)\n",
    "print('AUC:PrecisionRecall Value =%.3f' % (xgb_aucprc))\n",
    "    \n",
    "r_fpr, r_tpr, thresholds = metrics.roc_curve(y_train, r_probs, pos_label=1)\n",
    "xgb_fpr, xgb_tpr, thresholds = metrics.roc_curve(y_train, xgb_probs1, pos_label=1)\n",
    "\n",
    "#ROC PLOT\n",
    "import matplotlib.pyplot as plt\n",
    "plt.plot(r_fpr,r_tpr,linestyle='--',label='Random prediction(AUCROC=%0.3f)'%r_auc)\n",
    "plt.plot(xgb_fpr,xgb_tpr,linestyle='--',label='Random prediction(AUCROC=%0.3f)'%xgb_auc)\n",
    "plt.title('APPARENT - ROC PLOT - XGB')\n",
    "plt.xlabel('FALSE POSITIVE RATE')\n",
    "plt.ylabel('TRUE POSITIVE RATE')\n",
    "plt.legend()\n",
    "plt.savefig('XBB_apparent1.png', dpi=300, bbox_inches='tight')\n",
    "plt.show()\n",
    "\n",
    "plt.plot(xgb_recall, xgb_precision, linestyle='--', label='Random prediction(AUCPRC=%0.3f)'%xgb_aucprc)\n",
    "# axis labels\n",
    "plt.xlabel('RECALL')\n",
    "plt.ylabel('PRECISION')\n",
    "plt.title('APPARENT  -PRC PLOT - XGB ')\n",
    "plt.legend()\n",
    "    #save plot\n",
    "plt.savefig('XGBapparent.png', dpi=300, bbox_inches='tight')\n",
    "    # show the plot\n",
    "plt.show()"
   ]
  },
  {
   "cell_type": "code",
   "execution_count": 44,
   "metadata": {},
   "outputs": [
    {
     "name": "stderr",
     "output_type": "stream",
     "text": [
      "C:\\Program Files\\Python39\\python-3.9.0rc1.amd64\\lib\\site-packages\\xgboost\\data.py:112: UserWarning: Use subset (sliced data) of np.ndarray is not recommended because it will generate extra copies and increase memory consumption\n",
      "  warnings.warn(\n"
     ]
    },
    {
     "data": {
      "image/png": "[encoded data removed]",
      "text/plain": [
       "<Figure size 432x288 with 1 Axes>"
      ]
     },
     "metadata": {
      "needs_background": "light"
     },
     "output_type": "display_data"
    }
   ],
   "source": [
    "from sklearn.calibration import calibration_curve\n",
    "xgb_probs1=model.predict_proba(X_train)\n",
    "xgb_probs1=xgb_probs1[:,1]\n",
    "\n",
    "x,y= calibration_curve(y_train,xgb_probs1, n_bins=50)\n",
    "plt.plot([0,1],[0,1], linestyle='--', label='Ideally Calibrated')\n",
    "plt.plot(y,x, marker='o', linewidth=1, label='xgb')\n",
    "leg= plt.legend(loc='upper left')\n",
    "plt.xlabel('average predicted probabilty in each bin')\n",
    "plt.ylabel('Ratio of Positives')\n",
    "plt.savefig('XGB_calibration2.png', dpi=300, bbox_inches='tight')\n",
    "plt.show()"
   ]
  },
  {
   "cell_type": "code",
   "execution_count": 45,
   "metadata": {},
   "outputs": [
    {
     "name": "stdout",
     "output_type": "stream",
     "text": [
      "Apparent  - Confusion Matrix:\n",
      " [[22056   396]\n",
      " [   50   441]]\n",
      "Apparent  - Precision: 0.526882\n",
      "Apparent - Recall: 0.898167\n",
      "Apparent  - F1 score: 0.664157\n",
      "Apparent  - Sensitivity :  0.9977381706324074\n",
      "Apparent - Specificity :  0.5268817204301075\n",
      "Apparent  - Negative predictive Value:  0.8981670061099797\n",
      "Apparent  - Positive Predictive Value:  0.9823623730625334\n",
      "Apparent - Geometric Mean:  0.7250448288772158\n"
     ]
    }
   ],
   "source": [
    "cm1 = confusion_matrix(y_train, pred1)\n",
    "print('Apparent  - Confusion Matrix:\\n',cm1)\n",
    "\n",
    "precision = precision_score(y_train, pred1)\n",
    "print('Apparent  - Precision: %f' % precision)\n",
    "\n",
    "recall = recall_score(y_train, pred1)\n",
    "print('Apparent - Recall: %f' % recall)\n",
    "\n",
    "f1 = f1_score(y_train, pred1)\n",
    "print('Apparent  - F1 score: %f' % f1)\n",
    "\n",
    "sensitivity1 = cm1[0,0]/(cm1[0,0]+cm1[1,0])\n",
    "print('Apparent  - Sensitivity : ', sensitivity1 )\n",
    "\n",
    "specificity1= cm1[1,1]/(cm1[0,1]+cm1[1,1])\n",
    "print('Apparent - Specificity : ', specificity1)\n",
    "\n",
    "NPV = cm1[1,1]/(cm1[1,1]+cm1[1,0])\n",
    "print('Apparent  - Negative predictive Value: ', NPV)\n",
    "\n",
    "PPV = cm1[0,0]/(cm1[0,0]+cm1[0,1])\n",
    "print('Apparent  - Positive Predictive Value: ', PPV)\n",
    "\n",
    "import math\n",
    "gm1=math.sqrt(specificity1*sensitivity1)\n",
    "print('Apparent - Geometric Mean: ', gm1)"
   ]
  },
  {
   "cell_type": "code",
   "execution_count": 46,
   "metadata": {},
   "outputs": [
    {
     "name": "stderr",
     "output_type": "stream",
     "text": [
      "C:\\Program Files\\Python39\\python-3.9.0rc1.amd64\\lib\\site-packages\\xgboost\\data.py:112: UserWarning: Use subset (sliced data) of np.ndarray is not recommended because it will generate extra copies and increase memory consumption\n",
      "  warnings.warn(\n"
     ]
    }
   ],
   "source": [
    "#saving file\n",
    "xgb_probs1=model.predict_proba(X_train)\n",
    "xgb_pos1=xgb_probs1[:,1]\n",
    "xgb_neg1=xgb_probs1[:,0]\n",
    "pd.DataFrame({'Actual': y_train,'Pred_XGB': pred1, 'PredProb_1_XGB': xgb_pos1,'PredProb_0_XGB':xgb_neg1}).to_csv('xgb_apparent.csv', index=False)"
   ]
  },
  {
   "cell_type": "code",
   "execution_count": 15,
   "metadata": {},
   "outputs": [
    {
     "name": "stdout",
     "output_type": "stream",
     "text": [
      "100%|███████████████████████████| 24/24 [04:41<00:00, 11.72s/trial, best loss: 0.11736802830825432]\n",
      "It takes 4.687035143375397 minutes\n",
      "Random Forest Best Parameters {'class_weight': 1, 'criterion': 0, 'max_depth': 13, 'max_features': 0, 'n_estimators': 507, 'sampling_strategy': 0.9}\n"
     ]
    }
   ],
   "source": [
    "#Random Forest Classifier hyper parameter tuning\n",
    "\n",
    "\n",
    "start = time.time()\n",
    "space_lr = {'max_depth': hp.randint('max_depth', 6,15),\n",
    "                'max_features': hp.choice('max_features',['sqrt','log2']),\n",
    "                'n_estimators': hp.randint('n_estimators', 100,1000),\n",
    "                'criterion': hp.choice('criterion', ['entropy','gini']),\n",
    "             'sampling_strategy':hp.quniform('sampling_strategy',0.1,0.9,0.1),\n",
    "            'class_weight':hp.choice('class_weight',['balanced_subsample','balanced'])\n",
    "                    }\n",
    "\n",
    "def rf(params):\n",
    "    params = {'max_depth': params['max_depth'],\n",
    "                  'max_features': params['max_features'],\n",
    "                  'n_estimators': params['n_estimators'],\n",
    "                  'criterion': params['criterion'],\n",
    "              'sampling_strategy': params['sampling_strategy'],\n",
    "              'class_weight':params['class_weight']\n",
    "             }\n",
    "    rf_bo = sklearn.ensemble.RandomForestClassifier(random_state=42,class_weight=params['class_weight'], max_depth=params['max_depth'],max_features= params['max_features'],n_estimators=params['n_estimators'],criterion= params['criterion'])\n",
    "    cv= StratifiedKFold(n_splits=5,random_state=42, shuffle=True)\n",
    "    under = RandomUnderSampler(random_state=42,sampling_strategy=params['sampling_strategy'])\n",
    "    pipe = Pipeline([('o', under),('m', rf_bo)])\n",
    "    best_score = cross_val_score(pipe, X_train, y_train, scoring='roc_auc', cv=cv).mean()\n",
    "    return 1-best_score\n",
    "\n",
    "rf_best_param = fmin(fn=rf,\n",
    "                    space=space_lr,\n",
    "                    max_evals=24,\n",
    "                    rstate=np.random.RandomState(42),\n",
    "                    algo=tpe.suggest,\n",
    "                        )\n",
    "print('It takes %s minutes' % ((time.time() - start)/60))\n",
    "print('Random Forest Best Parameters',rf_best_param)"
   ]
  },
  {
   "cell_type": "code",
   "execution_count": 16,
   "metadata": {},
   "outputs": [
    {
     "name": "stdout",
     "output_type": "stream",
     "text": [
      "Confusion Matrix:\n",
      " [[6282 1236]\n",
      " [  16  114]]\n",
      "Precision: 0.084444\n",
      "Recall: 0.876923\n",
      "F1 score: 0.154054\n",
      "Sensitivity :  0.997459510955859\n",
      "Specificity :  0.08444444444444445\n",
      "Negative predictive Value:  0.8769230769230769\n",
      "Positive Predictive Value:  0.8355945730247406\n",
      "Geometric Mean:  0.2902239036649028\n"
     ]
    }
   ],
   "source": [
    "param_values = [x for x in rf_best_param.values()]\n",
    "\n",
    "if param_values[1] == 1:\n",
    "    criterion = 'gini'\n",
    "else:\n",
    "    criterion= 'entropy'\n",
    "\n",
    "if param_values[3] == 1:\n",
    "    max_features = 'log2'\n",
    "else:\n",
    "    max_features= 'sqrt'\n",
    "    \n",
    "if param_values[0] == 1:\n",
    "    class_weight = 'balanced'\n",
    "else:\n",
    "    class_weight= 'balanced_subsample'\n",
    "\n",
    "rf_best = sklearn.ensemble.RandomForestClassifier(random_state=42,\n",
    "criterion= criterion,\n",
    "max_depth= param_values[2],\n",
    "max_features= max_features,\n",
    "n_estimators=param_values[4],\n",
    "class_weight = class_weight)\n",
    "under=RandomUnderSampler(random_state=42,sampling_strategy=param_values[5])\n",
    "pipe = Pipeline([('o', under),('m', rf_best)])\n",
    "model= pipe.fit(X_train, y_train)\n",
    "pred = model.predict(X_test)\n",
    "\n",
    "cm = confusion_matrix(y_test, pred)\n",
    "print('Confusion Matrix:\\n',cm)\n",
    "\n",
    "precision = precision_score(y_test, pred)\n",
    "print('Precision: %f' % precision)\n",
    "\n",
    "recall = recall_score(y_test, pred)\n",
    "print('Recall: %f' % recall)\n",
    "\n",
    "f1 = f1_score(y_test, pred)\n",
    "print('F1 score: %f' % f1)\n",
    "\n",
    "sensitivity = cm[0,0]/(cm[0,0]+cm[1,0])\n",
    "print('Sensitivity : ', sensitivity )\n",
    "\n",
    "specificity = cm[1,1]/(cm[0,1]+cm[1,1])\n",
    "print('Specificity : ', specificity)\n",
    "\n",
    "NPV = cm[1,1]/(cm[1,1]+cm[1,0])\n",
    "print('Negative predictive Value: ', NPV)\n",
    "\n",
    "PPV = cm[0,0]/(cm[0,0]+cm[0,1])\n",
    "print('Positive Predictive Value: ', PPV)\n",
    "\n",
    "import math\n",
    "gm=math.sqrt(specificity*sensitivity)\n",
    "print('Geometric Mean: ', gm)\n",
    "    "
   ]
  },
  {
   "cell_type": "code",
   "execution_count": 25,
   "metadata": {
    "scrolled": true
   },
   "outputs": [
    {
     "name": "stdout",
     "output_type": "stream",
     "text": [
      "Random chance= 0.500000\n",
      "AUCROC Value = 0.906321\n",
      "AUC:PrecisionRecall Value =0.146\n"
     ]
    },
    {
     "data": {
      "image/png": "[encoded data removed]",
      "text/plain": [
       "<Figure size 432x288 with 1 Axes>"
      ]
     },
     "metadata": {
      "needs_background": "light"
     },
     "output_type": "display_data"
    },
    {
     "data": {
      "image/png": "[encoded data removed]",
      "text/plain": [
       "<Figure size 432x288 with 1 Axes>"
      ]
     },
     "metadata": {
      "needs_background": "light"
     },
     "output_type": "display_data"
    }
   ],
   "source": [
    "r_probs=[0 for _ in range(len(y_test))]\n",
    "rf_probs=model.predict_proba(X_test)\n",
    "rf_probs=rf_probs[:,1]\n",
    "from sklearn.metrics import roc_curve, roc_auc_score\n",
    "r_auc=roc_auc_score(y_test,r_probs)\n",
    "rf_auc =roc_auc_score(y_test,rf_probs)\n",
    "print('Random chance= %3f'%(r_auc))\n",
    "print('AUCROC Value = %4f'%(rf_auc))\n",
    "\n",
    "rf_precision, rf_recall, _ = precision_recall_curve(y_test, rf_probs,pos_label=1)\n",
    "rf_aucprc=auc(rf_recall, rf_precision)\n",
    "print('AUC:PrecisionRecall Value =%.3f' % (rf_aucprc))\n",
    "    \n",
    "r_fpr, r_tpr, thresholds = metrics.roc_curve(y_test, r_probs, pos_label=1)\n",
    "rf_fpr, rf_tpr, thresholds = metrics.roc_curve(y_test, rf_probs, pos_label=1)\n",
    "\n",
    "#ROC PLOT\n",
    "import matplotlib.pyplot as plt\n",
    "plt.plot(r_fpr,r_tpr,linestyle='--',label='Random prediction(AUCROC=%0.3f)'%r_auc)\n",
    "plt.plot(rf_fpr,rf_tpr,linestyle='--',label='Random prediction(AUCROC=%0.3f)'%rf_auc)\n",
    "plt.title('ROC PLOT - RF')\n",
    "plt.xlabel('FALSE POSITIVE RATE')\n",
    "plt.ylabel('TRUE POSITIVE RATE')\n",
    "plt.legend()\n",
    "plt.savefig('RF_plot1.png', dpi=300, bbox_inches='tight')\n",
    "plt.show()\n",
    "\n",
    "plt.plot(rf_recall, rf_precision, linestyle='--', label='Random prediction(AUCPRC=%0.3f)'%rf_aucprc)\n",
    "# axis labels\n",
    "plt.xlabel('RECALL')\n",
    "plt.ylabel('PRECISION')\n",
    "plt.title('PRC PLOT - RF')\n",
    "# show the legend\n",
    "plt.legend()\n",
    "#save\n",
    "plt.savefig('RF_plot2.png', dpi=300, bbox_inches='tight')\n",
    "#show the plot\n",
    "plt.show()"
   ]
  },
  {
   "cell_type": "code",
   "execution_count": 26,
   "metadata": {},
   "outputs": [],
   "source": [
    "#saving file\n",
    "rf_probs=model.predict_proba(X_test)\n",
    "rf_pos=rf_probs[:,1]\n",
    "rf_neg=rf_probs[:,0]\n",
    "pd.DataFrame({'Actual': y_test,'Pred_RF': pred, 'PredProb_1_RF': rf_pos,'PredProb_0_RF':rf_neg}).to_csv('rf.csv', index=False)"
   ]
  },
  {
   "cell_type": "code",
   "execution_count": 27,
   "metadata": {},
   "outputs": [
    {
     "data": {
      "image/png": "[encoded data removed]",
      "text/plain": [
       "<Figure size 432x288 with 1 Axes>"
      ]
     },
     "metadata": {
      "needs_background": "light"
     },
     "output_type": "display_data"
    }
   ],
   "source": [
    "from sklearn.calibration import calibration_curve\n",
    "rf_probs=model.predict_proba(X_test)\n",
    "rf_probs=rf_probs[:,1]\n",
    "\n",
    "x,y= calibration_curve(y_test,rf_probs, n_bins=50)\n",
    "plt.plot([0,1],[0,1], linestyle='--', label='Ideally Calibrated')\n",
    "plt.plot(y,x, marker='o', linewidth=1, label='rf')\n",
    "leg= plt.legend(loc='upper left')\n",
    "plt.xlabel('average predicted probabilty in each bin')\n",
    "plt.ylabel('Ratio of Positives')\n",
    "plt.savefig('RF_calibration1.png', dpi=300, bbox_inches='tight')\n",
    "plt.show()"
   ]
  },
  {
   "cell_type": "code",
   "execution_count": 20,
   "metadata": {},
   "outputs": [],
   "source": [
    "#Apparent Train\n",
    "pred1 = model.predict(X_train)"
   ]
  },
  {
   "cell_type": "code",
   "execution_count": 21,
   "metadata": {},
   "outputs": [
    {
     "name": "stdout",
     "output_type": "stream",
     "text": [
      "Apparent  - Confusion Matrix:\n",
      " [[17770  4682]\n",
      " [    0   491]]\n",
      "Apparent - Precision: 0.094916\n",
      "Apparent  - Recall: 1.000000\n",
      "Apparent  - F1 score: 0.173376\n",
      "Apparent  - Sensitivity :  1.0\n",
      "Apparent  - Specificity :  0.09491590953025324\n",
      "Apparent  - Negative predictive Value:  1.0\n",
      "Apparent  - Positive Predictive Value:  0.7914662390878319\n",
      "Apparent - Geometric Mean:  0.30808425719314714\n"
     ]
    }
   ],
   "source": [
    "cm1 = confusion_matrix(y_train, pred1)\n",
    "print('Apparent  - Confusion Matrix:\\n',cm1)\n",
    "\n",
    "precision = precision_score(y_train, pred1)\n",
    "print('Apparent - Precision: %f' % precision)\n",
    "\n",
    "recall = recall_score(y_train, pred1)\n",
    "print('Apparent  - Recall: %f' % recall)\n",
    "\n",
    "f1 = f1_score(y_train, pred1)\n",
    "print('Apparent  - F1 score: %f' % f1)\n",
    "\n",
    "sensitivity1 = cm1[0,0]/(cm1[0,0]+cm1[1,0])\n",
    "print('Apparent  - Sensitivity : ', sensitivity1 )\n",
    "\n",
    "specificity1= cm1[1,1]/(cm1[0,1]+cm1[1,1])\n",
    "print('Apparent  - Specificity : ', specificity1)\n",
    "\n",
    "NPV = cm1[1,1]/(cm1[1,1]+cm1[1,0])\n",
    "print('Apparent  - Negative predictive Value: ', NPV)\n",
    "\n",
    "PPV = cm1[0,0]/(cm1[0,0]+cm1[0,1])\n",
    "print('Apparent  - Positive Predictive Value: ', PPV)\n",
    "\n",
    "import math\n",
    "gm1=math.sqrt(specificity1*sensitivity1)\n",
    "print('Apparent - Geometric Mean: ', gm1)"
   ]
  },
  {
   "cell_type": "code",
   "execution_count": 22,
   "metadata": {},
   "outputs": [
    {
     "name": "stdout",
     "output_type": "stream",
     "text": [
      "Random chance= 0.500000\n",
      "AUCROC Value = 0.982556\n",
      "AUC:PrecisionRecall Value =0.659\n"
     ]
    },
    {
     "data": {
      "image/png": "[encoded data removed]",
      "text/plain": [
       "<Figure size 432x288 with 1 Axes>"
      ]
     },
     "metadata": {
      "needs_background": "light"
     },
     "output_type": "display_data"
    },
    {
     "data": {
      "image/png": "[encoded data removed]",
      "text/plain": [
       "<Figure size 432x288 with 1 Axes>"
      ]
     },
     "metadata": {
      "needs_background": "light"
     },
     "output_type": "display_data"
    }
   ],
   "source": [
    "r_probs=[0 for _ in range(len(y_train))]\n",
    "rf_probs1=model.predict_proba(X_train)\n",
    "rf_probs1=rf_probs1[:,1]\n",
    "from sklearn.metrics import roc_curve, roc_auc_score\n",
    "r_auc=roc_auc_score(y_train,r_probs)\n",
    "rf_auc =roc_auc_score(y_train,rf_probs1)\n",
    "print('Random chance= %3f'%(r_auc))\n",
    "print('AUCROC Value = %4f'%(rf_auc))\n",
    "\n",
    "rf_precision, rf_recall, _ = precision_recall_curve(y_train, rf_probs1,pos_label=1)\n",
    "rf_aucprc=auc(rf_recall, rf_precision)\n",
    "print('AUC:PrecisionRecall Value =%.3f' % (rf_aucprc))\n",
    "    \n",
    "r_fpr, r_tpr, thresholds = metrics.roc_curve(y_train, r_probs, pos_label=1)\n",
    "rf_fpr, rf_tpr, thresholds = metrics.roc_curve(y_train, rf_probs1, pos_label=1)\n",
    "\n",
    "#ROC PLOT\n",
    "import matplotlib.pyplot as plt\n",
    "plt.plot(r_fpr,r_tpr,linestyle='--',label='Random prediction(AUCROC=%0.3f)'%r_auc)\n",
    "plt.plot(rf_fpr,rf_tpr,linestyle='--',label='Random prediction(AUCROC=%0.3f)'%rf_auc)\n",
    "plt.title('APPARENT -ROC PLOT - RF')\n",
    "plt.xlabel('FALSE POSITIVE RATE')\n",
    "plt.ylabel('TRUE POSITIVE RATE')\n",
    "plt.legend()\n",
    "plt.savefig('RF_apparent1.png', dpi=300, bbox_inches='tight')\n",
    "plt.show()\n",
    "\n",
    "plt.plot(rf_recall, rf_precision, linestyle='--', label='Random prediction(AUCPRC=%0.3f)'%rf_aucprc)\n",
    "# axis labels\n",
    "plt.xlabel('RECALL')\n",
    "plt.ylabel('PRECISION')\n",
    "plt.title('APPARENT  - PRC PLOT - RF')\n",
    "# show the legend\n",
    "plt.legend()\n",
    "#save\n",
    "plt.savefig('RF_apparent2.png', dpi=300, bbox_inches='tight')\n",
    "#show the plot\n",
    "plt.show()"
   ]
  },
  {
   "cell_type": "code",
   "execution_count": 23,
   "metadata": {},
   "outputs": [
    {
     "data": {
      "image/png": "[encoded data removed]",
      "text/plain": [
       "<Figure size 432x288 with 1 Axes>"
      ]
     },
     "metadata": {
      "needs_background": "light"
     },
     "output_type": "display_data"
    }
   ],
   "source": [
    "from sklearn.calibration import calibration_curve\n",
    "rf_probs1=model.predict_proba(X_train)\n",
    "rf_probs1=rf_probs1[:,1]\n",
    "\n",
    "x,y= calibration_curve(y_train,rf_probs1, n_bins=50)\n",
    "plt.plot([0,1],[0,1], linestyle='--', label='Ideally Calibrated')\n",
    "plt.plot(y,x, marker='o', linewidth=1, label='rf')\n",
    "leg= plt.legend(loc='upper left')\n",
    "plt.xlabel('average predicted probabilty in each bin')\n",
    "plt.ylabel('Ratio of Positives')\n",
    "plt.savefig('RF_calibration2.png', dpi=300, bbox_inches='tight')\n",
    "plt.show()"
   ]
  },
  {
   "cell_type": "code",
   "execution_count": 24,
   "metadata": {},
   "outputs": [],
   "source": [
    "#saving file\n",
    "rf_probs1=model.predict_proba(X_train)\n",
    "rf_pos1=rf_probs1[:,1]\n",
    "rf_neg1=rf_probs1[:,0]\n",
    "pd.DataFrame({'Actual': y_train,'Pred_RF': pred1, 'PredProb_1_RF': rf_pos1,'PredProb_0_RF':rf_neg1}).to_csv('rf_apparent.csv', index=False)"
   ]
  },
  {
   "cell_type": "code",
   "execution_count": 57,
   "metadata": {},
   "outputs": [
    {
     "name": "stdout",
     "output_type": "stream",
     "text": [
      "100%|███████████████████████████| 24/24 [00:50<00:00,  2.10s/trial, best loss: 0.12484421657903211]\n",
      "It takes 0.83926469484965 minutes\n",
      "Best Paramters for Logistic Regression Elastic Net model {'C': 220.0, 'l1_ratio': 0.1, 'max_iter': 27792, 'sampling_strategy': 0.2}\n"
     ]
    }
   ],
   "source": [
    "#Logistic Regression Hyper Parameter tuning\n",
    "\n",
    "start = time.time()\n",
    "space_lr = {'penalty': 'elasticnet',\n",
    "               'C' : hp.quniform('C',1,1000,10),\n",
    "                'solver': 'saga',\n",
    "              # 'class_weight' : 'balanced',\n",
    "               'max_iter': hp.randint('max_iter', 1000,50000) ,\n",
    "               'l1_ratio':hp.quniform('l1_ratio',0.1,0.9,0.1),\n",
    "             'sampling_strategy':hp.quniform('sampling_strategy',0.1,0.9,0.1)\n",
    "               }\n",
    "def lr(params):\n",
    "    params = {'penalty': params['penalty'],\n",
    "                 'C': params['C'],\n",
    "                  #'class_weight': params['class_weight'],                       \n",
    "                  'solver': params['solver'],\n",
    "                 'max_iter':params['max_iter'],\n",
    "              'l1_ratio':params['l1_ratio'],\n",
    "              'sampling_strategy':params['sampling_strategy']\n",
    "             }\n",
    "    lr_bo2 =sklearn.linear_model.LogisticRegression(random_state=42,class_weight='balanced',penalty=params['penalty'], C= params['C'], solver = params['solver'],max_iter = params['max_iter'], l1_ratio= params['l1_ratio'])\n",
    "    cv= StratifiedKFold(n_splits=5, random_state=42, shuffle= True)\n",
    "    over = RandomUnderSampler(sampling_strategy=params['sampling_strategy'], random_state=42)\n",
    "    pipe = Pipeline([('o', over),('m', lr_bo2)])\n",
    "    best_score = cross_val_score(pipe, X_train, y_train, scoring='roc_auc', cv=cv).mean()\n",
    "    return 1 - best_score\n",
    "\n",
    "lr_best_param = fmin(fn=lr,\n",
    "                    space=space_lr,\n",
    "                    max_evals=24,\n",
    "                    rstate=np.random.RandomState(42),\n",
    "                    algo=tpe.suggest)\n",
    "print('It takes %s minutes' % ((time.time() - start)/60))\n",
    "print('Best Paramters for Logistic Regression Elastic Net model',lr_best_param)"
   ]
  },
  {
   "cell_type": "code",
   "execution_count": 58,
   "metadata": {},
   "outputs": [],
   "source": [
    "\n",
    "param_values = [x for x in lr_best_param.values()]\n",
    "\n",
    "C= param_values[0]\n",
    "l1_ratio=param_values[1]\n",
    "max_iter = param_values[2]\n",
    "\n",
    "        \n",
    "lr_best= sklearn.linear_model.LogisticRegression(random_state=42,class_weight='balanced',solver='saga',l1_ratio=l1_ratio,penalty='elasticnet',C=C,max_iter=max_iter)\n",
    "under=RandomUnderSampler(sampling_strategy=param_values[3], random_state=42)\n",
    "pipe = Pipeline([('o', under),('m', lr_best)])\n",
    "model= pipe.fit(X_train, y_train)\n",
    "pred = model.predict(X_test)"
   ]
  },
  {
   "cell_type": "code",
   "execution_count": 59,
   "metadata": {},
   "outputs": [
    {
     "name": "stdout",
     "output_type": "stream",
     "text": [
      "Confusion Matrix:\n",
      " [[6313 1205]\n",
      " [  25  105]]\n",
      " Precision: 0.080153\n",
      "Recall: 0.807692\n",
      " F1 score: 0.145833\n",
      "Sensitivity :  0.9960555380246134\n",
      " Specificity :  0.08015267175572519\n",
      "Negative predictive Value:  0.8076923076923077\n",
      " Positive Predictive Value:  0.8397180101090715\n",
      "Geometric Mean:  0.2825535570290331\n"
     ]
    }
   ],
   "source": [
    "#Printing the performance metrics\n",
    "\n",
    "cm= confusion_matrix(y_test, pred)\n",
    "print('Confusion Matrix:\\n',cm)\n",
    "\n",
    "precision = precision_score(y_test, pred)\n",
    "print(' Precision: %f' % precision)\n",
    "\n",
    "recall = recall_score(y_test, pred)\n",
    "print('Recall: %f' % recall)\n",
    "\n",
    "f1 = f1_score(y_test, pred)\n",
    "print(' F1 score: %f' % f1)\n",
    "\n",
    "sensitivity = cm[0,0]/(cm[0,0]+cm[1,0])\n",
    "print('Sensitivity : ', sensitivity )\n",
    "\n",
    "specificity = cm[1,1]/(cm[0,1]+cm[1,1])\n",
    "print(' Specificity : ', specificity)\n",
    "\n",
    "NPV = cm[1,1]/(cm[1,1]+cm[1,0])\n",
    "print('Negative predictive Value: ', NPV)\n",
    "\n",
    "PPV = cm[0,0]/(cm[0,0]+cm[0,1])\n",
    "print(' Positive Predictive Value: ', PPV)\n",
    "\n",
    "import math\n",
    "gm=math.sqrt(specificity*sensitivity)\n",
    "print('Geometric Mean: ', gm)"
   ]
  },
  {
   "cell_type": "code",
   "execution_count": 60,
   "metadata": {},
   "outputs": [
    {
     "name": "stdout",
     "output_type": "stream",
     "text": [
      "Random chance= 0.500000\n",
      "AUCROC Value = 0.895409\n",
      "AUC:PrecisionRecall=0.167\n"
     ]
    },
    {
     "data": {
      "image/png": "[encoded data removed]",
      "text/plain": [
       "<Figure size 432x288 with 1 Axes>"
      ]
     },
     "metadata": {
      "needs_background": "light"
     },
     "output_type": "display_data"
    },
    {
     "data": {
      "image/png": "[encoded data removed]",
      "text/plain": [
       "<Figure size 432x288 with 1 Axes>"
      ]
     },
     "metadata": {
      "needs_background": "light"
     },
     "output_type": "display_data"
    }
   ],
   "source": [
    "r_probs=[0 for _ in range(len(y_test))]\n",
    "lr_probs=model.predict_proba(X_test)\n",
    "lr_probs=lr_probs[:,1]\n",
    "    \n",
    "from sklearn.metrics import roc_curve, roc_auc_score\n",
    "r_auc=roc_auc_score(y_test,r_probs)\n",
    "lr_auc =roc_auc_score(y_test,lr_probs)\n",
    "print('Random chance= %3f'%(r_auc))\n",
    "print('AUCROC Value = %4f'%(lr_auc))\n",
    "\n",
    "     \n",
    "lr_precision, lr_recall, _ = precision_recall_curve(y_test, lr_probs,pos_label=1)\n",
    "lr_aucprc=auc(lr_recall, lr_precision)\n",
    "print('AUC:PrecisionRecall=%.3f' % (lr_aucprc))\n",
    "\n",
    "r_fpr, r_tpr, thresholds = metrics.roc_curve(y_test, r_probs, pos_label=1)\n",
    "lr_fpr, lr_tpr, thresholds = metrics.roc_curve(y_test, lr_probs, pos_label=1)\n",
    "\n",
    "#ROC CURVE PLOT\n",
    "import matplotlib.pyplot as plt\n",
    "plt.plot(r_fpr,r_tpr,linestyle='--',label='Random prediction(AUCROC=%0.3f)'%r_auc)\n",
    "plt.plot(lr_fpr,lr_tpr,linestyle='--',label='Random prediction(AUCROC=%0.3f)'%lr_auc)\n",
    "plt.title('ROC PLOT - LR ELASTIC MODEL')\n",
    "plt.xlabel('FALSE POSITIVE RATE')\n",
    "plt.ylabel('TRUE POSITIVE RATE')\n",
    "plt.legend()\n",
    "#save\n",
    "plt.savefig('lr_elastic_plot1.png', dpi=300, bbox_inches='tight')\n",
    "    # show the plot\n",
    "plt.show()\n",
    "\n",
    "#PRECISION RECALL PLOT\n",
    "    \n",
    "plt.plot(lr_recall, lr_precision, linestyle='--', label='Random prediction(AUCPRC=%0.3f)'%lr_aucprc)\n",
    "plt.xlabel('RECALL')\n",
    "plt.ylabel('PRECISION')\n",
    "plt.legend()\n",
    "plt.title('PRC PLOT - LR ELASTIC MODEL')\n",
    "#save\n",
    "plt.savefig('lr_elastic_plot2.png', dpi=300, bbox_inches='tight')\n",
    "    # show the plot\n",
    "plt.show()"
   ]
  },
  {
   "cell_type": "code",
   "execution_count": 61,
   "metadata": {},
   "outputs": [],
   "source": [
    "#saving file\n",
    "lr_probs=model.predict_proba(X_test)\n",
    "lr_pos=lr_probs[:,1]\n",
    "lr_neg=lr_probs[:,0]\n",
    "pd.DataFrame({'Actual': y_test,'Pred_LR': pred, 'PredProb_1_LR_ELASTIC': lr_pos,'PredProb_0_LR_ELASTIC':lr_neg}).to_csv('lr_elastic.csv', index=False)"
   ]
  },
  {
   "cell_type": "code",
   "execution_count": 62,
   "metadata": {},
   "outputs": [
    {
     "data": {
      "image/png": "[encoded data removed]",
      "text/plain": [
       "<Figure size 432x288 with 1 Axes>"
      ]
     },
     "metadata": {
      "needs_background": "light"
     },
     "output_type": "display_data"
    }
   ],
   "source": [
    "from sklearn.calibration import calibration_curve\n",
    "lr_probs=model.predict_proba(X_test)\n",
    "lr_probs=lr_probs[:,1]\n",
    "\n",
    "x,y= calibration_curve(y_test,lr_probs, n_bins=50)\n",
    "plt.plot([0,1],[0,1], linestyle='--', label='Ideally Calibrated')\n",
    "plt.plot(y,x, marker='o', linewidth=1, label='lr')\n",
    "leg= plt.legend(loc='upper left')\n",
    "plt.xlabel('average predicted probabilty in each bin')\n",
    "plt.ylabel('Ratio of Positives')\n",
    "plt.savefig('lr_elastic_calibration1.png', dpi=300, bbox_inches='tight')\n",
    "plt.show()"
   ]
  },
  {
   "cell_type": "code",
   "execution_count": 63,
   "metadata": {},
   "outputs": [
    {
     "name": "stdout",
     "output_type": "stream",
     "text": [
      "Coefficient Values: [[ 0.51442731 -0.06354972  0.86117527 -0.06821952  0.34350372  0.48029429\n",
      "   0.12711061 -0.19226448 -0.19451737 -0.00832254  0.32760153 -0.16939887\n",
      "  -0.18751878  0.01706891  0.04025157 -0.08027074 -0.29475185  0.07979676\n",
      "  -0.54857847 -0.08264476  0.32212118 -0.31550595 -0.05659923 -0.20940223\n",
      "   0.31300602  0.25793858 -0.18911032  0.08350679  0.25476683  0.07394006\n",
      "   0.15089935 -0.16357807 -0.21300382 -0.48361872  0.01156961 -0.02612639\n",
      "   0.1484891  -0.24171571  0.19364051]]\n",
      "Intercept Model : [-1.51326299]\n"
     ]
    }
   ],
   "source": [
    "# Printing the coefficient Values\n",
    "\n",
    "print('Coefficient Values:',pipe['m'].coef_)\n",
    "print('Intercept Model :',pipe['m'].intercept_)\n"
   ]
  },
  {
   "cell_type": "code",
   "execution_count": 64,
   "metadata": {},
   "outputs": [],
   "source": [
    "#Apparent Train\n",
    "pred1 = model.predict(X_train)"
   ]
  },
  {
   "cell_type": "code",
   "execution_count": 65,
   "metadata": {},
   "outputs": [
    {
     "name": "stdout",
     "output_type": "stream",
     "text": [
      "Apparent  - Confusion Matrix:\n",
      " [[17782  4670]\n",
      " [   75   416]]\n",
      "Apparent - Precision: 0.081793\n",
      "Apparent  - Recall: 0.847251\n",
      "Apparent  - F1 score: 0.149184\n",
      "Apparent  - Sensitivity :  0.9957999663997312\n",
      "Apparent  - Specificity :  0.08179315768777035\n",
      "Apparent  - Negative predictive Value:  0.8472505091649695\n",
      "Apparent  - Positive Predictive Value:  0.7920007126313914\n",
      "Apparent - Geometric Mean:  0.2853938045529539\n"
     ]
    }
   ],
   "source": [
    "cm1 = confusion_matrix(y_train, pred1)\n",
    "print('Apparent  - Confusion Matrix:\\n',cm1)\n",
    "\n",
    "precision = precision_score(y_train, pred1)\n",
    "print('Apparent - Precision: %f' % precision)\n",
    "\n",
    "recall = recall_score(y_train, pred1)\n",
    "print('Apparent  - Recall: %f' % recall)\n",
    "\n",
    "f1 = f1_score(y_train, pred1)\n",
    "print('Apparent  - F1 score: %f' % f1)\n",
    "\n",
    "sensitivity1 = cm1[0,0]/(cm1[0,0]+cm1[1,0])\n",
    "print('Apparent  - Sensitivity : ', sensitivity1 )\n",
    "\n",
    "specificity1= cm1[1,1]/(cm1[0,1]+cm1[1,1])\n",
    "print('Apparent  - Specificity : ', specificity1)\n",
    "\n",
    "NPV = cm1[1,1]/(cm1[1,1]+cm1[1,0])\n",
    "print('Apparent  - Negative predictive Value: ', NPV)\n",
    "\n",
    "PPV = cm1[0,0]/(cm1[0,0]+cm1[0,1])\n",
    "print('Apparent  - Positive Predictive Value: ', PPV)\n",
    "\n",
    "import math\n",
    "gm1=math.sqrt(specificity1*sensitivity1)\n",
    "print('Apparent - Geometric Mean: ', gm1)"
   ]
  },
  {
   "cell_type": "code",
   "execution_count": 66,
   "metadata": {},
   "outputs": [
    {
     "name": "stdout",
     "output_type": "stream",
     "text": [
      "Random chance= 0.500000\n",
      "AUCROC Value = 0.889163\n",
      "AUC:PrecisionRecall=0.159\n"
     ]
    },
    {
     "data": {
      "image/png": "[encoded data removed]",
      "text/plain": [
       "<Figure size 432x288 with 1 Axes>"
      ]
     },
     "metadata": {
      "needs_background": "light"
     },
     "output_type": "display_data"
    },
    {
     "data": {
      "image/png": "[encoded data removed]",
      "text/plain": [
       "<Figure size 432x288 with 1 Axes>"
      ]
     },
     "metadata": {
      "needs_background": "light"
     },
     "output_type": "display_data"
    }
   ],
   "source": [
    "r_probs=[0 for _ in range(len(y_train))]\n",
    "lr_probs1=model.predict_proba(X_train)\n",
    "lr_probs1=lr_probs1[:,1]\n",
    "    \n",
    "from sklearn.metrics import roc_curve, roc_auc_score\n",
    "r_auc=roc_auc_score(y_train,r_probs)\n",
    "lr_auc =roc_auc_score(y_train,lr_probs1)\n",
    "print('Random chance= %3f'%(r_auc))\n",
    "print('AUCROC Value = %4f'%(lr_auc))\n",
    "\n",
    "     \n",
    "lr_precision, lr_recall, _ = precision_recall_curve(y_train, lr_probs1,pos_label=1)\n",
    "lr_aucprc=auc(lr_recall, lr_precision)\n",
    "print('AUC:PrecisionRecall=%.3f' % (lr_aucprc))\n",
    "\n",
    "r_fpr, r_tpr, thresholds = metrics.roc_curve(y_train, r_probs, pos_label=1)\n",
    "lr_fpr, lr_tpr, thresholds = metrics.roc_curve(y_train, lr_probs1, pos_label=1)\n",
    "\n",
    "#ROC CURVE PLOT\n",
    "import matplotlib.pyplot as plt\n",
    "plt.plot(r_fpr,r_tpr,linestyle='--',label='Random prediction(AUCROC=%0.3f)'%r_auc)\n",
    "plt.plot(lr_fpr,lr_tpr,linestyle='--',label='Random prediction(AUCROC=%0.3f)'%lr_auc)\n",
    "plt.title('APPARENT- ROC PLOT')\n",
    "plt.xlabel('FALSE POSITIVE RATE')\n",
    "plt.ylabel('TRUE POSITIVE RATE')\n",
    "plt.legend()\n",
    "#save\n",
    "plt.savefig('lr_elastic_apparent1.png', dpi=300, bbox_inches='tight')\n",
    "    # show the plot\n",
    "plt.show()\n",
    "\n",
    "#PRECISION RECALL PLOT\n",
    "    \n",
    "plt.plot(lr_recall, lr_precision, linestyle='--', label='Random prediction(AUCPRC=%0.3f)'%lr_aucprc)\n",
    "plt.xlabel('RECALL')\n",
    "plt.ylabel('PRECISION')\n",
    "plt.legend()\n",
    "plt.title('APPARENT - PRC PLOT - LR ELASTIC MODEL')\n",
    "#save\n",
    "plt.savefig('lr_elastic_apparent2.png', dpi=300, bbox_inches='tight')\n",
    "    # show the plot\n",
    "plt.show()"
   ]
  },
  {
   "cell_type": "code",
   "execution_count": 67,
   "metadata": {},
   "outputs": [
    {
     "data": {
      "image/png": "[encoded data removed]",
      "text/plain": [
       "<Figure size 432x288 with 1 Axes>"
      ]
     },
     "metadata": {
      "needs_background": "light"
     },
     "output_type": "display_data"
    }
   ],
   "source": [
    "from sklearn.calibration import calibration_curve\n",
    "\n",
    "lr_probs1=model.predict_proba(X_train)\n",
    "lr_probs1=lr_probs1[:,1]\n",
    "    \n",
    "\n",
    "x,y= calibration_curve(y_train,lr_probs1, n_bins=50)\n",
    "plt.plot([0,1],[0,1], linestyle='--', label='Ideally Calibrated')\n",
    "plt.plot(y,x, marker='o', linewidth=1, label='lr')\n",
    "leg= plt.legend(loc='upper left')\n",
    "plt.xlabel('average predicted probabilty in each bin')\n",
    "plt.ylabel('Ratio of Positives')\n",
    "plt.savefig('lr_elastic_calibration2.png', dpi=300, bbox_inches='tight')\n",
    "plt.show()"
   ]
  },
  {
   "cell_type": "code",
   "execution_count": 68,
   "metadata": {},
   "outputs": [],
   "source": [
    "#saving file\n",
    "lr_probs1=model.predict_proba(X_train)\n",
    "lr_pos1=lr_probs1[:,1]\n",
    "lr_neg1=lr_probs1[:,0]\n",
    "pd.DataFrame({'Actual': y_train,'Pred_LR': pred1, 'PredProb_1_LR_ELASTIC': lr_pos1,'PredProb_0_LR_ELASTIC':lr_neg1}).to_csv('lr_elastic_apparent.csv', index=False)"
   ]
  }
 ],
 "metadata": {
  "kernelspec": {
   "display_name": "Python 3",
   "language": "python",
   "name": "python3"
  },
  "language_info": {
   "codemirror_mode": {
    "name": "ipython",
    "version": 3
   },
   "file_extension": ".py",
   "mimetype": "text/x-python",
   "name": "python",
   "nbconvert_exporter": "python",
   "pygments_lexer": "ipython3",
   "version": "3.9.0rc1"
  }
 },
 "nbformat": 4,
 "nbformat_minor": 4
}
