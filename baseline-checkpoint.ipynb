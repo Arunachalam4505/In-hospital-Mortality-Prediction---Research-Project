{
 "cells": [
  {
   "cell_type": "code",
   "execution_count": 1,
   "metadata": {},
   "outputs": [],
   "source": [
    "import pandas as pd\n",
    "import numpy as np\n",
    "from sklearn import model_selection, ensemble, metrics\n",
    "from sklearn.metrics import confusion_matrix\n",
    "from sklearn.metrics import accuracy_score\n",
    "from sklearn.metrics import classification_report\n",
    "from sklearn.metrics import precision_recall_fscore_support as score, precision_score, recall_score, f1_score,accuracy_score\n",
    "\n",
    "\n",
    "from sklearn.linear_model import LogisticRegression\n",
    "from sklearn.model_selection import train_test_split, cross_val_score\n",
    "\n",
    "from functools import partial\n",
    "from skopt import space\n",
    "from skopt import gp_minimize\n",
    "from numpy import mean\n",
    "from sklearn.model_selection import cross_val_score\n",
    "import time\n",
    "from scipy.stats import uniform\n",
    "\n",
    "\n",
    "from bayes_opt import BayesianOptimization\n",
    "from xgboost import XGBClassifier\n",
    "from hyperopt import hp, fmin, tpe\n",
    "import sklearn.tree"
   ]
  },
  {
   "cell_type": "code",
   "execution_count": 6,
   "metadata": {},
   "outputs": [],
   "source": [
    "from sklearn import datasets"
   ]
  },
  {
   "cell_type": "code",
   "execution_count": 9,
   "metadata": {},
   "outputs": [],
   "source": [
    "\n",
    "iris= datasets.load_iris()\n",
    "idx = iris.target != 0\n",
    "data = iris.data[idx].astype(np.float32)\n",
    "target = iris.target[idx].astype(np.float32)"
   ]
  },
  {
   "cell_type": "code",
   "execution_count": 10,
   "metadata": {},
   "outputs": [],
   "source": [
    "from bayes_opt import BayesianOptimization\n",
    "from xgboost import XGBClassifier"
   ]
  },
  {
   "cell_type": "code",
   "execution_count": 11,
   "metadata": {},
   "outputs": [],
   "source": [
    "X_train, X_test, y_train, y_test = train_test_split(data, target, test_size = 0.25)"
   ]
  },
  {
   "cell_type": "code",
   "execution_count": 12,
   "metadata": {},
   "outputs": [
    {
     "name": "stdout",
     "output_type": "stream",
     "text": [
      "100%|██████████| 24/24 [00:09<00:00,  2.45trial/s, best loss: 0.053333333333333344]\n",
      "It takes 0.16359217166900636 minutes\n"
     ]
    },
    {
     "data": {
      "text/plain": [
       "{'learning_rate': 0.9829545946333853,\n",
       " 'max_depth': 5,\n",
       " 'max_features': 0.837685058353086,\n",
       " 'n_estimators': 122,\n",
       " 'subsample': 0.9468056035971136}"
      ]
     },
     "execution_count": 12,
     "metadata": {},
     "output_type": "execute_result"
    }
   ],
   "source": [
    "#A type of Gradient Boosting where the parameters are set and \n",
    "\n",
    "\n",
    "start = time.time()\n",
    "\n",
    "# Defining the search space: NoTE: More parameters can be added to obtain different results\n",
    "\n",
    "space_lr = {'max_depth': hp.randint('max_depth', 3, 10),\n",
    "            'max_features': hp.uniform('max_features', 0.8, 1),\n",
    "            'learning_rate': hp.uniform('learning_rate',0.01, 1),\n",
    "            'n_estimators': hp.randint('n_estimators', 80,150),\n",
    "            'subsample': hp.uniform('subsample',0.8, 1)}\n",
    "\n",
    "# Defining \n",
    "def gbm_cl_bo2(params):\n",
    "    params = {'max_depth': params['max_depth'],\n",
    "              'max_features': params['max_features'],\n",
    "              'learning_rate': params['learning_rate'],\n",
    "              'n_estimators': params['n_estimators'],\n",
    "              'subsample': params['subsample']}\n",
    "    #Gradient Boosting similar to XGB\n",
    "    gbm_bo2 = ensemble.GradientBoostingClassifier(random_state=111, **params)\n",
    "    #Crossval_score returns the mean of scores\n",
    "    \n",
    "    best_score = cross_val_score(gbm_bo2, X_train, y_train, scoring='accuracy', cv=5).mean()\n",
    "    return 1 - best_score\n",
    "\n",
    "\n",
    "gbm_best_param = fmin(fn=gbm_cl_bo2,\n",
    "                space=space_lr,\n",
    "                max_evals=24,\n",
    "                rstate=np.random.RandomState(42),\n",
    "                algo=tpe.suggest)\n",
    "\n",
    "print('It takes %s minutes' % ((time.time() - start)/60))\n",
    "gbm_best_param"
   ]
  },
  {
   "cell_type": "code",
   "execution_count": 13,
   "metadata": {},
   "outputs": [
    {
     "name": "stdout",
     "output_type": "stream",
     "text": [
      "[[ 8  1]\n",
      " [ 1 15]]\n",
      "Accuracy: 0.920000\n",
      "Precision: 0.888889\n",
      "Recall: 0.888889\n",
      "F1 score: 0.888889\n"
     ]
    }
   ],
   "source": [
    "param_values = [x for x in gbm_best_param.values()]\n",
    "gb_best = ensemble.GradientBoostingClassifier(learning_rate= param_values[0],\n",
    " max_depth= param_values[1],\n",
    " max_features= param_values[2],\n",
    " n_estimators= param_values[3],\n",
    " subsample= param_values[4])\n",
    "                                  \n",
    "model= gb_best.fit(X_train, y_train)\n",
    "pred = model.predict(X_test)\n",
    "\n",
    "cm = confusion_matrix(y_test, pred)\n",
    "print(cm)\n",
    "\n",
    "accuracy = accuracy_score(y_test, pred)\n",
    "print('Accuracy: %f' % accuracy)\n",
    "\n",
    "precision = precision_score(y_test, pred)\n",
    "print('Precision: %f' % precision)\n",
    "\n",
    "recall = recall_score(y_test, pred)\n",
    "print('Recall: %f' % recall)\n",
    "\n",
    "f1 = f1_score(y_test, pred)\n",
    "print('F1 score: %f' % f1)"
   ]
  },
  {
   "cell_type": "code",
   "execution_count": 14,
   "metadata": {},
   "outputs": [
    {
     "name": "stdout",
     "output_type": "stream",
     "text": [
      "100%|██████████| 24/24 [00:09<00:00,  2.47trial/s, best loss: 0.01441798941798944] \n",
      "It takes 0.1620334545771281 minutes\n"
     ]
    },
    {
     "data": {
      "text/plain": [
       "{'learning_rate': 0.13389768934021898,\n",
       " 'max_depth': 8,\n",
       " 'max_features': 0.8756095676139352,\n",
       " 'n_estimators': 114,\n",
       " 'subsample': 0.9031664223860794}"
      ]
     },
     "execution_count": 14,
     "metadata": {},
     "output_type": "execute_result"
    }
   ],
   "source": [
    "#A type of Gradient Boosting where the parameters are set and scores are evaluated accordingly. \n",
    "#1-best_score returns the loss function, Coversely returning best score as it is, \n",
    "#will return the score of the best performing hyperparameter itself\n",
    "\n",
    "\n",
    "\n",
    "start = time.time()\n",
    "\n",
    "# Defining the search space: NoTE: More parameters can be added to obtain different results\n",
    "\n",
    "space_lr = {'max_depth': hp.randint('max_depth', 3, 10),\n",
    "            'max_features': hp.uniform('max_features', 0.8, 1),\n",
    "            'learning_rate': hp.uniform('learning_rate',0.01, 1),\n",
    "            'n_estimators': hp.randint('n_estimators', 80,150),\n",
    "            'subsample': hp.uniform('subsample',0.8, 1)}\n",
    "\n",
    "# Defining \n",
    "def gbm_cl_bo2(params):\n",
    "    params = {'max_depth': params['max_depth'],\n",
    "              'max_features': params['max_features'],\n",
    "              'learning_rate': params['learning_rate'],\n",
    "              'n_estimators': params['n_estimators'],\n",
    "              'subsample': params['subsample']}\n",
    "    #Gradient Boosting similar to XGB\n",
    "    gbm_bo2 = ensemble.GradientBoostingClassifier(random_state=111, **params)\n",
    "    #Crossval_score returns the mean of scores\n",
    "    \n",
    "    best_score = cross_val_score(gbm_bo2, X_train, y_train, scoring='roc_auc', cv=5).mean()\n",
    "    return 1 - best_score\n",
    "\n",
    "\n",
    "gbm_best_param = fmin(fn=gbm_cl_bo2,\n",
    "                space=space_lr,\n",
    "                max_evals=24,\n",
    "                rstate=np.random.RandomState(42),\n",
    "                algo=tpe.suggest)\n",
    "\n",
    "print('It takes %s minutes' % ((time.time() - start)/60))\n",
    "gbm_best_param"
   ]
  },
  {
   "cell_type": "code",
   "execution_count": 19,
   "metadata": {},
   "outputs": [
    {
     "name": "stdout",
     "output_type": "stream",
     "text": [
      "[[ 8  1]\n",
      " [ 1 15]]\n",
      "Accuracy: 0.920000\n",
      "Precision: 0.888889\n",
      "Recall: 0.888889\n",
      "F1 score: 0.888889\n"
     ]
    }
   ],
   "source": [
    "param_values = [x for x in gbm_best_param.values()]\n",
    "gb_best = ensemble.GradientBoostingClassifier(learning_rate= param_values[0],\n",
    " max_depth= param_values[1],\n",
    " max_features= param_values[2],\n",
    " n_estimators= param_values[3],\n",
    " subsample= param_values[4])\n",
    "                                  \n",
    "model= gb_best.fit(X_train, y_train)\n",
    "pred = model.predict(X_test)\n",
    "\n",
    "cm = confusion_matrix(y_test, pred)\n",
    "print(cm)\n",
    "\n",
    "accuracy = accuracy_score(y_test, pred)\n",
    "print('Accuracy: %f' % accuracy)\n",
    "\n",
    "precision = precision_score(y_test, pred)\n",
    "print('Precision: %f' % precision)\n",
    "\n",
    "recall = recall_score(y_test, pred)\n",
    "print('Recall: %f' % recall)\n",
    "\n",
    "f1 = f1_score(y_test, pred)\n",
    "print('F1 score: %f' % f1)"
   ]
  },
  {
   "cell_type": "code",
   "execution_count": 20,
   "metadata": {},
   "outputs": [
    {
     "name": "stdout",
     "output_type": "stream",
     "text": [
      "100%|██████████| 24/24 [00:59<00:00,  2.47s/trial, best loss: 0.06666666666666665]\n",
      "It takes 0.9864553372065227 minutes\n"
     ]
    },
    {
     "data": {
      "text/plain": [
       "{'criterion': 1,\n",
       " 'max_depth': 6,\n",
       " 'max_features': 0.920219452273437,\n",
       " 'n_estimators': 126}"
      ]
     },
     "execution_count": 20,
     "metadata": {},
     "output_type": "execute_result"
    }
   ],
   "source": [
    "\n",
    "start = time.time()\n",
    "space_lr = {'max_depth': hp.randint('max_depth', 3, 10),\n",
    "            'max_features': hp.uniform('max_features', 0.8, 1),\n",
    "            'n_estimators': hp.randint('n_estimators', 80,150),\n",
    "            'criterion': hp.choice('criterion', ['entropy','gini'])}\n",
    "def rf(params):\n",
    "    params = {'max_depth': params['max_depth'],\n",
    "              'max_features': params['max_features'],\n",
    "              'n_estimators': params['n_estimators'],\n",
    "              'criterion': params['criterion']}\n",
    "    rf_bo = ensemble.RandomForestClassifier(n_jobs=-1, **params)\n",
    "    best_score = cross_val_score(rf_bo, X_train, y_train, scoring='accuracy', cv=5).mean()\n",
    "    return 1-best_score\n",
    "\n",
    "rf_best_param = fmin(fn=rf,\n",
    "                space=space_lr,\n",
    "                max_evals=24,\n",
    "                rstate=np.random.RandomState(42),\n",
    "                algo=tpe.suggest,\n",
    "                    )\n",
    "print('It takes %s minutes' % ((time.time() - start)/60))\n",
    "rf_best_param"
   ]
  },
  {
   "cell_type": "code",
   "execution_count": 21,
   "metadata": {},
   "outputs": [
    {
     "name": "stdout",
     "output_type": "stream",
     "text": [
      "[[ 8  1]\n",
      " [ 0 16]]\n",
      "Accuracy: 0.960000\n",
      "Precision: 1.000000\n",
      "Recall: 0.888889\n",
      "F1 score: 0.941176\n"
     ]
    }
   ],
   "source": [
    "param_values = [x for x in rf_best_param.values()]\n",
    "if param_values[0] == 1:\n",
    "    criterion = 'gini'\n",
    "else:\n",
    "    criterion= 'entropy'\n",
    "\n",
    "rf_best = ensemble.RandomForestClassifier(\n",
    "criterion= criterion,\n",
    " max_depth= param_values[1],\n",
    " max_features= param_values[2],\n",
    " n_estimators=param_values[3])\n",
    "\n",
    "rf_best.fit(X_train, y_train)\n",
    "    \n",
    "                                     \n",
    "model= rf_best.fit(X_train, y_train)\n",
    "pred = model.predict(X_test)\n",
    "\n",
    "\n",
    "\n",
    "cm = confusion_matrix(y_test, pred)\n",
    "print(cm)\n",
    "\n",
    "accuracy = accuracy_score(y_test, pred)\n",
    "print('Accuracy: %f' % accuracy)\n",
    "\n",
    "precision = precision_score(y_test, pred)\n",
    "print('Precision: %f' % precision)\n",
    "\n",
    "recall = recall_score(y_test, pred)\n",
    "print('Recall: %f' % recall)\n",
    "\n",
    "f1 = f1_score(y_test, pred)\n",
    "print('F1 score: %f' % f1)"
   ]
  },
  {
   "cell_type": "code",
   "execution_count": 24,
   "metadata": {},
   "outputs": [
    {
     "name": "stdout",
     "output_type": "stream",
     "text": [
      "100%|██████████| 24/24 [00:53<00:00,  2.25s/trial, best loss: 0.010846560846560771]\n",
      "It takes 0.8997764547665914 minutes\n"
     ]
    },
    {
     "data": {
      "text/plain": [
       "{'criterion': 0,\n",
       " 'max_depth': 5,\n",
       " 'max_features': 0.8987756740679806,\n",
       " 'n_estimators': 126}"
      ]
     },
     "execution_count": 24,
     "metadata": {},
     "output_type": "execute_result"
    }
   ],
   "source": [
    "\n",
    "start = time.time()\n",
    "space_lr = {'max_depth': hp.randint('max_depth', 3, 10),\n",
    "            'max_features': hp.uniform('max_features', 0.8, 1),\n",
    "            'n_estimators': hp.randint('n_estimators', 80,150),\n",
    "            'criterion': hp.choice('criterion', ['entropy','gini'])}\n",
    "def rf(params):\n",
    "    params = {'max_depth': params['max_depth'],\n",
    "              'max_features': params['max_features'],\n",
    "              'n_estimators': params['n_estimators'],\n",
    "              'criterion': params['criterion']}\n",
    "    rf_bo = ensemble.RandomForestClassifier(n_jobs=-1, **params)\n",
    "    best_score = cross_val_score(rf_bo, X_train, y_train, scoring='roc_auc', cv=5).mean()\n",
    "    return 1-best_score\n",
    "\n",
    "rf_best_param = fmin(fn=rf,\n",
    "                space=space_lr,\n",
    "                max_evals=24,\n",
    "                rstate=np.random.RandomState(42),\n",
    "                algo=tpe.suggest,\n",
    "                    )\n",
    "print('It takes %s minutes' % ((time.time() - start)/60))\n",
    "rf_best_param"
   ]
  },
  {
   "cell_type": "code",
   "execution_count": 25,
   "metadata": {},
   "outputs": [
    {
     "name": "stdout",
     "output_type": "stream",
     "text": [
      "[[ 8  1]\n",
      " [ 0 16]]\n",
      "Accuracy: 0.960000\n",
      "Precision: 1.000000\n",
      "Recall: 0.888889\n",
      "F1 score: 0.941176\n"
     ]
    }
   ],
   "source": [
    "param_values = [x for x in rf_best_param.values()]\n",
    "if param_values[0] == 1:\n",
    "    criterion = 'gini'\n",
    "else:\n",
    "    criterion= 'entropy'\n",
    "\n",
    "rf_best = ensemble.RandomForestClassifier(\n",
    "criterion= criterion,\n",
    " max_depth= param_values[1],\n",
    " max_features= param_values[2],\n",
    " n_estimators=param_values[3])\n",
    "\n",
    "rf_best.fit(X_train, y_train)\n",
    "    \n",
    "                                     \n",
    "model= rf_best.fit(X_train, y_train)\n",
    "pred = model.predict(X_test)\n",
    "\n",
    "\n",
    "\n",
    "cm = confusion_matrix(y_test, pred)\n",
    "print(cm)\n",
    "\n",
    "accuracy = accuracy_score(y_test, pred)\n",
    "print('Accuracy: %f' % accuracy)\n",
    "\n",
    "precision = precision_score(y_test, pred)\n",
    "print('Precision: %f' % precision)\n",
    "\n",
    "recall = recall_score(y_test, pred)\n",
    "print('Recall: %f' % recall)\n",
    "\n",
    "f1 = f1_score(y_test, pred)\n",
    "print('F1 score: %f' % f1)"
   ]
  },
  {
   "cell_type": "code",
   "execution_count": 26,
   "metadata": {},
   "outputs": [
    {
     "name": "stdout",
     "output_type": "stream",
     "text": [
      "100%|██████████| 24/24 [00:00<00:00, 58.40trial/s, best loss: 0.5466666666666666]\n",
      "It takes 0.007215412457784017 minutes\n"
     ]
    },
    {
     "data": {
      "text/plain": [
       "{'criterion': 0, 'max_depth': 5, 'max_features': 3, 'min_samples_leaf': 49}"
      ]
     },
     "execution_count": 26,
     "metadata": {},
     "output_type": "execute_result"
    }
   ],
   "source": [
    "\n",
    "start = time.time()\n",
    "space_lr ={'max_depth': hp.choice('max_depth', range(1,20)),\n",
    "    'max_features': hp.choice('max_features', range(1,5)),\n",
    "    'criterion': hp.choice('criterion', [\"gini\", \"entropy\"]),\n",
    "          'min_samples_leaf': hp.randint('min_samples_leaf', 3, 50)}\n",
    "        \n",
    "#space_lr = {'min_samples_leaf': hp.randint('min_samples_leaf', 3, 50),\n",
    "            #'max_depth': hp.uniform('max_depth', 1, 10),\n",
    "          #  'criterion': hp.choice('criterion', ['entropy','gini'])}\n",
    "        \n",
    "def dt(params):\n",
    "    params = {'max_depth': params['max_depth'],\n",
    "              'min_samples_leaf': params['min_samples_leaf'],\n",
    "              'criterion': params['criterion'],\n",
    "             'max_features': params['max_features']}\n",
    "            \n",
    "    \n",
    "    dt_bo = sklearn.tree.DecisionTreeClassifier(random_state=42, **params)\n",
    "    best_score = cross_val_score(dt_bo, X_train, y_train, scoring='accuracy', cv=5).mean()\n",
    "    return best_score\n",
    "dt_best_param = fmin(fn=dt,\n",
    "                space=space_lr,\n",
    "                max_evals=24,\n",
    "                rstate=np.random.RandomState(42),\n",
    "                algo=tpe.suggest)\n",
    "print('It takes %s minutes' % ((time.time() - start)/60))\n",
    "dt_best_param"
   ]
  },
  {
   "cell_type": "code",
   "execution_count": 27,
   "metadata": {},
   "outputs": [
    {
     "name": "stdout",
     "output_type": "stream",
     "text": [
      "[[ 9  0]\n",
      " [16  0]]\n",
      "Accuracy: 0.360000\n",
      "Precision: 0.360000\n",
      "Recall: 1.000000\n",
      "F1 score: 0.529412\n"
     ]
    }
   ],
   "source": [
    "param_values = [x for x in dt_best_param.values()]\n",
    "if param_values[0] == 0:\n",
    "    criterion = 'entropy'\n",
    "else:\n",
    "    criterion= 'gini'\n",
    "max_features=param_values[2]\n",
    "\n",
    "dt_best =sklearn.tree.DecisionTreeClassifier(\n",
    "criterion=criterion,\n",
    " max_depth= param_values[1],\n",
    "min_samples_leaf= param_values[3],\n",
    "max_features=max_features)\n",
    "\n",
    "dt_best.fit(X_train, y_train)                                    \n",
    "model= dt_best.fit(X_train, y_train)\n",
    "pred = model.predict(X_test)\n",
    "\n",
    "\n",
    "cm = confusion_matrix(y_test, pred)\n",
    "print(cm)\n",
    "\n",
    "accuracy = accuracy_score(y_test, pred)\n",
    "print('Accuracy: %f' % accuracy)\n",
    "\n",
    "precision = precision_score(y_test, pred)\n",
    "print('Precision: %f' % precision)\n",
    "\n",
    "recall = recall_score(y_test, pred)\n",
    "print('Recall: %f' % recall)\n",
    "\n",
    "f1 = f1_score(y_test, pred)\n",
    "print('F1 score: %f' % f1)\n"
   ]
  },
  {
   "cell_type": "code",
   "execution_count": 28,
   "metadata": {},
   "outputs": [
    {
     "name": "stdout",
     "output_type": "stream",
     "text": [
      "100%|██████████| 24/24 [00:00<00:00, 44.99trial/s, best loss: 0.5]\n",
      "It takes 0.009188195069630941 minutes\n"
     ]
    },
    {
     "data": {
      "text/plain": [
       "{'criterion': 0, 'max_depth': 5, 'max_features': 3, 'min_samples_leaf': 49}"
      ]
     },
     "execution_count": 28,
     "metadata": {},
     "output_type": "execute_result"
    }
   ],
   "source": [
    "\n",
    "start = time.time()\n",
    "space_lr ={'max_depth': hp.choice('max_depth', range(1,20)),\n",
    "    'max_features': hp.choice('max_features', range(1,5)),\n",
    "    'criterion': hp.choice('criterion', [\"gini\", \"entropy\"]),\n",
    "          'min_samples_leaf': hp.randint('min_samples_leaf', 3, 50)}\n",
    "        \n",
    "#space_lr = {'min_samples_leaf': hp.randint('min_samples_leaf', 3, 50),\n",
    "            #'max_depth': hp.uniform('max_depth', 1, 10),\n",
    "          #  'criterion': hp.choice('criterion', ['entropy','gini'])}\n",
    "        \n",
    "def dt(params):\n",
    "    params = {'max_depth': params['max_depth'],\n",
    "              'min_samples_leaf': params['min_samples_leaf'],\n",
    "              'criterion': params['criterion'],\n",
    "             'max_features': params['max_features']}\n",
    "            \n",
    "    \n",
    "    dt_bo = sklearn.tree.DecisionTreeClassifier(random_state=42, **params)\n",
    "    best_score = cross_val_score(dt_bo, X_train, y_train, scoring='roc_auc', cv=5).mean()\n",
    "    return best_score\n",
    "dt_best_param = fmin(fn=dt,\n",
    "                space=space_lr,\n",
    "                max_evals=24,\n",
    "                rstate=np.random.RandomState(42),\n",
    "                algo=tpe.suggest)\n",
    "print('It takes %s minutes' % ((time.time() - start)/60))\n",
    "dt_best_param"
   ]
  },
  {
   "cell_type": "code",
   "execution_count": 29,
   "metadata": {},
   "outputs": [
    {
     "name": "stdout",
     "output_type": "stream",
     "text": [
      "[[ 9  0]\n",
      " [16  0]]\n",
      "Accuracy: 0.360000\n",
      "Precision: 0.360000\n",
      "Recall: 1.000000\n",
      "F1 score: 0.529412\n"
     ]
    }
   ],
   "source": [
    "param_values = [x for x in dt_best_param.values()]\n",
    "if param_values[0] == 0:\n",
    "    criterion = 'entropy'\n",
    "else:\n",
    "    criterion= 'gini'\n",
    "max_features=param_values[2]\n",
    "\n",
    "dt_best =sklearn.tree.DecisionTreeClassifier(\n",
    "criterion=criterion,\n",
    " max_depth= param_values[1],\n",
    "min_samples_leaf= param_values[3],\n",
    "max_features=max_features)\n",
    "\n",
    "dt_best.fit(X_train, y_train)                                    \n",
    "model= dt_best.fit(X_train, y_train)\n",
    "pred = model.predict(X_test)\n",
    "\n",
    "\n",
    "cm = confusion_matrix(y_test, pred)\n",
    "print(cm)\n",
    "\n",
    "accuracy = accuracy_score(y_test, pred)\n",
    "print('Accuracy: %f' % accuracy)\n",
    "\n",
    "precision = precision_score(y_test, pred)\n",
    "print('Precision: %f' % precision)\n",
    "\n",
    "recall = recall_score(y_test, pred)\n",
    "print('Recall: %f' % recall)\n",
    "\n",
    "f1 = f1_score(y_test, pred)\n",
    "print('F1 score: %f' % f1)\n"
   ]
  },
  {
   "cell_type": "code",
   "execution_count": 30,
   "metadata": {},
   "outputs": [
    {
     "name": "stdout",
     "output_type": "stream",
     "text": [
      "100%|██████████| 24/24 [00:00<00:00, 42.78trial/s, best loss: 0.040000000000000036]\n",
      "It takes 0.009555955727895101 minutes\n"
     ]
    },
    {
     "data": {
      "text/plain": [
       "{'C': 170.0, 'class_weight': 0, 'penalty': 0, 'solver': 1}"
      ]
     },
     "execution_count": 30,
     "metadata": {},
     "output_type": "execute_result"
    }
   ],
   "source": [
    "\n",
    "start = time.time()\n",
    "space_lr = {'penalty': hp.choice('penalty', ['elasticnet']),\n",
    "            'C' : hp.quniform('C',0.0001,1000,10),\n",
    "            'solver': hp.choice('solver',['liblinear', 'saga']),\n",
    "           'class_weight' : hp.choice('class_weight',['none','balanced'])\n",
    "           }\n",
    "                                        \n",
    "def lr(params):\n",
    "    params = {'penalty': params['penalty'],\n",
    "              'C': params['C'],\n",
    "              'class_weight': params['class_weight'],                       \n",
    "              'solver': params['solver']}\n",
    "    lr_bo2 =LogisticRegression(l1_ratio=0.5, **params)\n",
    "    best_score = cross_val_score(lr_bo2, X_train, y_train, scoring='accuracy', cv=5,n_jobs=-1).mean()\n",
    "    return 1 - best_score\n",
    "                                        \n",
    "lr_best_param = fmin(fn=lr,\n",
    "                space=space_lr,\n",
    "                max_evals=24,\n",
    "                rstate=np.random.RandomState(42),\n",
    "                algo=tpe.suggest)\n",
    "print('It takes %s minutes' % ((time.time() - start)/60))\n",
    "\n",
    "import warnings\n",
    "warnings.filterwarnings(\"ignore\")\n",
    "lr_best_param"
   ]
  },
  {
   "cell_type": "code",
   "execution_count": 31,
   "metadata": {},
   "outputs": [
    {
     "name": "stdout",
     "output_type": "stream",
     "text": [
      "[[ 9  0]\n",
      " [ 0 16]]\n",
      "Precision: 1.000000\n",
      "Recall: 1.000000\n",
      "F1 score: 1.000000\n"
     ]
    }
   ],
   "source": [
    "param_values = [x for x in lr_best_param.values()]\n",
    "if param_values[3] == 0:\n",
    "    solver = 'liblinear'\n",
    "else:\n",
    "    solver= 'saga'\n",
    "    \n",
    "if param_values[1] == 0:\n",
    "    class_weight = 'none'\n",
    "else:\n",
    "    class_weight= 'balanced'\n",
    "if param_values[2] == 0:\n",
    "    penalty= 'elasticnet'\n",
    "\n",
    "lr_best =LogisticRegression(\n",
    "penalty=penalty, C= param_values[0], class_weight= class_weight, solver= solver,l1_ratio=0.5)\n",
    "#lr_best.fit(X_train, y_train)\n",
    "model= lr_best.fit(X_train, y_train)\n",
    "pred = model.predict(X_test)\n",
    "\n",
    "\n",
    "\n",
    "cm = confusion_matrix(y_test, pred)\n",
    "print(cm)\n",
    "\n",
    "precision = precision_score(y_test, pred)\n",
    "print('Precision: %f' % precision)\n",
    "\n",
    "recall = recall_score(y_test, pred)\n",
    "print('Recall: %f' % recall)\n",
    "\n",
    "f1 = f1_score(y_test, pred)\n",
    "print('F1 score: %f' % f1)\n",
    "    "
   ]
  },
  {
   "cell_type": "code",
   "execution_count": 32,
   "metadata": {},
   "outputs": [
    {
     "name": "stdout",
     "output_type": "stream",
     "text": [
      "100%|██████████| 24/24 [00:00<00:00, 37.97trial/s, best loss: 0.010714285714285787]\n",
      "It takes 0.010762969652811686 minutes\n"
     ]
    },
    {
     "data": {
      "text/plain": [
       "{'C': 830.0, 'class_weight': 1, 'penalty': 0, 'solver': 1}"
      ]
     },
     "execution_count": 32,
     "metadata": {},
     "output_type": "execute_result"
    }
   ],
   "source": [
    "\n",
    "start = time.time()\n",
    "space_lr = {'penalty': hp.choice('penalty', ['elasticnet']),\n",
    "            'C' : hp.quniform('C',0.0001,1000,10),\n",
    "            'solver': hp.choice('solver',['liblinear', 'saga']),\n",
    "           'class_weight' : hp.choice('class_weight',['none','balanced'])\n",
    "           }\n",
    "                                        \n",
    "def lr(params):\n",
    "    params = {'penalty': params['penalty'],\n",
    "              'C': params['C'],\n",
    "              'class_weight': params['class_weight'],                       \n",
    "              'solver': params['solver']}\n",
    "    lr_bo2 =LogisticRegression(l1_ratio=0.5, **params)\n",
    "    best_score = cross_val_score(lr_bo2, X_train, y_train, scoring='roc_auc', cv=5,n_jobs=-1).mean()\n",
    "    return 1 - best_score\n",
    "                                        \n",
    "lr_best_param = fmin(fn=lr,\n",
    "                space=space_lr,\n",
    "                max_evals=24,\n",
    "                rstate=np.random.RandomState(42),\n",
    "                algo=tpe.suggest)\n",
    "print('It takes %s minutes' % ((time.time() - start)/60))\n",
    "\n",
    "import warnings\n",
    "warnings.filterwarnings(\"ignore\")\n",
    "lr_best_param"
   ]
  },
  {
   "cell_type": "code",
   "execution_count": 33,
   "metadata": {},
   "outputs": [
    {
     "name": "stdout",
     "output_type": "stream",
     "text": [
      "[[ 9  0]\n",
      " [ 0 16]]\n",
      "Precision: 1.000000\n",
      "Recall: 1.000000\n",
      "F1 score: 1.000000\n"
     ]
    }
   ],
   "source": [
    "param_values = [x for x in lr_best_param.values()]\n",
    "if param_values[3] == 0:\n",
    "    solver = 'liblinear'\n",
    "else:\n",
    "    solver= 'saga'\n",
    "    \n",
    "if param_values[1] == 0:\n",
    "    class_weight = 'none'\n",
    "else:\n",
    "    class_weight= 'balanced'\n",
    "if param_values[2] == 0:\n",
    "    penalty= 'elasticnet'\n",
    "\n",
    "lr_best =LogisticRegression(\n",
    "penalty=penalty, C= param_values[0], class_weight= class_weight, solver= solver,l1_ratio=0.5)\n",
    "#lr_best.fit(X_train, y_train)\n",
    "model= lr_best.fit(X_train, y_train)\n",
    "pred = model.predict(X_test)\n",
    "\n",
    "\n",
    "\n",
    "cm = confusion_matrix(y_test, pred)\n",
    "print(cm)\n",
    "\n",
    "precision = precision_score(y_test, pred)\n",
    "print('Precision: %f' % precision)\n",
    "\n",
    "recall = recall_score(y_test, pred)\n",
    "print('Recall: %f' % recall)\n",
    "\n",
    "f1 = f1_score(y_test, pred)\n",
    "print('F1 score: %f' % f1)\n",
    "    "
   ]
  }
 ],
 "metadata": {
  "kernelspec": {
   "display_name": "Python 3",
   "language": "python",
   "name": "python3"
  },
  "language_info": {
   "codemirror_mode": {
    "name": "ipython",
    "version": 3
   },
   "file_extension": ".py",
   "mimetype": "text/x-python",
   "name": "python",
   "nbconvert_exporter": "python",
   "pygments_lexer": "ipython3",
   "version": "3.7.6"
  }
 },
 "nbformat": 4,
 "nbformat_minor": 4
}
