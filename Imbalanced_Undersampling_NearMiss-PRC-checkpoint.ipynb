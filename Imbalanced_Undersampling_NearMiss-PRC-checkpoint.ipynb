{
 "cells": [
  {
   "cell_type": "code",
   "execution_count": 1,
   "metadata": {},
   "outputs": [],
   "source": [
    "import pandas as pd\n",
    "import numpy as np\n",
    "from sklearn import model_selection, ensemble, metrics\n",
    "from sklearn.metrics import confusion_matrix\n",
    "from sklearn.metrics import accuracy_score\n",
    "from sklearn.metrics import classification_report\n",
    "from sklearn.metrics import precision_recall_fscore_support as score, precision_score, recall_score, f1_score,accuracy_score\n",
    "from sklearn.metrics import precision_recall_curve,auc\n",
    "from sklearn.linear_model import LogisticRegression\n",
    "from sklearn.model_selection import train_test_split, cross_val_score\n",
    "from functools import partial\n",
    "from skopt import space\n",
    "from skopt import gp_minimize\n",
    "from numpy import mean\n",
    "from sklearn.model_selection import cross_val_score\n",
    "import time\n",
    "from scipy.stats import uniform\n",
    "#from bayes_opt import BayesianOptimization\n",
    "from xgboost import XGBClassifier\n",
    "from hyperopt import hp, fmin, tpe\n",
    "import sklearn.tree\n",
    "from matplotlib import pyplot\n",
    "from sklearn.preprocessing import scale\n",
    "from xgboost import XGBClassifier\n",
    "from sklearn.utils import resample\n",
    "import numpy"
   ]
  },
  {
   "cell_type": "code",
   "execution_count": 2,
   "metadata": {},
   "outputs": [
    {
     "name": "stdout",
     "output_type": "stream",
     "text": [
      "C:\\Users\\hdns014\n"
     ]
    }
   ],
   "source": [
    "cd"
   ]
  },
  {
   "cell_type": "code",
   "execution_count": 4,
   "metadata": {},
   "outputs": [
    {
     "name": "stdout",
     "output_type": "stream",
     "text": [
      "C:\\\n"
     ]
    }
   ],
   "source": [
    "cd .."
   ]
  },
  {
   "cell_type": "code",
   "execution_count": 6,
   "metadata": {},
   "outputs": [
    {
     "name": "stdout",
     "output_type": "stream",
     "text": [
      "[WinError 2] The system cannot find the file specified: 'Program files'\n",
      "C:\\Program files\n"
     ]
    }
   ],
   "source": [
    "cd Program files"
   ]
  },
  {
   "cell_type": "code",
   "execution_count": 7,
   "metadata": {},
   "outputs": [
    {
     "name": "stdout",
     "output_type": "stream",
     "text": [
      "C:\\Program files\\Python39\n"
     ]
    }
   ],
   "source": [
    "cd Python39"
   ]
  },
  {
   "cell_type": "code",
   "execution_count": 8,
   "metadata": {},
   "outputs": [
    {
     "name": "stdout",
     "output_type": "stream",
     "text": [
      "C:\\Program files\\Python39\\notebooks\n"
     ]
    }
   ],
   "source": [
    "cd notebooks"
   ]
  },
  {
   "cell_type": "code",
   "execution_count": 9,
   "metadata": {},
   "outputs": [],
   "source": [
    "test = pd.read_csv(\"validation_p_mortality.csv\")\n",
    "train = pd.read_csv(\"derivation_p_mortality.csv\")"
   ]
  },
  {
   "cell_type": "code",
   "execution_count": 10,
   "metadata": {},
   "outputs": [],
   "source": [
    "train=train.drop(train.columns[0],axis=1)\n",
    "test=test.drop(test.columns[0],axis=1)"
   ]
  },
  {
   "cell_type": "code",
   "execution_count": 11,
   "metadata": {},
   "outputs": [],
   "source": [
    "y_train=train[train.columns[0]]\n",
    "y_test=test[test.columns[0]]\n",
    "X_train=train.drop(train.columns[0],axis=1)\n",
    "X_test=test.drop(test.columns[0],axis=1)"
   ]
  },
  {
   "cell_type": "code",
   "execution_count": null,
   "metadata": {},
   "outputs": [],
   "source": [
    "\n"
   ]
  },
  {
   "cell_type": "code",
   "execution_count": 12,
   "metadata": {},
   "outputs": [],
   "source": [
    "from imblearn.pipeline import Pipeline\n",
    "from imblearn.over_sampling import RandomOverSampler, SMOTE\n",
    "from imblearn.under_sampling import RandomUnderSampler\n",
    "from sklearn.model_selection import StratifiedKFold\n",
    "from imblearn.under_sampling import NearMiss"
   ]
  },
  {
   "cell_type": "code",
   "execution_count": 13,
   "metadata": {},
   "outputs": [],
   "source": [
    "#Logistic Regression Base model\n",
    "near = NearMiss(sampling_strategy='auto')  \n",
    "lr_base = sklearn.linear_model.LogisticRegression(max_iter=10000)\n",
    "pipe = Pipeline([('o', near),('m', lr_base )])\n",
    "model= pipe.fit(X_train, y_train)\n",
    "pred = model.predict(X_test)"
   ]
  },
  {
   "cell_type": "code",
   "execution_count": 14,
   "metadata": {},
   "outputs": [
    {
     "name": "stdout",
     "output_type": "stream",
     "text": [
      "Confusion Matrix:\n",
      " [[1316 6202]\n",
      " [  10  120]]\n",
      "Precision: 0.018981\n",
      "Recall: 0.923077\n",
      "F1 score: 0.037198\n",
      "Sensitivity :  0.9924585218702866\n",
      "Specificity :  0.018981335020563112\n",
      "Negative predictive Value:  0.9230769230769231\n",
      "Positive Predictive Value:  0.1750465549348231\n",
      "Geometric Mean:  0.13725227756810732\n"
     ]
    }
   ],
   "source": [
    "cm= confusion_matrix(y_test, pred)\n",
    "print('Confusion Matrix:\\n',cm)\n",
    "\n",
    "precision = precision_score(y_test, pred)\n",
    "print('Precision: %f' % precision)\n",
    "\n",
    "recall = recall_score(y_test, pred)\n",
    "print('Recall: %f' % recall)\n",
    "\n",
    "f1 = f1_score(y_test, pred)\n",
    "print('F1 score: %f' % f1)\n",
    "\n",
    "sensitivity = cm[0,0]/(cm[0,0]+cm[1,0])\n",
    "print('Sensitivity : ', sensitivity )\n",
    "\n",
    "specificity = cm[1,1]/(cm[0,1]+cm[1,1])\n",
    "print('Specificity : ', specificity)\n",
    "\n",
    "NPV = cm[1,1]/(cm[1,1]+cm[1,0])\n",
    "print('Negative predictive Value: ', NPV)\n",
    "\n",
    "PPV = cm[0,0]/(cm[0,0]+cm[0,1])\n",
    "print('Positive Predictive Value: ', PPV)\n",
    "\n",
    "import math\n",
    "gm=math.sqrt(specificity*sensitivity)\n",
    "print('Geometric Mean: ', gm)"
   ]
  },
  {
   "cell_type": "code",
   "execution_count": 15,
   "metadata": {},
   "outputs": [
    {
     "name": "stdout",
     "output_type": "stream",
     "text": [
      "Coefficient Values: [[-5.03943289e-02 -3.05346069e-01  3.97487141e-02 -3.97758644e-01\n",
      "   1.80682265e-01  3.73792699e-01  5.97723387e-02 -9.23929174e-01\n",
      "  -6.13533730e-02  2.95243885e-02  5.37531053e-02 -5.65250345e-01\n",
      "  -5.24709115e-01  8.10493249e-03  4.18881503e-01 -4.54775916e-01\n",
      "   1.61776753e-02  3.58688787e-01 -1.38066682e+00 -6.41198824e-01\n",
      "   8.56684928e-02  3.81888279e-02  4.33255622e-02  8.14050055e-02\n",
      "   1.51801725e-01  1.84497894e-01  7.02637069e-03  7.64429194e-02\n",
      "   1.67663764e-01  2.33031506e-01  7.63804344e-02 -1.83116965e-06\n",
      "  -5.77432846e-01 -7.86342804e-01  8.32828597e-01  4.52594176e-01\n",
      "   3.79365354e-01 -1.80557837e-01  4.91468970e-01]]\n",
      "Intercept Model : [-7.00119477]\n"
     ]
    },
    {
     "data": {
      "text/html": [
       "<div>\n",
       "<style scoped>\n",
       "    .dataframe tbody tr th:only-of-type {\n",
       "        vertical-align: middle;\n",
       "    }\n",
       "\n",
       "    .dataframe tbody tr th {\n",
       "        vertical-align: top;\n",
       "    }\n",
       "\n",
       "    .dataframe thead th {\n",
       "        text-align: right;\n",
       "    }\n",
       "</style>\n",
       "<table border=\"1\" class=\"dataframe\">\n",
       "  <thead>\n",
       "    <tr style=\"text-align: right;\">\n",
       "      <th></th>\n",
       "      <th>Features</th>\n",
       "      <th>Ceofficients</th>\n",
       "    </tr>\n",
       "  </thead>\n",
       "  <tbody>\n",
       "    <tr>\n",
       "      <th>0</th>\n",
       "      <td>emerg_surgery</td>\n",
       "      <td>[-0.05039432888133433]</td>\n",
       "    </tr>\n",
       "    <tr>\n",
       "      <th>1</th>\n",
       "      <td>female</td>\n",
       "      <td>[-0.3053460687763637]</td>\n",
       "    </tr>\n",
       "    <tr>\n",
       "      <th>2</th>\n",
       "      <td>age</td>\n",
       "      <td>[0.03974871410730178]</td>\n",
       "    </tr>\n",
       "    <tr>\n",
       "      <th>3</th>\n",
       "      <td>rcri7</td>\n",
       "      <td>[-0.3977586439369177]</td>\n",
       "    </tr>\n",
       "    <tr>\n",
       "      <th>4</th>\n",
       "      <td>pimr2</td>\n",
       "      <td>[0.18068226466206821]</td>\n",
       "    </tr>\n",
       "    <tr>\n",
       "      <th>5</th>\n",
       "      <td>eci32</td>\n",
       "      <td>[0.37379269882942084]</td>\n",
       "    </tr>\n",
       "    <tr>\n",
       "      <th>6</th>\n",
       "      <td>hfrs</td>\n",
       "      <td>[0.05977233866638546]</td>\n",
       "    </tr>\n",
       "    <tr>\n",
       "      <th>7</th>\n",
       "      <td>obesity_total</td>\n",
       "      <td>[-0.9239291743699781]</td>\n",
       "    </tr>\n",
       "    <tr>\n",
       "      <th>8</th>\n",
       "      <td>hypertension</td>\n",
       "      <td>[-0.06135337303909217]</td>\n",
       "    </tr>\n",
       "    <tr>\n",
       "      <th>9</th>\n",
       "      <td>copd</td>\n",
       "      <td>[0.029524388475706865]</td>\n",
       "    </tr>\n",
       "    <tr>\n",
       "      <th>10</th>\n",
       "      <td>general</td>\n",
       "      <td>[0.053753105251336225]</td>\n",
       "    </tr>\n",
       "    <tr>\n",
       "      <th>11</th>\n",
       "      <td>neuraxial</td>\n",
       "      <td>[-0.5652503450205927]</td>\n",
       "    </tr>\n",
       "    <tr>\n",
       "      <th>12</th>\n",
       "      <td>peripheral</td>\n",
       "      <td>[-0.5247091151220336]</td>\n",
       "    </tr>\n",
       "    <tr>\n",
       "      <th>13</th>\n",
       "      <td>crystalloid</td>\n",
       "      <td>[0.00810493249009095]</td>\n",
       "    </tr>\n",
       "    <tr>\n",
       "      <th>14</th>\n",
       "      <td>vasoinoused</td>\n",
       "      <td>[0.418881503365357]</td>\n",
       "    </tr>\n",
       "    <tr>\n",
       "      <th>15</th>\n",
       "      <td>vasodilatorused</td>\n",
       "      <td>[-0.45477591600608264]</td>\n",
       "    </tr>\n",
       "    <tr>\n",
       "      <th>16</th>\n",
       "      <td>surgeryduration</td>\n",
       "      <td>[0.01617767525328305]</td>\n",
       "    </tr>\n",
       "    <tr>\n",
       "      <th>17</th>\n",
       "      <td>lap_actual</td>\n",
       "      <td>[0.3586887865927111]</td>\n",
       "    </tr>\n",
       "    <tr>\n",
       "      <th>18</th>\n",
       "      <td>mac_adjusted_general</td>\n",
       "      <td>[-1.3806668159090034]</td>\n",
       "    </tr>\n",
       "    <tr>\n",
       "      <th>19</th>\n",
       "      <td>sbp_maxdelta_rel_innov</td>\n",
       "      <td>[-0.6411988236270011]</td>\n",
       "    </tr>\n",
       "    <tr>\n",
       "      <th>20</th>\n",
       "      <td>map_total_70</td>\n",
       "      <td>[0.08566849282018374]</td>\n",
       "    </tr>\n",
       "    <tr>\n",
       "      <th>21</th>\n",
       "      <td>hr_max_pos_abs_innov</td>\n",
       "      <td>[0.038188827914973474]</td>\n",
       "    </tr>\n",
       "    <tr>\n",
       "      <th>22</th>\n",
       "      <td>hr_max_neg_abs_innov</td>\n",
       "      <td>[0.04332556216341979]</td>\n",
       "    </tr>\n",
       "    <tr>\n",
       "      <th>23</th>\n",
       "      <td>hr_total_60</td>\n",
       "      <td>[0.08140500550373288]</td>\n",
       "    </tr>\n",
       "    <tr>\n",
       "      <th>24</th>\n",
       "      <td>hr_total_100</td>\n",
       "      <td>[0.15180172503038428]</td>\n",
       "    </tr>\n",
       "    <tr>\n",
       "      <th>25</th>\n",
       "      <td>spo2_total_88</td>\n",
       "      <td>[0.1844978943970266]</td>\n",
       "    </tr>\n",
       "    <tr>\n",
       "      <th>26</th>\n",
       "      <td>tempabove_38</td>\n",
       "      <td>[0.007026370687036058]</td>\n",
       "    </tr>\n",
       "    <tr>\n",
       "      <th>27</th>\n",
       "      <td>tempbelow_36</td>\n",
       "      <td>[0.07644291940531923]</td>\n",
       "    </tr>\n",
       "    <tr>\n",
       "      <th>28</th>\n",
       "      <td>etco2_total_30_General</td>\n",
       "      <td>[0.16766376372985406]</td>\n",
       "    </tr>\n",
       "    <tr>\n",
       "      <th>29</th>\n",
       "      <td>etco2_total_45_General</td>\n",
       "      <td>[0.23303150624903532]</td>\n",
       "    </tr>\n",
       "    <tr>\n",
       "      <th>30</th>\n",
       "      <td>proc_neuro</td>\n",
       "      <td>[0.07638043444815482]</td>\n",
       "    </tr>\n",
       "    <tr>\n",
       "      <th>31</th>\n",
       "      <td>proc_gyne</td>\n",
       "      <td>[-1.831169654350064e-06]</td>\n",
       "    </tr>\n",
       "    <tr>\n",
       "      <th>32</th>\n",
       "      <td>proc_ortho</td>\n",
       "      <td>[-0.5774328456931379]</td>\n",
       "    </tr>\n",
       "    <tr>\n",
       "      <th>33</th>\n",
       "      <td>proc_other</td>\n",
       "      <td>[-0.7863428035254086]</td>\n",
       "    </tr>\n",
       "    <tr>\n",
       "      <th>34</th>\n",
       "      <td>proc_otol</td>\n",
       "      <td>[0.832828596758781]</td>\n",
       "    </tr>\n",
       "    <tr>\n",
       "      <th>35</th>\n",
       "      <td>proc_plas</td>\n",
       "      <td>[0.45259417565298293]</td>\n",
       "    </tr>\n",
       "    <tr>\n",
       "      <th>36</th>\n",
       "      <td>proc_thor</td>\n",
       "      <td>[0.37936535357676826]</td>\n",
       "    </tr>\n",
       "    <tr>\n",
       "      <th>37</th>\n",
       "      <td>proc_uro</td>\n",
       "      <td>[-0.18055783735454048]</td>\n",
       "    </tr>\n",
       "    <tr>\n",
       "      <th>38</th>\n",
       "      <td>proc_vasc</td>\n",
       "      <td>[0.49146897045316085]</td>\n",
       "    </tr>\n",
       "  </tbody>\n",
       "</table>\n",
       "</div>"
      ],
      "text/plain": [
       "                  Features              Ceofficients\n",
       "0            emerg_surgery    [-0.05039432888133433]\n",
       "1                   female     [-0.3053460687763637]\n",
       "2                      age     [0.03974871410730178]\n",
       "3                    rcri7     [-0.3977586439369177]\n",
       "4                    pimr2     [0.18068226466206821]\n",
       "5                    eci32     [0.37379269882942084]\n",
       "6                     hfrs     [0.05977233866638546]\n",
       "7            obesity_total     [-0.9239291743699781]\n",
       "8             hypertension    [-0.06135337303909217]\n",
       "9                     copd    [0.029524388475706865]\n",
       "10                 general    [0.053753105251336225]\n",
       "11               neuraxial     [-0.5652503450205927]\n",
       "12              peripheral     [-0.5247091151220336]\n",
       "13             crystalloid     [0.00810493249009095]\n",
       "14             vasoinoused       [0.418881503365357]\n",
       "15         vasodilatorused    [-0.45477591600608264]\n",
       "16         surgeryduration     [0.01617767525328305]\n",
       "17              lap_actual      [0.3586887865927111]\n",
       "18    mac_adjusted_general     [-1.3806668159090034]\n",
       "19  sbp_maxdelta_rel_innov     [-0.6411988236270011]\n",
       "20            map_total_70     [0.08566849282018374]\n",
       "21    hr_max_pos_abs_innov    [0.038188827914973474]\n",
       "22    hr_max_neg_abs_innov     [0.04332556216341979]\n",
       "23             hr_total_60     [0.08140500550373288]\n",
       "24            hr_total_100     [0.15180172503038428]\n",
       "25           spo2_total_88      [0.1844978943970266]\n",
       "26            tempabove_38    [0.007026370687036058]\n",
       "27            tempbelow_36     [0.07644291940531923]\n",
       "28  etco2_total_30_General     [0.16766376372985406]\n",
       "29  etco2_total_45_General     [0.23303150624903532]\n",
       "30              proc_neuro     [0.07638043444815482]\n",
       "31               proc_gyne  [-1.831169654350064e-06]\n",
       "32              proc_ortho     [-0.5774328456931379]\n",
       "33              proc_other     [-0.7863428035254086]\n",
       "34               proc_otol       [0.832828596758781]\n",
       "35               proc_plas     [0.45259417565298293]\n",
       "36               proc_thor     [0.37936535357676826]\n",
       "37                proc_uro    [-0.18055783735454048]\n",
       "38               proc_vasc     [0.49146897045316085]"
      ]
     },
     "execution_count": 15,
     "metadata": {},
     "output_type": "execute_result"
    }
   ],
   "source": [
    "print('Coefficient Values:',pipe['m'].coef_)\n",
    "print('Intercept Model :',pipe['m'].intercept_)\n",
    "pd.DataFrame(zip(X_train.columns,np.transpose(pipe['m'].coef_)),columns=['Features','Ceofficients'])"
   ]
  },
  {
   "cell_type": "code",
   "execution_count": 16,
   "metadata": {},
   "outputs": [
    {
     "name": "stdout",
     "output_type": "stream",
     "text": [
      "Random chance= 0.500000\n",
      "AUCROC Value = 0.570146\n",
      "AUC:PrecisionRecall=0.119\n"
     ]
    },
    {
     "data": {
      "image/png": "[encoded data removed]",
      "text/plain": [
       "<Figure size 432x288 with 1 Axes>"
      ]
     },
     "metadata": {
      "needs_background": "light"
     },
     "output_type": "display_data"
    },
    {
     "data": {
      "image/png": "[encoded data removed]",
      "text/plain": [
       "<Figure size 432x288 with 1 Axes>"
      ]
     },
     "metadata": {
      "needs_background": "light"
     },
     "output_type": "display_data"
    }
   ],
   "source": [
    "r_probs=[0 for _ in range(len(y_test))]\n",
    "lr_probs=model.predict_proba(X_test)\n",
    "lr_probs=lr_probs[:,1]\n",
    "    \n",
    "from sklearn.metrics import roc_curve, roc_auc_score\n",
    "r_auc=roc_auc_score(y_test,r_probs)\n",
    "lr_auc =roc_auc_score(y_test,lr_probs)\n",
    "print('Random chance= %3f'%(r_auc))\n",
    "print('AUCROC Value = %4f'%(lr_auc))\n",
    "\n",
    "     \n",
    "lr_precision, lr_recall, _ = precision_recall_curve(y_test, lr_probs,pos_label=1)\n",
    "lr_aucprc=auc(lr_recall, lr_precision)\n",
    "print('AUC:PrecisionRecall=%.3f' % (lr_aucprc))\n",
    "\n",
    "r_fpr, r_tpr, thresholds = metrics.roc_curve(y_test, r_probs, pos_label=1)\n",
    "lr_fpr, lr_tpr, thresholds = metrics.roc_curve(y_test, lr_probs, pos_label=1)\n",
    "\n",
    "#ROC CURVE PLOT\n",
    "import matplotlib.pyplot as plt\n",
    "plt.plot(r_fpr,r_tpr,linestyle='--',label='Random prediction(AUCROC=%0.3f)'%r_auc)\n",
    "plt.plot(lr_fpr,lr_tpr,linestyle='--',label='Random prediction(AUCROC=%0.3f)'%lr_auc)\n",
    "plt.title('ROC PLOT - LR BASE')\n",
    "plt.xlabel('FALSE POSITIVE RATE')\n",
    "plt.ylabel('TRUE POSITIVE RATE')\n",
    "plt.legend()\n",
    "#save\n",
    "plt.savefig('lr_base_plot1.png', dpi=300, bbox_inches='tight')\n",
    "    # show the plot\n",
    "plt.show()\n",
    "\n",
    "#PRECISION RECALL PLOT\n",
    "    \n",
    "plt.plot(lr_recall, lr_precision, linestyle='--', label='Random prediction(AUCPRC=%0.3f)'%lr_aucprc)\n",
    "plt.xlabel('RECALL')\n",
    "plt.ylabel('PRECISION')\n",
    "plt.legend()\n",
    "plt.title('PRC PLOT - LR BASE')\n",
    "#save\n",
    "plt.savefig('lr_base_plot2.png', dpi=300, bbox_inches='tight')\n",
    "    # show the plot\n",
    "plt.show()\n",
    "\n"
   ]
  },
  {
   "cell_type": "code",
   "execution_count": 17,
   "metadata": {},
   "outputs": [
    {
     "data": {
      "image/png": "[encoded data removed]",
      "text/plain": [
       "<Figure size 432x288 with 1 Axes>"
      ]
     },
     "metadata": {
      "needs_background": "light"
     },
     "output_type": "display_data"
    }
   ],
   "source": [
    "from sklearn.calibration import calibration_curve\n",
    "lr_probs=model.predict_proba(X_test)\n",
    "lr_probs=lr_probs[:,1]\n",
    "\n",
    "x,y= calibration_curve(y_test,lr_probs, n_bins=50)\n",
    "plt.plot([0,1],[0,1], linestyle='--', label='Ideally Calibrated')\n",
    "plt.plot(y,x, marker='o', linewidth=1, label='lr')\n",
    "leg= plt.legend(loc='upper left')\n",
    "plt.xlabel('average predicted probabilty in each bin')\n",
    "plt.ylabel('Ratio of Positives')\n",
    "plt.savefig('lr_base_calibration1.png', dpi=300, bbox_inches='tight')\n",
    "plt.show()"
   ]
  },
  {
   "cell_type": "code",
   "execution_count": 18,
   "metadata": {},
   "outputs": [],
   "source": [
    "#saving the file\n",
    "lr_probs=model.predict_proba(X_test)\n",
    "lr_pos=lr_probs[:,1]\n",
    "lr_neg=lr_probs[:,0]\n",
    "pd.DataFrame({'Actual': y_test,'Pred_LR': pred, 'PredProb_1_LR_base': lr_pos,'PredProb_0_LR_base':lr_neg}).to_csv('lr_base.csv', index=False)"
   ]
  },
  {
   "cell_type": "code",
   "execution_count": 19,
   "metadata": {},
   "outputs": [],
   "source": [
    "#apparent train\n",
    "pred1 = model.predict(X_train)"
   ]
  },
  {
   "cell_type": "code",
   "execution_count": 20,
   "metadata": {},
   "outputs": [
    {
     "name": "stdout",
     "output_type": "stream",
     "text": [
      "Random chance= 0.500000\n",
      "AUCROC Value = 0.539466\n",
      "AUC:PrecisionRecall=0.121\n"
     ]
    },
    {
     "data": {
      "image/png": "[encoded data removed]",
      "text/plain": [
       "<Figure size 432x288 with 1 Axes>"
      ]
     },
     "metadata": {
      "needs_background": "light"
     },
     "output_type": "display_data"
    },
    {
     "data": {
      "image/png": "[encoded data removed]",
      "text/plain": [
       "<Figure size 432x288 with 1 Axes>"
      ]
     },
     "metadata": {
      "needs_background": "light"
     },
     "output_type": "display_data"
    }
   ],
   "source": [
    "# print AUC_ROC for apparent train\n",
    "\n",
    "r_probs=[0 for _ in range(len(y_train))]\n",
    "lr_probs1=model.predict_proba(X_train)\n",
    "lr_probs1=lr_probs1[:,1]\n",
    "    \n",
    "from sklearn.metrics import roc_curve, roc_auc_score\n",
    "r_auc=roc_auc_score(y_train,r_probs)\n",
    "lr_auc =roc_auc_score(y_train,lr_probs1)\n",
    "print('Random chance= %3f'%(r_auc))\n",
    "print('AUCROC Value = %4f'%(lr_auc))\n",
    "\n",
    "     \n",
    "lr_precision, lr_recall, _ = precision_recall_curve(y_train, lr_probs1,pos_label=1)\n",
    "lr_aucprc=auc(lr_recall, lr_precision)\n",
    "print('AUC:PrecisionRecall=%.3f' % (lr_aucprc))\n",
    "\n",
    "r_fpr, r_tpr, thresholds = metrics.roc_curve(y_train, r_probs, pos_label=1)\n",
    "lr_fpr, lr_tpr, thresholds = metrics.roc_curve(y_train, lr_probs1, pos_label=1)\n",
    "\n",
    "#ROC CURVE PLOT\n",
    "import matplotlib.pyplot as plt\n",
    "plt.plot(r_fpr,r_tpr,linestyle='--',label='Random prediction(AUCROC=%0.3f)'%r_auc)\n",
    "plt.plot(lr_fpr,lr_tpr,linestyle='--',label='Random prediction(AUCROC=%0.3f)'%lr_auc)\n",
    "plt.title(' APPARENT -ROC PLOT')\n",
    "plt.xlabel('FALSE POSITIVE RATE')\n",
    "plt.ylabel('TRUE POSITIVE RATE')\n",
    "plt.legend()\n",
    "#save\n",
    "plt.savefig('lr_base_apparent1.png', dpi=300, bbox_inches='tight')\n",
    "    # show the plot\n",
    "plt.show()\n",
    "\n",
    "#PRECISION RECALL PLOT\n",
    "    \n",
    "plt.plot(lr_recall, lr_precision, linestyle='--', label='Random prediction(AUCPRC=%0.3f)'%lr_aucprc)\n",
    "plt.xlabel('RECALL')\n",
    "plt.ylabel('PRECISION')\n",
    "plt.legend()\n",
    "plt.title('APPARENT - PRC PLOT')\n",
    "#save\n",
    "plt.savefig('lr_base_apparent2.png', dpi=300, bbox_inches='tight')\n",
    "    # show the plot\n",
    "plt.show()"
   ]
  },
  {
   "cell_type": "code",
   "execution_count": 21,
   "metadata": {},
   "outputs": [
    {
     "name": "stdout",
     "output_type": "stream",
     "text": [
      "Apparent - Confusion Matrix:\n",
      " [[ 3510 18942]\n",
      " [   56   435]]\n",
      "Apparent - Precision: 0.022449\n",
      "Apparent  - Recall: 0.885947\n",
      "Apparent - F1 score: 0.043789\n",
      "Apparent - Sensitivity :  0.9842961301177791\n",
      "Apparent  - Specificity :  0.022449295556587708\n",
      "Apparent  - Negative predictive Value:  0.8859470468431772\n",
      "Apparent  - Positive Predictive Value:  0.1563335114911812\n",
      "Apparent  - Geometric Mean:  0.1486497720826357\n"
     ]
    }
   ],
   "source": [
    "cm1 = confusion_matrix(y_train, pred1)\n",
    "print('Apparent - Confusion Matrix:\\n',cm1)\n",
    "\n",
    "precision = precision_score(y_train, pred1)\n",
    "print('Apparent - Precision: %f' % precision)\n",
    "\n",
    "recall = recall_score(y_train, pred1)\n",
    "print('Apparent  - Recall: %f' % recall)\n",
    "\n",
    "f1 = f1_score(y_train, pred1)\n",
    "print('Apparent - F1 score: %f' % f1)\n",
    "\n",
    "sensitivity1 = cm1[0,0]/(cm1[0,0]+cm1[1,0])\n",
    "print('Apparent - Sensitivity : ', sensitivity1 )\n",
    "\n",
    "specificity1= cm1[1,1]/(cm1[0,1]+cm1[1,1])\n",
    "print('Apparent  - Specificity : ', specificity1)\n",
    "\n",
    "NPV = cm1[1,1]/(cm1[1,1]+cm1[1,0])\n",
    "print('Apparent  - Negative predictive Value: ', NPV)\n",
    "\n",
    "PPV = cm1[0,0]/(cm1[0,0]+cm1[0,1])\n",
    "print('Apparent  - Positive Predictive Value: ', PPV)\n",
    "\n",
    "import math\n",
    "gm1=math.sqrt(specificity1*sensitivity1)\n",
    "print('Apparent  - Geometric Mean: ', gm1)"
   ]
  },
  {
   "cell_type": "code",
   "execution_count": 22,
   "metadata": {},
   "outputs": [
    {
     "data": {
      "image/png": "[encoded data removed]",
      "text/plain": [
       "<Figure size 432x288 with 1 Axes>"
      ]
     },
     "metadata": {
      "needs_background": "light"
     },
     "output_type": "display_data"
    }
   ],
   "source": [
    "from sklearn.calibration import calibration_curve\n",
    "lr_probs=model.predict_proba(X_train)\n",
    "lr_probs=lr_probs[:,1]\n",
    "\n",
    "x,y= calibration_curve(y_train,lr_probs, n_bins=50)\n",
    "plt.plot([0,1],[0,1], linestyle='--', label='Ideally Calibrated')\n",
    "plt.plot(y,x, marker='o', linewidth=1, label='lr')\n",
    "leg= plt.legend(loc='upper left')\n",
    "plt.xlabel('average predicted probabilty in each bin')\n",
    "plt.ylabel('Ratio of Positives')\n",
    "plt.savefig('lr_base_calibration2.png', dpi=300, bbox_inches='tight')\n",
    "plt.show()"
   ]
  },
  {
   "cell_type": "code",
   "execution_count": 23,
   "metadata": {},
   "outputs": [],
   "source": [
    "#saving file\n",
    "\n",
    "lr_probs1=model.predict_proba(X_train)\n",
    "lr_pos1=lr_probs1[:,1]\n",
    "lr_neg1=lr_probs1[:,0]\n",
    "pd.DataFrame({'Actual': y_train,'Pred_LR': pred1, 'PredProb_1_LR_base': lr_pos1,'PredProb_0_LR_base':lr_neg1}).to_csv('lr_base_apparent.csv', index=False)"
   ]
  },
  {
   "cell_type": "code",
   "execution_count": 24,
   "metadata": {},
   "outputs": [],
   "source": [
    "#Scaling data\n",
    "scaler=sklearn.preprocessing.StandardScaler().fit(X_train)\n",
    "X_train=scaler.transform(X_train)\n",
    "X_test=scaler.transform(X_test)"
   ]
  },
  {
   "cell_type": "code",
   "execution_count": 25,
   "metadata": {},
   "outputs": [
    {
     "name": "stdout",
     "output_type": "stream",
     "text": [
      "100%|████████████████████████████| 24/24 [00:56<00:00,  2.36s/trial, best loss: 0.9398179632834402]\n",
      "It takes 0.9444708784421285 minutes\n",
      "Decision Tree Best Parameters {'criterion': 1, 'max_depth': 41, 'max_features': 1, 'min_samples_leaf': 1, 'sampling_strategy': 0.1}\n"
     ]
    }
   ],
   "source": [
    "start = time.time()\n",
    "space_lr ={\n",
    "        'max_depth': hp.randint('max_depth', 5, 70),\n",
    "        'max_features': hp.choice('max_features', ['sqrt', 'log2']),\n",
    "        'criterion': hp.choice('criterion', [\"gini\", \"entropy\"]),\n",
    "             'min_samples_leaf': hp.choice('min_samples_leaf',[1,100,200,300,400,500]),\n",
    " 'sampling_strategy':hp.quniform('sampling_strategy',0.1,0.9,0.1)\n",
    "}\n",
    "\n",
    "\n",
    "def dt(params):\n",
    "    params = {'max_depth': params['max_depth'],\n",
    "                  'min_samples_leaf': params['min_samples_leaf'],\n",
    "                  'criterion': params['criterion'],\n",
    "                 'max_features': params['max_features'],\n",
    "              'sampling_strategy':params['sampling_strategy'],\n",
    "             }\n",
    "     \n",
    "    dt_bo = sklearn.tree.DecisionTreeClassifier (random_state=42,max_depth=params['max_depth'], min_samples_leaf= params['min_samples_leaf'], criterion=params['criterion'],max_features=params['max_features'])\n",
    "    cv= StratifiedKFold(n_splits=5, random_state=42, shuffle=True)\n",
    "    under = NearMiss(sampling_strategy= params['sampling_strategy'])\n",
    "    pipe = Pipeline([('u', under),('m', dt_bo)])\n",
    "    best_score = cross_val_score(pipe, X_train, y_train, scoring='average_precision', cv=cv).mean()\n",
    "    return 1-best_score\n",
    "    \n",
    "dt_best_param = fmin(fn=dt,\n",
    "                   space=space_lr,\n",
    "                  max_evals=24,\n",
    "                  rstate=np.random.RandomState(42),\n",
    "                  algo=tpe.suggest)\n",
    "print('It takes %s minutes' % ((time.time() - start)/60))\n",
    "print('Decision Tree Best Parameters',dt_best_param)\n",
    "    "
   ]
  },
  {
   "cell_type": "code",
   "execution_count": 26,
   "metadata": {},
   "outputs": [],
   "source": [
    "param_values = [x for x in dt_best_param.values()]\n",
    "\n",
    "if param_values[2] ==1:\n",
    "    max_features = 'log2'\n",
    "else:\n",
    "    max_features ='sqrt'\n",
    "\n",
    "if param_values[0] == 1:\n",
    "    criterion = 'entropy'\n",
    "else:\n",
    "    criterion= 'gini'\n",
    "\n",
    "near = NearMiss(sampling_strategy= param_values[4])\n",
    "dt_best =sklearn.tree.DecisionTreeClassifier(random_state=42,\n",
    "    criterion=criterion,\n",
    "     max_depth= param_values[1],\n",
    "    min_samples_leaf= param_values[3],\n",
    "    max_features=max_features)\n",
    "\n",
    "pipe = Pipeline([('s', near),('m', dt_best)])  \n",
    "model= pipe.fit(X_train, y_train)\n",
    "pred = model.predict(X_test)"
   ]
  },
  {
   "cell_type": "code",
   "execution_count": 27,
   "metadata": {},
   "outputs": [
    {
     "name": "stdout",
     "output_type": "stream",
     "text": [
      "Confusion Matrix:\n",
      " [[5963 1555]\n",
      " [  71   59]]\n",
      "Precision: 0.036555\n",
      "Recall: 0.453846\n",
      "F1 score: 0.067661\n",
      "Sensitivity :  0.9882333443818363\n",
      "Specificity :  0.036555142503097895\n",
      "Negative predictive Value:  0.45384615384615384\n",
      "Positive Predictive Value:  0.7931630752859803\n",
      "Geometric Mean:  0.1900658063150525\n"
     ]
    }
   ],
   "source": [
    "cm= confusion_matrix(y_test, pred)\n",
    "print('Confusion Matrix:\\n',cm)\n",
    "\n",
    "precision = precision_score(y_test, pred)\n",
    "print('Precision: %f' % precision)\n",
    "\n",
    "recall = recall_score(y_test, pred)\n",
    "print('Recall: %f' % recall)\n",
    "\n",
    "f1 = f1_score(y_test, pred)\n",
    "print('F1 score: %f' % f1)\n",
    "\n",
    "sensitivity = cm[0,0]/(cm[0,0]+cm[1,0])\n",
    "print('Sensitivity : ', sensitivity )\n",
    "\n",
    "specificity = cm[1,1]/(cm[0,1]+cm[1,1])\n",
    "print('Specificity : ', specificity)\n",
    "\n",
    "NPV = cm[1,1]/(cm[1,1]+cm[1,0])\n",
    "print('Negative predictive Value: ', NPV)\n",
    "\n",
    "PPV = cm[0,0]/(cm[0,0]+cm[0,1])\n",
    "print('Positive Predictive Value: ', PPV)\n",
    "\n",
    "import math\n",
    "gm=math.sqrt(specificity*sensitivity)\n",
    "print('Geometric Mean: ', gm)"
   ]
  },
  {
   "cell_type": "code",
   "execution_count": 28,
   "metadata": {},
   "outputs": [
    {
     "name": "stdout",
     "output_type": "stream",
     "text": [
      "Random chance= 0.500000\n",
      "AUCROC Value = 0.623505\n",
      "AUC:PrecisionRecall Value =0.250\n"
     ]
    },
    {
     "data": {
      "image/png": "[encoded data removed]",
      "text/plain": [
       "<Figure size 432x288 with 1 Axes>"
      ]
     },
     "metadata": {
      "needs_background": "light"
     },
     "output_type": "display_data"
    },
    {
     "data": {
      "image/png": "[encoded data removed]",
      "text/plain": [
       "<Figure size 432x288 with 1 Axes>"
      ]
     },
     "metadata": {
      "needs_background": "light"
     },
     "output_type": "display_data"
    }
   ],
   "source": [
    "r_probs=[0 for _ in range(len(y_test))]\n",
    "dt_probs=model.predict_proba(X_test)\n",
    "dt_probs=dt_probs[:,1]\n",
    "from sklearn.metrics import roc_curve, roc_auc_score\n",
    "r_auc=roc_auc_score(y_test,r_probs)\n",
    "dt_auc =roc_auc_score(y_test,dt_probs)\n",
    "print('Random chance= %3f'%(r_auc))\n",
    "print('AUCROC Value = %4f'%(dt_auc))\n",
    "\n",
    "dt_precision, dt_recall, _ = precision_recall_curve(y_test, dt_probs,pos_label=1)\n",
    "dt_aucprc=auc(dt_recall, dt_precision)\n",
    "print('AUC:PrecisionRecall Value =%.3f' % (dt_aucprc))\n",
    "    \n",
    "r_fpr, r_tpr, thresholds = metrics.roc_curve(y_test, r_probs, pos_label=1)\n",
    "dt_fpr, dt_tpr, thresholds = metrics.roc_curve(y_test, dt_probs, pos_label=1)\n",
    "\n",
    "    #ROC PLOT\n",
    "import matplotlib.pyplot as plt\n",
    "plt.plot(r_fpr,r_tpr,linestyle='--',label='Random prediction(AUCROC=%0.3f)'%r_auc)\n",
    "plt.plot(dt_fpr,dt_tpr,linestyle='--',label='Random prediction(AUCROC=%0.3f)'%dt_auc)\n",
    "plt.title('ROC PLOT - DT ')\n",
    "plt.xlabel('FALSE POSITIVE RATE')\n",
    "plt.ylabel('TRUE POSITIVE RATE')\n",
    "plt.legend()\n",
    "plt.savefig('DT_plot1.png', dpi=300, bbox_inches='tight')\n",
    "plt.show()\n",
    "    \n",
    "    #PRC Plot\n",
    "    \n",
    "plt.plot(dt_recall, dt_precision, linestyle='--', label='Random prediction(AUCPRC=%0.3f)'%dt_aucprc)\n",
    "plt.xlabel('RECALL')\n",
    "plt.ylabel('PRECISION')\n",
    "plt.title('PRC PLOT - DT')\n",
    "plt.legend()\n",
    "plt.savefig('DT_plot2.png', dpi=300, bbox_inches='tight')\n",
    "plt.show()"
   ]
  },
  {
   "cell_type": "code",
   "execution_count": 29,
   "metadata": {},
   "outputs": [
    {
     "data": {
      "image/png": "[encoded data removed]",
      "text/plain": [
       "<Figure size 432x288 with 1 Axes>"
      ]
     },
     "metadata": {
      "needs_background": "light"
     },
     "output_type": "display_data"
    }
   ],
   "source": [
    "from sklearn.calibration import calibration_curve\n",
    "dt_probs=model.predict_proba(X_test)\n",
    "dt_probs=dt_probs[:,1]\n",
    "\n",
    "x,y= calibration_curve(y_test,dt_probs, n_bins=50)\n",
    "plt.plot([0,1],[0,1], linestyle='--', label='Ideally Calibrated')\n",
    "plt.plot(y,x, marker='o', linewidth=1, label='dt')\n",
    "leg= plt.legend(loc='upper left')\n",
    "plt.xlabel('average predicted probabilty in each bin')\n",
    "plt.ylabel('Ratio of Positives')\n",
    "plt.savefig('DT_calibration1.png', dpi=300, bbox_inches='tight')\n",
    "plt.show()"
   ]
  },
  {
   "cell_type": "code",
   "execution_count": 30,
   "metadata": {},
   "outputs": [],
   "source": [
    "#saving file\n",
    "dt_probs=model.predict_proba(X_test)\n",
    "dt_pos=dt_probs[:,1]\n",
    "dt_neg=dt_probs[:,0]\n",
    "pd.DataFrame({'Actual': y_test,'Pred_DT': pred, 'PredProb_1_DT': dt_pos,'PredProb_0_DT':dt_neg}).to_csv('dt.csv', index=False)"
   ]
  },
  {
   "cell_type": "code",
   "execution_count": 31,
   "metadata": {},
   "outputs": [],
   "source": [
    "pred1 = model.predict(X_train)"
   ]
  },
  {
   "cell_type": "code",
   "execution_count": 32,
   "metadata": {},
   "outputs": [
    {
     "name": "stdout",
     "output_type": "stream",
     "text": [
      "Random chance= 0.500000\n",
      "AUCROC Value = 0.890945\n",
      "AUC:PrecisionRecall Value =0.546\n"
     ]
    },
    {
     "data": {
      "image/png": "[encoded data removed]",
      "text/plain": [
       "<Figure size 432x288 with 1 Axes>"
      ]
     },
     "metadata": {
      "needs_background": "light"
     },
     "output_type": "display_data"
    },
    {
     "data": {
      "image/png": "[encoded data removed]",
      "text/plain": [
       "<Figure size 432x288 with 1 Axes>"
      ]
     },
     "metadata": {
      "needs_background": "light"
     },
     "output_type": "display_data"
    }
   ],
   "source": [
    "r_probs=[0 for _ in range(len(y_train))]\n",
    "dt_probs1=model.predict_proba(X_train)\n",
    "dt_probs1=dt_probs1[:,1]\n",
    "from sklearn.metrics import roc_curve, roc_auc_score\n",
    "r_auc=roc_auc_score(y_train,r_probs)\n",
    "dt_auc =roc_auc_score(y_train,dt_probs1)\n",
    "print('Random chance= %3f'%(r_auc))\n",
    "print('AUCROC Value = %4f'%(dt_auc))\n",
    "\n",
    "dt_precision, dt_recall, _ = precision_recall_curve(y_train, dt_probs1,pos_label=1)\n",
    "dt_aucprc=auc(dt_recall, dt_precision)\n",
    "print('AUC:PrecisionRecall Value =%.3f' % (dt_aucprc))\n",
    "    \n",
    "r_fpr, r_tpr, thresholds = metrics.roc_curve(y_train, r_probs, pos_label=1)\n",
    "dt_fpr, dt_tpr, thresholds = metrics.roc_curve(y_train, dt_probs1, pos_label=1)\n",
    "\n",
    "    #ROC PLOT\n",
    "import matplotlib.pyplot as plt\n",
    "plt.plot(r_fpr,r_tpr,linestyle='--',label='Random prediction(AUCROC=%0.3f)'%r_auc)\n",
    "plt.plot(dt_fpr,dt_tpr,linestyle='--',label='Random prediction(AUCROC=%0.3f)'%dt_auc)\n",
    "plt.title('APPARENT - ROC PLOT - DT')\n",
    "plt.xlabel('FALSE POSITIVE RATE')\n",
    "plt.ylabel('TRUE POSITIVE RATE')\n",
    "plt.legend()\n",
    "plt.savefig('DT_apparent1.png', dpi=300, bbox_inches='tight')\n",
    "plt.show()\n",
    "    \n",
    "    #PRC Plot\n",
    "    \n",
    "plt.plot(dt_recall, dt_precision, linestyle='--', label='Random prediction(AUCPRC=%0.3f)'%dt_aucprc)\n",
    "plt.xlabel('RECALL')\n",
    "plt.ylabel('PRECISION')\n",
    "plt.title('APPARENT - PRC PLOT- DT')\n",
    "plt.legend()\n",
    "plt.savefig('DT_apparent2.png', dpi=300, bbox_inches='tight')\n",
    "plt.show()"
   ]
  },
  {
   "cell_type": "code",
   "execution_count": 33,
   "metadata": {},
   "outputs": [
    {
     "name": "stdout",
     "output_type": "stream",
     "text": [
      "Apparent- Confusion Matrix:\n",
      " [[17555  4897]\n",
      " [    0   491]]\n",
      "Apparent - Precision: 0.091128\n",
      "Apparent  - Recall: 1.000000\n",
      "Apparent  - F1 score: 0.167035\n",
      "Apparent  - Sensitivity :  1.0\n",
      "Apparent  - Specificity :  0.09112843355605048\n",
      "Apparent- Negative predictive Value:  1.0\n",
      "Apparent - Positive Predictive Value:  0.7818902547657224\n",
      "Apparent  - Geometric Mean:  0.3018748640679619\n"
     ]
    }
   ],
   "source": [
    "cm1 = confusion_matrix(y_train, pred1)\n",
    "print('Apparent- Confusion Matrix:\\n',cm1)\n",
    "\n",
    "precision = precision_score(y_train, pred1)\n",
    "print('Apparent - Precision: %f' % precision)\n",
    "\n",
    "recall = recall_score(y_train, pred1)\n",
    "print('Apparent  - Recall: %f' % recall)\n",
    "\n",
    "f1 = f1_score(y_train, pred1)\n",
    "print('Apparent  - F1 score: %f' % f1)\n",
    "\n",
    "sensitivity1 = cm1[0,0]/(cm1[0,0]+cm1[1,0])\n",
    "print('Apparent  - Sensitivity : ', sensitivity1 )\n",
    "\n",
    "specificity1= cm1[1,1]/(cm1[0,1]+cm1[1,1])\n",
    "print('Apparent  - Specificity : ', specificity1)\n",
    "\n",
    "NPV = cm1[1,1]/(cm1[1,1]+cm1[1,0])\n",
    "print('Apparent- Negative predictive Value: ', NPV)\n",
    "\n",
    "PPV = cm1[0,0]/(cm1[0,0]+cm1[0,1])\n",
    "print('Apparent - Positive Predictive Value: ', PPV)\n",
    "\n",
    "import math\n",
    "gm1=math.sqrt(specificity1*sensitivity1)\n",
    "print('Apparent  - Geometric Mean: ', gm1)"
   ]
  },
  {
   "cell_type": "code",
   "execution_count": 34,
   "metadata": {},
   "outputs": [
    {
     "data": {
      "image/png": "[encoded data removed]",
      "text/plain": [
       "<Figure size 432x288 with 1 Axes>"
      ]
     },
     "metadata": {
      "needs_background": "light"
     },
     "output_type": "display_data"
    }
   ],
   "source": [
    "from sklearn.calibration import calibration_curve\n",
    "dt_probs1=model.predict_proba(X_train)\n",
    "dt_probs1=dt_probs1[:,1]\n",
    "x,y= calibration_curve(y_train,dt_probs1, n_bins=50)\n",
    "plt.plot([0,1],[0,1], linestyle='--', label='Ideally Calibrated')\n",
    "plt.plot(y,x, marker='o', linewidth=1, label='dt')\n",
    "leg= plt.legend(loc='upper left')\n",
    "plt.xlabel('average predicted probabilty in each bin')\n",
    "plt.ylabel('Ratio of Positives')\n",
    "plt.savefig('DT_calibration2.png', dpi=300, bbox_inches='tight')\n",
    "plt.show()"
   ]
  },
  {
   "cell_type": "code",
   "execution_count": 35,
   "metadata": {},
   "outputs": [],
   "source": [
    "#saving file\n",
    "dt_probs1=model.predict_proba(X_train)\n",
    "dt_pos1=dt_probs1[:,1]\n",
    "dt_neg1=dt_probs1[:,0]\n",
    "pd.DataFrame({'Actual': y_train,'Pred_DT': pred1, 'PredProb_1_DT': dt_pos1,'PredProb_0_DT':dt_neg1}).to_csv('dt_apparent.csv', index=False)"
   ]
  },
  {
   "cell_type": "code",
   "execution_count": 36,
   "metadata": {},
   "outputs": [
    {
     "name": "stdout",
     "output_type": "stream",
     "text": [
      "[10:53:29] WARNING: C:/Users/Administrator/workspace/xgboost-win64_release_1.4.0/src/learner.cc:1095: Starting in XGBoost 1.3.0, the default evaluation metric used with the objective 'binary:logistic' was changed from 'error' to 'logloss'. Explicitly set eval_metric if you'd like to restore the old behavior.\n",
      "  0%|                                                       | 0/24 [00:00<?, ?trial/s, best loss=?]"
     ]
    },
    {
     "name": "stderr",
     "output_type": "stream",
     "text": [
      "C:\\Program Files\\Python39\\python-3.9.0rc1.amd64\\lib\\site-packages\\xgboost\\sklearn.py:1146: UserWarning: The use of label encoder in XGBClassifier is deprecated and will be removed in a future release. To remove this warning, do the following: 1) Pass option use_label_encoder=False when constructing XGBClassifier object; and 2) Encode your labels (y) as integers starting with 0, i.e. 0, 1, 2, ..., [num_class - 1].\n",
      "  warnings.warn(label_encoder_deprecation_msg, UserWarning)\n",
      "\n"
     ]
    },
    {
     "name": "stdout",
     "output_type": "stream",
     "text": [
      "[10:53:30] WARNING: C:/Users/Administrator/workspace/xgboost-win64_release_1.4.0/src/learner.cc:1095: Starting in XGBoost 1.3.0, the default evaluation metric used with the objective 'binary:logistic' was changed from 'error' to 'logloss'. Explicitly set eval_metric if you'd like to restore the old behavior.\n",
      "  0%|                                                       | 0/24 [00:01<?, ?trial/s, best loss=?]"
     ]
    },
    {
     "name": "stderr",
     "output_type": "stream",
     "text": [
      "C:\\Program Files\\Python39\\python-3.9.0rc1.amd64\\lib\\site-packages\\xgboost\\sklearn.py:1146: UserWarning: The use of label encoder in XGBClassifier is deprecated and will be removed in a future release. To remove this warning, do the following: 1) Pass option use_label_encoder=False when constructing XGBClassifier object; and 2) Encode your labels (y) as integers starting with 0, i.e. 0, 1, 2, ..., [num_class - 1].\n",
      "  warnings.warn(label_encoder_deprecation_msg, UserWarning)\n",
      "\n"
     ]
    },
    {
     "name": "stdout",
     "output_type": "stream",
     "text": [
      "[10:53:30] WARNING: C:/Users/Administrator/workspace/xgboost-win64_release_1.4.0/src/learner.cc:1095: Starting in XGBoost 1.3.0, the default evaluation metric used with the objective 'binary:logistic' was changed from 'error' to 'logloss'. Explicitly set eval_metric if you'd like to restore the old behavior.\n",
      "  0%|                                                       | 0/24 [00:02<?, ?trial/s, best loss=?]"
     ]
    },
    {
     "name": "stderr",
     "output_type": "stream",
     "text": [
      "C:\\Program Files\\Python39\\python-3.9.0rc1.amd64\\lib\\site-packages\\xgboost\\sklearn.py:1146: UserWarning: The use of label encoder in XGBClassifier is deprecated and will be removed in a future release. To remove this warning, do the following: 1) Pass option use_label_encoder=False when constructing XGBClassifier object; and 2) Encode your labels (y) as integers starting with 0, i.e. 0, 1, 2, ..., [num_class - 1].\n",
      "  warnings.warn(label_encoder_deprecation_msg, UserWarning)\n",
      "\n"
     ]
    },
    {
     "name": "stdout",
     "output_type": "stream",
     "text": [
      "[10:53:31] WARNING: C:/Users/Administrator/workspace/xgboost-win64_release_1.4.0/src/learner.cc:1095: Starting in XGBoost 1.3.0, the default evaluation metric used with the objective 'binary:logistic' was changed from 'error' to 'logloss'. Explicitly set eval_metric if you'd like to restore the old behavior.\n",
      "  0%|                                                       | 0/24 [00:02<?, ?trial/s, best loss=?]"
     ]
    },
    {
     "name": "stderr",
     "output_type": "stream",
     "text": [
      "C:\\Program Files\\Python39\\python-3.9.0rc1.amd64\\lib\\site-packages\\xgboost\\sklearn.py:1146: UserWarning: The use of label encoder in XGBClassifier is deprecated and will be removed in a future release. To remove this warning, do the following: 1) Pass option use_label_encoder=False when constructing XGBClassifier object; and 2) Encode your labels (y) as integers starting with 0, i.e. 0, 1, 2, ..., [num_class - 1].\n",
      "  warnings.warn(label_encoder_deprecation_msg, UserWarning)\n",
      "\n"
     ]
    },
    {
     "name": "stdout",
     "output_type": "stream",
     "text": [
      "[10:53:32] WARNING: C:/Users/Administrator/workspace/xgboost-win64_release_1.4.0/src/learner.cc:1095: Starting in XGBoost 1.3.0, the default evaluation metric used with the objective 'binary:logistic' was changed from 'error' to 'logloss'. Explicitly set eval_metric if you'd like to restore the old behavior.\n",
      "  0%|                                                       | 0/24 [00:03<?, ?trial/s, best loss=?]"
     ]
    },
    {
     "name": "stderr",
     "output_type": "stream",
     "text": [
      "C:\\Program Files\\Python39\\python-3.9.0rc1.amd64\\lib\\site-packages\\xgboost\\sklearn.py:1146: UserWarning: The use of label encoder in XGBClassifier is deprecated and will be removed in a future release. To remove this warning, do the following: 1) Pass option use_label_encoder=False when constructing XGBClassifier object; and 2) Encode your labels (y) as integers starting with 0, i.e. 0, 1, 2, ..., [num_class - 1].\n",
      "  warnings.warn(label_encoder_deprecation_msg, UserWarning)\n",
      "\n"
     ]
    },
    {
     "name": "stdout",
     "output_type": "stream",
     "text": [
      "[10:53:33] WARNING: C:/Users/Administrator/workspace/xgboost-win64_release_1.4.0/src/learner.cc:1095: Starting in XGBoost 1.3.0, the default evaluation metric used with the objective 'binary:logistic' was changed from 'error' to 'logloss'. Explicitly set eval_metric if you'd like to restore the old behavior.\n",
      "  4%|█▏                           | 1/24 [00:04<01:39,  4.33s/trial, best loss: 0.9425594344548017]"
     ]
    },
    {
     "name": "stderr",
     "output_type": "stream",
     "text": [
      "C:\\Program Files\\Python39\\python-3.9.0rc1.amd64\\lib\\site-packages\\xgboost\\sklearn.py:1146: UserWarning: The use of label encoder in XGBClassifier is deprecated and will be removed in a future release. To remove this warning, do the following: 1) Pass option use_label_encoder=False when constructing XGBClassifier object; and 2) Encode your labels (y) as integers starting with 0, i.e. 0, 1, 2, ..., [num_class - 1].\n",
      "  warnings.warn(label_encoder_deprecation_msg, UserWarning)\n",
      "\n"
     ]
    },
    {
     "name": "stdout",
     "output_type": "stream",
     "text": [
      "[10:53:34] WARNING: C:/Users/Administrator/workspace/xgboost-win64_release_1.4.0/src/learner.cc:1095: Starting in XGBoost 1.3.0, the default evaluation metric used with the objective 'binary:logistic' was changed from 'error' to 'logloss'. Explicitly set eval_metric if you'd like to restore the old behavior.\n",
      "  4%|█▏                           | 1/24 [00:05<01:39,  4.33s/trial, best loss: 0.9425594344548017]"
     ]
    },
    {
     "name": "stderr",
     "output_type": "stream",
     "text": [
      "C:\\Program Files\\Python39\\python-3.9.0rc1.amd64\\lib\\site-packages\\xgboost\\sklearn.py:1146: UserWarning: The use of label encoder in XGBClassifier is deprecated and will be removed in a future release. To remove this warning, do the following: 1) Pass option use_label_encoder=False when constructing XGBClassifier object; and 2) Encode your labels (y) as integers starting with 0, i.e. 0, 1, 2, ..., [num_class - 1].\n",
      "  warnings.warn(label_encoder_deprecation_msg, UserWarning)\n",
      "\n"
     ]
    },
    {
     "name": "stdout",
     "output_type": "stream",
     "text": [
      "[10:53:35] WARNING: C:/Users/Administrator/workspace/xgboost-win64_release_1.4.0/src/learner.cc:1095: Starting in XGBoost 1.3.0, the default evaluation metric used with the objective 'binary:logistic' was changed from 'error' to 'logloss'. Explicitly set eval_metric if you'd like to restore the old behavior.\n",
      "  4%|█▏                           | 1/24 [00:06<01:39,  4.33s/trial, best loss: 0.9425594344548017]"
     ]
    },
    {
     "name": "stderr",
     "output_type": "stream",
     "text": [
      "C:\\Program Files\\Python39\\python-3.9.0rc1.amd64\\lib\\site-packages\\xgboost\\sklearn.py:1146: UserWarning: The use of label encoder in XGBClassifier is deprecated and will be removed in a future release. To remove this warning, do the following: 1) Pass option use_label_encoder=False when constructing XGBClassifier object; and 2) Encode your labels (y) as integers starting with 0, i.e. 0, 1, 2, ..., [num_class - 1].\n",
      "  warnings.warn(label_encoder_deprecation_msg, UserWarning)\n",
      "\n"
     ]
    },
    {
     "name": "stdout",
     "output_type": "stream",
     "text": [
      "[10:53:36] WARNING: C:/Users/Administrator/workspace/xgboost-win64_release_1.4.0/src/learner.cc:1095: Starting in XGBoost 1.3.0, the default evaluation metric used with the objective 'binary:logistic' was changed from 'error' to 'logloss'. Explicitly set eval_metric if you'd like to restore the old behavior.\n",
      "  4%|█▏                           | 1/24 [00:07<01:39,  4.33s/trial, best loss: 0.9425594344548017]"
     ]
    },
    {
     "name": "stderr",
     "output_type": "stream",
     "text": [
      "C:\\Program Files\\Python39\\python-3.9.0rc1.amd64\\lib\\site-packages\\xgboost\\sklearn.py:1146: UserWarning: The use of label encoder in XGBClassifier is deprecated and will be removed in a future release. To remove this warning, do the following: 1) Pass option use_label_encoder=False when constructing XGBClassifier object; and 2) Encode your labels (y) as integers starting with 0, i.e. 0, 1, 2, ..., [num_class - 1].\n",
      "  warnings.warn(label_encoder_deprecation_msg, UserWarning)\n",
      "\n"
     ]
    },
    {
     "name": "stdout",
     "output_type": "stream",
     "text": [
      "[10:53:37] WARNING: C:/Users/Administrator/workspace/xgboost-win64_release_1.4.0/src/learner.cc:1095: Starting in XGBoost 1.3.0, the default evaluation metric used with the objective 'binary:logistic' was changed from 'error' to 'logloss'. Explicitly set eval_metric if you'd like to restore the old behavior.\n",
      "  4%|█▏                           | 1/24 [00:08<01:39,  4.33s/trial, best loss: 0.9425594344548017]"
     ]
    },
    {
     "name": "stderr",
     "output_type": "stream",
     "text": [
      "C:\\Program Files\\Python39\\python-3.9.0rc1.amd64\\lib\\site-packages\\xgboost\\sklearn.py:1146: UserWarning: The use of label encoder in XGBClassifier is deprecated and will be removed in a future release. To remove this warning, do the following: 1) Pass option use_label_encoder=False when constructing XGBClassifier object; and 2) Encode your labels (y) as integers starting with 0, i.e. 0, 1, 2, ..., [num_class - 1].\n",
      "  warnings.warn(label_encoder_deprecation_msg, UserWarning)\n",
      "\n"
     ]
    },
    {
     "name": "stdout",
     "output_type": "stream",
     "text": [
      "[10:53:38] WARNING: C:/Users/Administrator/workspace/xgboost-win64_release_1.4.0/src/learner.cc:1095: Starting in XGBoost 1.3.0, the default evaluation metric used with the objective 'binary:logistic' was changed from 'error' to 'logloss'. Explicitly set eval_metric if you'd like to restore the old behavior.\n",
      "  8%|██▍                          | 2/24 [00:09<01:36,  4.37s/trial, best loss: 0.9303036101030995]"
     ]
    },
    {
     "name": "stderr",
     "output_type": "stream",
     "text": [
      "C:\\Program Files\\Python39\\python-3.9.0rc1.amd64\\lib\\site-packages\\xgboost\\sklearn.py:1146: UserWarning: The use of label encoder in XGBClassifier is deprecated and will be removed in a future release. To remove this warning, do the following: 1) Pass option use_label_encoder=False when constructing XGBClassifier object; and 2) Encode your labels (y) as integers starting with 0, i.e. 0, 1, 2, ..., [num_class - 1].\n",
      "  warnings.warn(label_encoder_deprecation_msg, UserWarning)\n",
      "\n"
     ]
    },
    {
     "name": "stdout",
     "output_type": "stream",
     "text": [
      "[10:53:38] WARNING: C:/Users/Administrator/workspace/xgboost-win64_release_1.4.0/src/learner.cc:1095: Starting in XGBoost 1.3.0, the default evaluation metric used with the objective 'binary:logistic' was changed from 'error' to 'logloss'. Explicitly set eval_metric if you'd like to restore the old behavior.\n",
      "  8%|██▍                          | 2/24 [00:10<01:36,  4.37s/trial, best loss: 0.9303036101030995]"
     ]
    },
    {
     "name": "stderr",
     "output_type": "stream",
     "text": [
      "C:\\Program Files\\Python39\\python-3.9.0rc1.amd64\\lib\\site-packages\\xgboost\\sklearn.py:1146: UserWarning: The use of label encoder in XGBClassifier is deprecated and will be removed in a future release. To remove this warning, do the following: 1) Pass option use_label_encoder=False when constructing XGBClassifier object; and 2) Encode your labels (y) as integers starting with 0, i.e. 0, 1, 2, ..., [num_class - 1].\n",
      "  warnings.warn(label_encoder_deprecation_msg, UserWarning)\n",
      "\n"
     ]
    },
    {
     "name": "stdout",
     "output_type": "stream",
     "text": [
      "[10:53:39] WARNING: C:/Users/Administrator/workspace/xgboost-win64_release_1.4.0/src/learner.cc:1095: Starting in XGBoost 1.3.0, the default evaluation metric used with the objective 'binary:logistic' was changed from 'error' to 'logloss'. Explicitly set eval_metric if you'd like to restore the old behavior.\n",
      "  8%|██▍                          | 2/24 [00:10<01:36,  4.37s/trial, best loss: 0.9303036101030995]"
     ]
    },
    {
     "name": "stderr",
     "output_type": "stream",
     "text": [
      "C:\\Program Files\\Python39\\python-3.9.0rc1.amd64\\lib\\site-packages\\xgboost\\sklearn.py:1146: UserWarning: The use of label encoder in XGBClassifier is deprecated and will be removed in a future release. To remove this warning, do the following: 1) Pass option use_label_encoder=False when constructing XGBClassifier object; and 2) Encode your labels (y) as integers starting with 0, i.e. 0, 1, 2, ..., [num_class - 1].\n",
      "  warnings.warn(label_encoder_deprecation_msg, UserWarning)\n",
      "\n"
     ]
    },
    {
     "name": "stdout",
     "output_type": "stream",
     "text": [
      "[10:53:40] WARNING: C:/Users/Administrator/workspace/xgboost-win64_release_1.4.0/src/learner.cc:1095: Starting in XGBoost 1.3.0, the default evaluation metric used with the objective 'binary:logistic' was changed from 'error' to 'logloss'. Explicitly set eval_metric if you'd like to restore the old behavior.\n",
      "  8%|██▍                          | 2/24 [00:11<01:36,  4.37s/trial, best loss: 0.9303036101030995]"
     ]
    },
    {
     "name": "stderr",
     "output_type": "stream",
     "text": [
      "C:\\Program Files\\Python39\\python-3.9.0rc1.amd64\\lib\\site-packages\\xgboost\\sklearn.py:1146: UserWarning: The use of label encoder in XGBClassifier is deprecated and will be removed in a future release. To remove this warning, do the following: 1) Pass option use_label_encoder=False when constructing XGBClassifier object; and 2) Encode your labels (y) as integers starting with 0, i.e. 0, 1, 2, ..., [num_class - 1].\n",
      "  warnings.warn(label_encoder_deprecation_msg, UserWarning)\n",
      "\n"
     ]
    },
    {
     "name": "stdout",
     "output_type": "stream",
     "text": [
      "[10:53:40] WARNING: C:/Users/Administrator/workspace/xgboost-win64_release_1.4.0/src/learner.cc:1095: Starting in XGBoost 1.3.0, the default evaluation metric used with the objective 'binary:logistic' was changed from 'error' to 'logloss'. Explicitly set eval_metric if you'd like to restore the old behavior.\n",
      "  8%|██▍                          | 2/24 [00:12<01:36,  4.37s/trial, best loss: 0.9303036101030995]"
     ]
    },
    {
     "name": "stderr",
     "output_type": "stream",
     "text": [
      "C:\\Program Files\\Python39\\python-3.9.0rc1.amd64\\lib\\site-packages\\xgboost\\sklearn.py:1146: UserWarning: The use of label encoder in XGBClassifier is deprecated and will be removed in a future release. To remove this warning, do the following: 1) Pass option use_label_encoder=False when constructing XGBClassifier object; and 2) Encode your labels (y) as integers starting with 0, i.e. 0, 1, 2, ..., [num_class - 1].\n",
      "  warnings.warn(label_encoder_deprecation_msg, UserWarning)\n",
      "\n"
     ]
    },
    {
     "name": "stdout",
     "output_type": "stream",
     "text": [
      "[10:53:41] WARNING: C:/Users/Administrator/workspace/xgboost-win64_release_1.4.0/src/learner.cc:1095: Starting in XGBoost 1.3.0, the default evaluation metric used with the objective 'binary:logistic' was changed from 'error' to 'logloss'. Explicitly set eval_metric if you'd like to restore the old behavior.\n",
      " 12%|███▋                         | 3/24 [00:12<01:27,  4.17s/trial, best loss: 0.9303036101030995]"
     ]
    },
    {
     "name": "stderr",
     "output_type": "stream",
     "text": [
      "C:\\Program Files\\Python39\\python-3.9.0rc1.amd64\\lib\\site-packages\\xgboost\\sklearn.py:1146: UserWarning: The use of label encoder in XGBClassifier is deprecated and will be removed in a future release. To remove this warning, do the following: 1) Pass option use_label_encoder=False when constructing XGBClassifier object; and 2) Encode your labels (y) as integers starting with 0, i.e. 0, 1, 2, ..., [num_class - 1].\n",
      "  warnings.warn(label_encoder_deprecation_msg, UserWarning)\n",
      "\n"
     ]
    },
    {
     "name": "stdout",
     "output_type": "stream",
     "text": [
      "[10:53:42] WARNING: C:/Users/Administrator/workspace/xgboost-win64_release_1.4.0/src/learner.cc:1095: Starting in XGBoost 1.3.0, the default evaluation metric used with the objective 'binary:logistic' was changed from 'error' to 'logloss'. Explicitly set eval_metric if you'd like to restore the old behavior.\n",
      " 12%|███▋                         | 3/24 [00:13<01:27,  4.17s/trial, best loss: 0.9303036101030995]"
     ]
    },
    {
     "name": "stderr",
     "output_type": "stream",
     "text": [
      "C:\\Program Files\\Python39\\python-3.9.0rc1.amd64\\lib\\site-packages\\xgboost\\sklearn.py:1146: UserWarning: The use of label encoder in XGBClassifier is deprecated and will be removed in a future release. To remove this warning, do the following: 1) Pass option use_label_encoder=False when constructing XGBClassifier object; and 2) Encode your labels (y) as integers starting with 0, i.e. 0, 1, 2, ..., [num_class - 1].\n",
      "  warnings.warn(label_encoder_deprecation_msg, UserWarning)\n",
      "\n"
     ]
    },
    {
     "name": "stdout",
     "output_type": "stream",
     "text": [
      "[10:53:43] WARNING: C:/Users/Administrator/workspace/xgboost-win64_release_1.4.0/src/learner.cc:1095: Starting in XGBoost 1.3.0, the default evaluation metric used with the objective 'binary:logistic' was changed from 'error' to 'logloss'. Explicitly set eval_metric if you'd like to restore the old behavior.\n",
      " 12%|███▋                         | 3/24 [00:14<01:27,  4.17s/trial, best loss: 0.9303036101030995]"
     ]
    },
    {
     "name": "stderr",
     "output_type": "stream",
     "text": [
      "C:\\Program Files\\Python39\\python-3.9.0rc1.amd64\\lib\\site-packages\\xgboost\\sklearn.py:1146: UserWarning: The use of label encoder in XGBClassifier is deprecated and will be removed in a future release. To remove this warning, do the following: 1) Pass option use_label_encoder=False when constructing XGBClassifier object; and 2) Encode your labels (y) as integers starting with 0, i.e. 0, 1, 2, ..., [num_class - 1].\n",
      "  warnings.warn(label_encoder_deprecation_msg, UserWarning)\n",
      "\n"
     ]
    },
    {
     "name": "stdout",
     "output_type": "stream",
     "text": [
      "[10:53:43] WARNING: C:/Users/Administrator/workspace/xgboost-win64_release_1.4.0/src/learner.cc:1095: Starting in XGBoost 1.3.0, the default evaluation metric used with the objective 'binary:logistic' was changed from 'error' to 'logloss'. Explicitly set eval_metric if you'd like to restore the old behavior.\n",
      " 12%|███▋                         | 3/24 [00:15<01:27,  4.17s/trial, best loss: 0.9303036101030995]"
     ]
    },
    {
     "name": "stderr",
     "output_type": "stream",
     "text": [
      "C:\\Program Files\\Python39\\python-3.9.0rc1.amd64\\lib\\site-packages\\xgboost\\sklearn.py:1146: UserWarning: The use of label encoder in XGBClassifier is deprecated and will be removed in a future release. To remove this warning, do the following: 1) Pass option use_label_encoder=False when constructing XGBClassifier object; and 2) Encode your labels (y) as integers starting with 0, i.e. 0, 1, 2, ..., [num_class - 1].\n",
      "  warnings.warn(label_encoder_deprecation_msg, UserWarning)\n",
      "\n"
     ]
    },
    {
     "name": "stdout",
     "output_type": "stream",
     "text": [
      "[10:53:49] WARNING: C:/Users/Administrator/workspace/xgboost-win64_release_1.4.0/src/learner.cc:1095: Starting in XGBoost 1.3.0, the default evaluation metric used with the objective 'binary:logistic' was changed from 'error' to 'logloss'. Explicitly set eval_metric if you'd like to restore the old behavior.\n",
      " 12%|███▋                         | 3/24 [00:20<01:27,  4.17s/trial, best loss: 0.9303036101030995]"
     ]
    },
    {
     "name": "stderr",
     "output_type": "stream",
     "text": [
      "C:\\Program Files\\Python39\\python-3.9.0rc1.amd64\\lib\\site-packages\\xgboost\\sklearn.py:1146: UserWarning: The use of label encoder in XGBClassifier is deprecated and will be removed in a future release. To remove this warning, do the following: 1) Pass option use_label_encoder=False when constructing XGBClassifier object; and 2) Encode your labels (y) as integers starting with 0, i.e. 0, 1, 2, ..., [num_class - 1].\n",
      "  warnings.warn(label_encoder_deprecation_msg, UserWarning)\n",
      "\n"
     ]
    },
    {
     "name": "stdout",
     "output_type": "stream",
     "text": [
      "[10:53:50] WARNING: C:/Users/Administrator/workspace/xgboost-win64_release_1.4.0/src/learner.cc:1095: Starting in XGBoost 1.3.0, the default evaluation metric used with the objective 'binary:logistic' was changed from 'error' to 'logloss'. Explicitly set eval_metric if you'd like to restore the old behavior.\n",
      " 17%|████▊                        | 4/24 [00:21<01:50,  5.52s/trial, best loss: 0.9303036101030995]"
     ]
    },
    {
     "name": "stderr",
     "output_type": "stream",
     "text": [
      "C:\\Program Files\\Python39\\python-3.9.0rc1.amd64\\lib\\site-packages\\xgboost\\sklearn.py:1146: UserWarning: The use of label encoder in XGBClassifier is deprecated and will be removed in a future release. To remove this warning, do the following: 1) Pass option use_label_encoder=False when constructing XGBClassifier object; and 2) Encode your labels (y) as integers starting with 0, i.e. 0, 1, 2, ..., [num_class - 1].\n",
      "  warnings.warn(label_encoder_deprecation_msg, UserWarning)\n",
      "\n"
     ]
    },
    {
     "name": "stdout",
     "output_type": "stream",
     "text": [
      "[10:53:51] WARNING: C:/Users/Administrator/workspace/xgboost-win64_release_1.4.0/src/learner.cc:1095: Starting in XGBoost 1.3.0, the default evaluation metric used with the objective 'binary:logistic' was changed from 'error' to 'logloss'. Explicitly set eval_metric if you'd like to restore the old behavior.\n",
      " 17%|████▊                        | 4/24 [00:22<01:50,  5.52s/trial, best loss: 0.9303036101030995]"
     ]
    },
    {
     "name": "stderr",
     "output_type": "stream",
     "text": [
      "C:\\Program Files\\Python39\\python-3.9.0rc1.amd64\\lib\\site-packages\\xgboost\\sklearn.py:1146: UserWarning: The use of label encoder in XGBClassifier is deprecated and will be removed in a future release. To remove this warning, do the following: 1) Pass option use_label_encoder=False when constructing XGBClassifier object; and 2) Encode your labels (y) as integers starting with 0, i.e. 0, 1, 2, ..., [num_class - 1].\n",
      "  warnings.warn(label_encoder_deprecation_msg, UserWarning)\n",
      "\n"
     ]
    },
    {
     "name": "stdout",
     "output_type": "stream",
     "text": [
      "[10:53:51] WARNING: C:/Users/Administrator/workspace/xgboost-win64_release_1.4.0/src/learner.cc:1095: Starting in XGBoost 1.3.0, the default evaluation metric used with the objective 'binary:logistic' was changed from 'error' to 'logloss'. Explicitly set eval_metric if you'd like to restore the old behavior.\n",
      " 17%|████▊                        | 4/24 [00:22<01:50,  5.52s/trial, best loss: 0.9303036101030995]"
     ]
    },
    {
     "name": "stderr",
     "output_type": "stream",
     "text": [
      "C:\\Program Files\\Python39\\python-3.9.0rc1.amd64\\lib\\site-packages\\xgboost\\sklearn.py:1146: UserWarning: The use of label encoder in XGBClassifier is deprecated and will be removed in a future release. To remove this warning, do the following: 1) Pass option use_label_encoder=False when constructing XGBClassifier object; and 2) Encode your labels (y) as integers starting with 0, i.e. 0, 1, 2, ..., [num_class - 1].\n",
      "  warnings.warn(label_encoder_deprecation_msg, UserWarning)\n",
      "\n"
     ]
    },
    {
     "name": "stdout",
     "output_type": "stream",
     "text": [
      "[10:53:52] WARNING: C:/Users/Administrator/workspace/xgboost-win64_release_1.4.0/src/learner.cc:1095: Starting in XGBoost 1.3.0, the default evaluation metric used with the objective 'binary:logistic' was changed from 'error' to 'logloss'. Explicitly set eval_metric if you'd like to restore the old behavior.\n",
      " 17%|████▊                        | 4/24 [00:23<01:50,  5.52s/trial, best loss: 0.9303036101030995]"
     ]
    },
    {
     "name": "stderr",
     "output_type": "stream",
     "text": [
      "C:\\Program Files\\Python39\\python-3.9.0rc1.amd64\\lib\\site-packages\\xgboost\\sklearn.py:1146: UserWarning: The use of label encoder in XGBClassifier is deprecated and will be removed in a future release. To remove this warning, do the following: 1) Pass option use_label_encoder=False when constructing XGBClassifier object; and 2) Encode your labels (y) as integers starting with 0, i.e. 0, 1, 2, ..., [num_class - 1].\n",
      "  warnings.warn(label_encoder_deprecation_msg, UserWarning)\n",
      "\n"
     ]
    },
    {
     "name": "stdout",
     "output_type": "stream",
     "text": [
      "[10:53:52] WARNING: C:/Users/Administrator/workspace/xgboost-win64_release_1.4.0/src/learner.cc:1095: Starting in XGBoost 1.3.0, the default evaluation metric used with the objective 'binary:logistic' was changed from 'error' to 'logloss'. Explicitly set eval_metric if you'd like to restore the old behavior.\n",
      " 21%|██████                       | 5/24 [00:24<01:31,  4.84s/trial, best loss: 0.9303036101030995]"
     ]
    },
    {
     "name": "stderr",
     "output_type": "stream",
     "text": [
      "C:\\Program Files\\Python39\\python-3.9.0rc1.amd64\\lib\\site-packages\\xgboost\\sklearn.py:1146: UserWarning: The use of label encoder in XGBClassifier is deprecated and will be removed in a future release. To remove this warning, do the following: 1) Pass option use_label_encoder=False when constructing XGBClassifier object; and 2) Encode your labels (y) as integers starting with 0, i.e. 0, 1, 2, ..., [num_class - 1].\n",
      "  warnings.warn(label_encoder_deprecation_msg, UserWarning)\n",
      "\n"
     ]
    },
    {
     "name": "stdout",
     "output_type": "stream",
     "text": [
      "[10:53:53] WARNING: C:/Users/Administrator/workspace/xgboost-win64_release_1.4.0/src/learner.cc:1095: Starting in XGBoost 1.3.0, the default evaluation metric used with the objective 'binary:logistic' was changed from 'error' to 'logloss'. Explicitly set eval_metric if you'd like to restore the old behavior.\n",
      " 21%|██████                       | 5/24 [00:24<01:31,  4.84s/trial, best loss: 0.9303036101030995]"
     ]
    },
    {
     "name": "stderr",
     "output_type": "stream",
     "text": [
      "C:\\Program Files\\Python39\\python-3.9.0rc1.amd64\\lib\\site-packages\\xgboost\\sklearn.py:1146: UserWarning: The use of label encoder in XGBClassifier is deprecated and will be removed in a future release. To remove this warning, do the following: 1) Pass option use_label_encoder=False when constructing XGBClassifier object; and 2) Encode your labels (y) as integers starting with 0, i.e. 0, 1, 2, ..., [num_class - 1].\n",
      "  warnings.warn(label_encoder_deprecation_msg, UserWarning)\n",
      "\n"
     ]
    },
    {
     "name": "stdout",
     "output_type": "stream",
     "text": [
      "[10:53:54] WARNING: C:/Users/Administrator/workspace/xgboost-win64_release_1.4.0/src/learner.cc:1095: Starting in XGBoost 1.3.0, the default evaluation metric used with the objective 'binary:logistic' was changed from 'error' to 'logloss'. Explicitly set eval_metric if you'd like to restore the old behavior.\n",
      " 21%|██████                       | 5/24 [00:25<01:31,  4.84s/trial, best loss: 0.9303036101030995]"
     ]
    },
    {
     "name": "stderr",
     "output_type": "stream",
     "text": [
      "C:\\Program Files\\Python39\\python-3.9.0rc1.amd64\\lib\\site-packages\\xgboost\\sklearn.py:1146: UserWarning: The use of label encoder in XGBClassifier is deprecated and will be removed in a future release. To remove this warning, do the following: 1) Pass option use_label_encoder=False when constructing XGBClassifier object; and 2) Encode your labels (y) as integers starting with 0, i.e. 0, 1, 2, ..., [num_class - 1].\n",
      "  warnings.warn(label_encoder_deprecation_msg, UserWarning)\n",
      "\n"
     ]
    },
    {
     "name": "stdout",
     "output_type": "stream",
     "text": [
      "[10:53:54] WARNING: C:/Users/Administrator/workspace/xgboost-win64_release_1.4.0/src/learner.cc:1095: Starting in XGBoost 1.3.0, the default evaluation metric used with the objective 'binary:logistic' was changed from 'error' to 'logloss'. Explicitly set eval_metric if you'd like to restore the old behavior.\n",
      " 21%|██████                       | 5/24 [00:26<01:31,  4.84s/trial, best loss: 0.9303036101030995]"
     ]
    },
    {
     "name": "stderr",
     "output_type": "stream",
     "text": [
      "C:\\Program Files\\Python39\\python-3.9.0rc1.amd64\\lib\\site-packages\\xgboost\\sklearn.py:1146: UserWarning: The use of label encoder in XGBClassifier is deprecated and will be removed in a future release. To remove this warning, do the following: 1) Pass option use_label_encoder=False when constructing XGBClassifier object; and 2) Encode your labels (y) as integers starting with 0, i.e. 0, 1, 2, ..., [num_class - 1].\n",
      "  warnings.warn(label_encoder_deprecation_msg, UserWarning)\n",
      "\n"
     ]
    },
    {
     "name": "stdout",
     "output_type": "stream",
     "text": [
      "[10:53:55] WARNING: C:/Users/Administrator/workspace/xgboost-win64_release_1.4.0/src/learner.cc:1095: Starting in XGBoost 1.3.0, the default evaluation metric used with the objective 'binary:logistic' was changed from 'error' to 'logloss'. Explicitly set eval_metric if you'd like to restore the old behavior.\n",
      " 21%|██████                       | 5/24 [00:26<01:31,  4.84s/trial, best loss: 0.9303036101030995]"
     ]
    },
    {
     "name": "stderr",
     "output_type": "stream",
     "text": [
      "C:\\Program Files\\Python39\\python-3.9.0rc1.amd64\\lib\\site-packages\\xgboost\\sklearn.py:1146: UserWarning: The use of label encoder in XGBClassifier is deprecated and will be removed in a future release. To remove this warning, do the following: 1) Pass option use_label_encoder=False when constructing XGBClassifier object; and 2) Encode your labels (y) as integers starting with 0, i.e. 0, 1, 2, ..., [num_class - 1].\n",
      "  warnings.warn(label_encoder_deprecation_msg, UserWarning)\n",
      "\n"
     ]
    },
    {
     "name": "stdout",
     "output_type": "stream",
     "text": [
      "[10:53:56] WARNING: C:/Users/Administrator/workspace/xgboost-win64_release_1.4.0/src/learner.cc:1095: Starting in XGBoost 1.3.0, the default evaluation metric used with the objective 'binary:logistic' was changed from 'error' to 'logloss'. Explicitly set eval_metric if you'd like to restore the old behavior.\n",
      " 25%|███████▎                     | 6/24 [00:27<01:18,  4.33s/trial, best loss: 0.9303036101030995]"
     ]
    },
    {
     "name": "stderr",
     "output_type": "stream",
     "text": [
      "C:\\Program Files\\Python39\\python-3.9.0rc1.amd64\\lib\\site-packages\\xgboost\\sklearn.py:1146: UserWarning: The use of label encoder in XGBClassifier is deprecated and will be removed in a future release. To remove this warning, do the following: 1) Pass option use_label_encoder=False when constructing XGBClassifier object; and 2) Encode your labels (y) as integers starting with 0, i.e. 0, 1, 2, ..., [num_class - 1].\n",
      "  warnings.warn(label_encoder_deprecation_msg, UserWarning)\n",
      "\n"
     ]
    },
    {
     "name": "stdout",
     "output_type": "stream",
     "text": [
      "[10:53:56] WARNING: C:/Users/Administrator/workspace/xgboost-win64_release_1.4.0/src/learner.cc:1095: Starting in XGBoost 1.3.0, the default evaluation metric used with the objective 'binary:logistic' was changed from 'error' to 'logloss'. Explicitly set eval_metric if you'd like to restore the old behavior.\n",
      " 25%|███████▎                     | 6/24 [00:28<01:18,  4.33s/trial, best loss: 0.9303036101030995]"
     ]
    },
    {
     "name": "stderr",
     "output_type": "stream",
     "text": [
      "C:\\Program Files\\Python39\\python-3.9.0rc1.amd64\\lib\\site-packages\\xgboost\\sklearn.py:1146: UserWarning: The use of label encoder in XGBClassifier is deprecated and will be removed in a future release. To remove this warning, do the following: 1) Pass option use_label_encoder=False when constructing XGBClassifier object; and 2) Encode your labels (y) as integers starting with 0, i.e. 0, 1, 2, ..., [num_class - 1].\n",
      "  warnings.warn(label_encoder_deprecation_msg, UserWarning)\n",
      "\n"
     ]
    },
    {
     "name": "stdout",
     "output_type": "stream",
     "text": [
      "[10:53:57] WARNING: C:/Users/Administrator/workspace/xgboost-win64_release_1.4.0/src/learner.cc:1095: Starting in XGBoost 1.3.0, the default evaluation metric used with the objective 'binary:logistic' was changed from 'error' to 'logloss'. Explicitly set eval_metric if you'd like to restore the old behavior.\n",
      " 25%|███████▎                     | 6/24 [00:28<01:18,  4.33s/trial, best loss: 0.9303036101030995]"
     ]
    },
    {
     "name": "stderr",
     "output_type": "stream",
     "text": [
      "C:\\Program Files\\Python39\\python-3.9.0rc1.amd64\\lib\\site-packages\\xgboost\\sklearn.py:1146: UserWarning: The use of label encoder in XGBClassifier is deprecated and will be removed in a future release. To remove this warning, do the following: 1) Pass option use_label_encoder=False when constructing XGBClassifier object; and 2) Encode your labels (y) as integers starting with 0, i.e. 0, 1, 2, ..., [num_class - 1].\n",
      "  warnings.warn(label_encoder_deprecation_msg, UserWarning)\n",
      "\n"
     ]
    },
    {
     "name": "stdout",
     "output_type": "stream",
     "text": [
      "[10:53:58] WARNING: C:/Users/Administrator/workspace/xgboost-win64_release_1.4.0/src/learner.cc:1095: Starting in XGBoost 1.3.0, the default evaluation metric used with the objective 'binary:logistic' was changed from 'error' to 'logloss'. Explicitly set eval_metric if you'd like to restore the old behavior.\n",
      " 25%|███████▎                     | 6/24 [00:29<01:18,  4.33s/trial, best loss: 0.9303036101030995]"
     ]
    },
    {
     "name": "stderr",
     "output_type": "stream",
     "text": [
      "C:\\Program Files\\Python39\\python-3.9.0rc1.amd64\\lib\\site-packages\\xgboost\\sklearn.py:1146: UserWarning: The use of label encoder in XGBClassifier is deprecated and will be removed in a future release. To remove this warning, do the following: 1) Pass option use_label_encoder=False when constructing XGBClassifier object; and 2) Encode your labels (y) as integers starting with 0, i.e. 0, 1, 2, ..., [num_class - 1].\n",
      "  warnings.warn(label_encoder_deprecation_msg, UserWarning)\n",
      "\n"
     ]
    },
    {
     "name": "stdout",
     "output_type": "stream",
     "text": [
      "[10:53:59] WARNING: C:/Users/Administrator/workspace/xgboost-win64_release_1.4.0/src/learner.cc:1095: Starting in XGBoost 1.3.0, the default evaluation metric used with the objective 'binary:logistic' was changed from 'error' to 'logloss'. Explicitly set eval_metric if you'd like to restore the old behavior.\n",
      " 25%|███████▎                     | 6/24 [00:30<01:18,  4.33s/trial, best loss: 0.9303036101030995]"
     ]
    },
    {
     "name": "stderr",
     "output_type": "stream",
     "text": [
      "C:\\Program Files\\Python39\\python-3.9.0rc1.amd64\\lib\\site-packages\\xgboost\\sklearn.py:1146: UserWarning: The use of label encoder in XGBClassifier is deprecated and will be removed in a future release. To remove this warning, do the following: 1) Pass option use_label_encoder=False when constructing XGBClassifier object; and 2) Encode your labels (y) as integers starting with 0, i.e. 0, 1, 2, ..., [num_class - 1].\n",
      "  warnings.warn(label_encoder_deprecation_msg, UserWarning)\n",
      "\n"
     ]
    },
    {
     "name": "stdout",
     "output_type": "stream",
     "text": [
      "[10:54:00] WARNING: C:/Users/Administrator/workspace/xgboost-win64_release_1.4.0/src/learner.cc:1095: Starting in XGBoost 1.3.0, the default evaluation metric used with the objective 'binary:logistic' was changed from 'error' to 'logloss'. Explicitly set eval_metric if you'd like to restore the old behavior.\n",
      " 25%|███████▎                     | 6/24 [00:31<01:18,  4.33s/trial, best loss: 0.9303036101030995]"
     ]
    },
    {
     "name": "stderr",
     "output_type": "stream",
     "text": [
      "C:\\Program Files\\Python39\\python-3.9.0rc1.amd64\\lib\\site-packages\\xgboost\\sklearn.py:1146: UserWarning: The use of label encoder in XGBClassifier is deprecated and will be removed in a future release. To remove this warning, do the following: 1) Pass option use_label_encoder=False when constructing XGBClassifier object; and 2) Encode your labels (y) as integers starting with 0, i.e. 0, 1, 2, ..., [num_class - 1].\n",
      "  warnings.warn(label_encoder_deprecation_msg, UserWarning)\n",
      "\n"
     ]
    },
    {
     "name": "stdout",
     "output_type": "stream",
     "text": [
      "[10:54:00] WARNING: C:/Users/Administrator/workspace/xgboost-win64_release_1.4.0/src/learner.cc:1095: Starting in XGBoost 1.3.0, the default evaluation metric used with the objective 'binary:logistic' was changed from 'error' to 'logloss'. Explicitly set eval_metric if you'd like to restore the old behavior.\n",
      " 29%|████████▍                    | 7/24 [00:32<01:12,  4.27s/trial, best loss: 0.9303036101030995]"
     ]
    },
    {
     "name": "stderr",
     "output_type": "stream",
     "text": [
      "C:\\Program Files\\Python39\\python-3.9.0rc1.amd64\\lib\\site-packages\\xgboost\\sklearn.py:1146: UserWarning: The use of label encoder in XGBClassifier is deprecated and will be removed in a future release. To remove this warning, do the following: 1) Pass option use_label_encoder=False when constructing XGBClassifier object; and 2) Encode your labels (y) as integers starting with 0, i.e. 0, 1, 2, ..., [num_class - 1].\n",
      "  warnings.warn(label_encoder_deprecation_msg, UserWarning)\n",
      "\n"
     ]
    },
    {
     "name": "stdout",
     "output_type": "stream",
     "text": [
      "[10:54:01] WARNING: C:/Users/Administrator/workspace/xgboost-win64_release_1.4.0/src/learner.cc:1095: Starting in XGBoost 1.3.0, the default evaluation metric used with the objective 'binary:logistic' was changed from 'error' to 'logloss'. Explicitly set eval_metric if you'd like to restore the old behavior.\n",
      " 29%|████████▍                    | 7/24 [00:32<01:12,  4.27s/trial, best loss: 0.9303036101030995]"
     ]
    },
    {
     "name": "stderr",
     "output_type": "stream",
     "text": [
      "C:\\Program Files\\Python39\\python-3.9.0rc1.amd64\\lib\\site-packages\\xgboost\\sklearn.py:1146: UserWarning: The use of label encoder in XGBClassifier is deprecated and will be removed in a future release. To remove this warning, do the following: 1) Pass option use_label_encoder=False when constructing XGBClassifier object; and 2) Encode your labels (y) as integers starting with 0, i.e. 0, 1, 2, ..., [num_class - 1].\n",
      "  warnings.warn(label_encoder_deprecation_msg, UserWarning)\n",
      "\n"
     ]
    },
    {
     "name": "stdout",
     "output_type": "stream",
     "text": [
      "[10:54:02] WARNING: C:/Users/Administrator/workspace/xgboost-win64_release_1.4.0/src/learner.cc:1095: Starting in XGBoost 1.3.0, the default evaluation metric used with the objective 'binary:logistic' was changed from 'error' to 'logloss'. Explicitly set eval_metric if you'd like to restore the old behavior.\n",
      " 29%|████████▍                    | 7/24 [00:33<01:12,  4.27s/trial, best loss: 0.9303036101030995]"
     ]
    },
    {
     "name": "stderr",
     "output_type": "stream",
     "text": [
      "C:\\Program Files\\Python39\\python-3.9.0rc1.amd64\\lib\\site-packages\\xgboost\\sklearn.py:1146: UserWarning: The use of label encoder in XGBClassifier is deprecated and will be removed in a future release. To remove this warning, do the following: 1) Pass option use_label_encoder=False when constructing XGBClassifier object; and 2) Encode your labels (y) as integers starting with 0, i.e. 0, 1, 2, ..., [num_class - 1].\n",
      "  warnings.warn(label_encoder_deprecation_msg, UserWarning)\n",
      "\n"
     ]
    },
    {
     "name": "stdout",
     "output_type": "stream",
     "text": [
      "[10:54:03] WARNING: C:/Users/Administrator/workspace/xgboost-win64_release_1.4.0/src/learner.cc:1095: Starting in XGBoost 1.3.0, the default evaluation metric used with the objective 'binary:logistic' was changed from 'error' to 'logloss'. Explicitly set eval_metric if you'd like to restore the old behavior.\n",
      " 29%|████████▍                    | 7/24 [00:34<01:12,  4.27s/trial, best loss: 0.9303036101030995]"
     ]
    },
    {
     "name": "stderr",
     "output_type": "stream",
     "text": [
      "C:\\Program Files\\Python39\\python-3.9.0rc1.amd64\\lib\\site-packages\\xgboost\\sklearn.py:1146: UserWarning: The use of label encoder in XGBClassifier is deprecated and will be removed in a future release. To remove this warning, do the following: 1) Pass option use_label_encoder=False when constructing XGBClassifier object; and 2) Encode your labels (y) as integers starting with 0, i.e. 0, 1, 2, ..., [num_class - 1].\n",
      "  warnings.warn(label_encoder_deprecation_msg, UserWarning)\n",
      "\n"
     ]
    },
    {
     "name": "stdout",
     "output_type": "stream",
     "text": [
      "[10:54:04] WARNING: C:/Users/Administrator/workspace/xgboost-win64_release_1.4.0/src/learner.cc:1095: Starting in XGBoost 1.3.0, the default evaluation metric used with the objective 'binary:logistic' was changed from 'error' to 'logloss'. Explicitly set eval_metric if you'd like to restore the old behavior.\n",
      " 29%|████████▍                    | 7/24 [00:35<01:12,  4.27s/trial, best loss: 0.9303036101030995]"
     ]
    },
    {
     "name": "stderr",
     "output_type": "stream",
     "text": [
      "C:\\Program Files\\Python39\\python-3.9.0rc1.amd64\\lib\\site-packages\\xgboost\\sklearn.py:1146: UserWarning: The use of label encoder in XGBClassifier is deprecated and will be removed in a future release. To remove this warning, do the following: 1) Pass option use_label_encoder=False when constructing XGBClassifier object; and 2) Encode your labels (y) as integers starting with 0, i.e. 0, 1, 2, ..., [num_class - 1].\n",
      "  warnings.warn(label_encoder_deprecation_msg, UserWarning)\n",
      "\n"
     ]
    },
    {
     "name": "stdout",
     "output_type": "stream",
     "text": [
      "[10:54:04] WARNING: C:/Users/Administrator/workspace/xgboost-win64_release_1.4.0/src/learner.cc:1095: Starting in XGBoost 1.3.0, the default evaluation metric used with the objective 'binary:logistic' was changed from 'error' to 'logloss'. Explicitly set eval_metric if you'd like to restore the old behavior.\n",
      " 33%|█████████▋                   | 8/24 [00:36<01:06,  4.18s/trial, best loss: 0.9303036101030995]"
     ]
    },
    {
     "name": "stderr",
     "output_type": "stream",
     "text": [
      "C:\\Program Files\\Python39\\python-3.9.0rc1.amd64\\lib\\site-packages\\xgboost\\sklearn.py:1146: UserWarning: The use of label encoder in XGBClassifier is deprecated and will be removed in a future release. To remove this warning, do the following: 1) Pass option use_label_encoder=False when constructing XGBClassifier object; and 2) Encode your labels (y) as integers starting with 0, i.e. 0, 1, 2, ..., [num_class - 1].\n",
      "  warnings.warn(label_encoder_deprecation_msg, UserWarning)\n",
      "\n"
     ]
    },
    {
     "name": "stdout",
     "output_type": "stream",
     "text": [
      "[10:54:05] WARNING: C:/Users/Administrator/workspace/xgboost-win64_release_1.4.0/src/learner.cc:1095: Starting in XGBoost 1.3.0, the default evaluation metric used with the objective 'binary:logistic' was changed from 'error' to 'logloss'. Explicitly set eval_metric if you'd like to restore the old behavior.\n",
      " 33%|█████████▋                   | 8/24 [00:36<01:06,  4.18s/trial, best loss: 0.9303036101030995]"
     ]
    },
    {
     "name": "stderr",
     "output_type": "stream",
     "text": [
      "C:\\Program Files\\Python39\\python-3.9.0rc1.amd64\\lib\\site-packages\\xgboost\\sklearn.py:1146: UserWarning: The use of label encoder in XGBClassifier is deprecated and will be removed in a future release. To remove this warning, do the following: 1) Pass option use_label_encoder=False when constructing XGBClassifier object; and 2) Encode your labels (y) as integers starting with 0, i.e. 0, 1, 2, ..., [num_class - 1].\n",
      "  warnings.warn(label_encoder_deprecation_msg, UserWarning)\n",
      "\n"
     ]
    },
    {
     "name": "stdout",
     "output_type": "stream",
     "text": [
      "[10:54:06] WARNING: C:/Users/Administrator/workspace/xgboost-win64_release_1.4.0/src/learner.cc:1095: Starting in XGBoost 1.3.0, the default evaluation metric used with the objective 'binary:logistic' was changed from 'error' to 'logloss'. Explicitly set eval_metric if you'd like to restore the old behavior.\n",
      " 33%|█████████▋                   | 8/24 [00:37<01:06,  4.18s/trial, best loss: 0.9303036101030995]"
     ]
    },
    {
     "name": "stderr",
     "output_type": "stream",
     "text": [
      "C:\\Program Files\\Python39\\python-3.9.0rc1.amd64\\lib\\site-packages\\xgboost\\sklearn.py:1146: UserWarning: The use of label encoder in XGBClassifier is deprecated and will be removed in a future release. To remove this warning, do the following: 1) Pass option use_label_encoder=False when constructing XGBClassifier object; and 2) Encode your labels (y) as integers starting with 0, i.e. 0, 1, 2, ..., [num_class - 1].\n",
      "  warnings.warn(label_encoder_deprecation_msg, UserWarning)\n",
      "\n"
     ]
    },
    {
     "name": "stdout",
     "output_type": "stream",
     "text": [
      "[10:54:07] WARNING: C:/Users/Administrator/workspace/xgboost-win64_release_1.4.0/src/learner.cc:1095: Starting in XGBoost 1.3.0, the default evaluation metric used with the objective 'binary:logistic' was changed from 'error' to 'logloss'. Explicitly set eval_metric if you'd like to restore the old behavior.\n",
      " 33%|█████████▋                   | 8/24 [00:38<01:06,  4.18s/trial, best loss: 0.9303036101030995]"
     ]
    },
    {
     "name": "stderr",
     "output_type": "stream",
     "text": [
      "C:\\Program Files\\Python39\\python-3.9.0rc1.amd64\\lib\\site-packages\\xgboost\\sklearn.py:1146: UserWarning: The use of label encoder in XGBClassifier is deprecated and will be removed in a future release. To remove this warning, do the following: 1) Pass option use_label_encoder=False when constructing XGBClassifier object; and 2) Encode your labels (y) as integers starting with 0, i.e. 0, 1, 2, ..., [num_class - 1].\n",
      "  warnings.warn(label_encoder_deprecation_msg, UserWarning)\n",
      "\n"
     ]
    },
    {
     "name": "stdout",
     "output_type": "stream",
     "text": [
      "[10:54:07] WARNING: C:/Users/Administrator/workspace/xgboost-win64_release_1.4.0/src/learner.cc:1095: Starting in XGBoost 1.3.0, the default evaluation metric used with the objective 'binary:logistic' was changed from 'error' to 'logloss'. Explicitly set eval_metric if you'd like to restore the old behavior.\n",
      " 33%|█████████▋                   | 8/24 [00:38<01:06,  4.18s/trial, best loss: 0.9303036101030995]"
     ]
    },
    {
     "name": "stderr",
     "output_type": "stream",
     "text": [
      "C:\\Program Files\\Python39\\python-3.9.0rc1.amd64\\lib\\site-packages\\xgboost\\sklearn.py:1146: UserWarning: The use of label encoder in XGBClassifier is deprecated and will be removed in a future release. To remove this warning, do the following: 1) Pass option use_label_encoder=False when constructing XGBClassifier object; and 2) Encode your labels (y) as integers starting with 0, i.e. 0, 1, 2, ..., [num_class - 1].\n",
      "  warnings.warn(label_encoder_deprecation_msg, UserWarning)\n",
      "\n"
     ]
    },
    {
     "name": "stdout",
     "output_type": "stream",
     "text": [
      "[10:54:08] WARNING: C:/Users/Administrator/workspace/xgboost-win64_release_1.4.0/src/learner.cc:1095: Starting in XGBoost 1.3.0, the default evaluation metric used with the objective 'binary:logistic' was changed from 'error' to 'logloss'. Explicitly set eval_metric if you'd like to restore the old behavior.\n",
      " 38%|██████████▉                  | 9/24 [00:39<00:59,  3.99s/trial, best loss: 0.9303036101030995]"
     ]
    },
    {
     "name": "stderr",
     "output_type": "stream",
     "text": [
      "C:\\Program Files\\Python39\\python-3.9.0rc1.amd64\\lib\\site-packages\\xgboost\\sklearn.py:1146: UserWarning: The use of label encoder in XGBClassifier is deprecated and will be removed in a future release. To remove this warning, do the following: 1) Pass option use_label_encoder=False when constructing XGBClassifier object; and 2) Encode your labels (y) as integers starting with 0, i.e. 0, 1, 2, ..., [num_class - 1].\n",
      "  warnings.warn(label_encoder_deprecation_msg, UserWarning)\n",
      "\n"
     ]
    },
    {
     "name": "stdout",
     "output_type": "stream",
     "text": [
      "[10:54:09] WARNING: C:/Users/Administrator/workspace/xgboost-win64_release_1.4.0/src/learner.cc:1095: Starting in XGBoost 1.3.0, the default evaluation metric used with the objective 'binary:logistic' was changed from 'error' to 'logloss'. Explicitly set eval_metric if you'd like to restore the old behavior.\n",
      " 38%|██████████▉                  | 9/24 [00:40<00:59,  3.99s/trial, best loss: 0.9303036101030995]"
     ]
    },
    {
     "name": "stderr",
     "output_type": "stream",
     "text": [
      "C:\\Program Files\\Python39\\python-3.9.0rc1.amd64\\lib\\site-packages\\xgboost\\sklearn.py:1146: UserWarning: The use of label encoder in XGBClassifier is deprecated and will be removed in a future release. To remove this warning, do the following: 1) Pass option use_label_encoder=False when constructing XGBClassifier object; and 2) Encode your labels (y) as integers starting with 0, i.e. 0, 1, 2, ..., [num_class - 1].\n",
      "  warnings.warn(label_encoder_deprecation_msg, UserWarning)\n",
      "\n"
     ]
    },
    {
     "name": "stdout",
     "output_type": "stream",
     "text": [
      "[10:54:09] WARNING: C:/Users/Administrator/workspace/xgboost-win64_release_1.4.0/src/learner.cc:1095: Starting in XGBoost 1.3.0, the default evaluation metric used with the objective 'binary:logistic' was changed from 'error' to 'logloss'. Explicitly set eval_metric if you'd like to restore the old behavior.\n",
      " 38%|██████████▉                  | 9/24 [00:41<00:59,  3.99s/trial, best loss: 0.9303036101030995]"
     ]
    },
    {
     "name": "stderr",
     "output_type": "stream",
     "text": [
      "C:\\Program Files\\Python39\\python-3.9.0rc1.amd64\\lib\\site-packages\\xgboost\\sklearn.py:1146: UserWarning: The use of label encoder in XGBClassifier is deprecated and will be removed in a future release. To remove this warning, do the following: 1) Pass option use_label_encoder=False when constructing XGBClassifier object; and 2) Encode your labels (y) as integers starting with 0, i.e. 0, 1, 2, ..., [num_class - 1].\n",
      "  warnings.warn(label_encoder_deprecation_msg, UserWarning)\n",
      "\n"
     ]
    },
    {
     "name": "stdout",
     "output_type": "stream",
     "text": [
      "[10:54:10] WARNING: C:/Users/Administrator/workspace/xgboost-win64_release_1.4.0/src/learner.cc:1095: Starting in XGBoost 1.3.0, the default evaluation metric used with the objective 'binary:logistic' was changed from 'error' to 'logloss'. Explicitly set eval_metric if you'd like to restore the old behavior.\n",
      " 38%|██████████▉                  | 9/24 [00:41<00:59,  3.99s/trial, best loss: 0.9303036101030995]"
     ]
    },
    {
     "name": "stderr",
     "output_type": "stream",
     "text": [
      "C:\\Program Files\\Python39\\python-3.9.0rc1.amd64\\lib\\site-packages\\xgboost\\sklearn.py:1146: UserWarning: The use of label encoder in XGBClassifier is deprecated and will be removed in a future release. To remove this warning, do the following: 1) Pass option use_label_encoder=False when constructing XGBClassifier object; and 2) Encode your labels (y) as integers starting with 0, i.e. 0, 1, 2, ..., [num_class - 1].\n",
      "  warnings.warn(label_encoder_deprecation_msg, UserWarning)\n",
      "\n"
     ]
    },
    {
     "name": "stdout",
     "output_type": "stream",
     "text": [
      "[10:54:11] WARNING: C:/Users/Administrator/workspace/xgboost-win64_release_1.4.0/src/learner.cc:1095: Starting in XGBoost 1.3.0, the default evaluation metric used with the objective 'binary:logistic' was changed from 'error' to 'logloss'. Explicitly set eval_metric if you'd like to restore the old behavior.\n",
      " 38%|██████████▉                  | 9/24 [00:42<00:59,  3.99s/trial, best loss: 0.9303036101030995]"
     ]
    },
    {
     "name": "stderr",
     "output_type": "stream",
     "text": [
      "C:\\Program Files\\Python39\\python-3.9.0rc1.amd64\\lib\\site-packages\\xgboost\\sklearn.py:1146: UserWarning: The use of label encoder in XGBClassifier is deprecated and will be removed in a future release. To remove this warning, do the following: 1) Pass option use_label_encoder=False when constructing XGBClassifier object; and 2) Encode your labels (y) as integers starting with 0, i.e. 0, 1, 2, ..., [num_class - 1].\n",
      "  warnings.warn(label_encoder_deprecation_msg, UserWarning)\n",
      "\n"
     ]
    },
    {
     "name": "stdout",
     "output_type": "stream",
     "text": [
      "[10:54:11] WARNING: C:/Users/Administrator/workspace/xgboost-win64_release_1.4.0/src/learner.cc:1095: Starting in XGBoost 1.3.0, the default evaluation metric used with the objective 'binary:logistic' was changed from 'error' to 'logloss'. Explicitly set eval_metric if you'd like to restore the old behavior.\n",
      " 42%|███████████▋                | 10/24 [00:43<00:52,  3.78s/trial, best loss: 0.9303036101030995]"
     ]
    },
    {
     "name": "stderr",
     "output_type": "stream",
     "text": [
      "C:\\Program Files\\Python39\\python-3.9.0rc1.amd64\\lib\\site-packages\\xgboost\\sklearn.py:1146: UserWarning: The use of label encoder in XGBClassifier is deprecated and will be removed in a future release. To remove this warning, do the following: 1) Pass option use_label_encoder=False when constructing XGBClassifier object; and 2) Encode your labels (y) as integers starting with 0, i.e. 0, 1, 2, ..., [num_class - 1].\n",
      "  warnings.warn(label_encoder_deprecation_msg, UserWarning)\n",
      "\n"
     ]
    },
    {
     "name": "stdout",
     "output_type": "stream",
     "text": [
      "[10:54:12] WARNING: C:/Users/Administrator/workspace/xgboost-win64_release_1.4.0/src/learner.cc:1095: Starting in XGBoost 1.3.0, the default evaluation metric used with the objective 'binary:logistic' was changed from 'error' to 'logloss'. Explicitly set eval_metric if you'd like to restore the old behavior.\n",
      " 42%|███████████▋                | 10/24 [00:43<00:52,  3.78s/trial, best loss: 0.9303036101030995]"
     ]
    },
    {
     "name": "stderr",
     "output_type": "stream",
     "text": [
      "C:\\Program Files\\Python39\\python-3.9.0rc1.amd64\\lib\\site-packages\\xgboost\\sklearn.py:1146: UserWarning: The use of label encoder in XGBClassifier is deprecated and will be removed in a future release. To remove this warning, do the following: 1) Pass option use_label_encoder=False when constructing XGBClassifier object; and 2) Encode your labels (y) as integers starting with 0, i.e. 0, 1, 2, ..., [num_class - 1].\n",
      "  warnings.warn(label_encoder_deprecation_msg, UserWarning)\n",
      "\n"
     ]
    },
    {
     "name": "stdout",
     "output_type": "stream",
     "text": [
      "[10:54:13] WARNING: C:/Users/Administrator/workspace/xgboost-win64_release_1.4.0/src/learner.cc:1095: Starting in XGBoost 1.3.0, the default evaluation metric used with the objective 'binary:logistic' was changed from 'error' to 'logloss'. Explicitly set eval_metric if you'd like to restore the old behavior.\n",
      " 42%|███████████▋                | 10/24 [00:44<00:52,  3.78s/trial, best loss: 0.9303036101030995]"
     ]
    },
    {
     "name": "stderr",
     "output_type": "stream",
     "text": [
      "C:\\Program Files\\Python39\\python-3.9.0rc1.amd64\\lib\\site-packages\\xgboost\\sklearn.py:1146: UserWarning: The use of label encoder in XGBClassifier is deprecated and will be removed in a future release. To remove this warning, do the following: 1) Pass option use_label_encoder=False when constructing XGBClassifier object; and 2) Encode your labels (y) as integers starting with 0, i.e. 0, 1, 2, ..., [num_class - 1].\n",
      "  warnings.warn(label_encoder_deprecation_msg, UserWarning)\n",
      "\n"
     ]
    },
    {
     "name": "stdout",
     "output_type": "stream",
     "text": [
      "[10:54:14] WARNING: C:/Users/Administrator/workspace/xgboost-win64_release_1.4.0/src/learner.cc:1095: Starting in XGBoost 1.3.0, the default evaluation metric used with the objective 'binary:logistic' was changed from 'error' to 'logloss'. Explicitly set eval_metric if you'd like to restore the old behavior.\n",
      " 42%|███████████▋                | 10/24 [00:45<00:52,  3.78s/trial, best loss: 0.9303036101030995]"
     ]
    },
    {
     "name": "stderr",
     "output_type": "stream",
     "text": [
      "C:\\Program Files\\Python39\\python-3.9.0rc1.amd64\\lib\\site-packages\\xgboost\\sklearn.py:1146: UserWarning: The use of label encoder in XGBClassifier is deprecated and will be removed in a future release. To remove this warning, do the following: 1) Pass option use_label_encoder=False when constructing XGBClassifier object; and 2) Encode your labels (y) as integers starting with 0, i.e. 0, 1, 2, ..., [num_class - 1].\n",
      "  warnings.warn(label_encoder_deprecation_msg, UserWarning)\n",
      "\n"
     ]
    },
    {
     "name": "stdout",
     "output_type": "stream",
     "text": [
      "[10:54:15] WARNING: C:/Users/Administrator/workspace/xgboost-win64_release_1.4.0/src/learner.cc:1095: Starting in XGBoost 1.3.0, the default evaluation metric used with the objective 'binary:logistic' was changed from 'error' to 'logloss'. Explicitly set eval_metric if you'd like to restore the old behavior.\n",
      " 42%|███████████▋                | 10/24 [00:46<00:52,  3.78s/trial, best loss: 0.9303036101030995]"
     ]
    },
    {
     "name": "stderr",
     "output_type": "stream",
     "text": [
      "C:\\Program Files\\Python39\\python-3.9.0rc1.amd64\\lib\\site-packages\\xgboost\\sklearn.py:1146: UserWarning: The use of label encoder in XGBClassifier is deprecated and will be removed in a future release. To remove this warning, do the following: 1) Pass option use_label_encoder=False when constructing XGBClassifier object; and 2) Encode your labels (y) as integers starting with 0, i.e. 0, 1, 2, ..., [num_class - 1].\n",
      "  warnings.warn(label_encoder_deprecation_msg, UserWarning)\n",
      "\n"
     ]
    },
    {
     "name": "stdout",
     "output_type": "stream",
     "text": [
      "[10:54:16] WARNING: C:/Users/Administrator/workspace/xgboost-win64_release_1.4.0/src/learner.cc:1095: Starting in XGBoost 1.3.0, the default evaluation metric used with the objective 'binary:logistic' was changed from 'error' to 'logloss'. Explicitly set eval_metric if you'd like to restore the old behavior.\n",
      " 46%|████████████▊               | 11/24 [00:47<00:52,  4.02s/trial, best loss: 0.9204390374577902]"
     ]
    },
    {
     "name": "stderr",
     "output_type": "stream",
     "text": [
      "C:\\Program Files\\Python39\\python-3.9.0rc1.amd64\\lib\\site-packages\\xgboost\\sklearn.py:1146: UserWarning: The use of label encoder in XGBClassifier is deprecated and will be removed in a future release. To remove this warning, do the following: 1) Pass option use_label_encoder=False when constructing XGBClassifier object; and 2) Encode your labels (y) as integers starting with 0, i.e. 0, 1, 2, ..., [num_class - 1].\n",
      "  warnings.warn(label_encoder_deprecation_msg, UserWarning)\n",
      "\n"
     ]
    },
    {
     "name": "stdout",
     "output_type": "stream",
     "text": [
      "[10:54:17] WARNING: C:/Users/Administrator/workspace/xgboost-win64_release_1.4.0/src/learner.cc:1095: Starting in XGBoost 1.3.0, the default evaluation metric used with the objective 'binary:logistic' was changed from 'error' to 'logloss'. Explicitly set eval_metric if you'd like to restore the old behavior.\n",
      " 46%|████████████▊               | 11/24 [00:48<00:52,  4.02s/trial, best loss: 0.9204390374577902]"
     ]
    },
    {
     "name": "stderr",
     "output_type": "stream",
     "text": [
      "C:\\Program Files\\Python39\\python-3.9.0rc1.amd64\\lib\\site-packages\\xgboost\\sklearn.py:1146: UserWarning: The use of label encoder in XGBClassifier is deprecated and will be removed in a future release. To remove this warning, do the following: 1) Pass option use_label_encoder=False when constructing XGBClassifier object; and 2) Encode your labels (y) as integers starting with 0, i.e. 0, 1, 2, ..., [num_class - 1].\n",
      "  warnings.warn(label_encoder_deprecation_msg, UserWarning)\n",
      "\n"
     ]
    },
    {
     "name": "stdout",
     "output_type": "stream",
     "text": [
      "[10:54:17] WARNING: C:/Users/Administrator/workspace/xgboost-win64_release_1.4.0/src/learner.cc:1095: Starting in XGBoost 1.3.0, the default evaluation metric used with the objective 'binary:logistic' was changed from 'error' to 'logloss'. Explicitly set eval_metric if you'd like to restore the old behavior.\n",
      " 46%|████████████▊               | 11/24 [00:48<00:52,  4.02s/trial, best loss: 0.9204390374577902]"
     ]
    },
    {
     "name": "stderr",
     "output_type": "stream",
     "text": [
      "C:\\Program Files\\Python39\\python-3.9.0rc1.amd64\\lib\\site-packages\\xgboost\\sklearn.py:1146: UserWarning: The use of label encoder in XGBClassifier is deprecated and will be removed in a future release. To remove this warning, do the following: 1) Pass option use_label_encoder=False when constructing XGBClassifier object; and 2) Encode your labels (y) as integers starting with 0, i.e. 0, 1, 2, ..., [num_class - 1].\n",
      "  warnings.warn(label_encoder_deprecation_msg, UserWarning)\n",
      "\n"
     ]
    },
    {
     "name": "stdout",
     "output_type": "stream",
     "text": [
      "[10:54:18] WARNING: C:/Users/Administrator/workspace/xgboost-win64_release_1.4.0/src/learner.cc:1095: Starting in XGBoost 1.3.0, the default evaluation metric used with the objective 'binary:logistic' was changed from 'error' to 'logloss'. Explicitly set eval_metric if you'd like to restore the old behavior.\n",
      " 46%|████████████▊               | 11/24 [00:49<00:52,  4.02s/trial, best loss: 0.9204390374577902]"
     ]
    },
    {
     "name": "stderr",
     "output_type": "stream",
     "text": [
      "C:\\Program Files\\Python39\\python-3.9.0rc1.amd64\\lib\\site-packages\\xgboost\\sklearn.py:1146: UserWarning: The use of label encoder in XGBClassifier is deprecated and will be removed in a future release. To remove this warning, do the following: 1) Pass option use_label_encoder=False when constructing XGBClassifier object; and 2) Encode your labels (y) as integers starting with 0, i.e. 0, 1, 2, ..., [num_class - 1].\n",
      "  warnings.warn(label_encoder_deprecation_msg, UserWarning)\n",
      "\n"
     ]
    },
    {
     "name": "stdout",
     "output_type": "stream",
     "text": [
      "[10:54:18] WARNING: C:/Users/Administrator/workspace/xgboost-win64_release_1.4.0/src/learner.cc:1095: Starting in XGBoost 1.3.0, the default evaluation metric used with the objective 'binary:logistic' was changed from 'error' to 'logloss'. Explicitly set eval_metric if you'd like to restore the old behavior.\n",
      " 46%|████████████▊               | 11/24 [00:50<00:52,  4.02s/trial, best loss: 0.9204390374577902]"
     ]
    },
    {
     "name": "stderr",
     "output_type": "stream",
     "text": [
      "C:\\Program Files\\Python39\\python-3.9.0rc1.amd64\\lib\\site-packages\\xgboost\\sklearn.py:1146: UserWarning: The use of label encoder in XGBClassifier is deprecated and will be removed in a future release. To remove this warning, do the following: 1) Pass option use_label_encoder=False when constructing XGBClassifier object; and 2) Encode your labels (y) as integers starting with 0, i.e. 0, 1, 2, ..., [num_class - 1].\n",
      "  warnings.warn(label_encoder_deprecation_msg, UserWarning)\n",
      "\n"
     ]
    },
    {
     "name": "stdout",
     "output_type": "stream",
     "text": [
      "[10:54:19] WARNING: C:/Users/Administrator/workspace/xgboost-win64_release_1.4.0/src/learner.cc:1095: Starting in XGBoost 1.3.0, the default evaluation metric used with the objective 'binary:logistic' was changed from 'error' to 'logloss'. Explicitly set eval_metric if you'd like to restore the old behavior.\n",
      " 50%|██████████████              | 12/24 [00:50<00:45,  3.80s/trial, best loss: 0.9204390374577902]"
     ]
    },
    {
     "name": "stderr",
     "output_type": "stream",
     "text": [
      "C:\\Program Files\\Python39\\python-3.9.0rc1.amd64\\lib\\site-packages\\xgboost\\sklearn.py:1146: UserWarning: The use of label encoder in XGBClassifier is deprecated and will be removed in a future release. To remove this warning, do the following: 1) Pass option use_label_encoder=False when constructing XGBClassifier object; and 2) Encode your labels (y) as integers starting with 0, i.e. 0, 1, 2, ..., [num_class - 1].\n",
      "  warnings.warn(label_encoder_deprecation_msg, UserWarning)\n",
      "\n"
     ]
    },
    {
     "name": "stdout",
     "output_type": "stream",
     "text": [
      "[10:54:20] WARNING: C:/Users/Administrator/workspace/xgboost-win64_release_1.4.0/src/learner.cc:1095: Starting in XGBoost 1.3.0, the default evaluation metric used with the objective 'binary:logistic' was changed from 'error' to 'logloss'. Explicitly set eval_metric if you'd like to restore the old behavior.\n",
      " 50%|██████████████              | 12/24 [00:52<00:45,  3.80s/trial, best loss: 0.9204390374577902]"
     ]
    },
    {
     "name": "stderr",
     "output_type": "stream",
     "text": [
      "C:\\Program Files\\Python39\\python-3.9.0rc1.amd64\\lib\\site-packages\\xgboost\\sklearn.py:1146: UserWarning: The use of label encoder in XGBClassifier is deprecated and will be removed in a future release. To remove this warning, do the following: 1) Pass option use_label_encoder=False when constructing XGBClassifier object; and 2) Encode your labels (y) as integers starting with 0, i.e. 0, 1, 2, ..., [num_class - 1].\n",
      "  warnings.warn(label_encoder_deprecation_msg, UserWarning)\n",
      "\n"
     ]
    },
    {
     "name": "stdout",
     "output_type": "stream",
     "text": [
      "[10:54:21] WARNING: C:/Users/Administrator/workspace/xgboost-win64_release_1.4.0/src/learner.cc:1095: Starting in XGBoost 1.3.0, the default evaluation metric used with the objective 'binary:logistic' was changed from 'error' to 'logloss'. Explicitly set eval_metric if you'd like to restore the old behavior.\n",
      " 50%|██████████████              | 12/24 [00:53<00:45,  3.80s/trial, best loss: 0.9204390374577902]"
     ]
    },
    {
     "name": "stderr",
     "output_type": "stream",
     "text": [
      "C:\\Program Files\\Python39\\python-3.9.0rc1.amd64\\lib\\site-packages\\xgboost\\sklearn.py:1146: UserWarning: The use of label encoder in XGBClassifier is deprecated and will be removed in a future release. To remove this warning, do the following: 1) Pass option use_label_encoder=False when constructing XGBClassifier object; and 2) Encode your labels (y) as integers starting with 0, i.e. 0, 1, 2, ..., [num_class - 1].\n",
      "  warnings.warn(label_encoder_deprecation_msg, UserWarning)\n",
      "\n"
     ]
    },
    {
     "name": "stdout",
     "output_type": "stream",
     "text": [
      "[10:54:22] WARNING: C:/Users/Administrator/workspace/xgboost-win64_release_1.4.0/src/learner.cc:1095: Starting in XGBoost 1.3.0, the default evaluation metric used with the objective 'binary:logistic' was changed from 'error' to 'logloss'. Explicitly set eval_metric if you'd like to restore the old behavior.\n",
      " 50%|██████████████              | 12/24 [00:53<00:45,  3.80s/trial, best loss: 0.9204390374577902]"
     ]
    },
    {
     "name": "stderr",
     "output_type": "stream",
     "text": [
      "C:\\Program Files\\Python39\\python-3.9.0rc1.amd64\\lib\\site-packages\\xgboost\\sklearn.py:1146: UserWarning: The use of label encoder in XGBClassifier is deprecated and will be removed in a future release. To remove this warning, do the following: 1) Pass option use_label_encoder=False when constructing XGBClassifier object; and 2) Encode your labels (y) as integers starting with 0, i.e. 0, 1, 2, ..., [num_class - 1].\n",
      "  warnings.warn(label_encoder_deprecation_msg, UserWarning)\n",
      "\n"
     ]
    },
    {
     "name": "stdout",
     "output_type": "stream",
     "text": [
      "[10:54:23] WARNING: C:/Users/Administrator/workspace/xgboost-win64_release_1.4.0/src/learner.cc:1095: Starting in XGBoost 1.3.0, the default evaluation metric used with the objective 'binary:logistic' was changed from 'error' to 'logloss'. Explicitly set eval_metric if you'd like to restore the old behavior.\n",
      " 50%|██████████████              | 12/24 [00:54<00:45,  3.80s/trial, best loss: 0.9204390374577902]"
     ]
    },
    {
     "name": "stderr",
     "output_type": "stream",
     "text": [
      "C:\\Program Files\\Python39\\python-3.9.0rc1.amd64\\lib\\site-packages\\xgboost\\sklearn.py:1146: UserWarning: The use of label encoder in XGBClassifier is deprecated and will be removed in a future release. To remove this warning, do the following: 1) Pass option use_label_encoder=False when constructing XGBClassifier object; and 2) Encode your labels (y) as integers starting with 0, i.e. 0, 1, 2, ..., [num_class - 1].\n",
      "  warnings.warn(label_encoder_deprecation_msg, UserWarning)\n",
      "\n"
     ]
    },
    {
     "name": "stdout",
     "output_type": "stream",
     "text": [
      "[10:54:23] WARNING: C:/Users/Administrator/workspace/xgboost-win64_release_1.4.0/src/learner.cc:1095: Starting in XGBoost 1.3.0, the default evaluation metric used with the objective 'binary:logistic' was changed from 'error' to 'logloss'. Explicitly set eval_metric if you'd like to restore the old behavior.\n",
      " 54%|███████████████▏            | 13/24 [00:55<00:43,  3.98s/trial, best loss: 0.9204390374577902]"
     ]
    },
    {
     "name": "stderr",
     "output_type": "stream",
     "text": [
      "C:\\Program Files\\Python39\\python-3.9.0rc1.amd64\\lib\\site-packages\\xgboost\\sklearn.py:1146: UserWarning: The use of label encoder in XGBClassifier is deprecated and will be removed in a future release. To remove this warning, do the following: 1) Pass option use_label_encoder=False when constructing XGBClassifier object; and 2) Encode your labels (y) as integers starting with 0, i.e. 0, 1, 2, ..., [num_class - 1].\n",
      "  warnings.warn(label_encoder_deprecation_msg, UserWarning)\n",
      "\n"
     ]
    },
    {
     "name": "stdout",
     "output_type": "stream",
     "text": [
      "[10:54:24] WARNING: C:/Users/Administrator/workspace/xgboost-win64_release_1.4.0/src/learner.cc:1095: Starting in XGBoost 1.3.0, the default evaluation metric used with the objective 'binary:logistic' was changed from 'error' to 'logloss'. Explicitly set eval_metric if you'd like to restore the old behavior.\n",
      " 54%|███████████████▏            | 13/24 [00:56<00:43,  3.98s/trial, best loss: 0.9204390374577902]"
     ]
    },
    {
     "name": "stderr",
     "output_type": "stream",
     "text": [
      "C:\\Program Files\\Python39\\python-3.9.0rc1.amd64\\lib\\site-packages\\xgboost\\sklearn.py:1146: UserWarning: The use of label encoder in XGBClassifier is deprecated and will be removed in a future release. To remove this warning, do the following: 1) Pass option use_label_encoder=False when constructing XGBClassifier object; and 2) Encode your labels (y) as integers starting with 0, i.e. 0, 1, 2, ..., [num_class - 1].\n",
      "  warnings.warn(label_encoder_deprecation_msg, UserWarning)\n",
      "\n"
     ]
    },
    {
     "name": "stdout",
     "output_type": "stream",
     "text": [
      "[10:54:25] WARNING: C:/Users/Administrator/workspace/xgboost-win64_release_1.4.0/src/learner.cc:1095: Starting in XGBoost 1.3.0, the default evaluation metric used with the objective 'binary:logistic' was changed from 'error' to 'logloss'. Explicitly set eval_metric if you'd like to restore the old behavior.\n",
      " 54%|███████████████▏            | 13/24 [00:56<00:43,  3.98s/trial, best loss: 0.9204390374577902]"
     ]
    },
    {
     "name": "stderr",
     "output_type": "stream",
     "text": [
      "C:\\Program Files\\Python39\\python-3.9.0rc1.amd64\\lib\\site-packages\\xgboost\\sklearn.py:1146: UserWarning: The use of label encoder in XGBClassifier is deprecated and will be removed in a future release. To remove this warning, do the following: 1) Pass option use_label_encoder=False when constructing XGBClassifier object; and 2) Encode your labels (y) as integers starting with 0, i.e. 0, 1, 2, ..., [num_class - 1].\n",
      "  warnings.warn(label_encoder_deprecation_msg, UserWarning)\n",
      "\n"
     ]
    },
    {
     "name": "stdout",
     "output_type": "stream",
     "text": [
      "[10:54:26] WARNING: C:/Users/Administrator/workspace/xgboost-win64_release_1.4.0/src/learner.cc:1095: Starting in XGBoost 1.3.0, the default evaluation metric used with the objective 'binary:logistic' was changed from 'error' to 'logloss'. Explicitly set eval_metric if you'd like to restore the old behavior.\n",
      " 54%|███████████████▏            | 13/24 [00:57<00:43,  3.98s/trial, best loss: 0.9204390374577902]"
     ]
    },
    {
     "name": "stderr",
     "output_type": "stream",
     "text": [
      "C:\\Program Files\\Python39\\python-3.9.0rc1.amd64\\lib\\site-packages\\xgboost\\sklearn.py:1146: UserWarning: The use of label encoder in XGBClassifier is deprecated and will be removed in a future release. To remove this warning, do the following: 1) Pass option use_label_encoder=False when constructing XGBClassifier object; and 2) Encode your labels (y) as integers starting with 0, i.e. 0, 1, 2, ..., [num_class - 1].\n",
      "  warnings.warn(label_encoder_deprecation_msg, UserWarning)\n",
      "\n"
     ]
    },
    {
     "name": "stdout",
     "output_type": "stream",
     "text": [
      "[10:54:27] WARNING: C:/Users/Administrator/workspace/xgboost-win64_release_1.4.0/src/learner.cc:1095: Starting in XGBoost 1.3.0, the default evaluation metric used with the objective 'binary:logistic' was changed from 'error' to 'logloss'. Explicitly set eval_metric if you'd like to restore the old behavior.\n",
      " 54%|███████████████▏            | 13/24 [00:58<00:43,  3.98s/trial, best loss: 0.9204390374577902]"
     ]
    },
    {
     "name": "stderr",
     "output_type": "stream",
     "text": [
      "C:\\Program Files\\Python39\\python-3.9.0rc1.amd64\\lib\\site-packages\\xgboost\\sklearn.py:1146: UserWarning: The use of label encoder in XGBClassifier is deprecated and will be removed in a future release. To remove this warning, do the following: 1) Pass option use_label_encoder=False when constructing XGBClassifier object; and 2) Encode your labels (y) as integers starting with 0, i.e. 0, 1, 2, ..., [num_class - 1].\n",
      "  warnings.warn(label_encoder_deprecation_msg, UserWarning)\n",
      "\n"
     ]
    },
    {
     "name": "stdout",
     "output_type": "stream",
     "text": [
      "[10:54:27] WARNING: C:/Users/Administrator/workspace/xgboost-win64_release_1.4.0/src/learner.cc:1095: Starting in XGBoost 1.3.0, the default evaluation metric used with the objective 'binary:logistic' was changed from 'error' to 'logloss'. Explicitly set eval_metric if you'd like to restore the old behavior.\n",
      " 58%|████████████████▎           | 14/24 [00:59<00:39,  3.96s/trial, best loss: 0.9204390374577902]"
     ]
    },
    {
     "name": "stderr",
     "output_type": "stream",
     "text": [
      "C:\\Program Files\\Python39\\python-3.9.0rc1.amd64\\lib\\site-packages\\xgboost\\sklearn.py:1146: UserWarning: The use of label encoder in XGBClassifier is deprecated and will be removed in a future release. To remove this warning, do the following: 1) Pass option use_label_encoder=False when constructing XGBClassifier object; and 2) Encode your labels (y) as integers starting with 0, i.e. 0, 1, 2, ..., [num_class - 1].\n",
      "  warnings.warn(label_encoder_deprecation_msg, UserWarning)\n",
      "\n"
     ]
    },
    {
     "name": "stdout",
     "output_type": "stream",
     "text": [
      "[10:54:28] WARNING: C:/Users/Administrator/workspace/xgboost-win64_release_1.4.0/src/learner.cc:1095: Starting in XGBoost 1.3.0, the default evaluation metric used with the objective 'binary:logistic' was changed from 'error' to 'logloss'. Explicitly set eval_metric if you'd like to restore the old behavior.\n",
      " 58%|████████████████▎           | 14/24 [01:00<00:39,  3.96s/trial, best loss: 0.9204390374577902]"
     ]
    },
    {
     "name": "stderr",
     "output_type": "stream",
     "text": [
      "C:\\Program Files\\Python39\\python-3.9.0rc1.amd64\\lib\\site-packages\\xgboost\\sklearn.py:1146: UserWarning: The use of label encoder in XGBClassifier is deprecated and will be removed in a future release. To remove this warning, do the following: 1) Pass option use_label_encoder=False when constructing XGBClassifier object; and 2) Encode your labels (y) as integers starting with 0, i.e. 0, 1, 2, ..., [num_class - 1].\n",
      "  warnings.warn(label_encoder_deprecation_msg, UserWarning)\n",
      "\n"
     ]
    },
    {
     "name": "stdout",
     "output_type": "stream",
     "text": [
      "[10:54:29] WARNING: C:/Users/Administrator/workspace/xgboost-win64_release_1.4.0/src/learner.cc:1095: Starting in XGBoost 1.3.0, the default evaluation metric used with the objective 'binary:logistic' was changed from 'error' to 'logloss'. Explicitly set eval_metric if you'd like to restore the old behavior.\n",
      " 58%|████████████████▎           | 14/24 [01:01<00:39,  3.96s/trial, best loss: 0.9204390374577902]"
     ]
    },
    {
     "name": "stderr",
     "output_type": "stream",
     "text": [
      "C:\\Program Files\\Python39\\python-3.9.0rc1.amd64\\lib\\site-packages\\xgboost\\sklearn.py:1146: UserWarning: The use of label encoder in XGBClassifier is deprecated and will be removed in a future release. To remove this warning, do the following: 1) Pass option use_label_encoder=False when constructing XGBClassifier object; and 2) Encode your labels (y) as integers starting with 0, i.e. 0, 1, 2, ..., [num_class - 1].\n",
      "  warnings.warn(label_encoder_deprecation_msg, UserWarning)\n",
      "\n"
     ]
    },
    {
     "name": "stdout",
     "output_type": "stream",
     "text": [
      "[10:54:30] WARNING: C:/Users/Administrator/workspace/xgboost-win64_release_1.4.0/src/learner.cc:1095: Starting in XGBoost 1.3.0, the default evaluation metric used with the objective 'binary:logistic' was changed from 'error' to 'logloss'. Explicitly set eval_metric if you'd like to restore the old behavior.\n",
      " 58%|████████████████▎           | 14/24 [01:01<00:39,  3.96s/trial, best loss: 0.9204390374577902]"
     ]
    },
    {
     "name": "stderr",
     "output_type": "stream",
     "text": [
      "C:\\Program Files\\Python39\\python-3.9.0rc1.amd64\\lib\\site-packages\\xgboost\\sklearn.py:1146: UserWarning: The use of label encoder in XGBClassifier is deprecated and will be removed in a future release. To remove this warning, do the following: 1) Pass option use_label_encoder=False when constructing XGBClassifier object; and 2) Encode your labels (y) as integers starting with 0, i.e. 0, 1, 2, ..., [num_class - 1].\n",
      "  warnings.warn(label_encoder_deprecation_msg, UserWarning)\n",
      "\n"
     ]
    },
    {
     "name": "stdout",
     "output_type": "stream",
     "text": [
      "[10:54:31] WARNING: C:/Users/Administrator/workspace/xgboost-win64_release_1.4.0/src/learner.cc:1095: Starting in XGBoost 1.3.0, the default evaluation metric used with the objective 'binary:logistic' was changed from 'error' to 'logloss'. Explicitly set eval_metric if you'd like to restore the old behavior.\n",
      " 58%|████████████████▎           | 14/24 [01:02<00:39,  3.96s/trial, best loss: 0.9204390374577902]"
     ]
    },
    {
     "name": "stderr",
     "output_type": "stream",
     "text": [
      "C:\\Program Files\\Python39\\python-3.9.0rc1.amd64\\lib\\site-packages\\xgboost\\sklearn.py:1146: UserWarning: The use of label encoder in XGBClassifier is deprecated and will be removed in a future release. To remove this warning, do the following: 1) Pass option use_label_encoder=False when constructing XGBClassifier object; and 2) Encode your labels (y) as integers starting with 0, i.e. 0, 1, 2, ..., [num_class - 1].\n",
      "  warnings.warn(label_encoder_deprecation_msg, UserWarning)\n",
      "\n"
     ]
    },
    {
     "name": "stdout",
     "output_type": "stream",
     "text": [
      "[10:54:32] WARNING: C:/Users/Administrator/workspace/xgboost-win64_release_1.4.0/src/learner.cc:1095: Starting in XGBoost 1.3.0, the default evaluation metric used with the objective 'binary:logistic' was changed from 'error' to 'logloss'. Explicitly set eval_metric if you'd like to restore the old behavior.\n",
      " 62%|█████████████████▌          | 15/24 [01:03<00:37,  4.13s/trial, best loss: 0.9204390374577902]"
     ]
    },
    {
     "name": "stderr",
     "output_type": "stream",
     "text": [
      "C:\\Program Files\\Python39\\python-3.9.0rc1.amd64\\lib\\site-packages\\xgboost\\sklearn.py:1146: UserWarning: The use of label encoder in XGBClassifier is deprecated and will be removed in a future release. To remove this warning, do the following: 1) Pass option use_label_encoder=False when constructing XGBClassifier object; and 2) Encode your labels (y) as integers starting with 0, i.e. 0, 1, 2, ..., [num_class - 1].\n",
      "  warnings.warn(label_encoder_deprecation_msg, UserWarning)\n",
      "\n"
     ]
    },
    {
     "name": "stdout",
     "output_type": "stream",
     "text": [
      "[10:54:33] WARNING: C:/Users/Administrator/workspace/xgboost-win64_release_1.4.0/src/learner.cc:1095: Starting in XGBoost 1.3.0, the default evaluation metric used with the objective 'binary:logistic' was changed from 'error' to 'logloss'. Explicitly set eval_metric if you'd like to restore the old behavior.\n",
      " 62%|█████████████████▌          | 15/24 [01:04<00:37,  4.13s/trial, best loss: 0.9204390374577902]"
     ]
    },
    {
     "name": "stderr",
     "output_type": "stream",
     "text": [
      "C:\\Program Files\\Python39\\python-3.9.0rc1.amd64\\lib\\site-packages\\xgboost\\sklearn.py:1146: UserWarning: The use of label encoder in XGBClassifier is deprecated and will be removed in a future release. To remove this warning, do the following: 1) Pass option use_label_encoder=False when constructing XGBClassifier object; and 2) Encode your labels (y) as integers starting with 0, i.e. 0, 1, 2, ..., [num_class - 1].\n",
      "  warnings.warn(label_encoder_deprecation_msg, UserWarning)\n",
      "\n"
     ]
    },
    {
     "name": "stdout",
     "output_type": "stream",
     "text": [
      "[10:54:34] WARNING: C:/Users/Administrator/workspace/xgboost-win64_release_1.4.0/src/learner.cc:1095: Starting in XGBoost 1.3.0, the default evaluation metric used with the objective 'binary:logistic' was changed from 'error' to 'logloss'. Explicitly set eval_metric if you'd like to restore the old behavior.\n",
      " 62%|█████████████████▌          | 15/24 [01:05<00:37,  4.13s/trial, best loss: 0.9204390374577902]"
     ]
    },
    {
     "name": "stderr",
     "output_type": "stream",
     "text": [
      "C:\\Program Files\\Python39\\python-3.9.0rc1.amd64\\lib\\site-packages\\xgboost\\sklearn.py:1146: UserWarning: The use of label encoder in XGBClassifier is deprecated and will be removed in a future release. To remove this warning, do the following: 1) Pass option use_label_encoder=False when constructing XGBClassifier object; and 2) Encode your labels (y) as integers starting with 0, i.e. 0, 1, 2, ..., [num_class - 1].\n",
      "  warnings.warn(label_encoder_deprecation_msg, UserWarning)\n",
      "\n"
     ]
    },
    {
     "name": "stdout",
     "output_type": "stream",
     "text": [
      "[10:54:35] WARNING: C:/Users/Administrator/workspace/xgboost-win64_release_1.4.0/src/learner.cc:1095: Starting in XGBoost 1.3.0, the default evaluation metric used with the objective 'binary:logistic' was changed from 'error' to 'logloss'. Explicitly set eval_metric if you'd like to restore the old behavior.\n",
      " 62%|█████████████████▌          | 15/24 [01:06<00:37,  4.13s/trial, best loss: 0.9204390374577902]"
     ]
    },
    {
     "name": "stderr",
     "output_type": "stream",
     "text": [
      "C:\\Program Files\\Python39\\python-3.9.0rc1.amd64\\lib\\site-packages\\xgboost\\sklearn.py:1146: UserWarning: The use of label encoder in XGBClassifier is deprecated and will be removed in a future release. To remove this warning, do the following: 1) Pass option use_label_encoder=False when constructing XGBClassifier object; and 2) Encode your labels (y) as integers starting with 0, i.e. 0, 1, 2, ..., [num_class - 1].\n",
      "  warnings.warn(label_encoder_deprecation_msg, UserWarning)\n",
      "\n"
     ]
    },
    {
     "name": "stdout",
     "output_type": "stream",
     "text": [
      "[10:54:36] WARNING: C:/Users/Administrator/workspace/xgboost-win64_release_1.4.0/src/learner.cc:1095: Starting in XGBoost 1.3.0, the default evaluation metric used with the objective 'binary:logistic' was changed from 'error' to 'logloss'. Explicitly set eval_metric if you'd like to restore the old behavior.\n",
      " 62%|█████████████████▌          | 15/24 [01:07<00:37,  4.13s/trial, best loss: 0.9204390374577902]"
     ]
    },
    {
     "name": "stderr",
     "output_type": "stream",
     "text": [
      "C:\\Program Files\\Python39\\python-3.9.0rc1.amd64\\lib\\site-packages\\xgboost\\sklearn.py:1146: UserWarning: The use of label encoder in XGBClassifier is deprecated and will be removed in a future release. To remove this warning, do the following: 1) Pass option use_label_encoder=False when constructing XGBClassifier object; and 2) Encode your labels (y) as integers starting with 0, i.e. 0, 1, 2, ..., [num_class - 1].\n",
      "  warnings.warn(label_encoder_deprecation_msg, UserWarning)\n",
      "\n"
     ]
    },
    {
     "name": "stdout",
     "output_type": "stream",
     "text": [
      "[10:54:37] WARNING: C:/Users/Administrator/workspace/xgboost-win64_release_1.4.0/src/learner.cc:1095: Starting in XGBoost 1.3.0, the default evaluation metric used with the objective 'binary:logistic' was changed from 'error' to 'logloss'. Explicitly set eval_metric if you'd like to restore the old behavior.\n",
      " 67%|██████████████████▋         | 16/24 [01:08<00:33,  4.25s/trial, best loss: 0.9204390374577902]"
     ]
    },
    {
     "name": "stderr",
     "output_type": "stream",
     "text": [
      "C:\\Program Files\\Python39\\python-3.9.0rc1.amd64\\lib\\site-packages\\xgboost\\sklearn.py:1146: UserWarning: The use of label encoder in XGBClassifier is deprecated and will be removed in a future release. To remove this warning, do the following: 1) Pass option use_label_encoder=False when constructing XGBClassifier object; and 2) Encode your labels (y) as integers starting with 0, i.e. 0, 1, 2, ..., [num_class - 1].\n",
      "  warnings.warn(label_encoder_deprecation_msg, UserWarning)\n",
      "\n"
     ]
    },
    {
     "name": "stdout",
     "output_type": "stream",
     "text": [
      "[10:54:38] WARNING: C:/Users/Administrator/workspace/xgboost-win64_release_1.4.0/src/learner.cc:1095: Starting in XGBoost 1.3.0, the default evaluation metric used with the objective 'binary:logistic' was changed from 'error' to 'logloss'. Explicitly set eval_metric if you'd like to restore the old behavior.\n",
      " 67%|██████████████████▋         | 16/24 [01:09<00:33,  4.25s/trial, best loss: 0.9204390374577902]"
     ]
    },
    {
     "name": "stderr",
     "output_type": "stream",
     "text": [
      "C:\\Program Files\\Python39\\python-3.9.0rc1.amd64\\lib\\site-packages\\xgboost\\sklearn.py:1146: UserWarning: The use of label encoder in XGBClassifier is deprecated and will be removed in a future release. To remove this warning, do the following: 1) Pass option use_label_encoder=False when constructing XGBClassifier object; and 2) Encode your labels (y) as integers starting with 0, i.e. 0, 1, 2, ..., [num_class - 1].\n",
      "  warnings.warn(label_encoder_deprecation_msg, UserWarning)\n",
      "\n"
     ]
    },
    {
     "name": "stdout",
     "output_type": "stream",
     "text": [
      "[10:54:38] WARNING: C:/Users/Administrator/workspace/xgboost-win64_release_1.4.0/src/learner.cc:1095: Starting in XGBoost 1.3.0, the default evaluation metric used with the objective 'binary:logistic' was changed from 'error' to 'logloss'. Explicitly set eval_metric if you'd like to restore the old behavior.\n",
      " 67%|██████████████████▋         | 16/24 [01:10<00:33,  4.25s/trial, best loss: 0.9204390374577902]"
     ]
    },
    {
     "name": "stderr",
     "output_type": "stream",
     "text": [
      "C:\\Program Files\\Python39\\python-3.9.0rc1.amd64\\lib\\site-packages\\xgboost\\sklearn.py:1146: UserWarning: The use of label encoder in XGBClassifier is deprecated and will be removed in a future release. To remove this warning, do the following: 1) Pass option use_label_encoder=False when constructing XGBClassifier object; and 2) Encode your labels (y) as integers starting with 0, i.e. 0, 1, 2, ..., [num_class - 1].\n",
      "  warnings.warn(label_encoder_deprecation_msg, UserWarning)\n",
      "\n"
     ]
    },
    {
     "name": "stdout",
     "output_type": "stream",
     "text": [
      "[10:54:40] WARNING: C:/Users/Administrator/workspace/xgboost-win64_release_1.4.0/src/learner.cc:1095: Starting in XGBoost 1.3.0, the default evaluation metric used with the objective 'binary:logistic' was changed from 'error' to 'logloss'. Explicitly set eval_metric if you'd like to restore the old behavior.\n",
      " 67%|██████████████████▋         | 16/24 [01:11<00:33,  4.25s/trial, best loss: 0.9204390374577902]"
     ]
    },
    {
     "name": "stderr",
     "output_type": "stream",
     "text": [
      "C:\\Program Files\\Python39\\python-3.9.0rc1.amd64\\lib\\site-packages\\xgboost\\sklearn.py:1146: UserWarning: The use of label encoder in XGBClassifier is deprecated and will be removed in a future release. To remove this warning, do the following: 1) Pass option use_label_encoder=False when constructing XGBClassifier object; and 2) Encode your labels (y) as integers starting with 0, i.e. 0, 1, 2, ..., [num_class - 1].\n",
      "  warnings.warn(label_encoder_deprecation_msg, UserWarning)\n",
      "\n"
     ]
    },
    {
     "name": "stdout",
     "output_type": "stream",
     "text": [
      "[10:54:41] WARNING: C:/Users/Administrator/workspace/xgboost-win64_release_1.4.0/src/learner.cc:1095: Starting in XGBoost 1.3.0, the default evaluation metric used with the objective 'binary:logistic' was changed from 'error' to 'logloss'. Explicitly set eval_metric if you'd like to restore the old behavior.\n",
      " 67%|██████████████████▋         | 16/24 [01:12<00:33,  4.25s/trial, best loss: 0.9204390374577902]"
     ]
    },
    {
     "name": "stderr",
     "output_type": "stream",
     "text": [
      "C:\\Program Files\\Python39\\python-3.9.0rc1.amd64\\lib\\site-packages\\xgboost\\sklearn.py:1146: UserWarning: The use of label encoder in XGBClassifier is deprecated and will be removed in a future release. To remove this warning, do the following: 1) Pass option use_label_encoder=False when constructing XGBClassifier object; and 2) Encode your labels (y) as integers starting with 0, i.e. 0, 1, 2, ..., [num_class - 1].\n",
      "  warnings.warn(label_encoder_deprecation_msg, UserWarning)\n",
      "\n"
     ]
    },
    {
     "name": "stdout",
     "output_type": "stream",
     "text": [
      "[10:54:42] WARNING: C:/Users/Administrator/workspace/xgboost-win64_release_1.4.0/src/learner.cc:1095: Starting in XGBoost 1.3.0, the default evaluation metric used with the objective 'binary:logistic' was changed from 'error' to 'logloss'. Explicitly set eval_metric if you'd like to restore the old behavior.\n",
      " 71%|███████████████████▊        | 17/24 [01:13<00:31,  4.56s/trial, best loss: 0.9204390374577902]"
     ]
    },
    {
     "name": "stderr",
     "output_type": "stream",
     "text": [
      "C:\\Program Files\\Python39\\python-3.9.0rc1.amd64\\lib\\site-packages\\xgboost\\sklearn.py:1146: UserWarning: The use of label encoder in XGBClassifier is deprecated and will be removed in a future release. To remove this warning, do the following: 1) Pass option use_label_encoder=False when constructing XGBClassifier object; and 2) Encode your labels (y) as integers starting with 0, i.e. 0, 1, 2, ..., [num_class - 1].\n",
      "  warnings.warn(label_encoder_deprecation_msg, UserWarning)\n",
      "\n"
     ]
    },
    {
     "name": "stdout",
     "output_type": "stream",
     "text": [
      "[10:54:43] WARNING: C:/Users/Administrator/workspace/xgboost-win64_release_1.4.0/src/learner.cc:1095: Starting in XGBoost 1.3.0, the default evaluation metric used with the objective 'binary:logistic' was changed from 'error' to 'logloss'. Explicitly set eval_metric if you'd like to restore the old behavior.\n",
      " 71%|███████████████████▊        | 17/24 [01:14<00:31,  4.56s/trial, best loss: 0.9204390374577902]"
     ]
    },
    {
     "name": "stderr",
     "output_type": "stream",
     "text": [
      "C:\\Program Files\\Python39\\python-3.9.0rc1.amd64\\lib\\site-packages\\xgboost\\sklearn.py:1146: UserWarning: The use of label encoder in XGBClassifier is deprecated and will be removed in a future release. To remove this warning, do the following: 1) Pass option use_label_encoder=False when constructing XGBClassifier object; and 2) Encode your labels (y) as integers starting with 0, i.e. 0, 1, 2, ..., [num_class - 1].\n",
      "  warnings.warn(label_encoder_deprecation_msg, UserWarning)\n",
      "\n"
     ]
    },
    {
     "name": "stdout",
     "output_type": "stream",
     "text": [
      "[10:54:43] WARNING: C:/Users/Administrator/workspace/xgboost-win64_release_1.4.0/src/learner.cc:1095: Starting in XGBoost 1.3.0, the default evaluation metric used with the objective 'binary:logistic' was changed from 'error' to 'logloss'. Explicitly set eval_metric if you'd like to restore the old behavior.\n",
      " 71%|███████████████████▊        | 17/24 [01:15<00:31,  4.56s/trial, best loss: 0.9204390374577902]"
     ]
    },
    {
     "name": "stderr",
     "output_type": "stream",
     "text": [
      "C:\\Program Files\\Python39\\python-3.9.0rc1.amd64\\lib\\site-packages\\xgboost\\sklearn.py:1146: UserWarning: The use of label encoder in XGBClassifier is deprecated and will be removed in a future release. To remove this warning, do the following: 1) Pass option use_label_encoder=False when constructing XGBClassifier object; and 2) Encode your labels (y) as integers starting with 0, i.e. 0, 1, 2, ..., [num_class - 1].\n",
      "  warnings.warn(label_encoder_deprecation_msg, UserWarning)\n",
      "\n"
     ]
    },
    {
     "name": "stdout",
     "output_type": "stream",
     "text": [
      "[10:54:44] WARNING: C:/Users/Administrator/workspace/xgboost-win64_release_1.4.0/src/learner.cc:1095: Starting in XGBoost 1.3.0, the default evaluation metric used with the objective 'binary:logistic' was changed from 'error' to 'logloss'. Explicitly set eval_metric if you'd like to restore the old behavior.\n",
      " 71%|███████████████████▊        | 17/24 [01:15<00:31,  4.56s/trial, best loss: 0.9204390374577902]"
     ]
    },
    {
     "name": "stderr",
     "output_type": "stream",
     "text": [
      "C:\\Program Files\\Python39\\python-3.9.0rc1.amd64\\lib\\site-packages\\xgboost\\sklearn.py:1146: UserWarning: The use of label encoder in XGBClassifier is deprecated and will be removed in a future release. To remove this warning, do the following: 1) Pass option use_label_encoder=False when constructing XGBClassifier object; and 2) Encode your labels (y) as integers starting with 0, i.e. 0, 1, 2, ..., [num_class - 1].\n",
      "  warnings.warn(label_encoder_deprecation_msg, UserWarning)\n",
      "\n"
     ]
    },
    {
     "name": "stdout",
     "output_type": "stream",
     "text": [
      "[10:54:45] WARNING: C:/Users/Administrator/workspace/xgboost-win64_release_1.4.0/src/learner.cc:1095: Starting in XGBoost 1.3.0, the default evaluation metric used with the objective 'binary:logistic' was changed from 'error' to 'logloss'. Explicitly set eval_metric if you'd like to restore the old behavior.\n",
      " 71%|███████████████████▊        | 17/24 [01:16<00:31,  4.56s/trial, best loss: 0.9204390374577902]"
     ]
    },
    {
     "name": "stderr",
     "output_type": "stream",
     "text": [
      "C:\\Program Files\\Python39\\python-3.9.0rc1.amd64\\lib\\site-packages\\xgboost\\sklearn.py:1146: UserWarning: The use of label encoder in XGBClassifier is deprecated and will be removed in a future release. To remove this warning, do the following: 1) Pass option use_label_encoder=False when constructing XGBClassifier object; and 2) Encode your labels (y) as integers starting with 0, i.e. 0, 1, 2, ..., [num_class - 1].\n",
      "  warnings.warn(label_encoder_deprecation_msg, UserWarning)\n",
      "\n"
     ]
    },
    {
     "name": "stdout",
     "output_type": "stream",
     "text": [
      "[10:54:46] WARNING: C:/Users/Administrator/workspace/xgboost-win64_release_1.4.0/src/learner.cc:1095: Starting in XGBoost 1.3.0, the default evaluation metric used with the objective 'binary:logistic' was changed from 'error' to 'logloss'. Explicitly set eval_metric if you'd like to restore the old behavior.\n",
      " 75%|█████████████████████       | 18/24 [01:17<00:26,  4.36s/trial, best loss: 0.9204390374577902]"
     ]
    },
    {
     "name": "stderr",
     "output_type": "stream",
     "text": [
      "C:\\Program Files\\Python39\\python-3.9.0rc1.amd64\\lib\\site-packages\\xgboost\\sklearn.py:1146: UserWarning: The use of label encoder in XGBClassifier is deprecated and will be removed in a future release. To remove this warning, do the following: 1) Pass option use_label_encoder=False when constructing XGBClassifier object; and 2) Encode your labels (y) as integers starting with 0, i.e. 0, 1, 2, ..., [num_class - 1].\n",
      "  warnings.warn(label_encoder_deprecation_msg, UserWarning)\n",
      "\n"
     ]
    },
    {
     "name": "stdout",
     "output_type": "stream",
     "text": [
      "[10:54:46] WARNING: C:/Users/Administrator/workspace/xgboost-win64_release_1.4.0/src/learner.cc:1095: Starting in XGBoost 1.3.0, the default evaluation metric used with the objective 'binary:logistic' was changed from 'error' to 'logloss'. Explicitly set eval_metric if you'd like to restore the old behavior.\n",
      " 75%|█████████████████████       | 18/24 [01:18<00:26,  4.36s/trial, best loss: 0.9204390374577902]"
     ]
    },
    {
     "name": "stderr",
     "output_type": "stream",
     "text": [
      "C:\\Program Files\\Python39\\python-3.9.0rc1.amd64\\lib\\site-packages\\xgboost\\sklearn.py:1146: UserWarning: The use of label encoder in XGBClassifier is deprecated and will be removed in a future release. To remove this warning, do the following: 1) Pass option use_label_encoder=False when constructing XGBClassifier object; and 2) Encode your labels (y) as integers starting with 0, i.e. 0, 1, 2, ..., [num_class - 1].\n",
      "  warnings.warn(label_encoder_deprecation_msg, UserWarning)\n",
      "\n"
     ]
    },
    {
     "name": "stdout",
     "output_type": "stream",
     "text": [
      "[10:54:47] WARNING: C:/Users/Administrator/workspace/xgboost-win64_release_1.4.0/src/learner.cc:1095: Starting in XGBoost 1.3.0, the default evaluation metric used with the objective 'binary:logistic' was changed from 'error' to 'logloss'. Explicitly set eval_metric if you'd like to restore the old behavior.\n",
      " 75%|█████████████████████       | 18/24 [01:19<00:26,  4.36s/trial, best loss: 0.9204390374577902]"
     ]
    },
    {
     "name": "stderr",
     "output_type": "stream",
     "text": [
      "C:\\Program Files\\Python39\\python-3.9.0rc1.amd64\\lib\\site-packages\\xgboost\\sklearn.py:1146: UserWarning: The use of label encoder in XGBClassifier is deprecated and will be removed in a future release. To remove this warning, do the following: 1) Pass option use_label_encoder=False when constructing XGBClassifier object; and 2) Encode your labels (y) as integers starting with 0, i.e. 0, 1, 2, ..., [num_class - 1].\n",
      "  warnings.warn(label_encoder_deprecation_msg, UserWarning)\n",
      "\n"
     ]
    },
    {
     "name": "stdout",
     "output_type": "stream",
     "text": [
      "[10:54:48] WARNING: C:/Users/Administrator/workspace/xgboost-win64_release_1.4.0/src/learner.cc:1095: Starting in XGBoost 1.3.0, the default evaluation metric used with the objective 'binary:logistic' was changed from 'error' to 'logloss'. Explicitly set eval_metric if you'd like to restore the old behavior.\n",
      " 75%|█████████████████████       | 18/24 [01:19<00:26,  4.36s/trial, best loss: 0.9204390374577902]"
     ]
    },
    {
     "name": "stderr",
     "output_type": "stream",
     "text": [
      "C:\\Program Files\\Python39\\python-3.9.0rc1.amd64\\lib\\site-packages\\xgboost\\sklearn.py:1146: UserWarning: The use of label encoder in XGBClassifier is deprecated and will be removed in a future release. To remove this warning, do the following: 1) Pass option use_label_encoder=False when constructing XGBClassifier object; and 2) Encode your labels (y) as integers starting with 0, i.e. 0, 1, 2, ..., [num_class - 1].\n",
      "  warnings.warn(label_encoder_deprecation_msg, UserWarning)\n",
      "\n"
     ]
    },
    {
     "name": "stdout",
     "output_type": "stream",
     "text": [
      "[10:54:49] WARNING: C:/Users/Administrator/workspace/xgboost-win64_release_1.4.0/src/learner.cc:1095: Starting in XGBoost 1.3.0, the default evaluation metric used with the objective 'binary:logistic' was changed from 'error' to 'logloss'. Explicitly set eval_metric if you'd like to restore the old behavior.\n",
      " 75%|█████████████████████       | 18/24 [01:20<00:26,  4.36s/trial, best loss: 0.9204390374577902]"
     ]
    },
    {
     "name": "stderr",
     "output_type": "stream",
     "text": [
      "C:\\Program Files\\Python39\\python-3.9.0rc1.amd64\\lib\\site-packages\\xgboost\\sklearn.py:1146: UserWarning: The use of label encoder in XGBClassifier is deprecated and will be removed in a future release. To remove this warning, do the following: 1) Pass option use_label_encoder=False when constructing XGBClassifier object; and 2) Encode your labels (y) as integers starting with 0, i.e. 0, 1, 2, ..., [num_class - 1].\n",
      "  warnings.warn(label_encoder_deprecation_msg, UserWarning)\n",
      "\n"
     ]
    },
    {
     "name": "stdout",
     "output_type": "stream",
     "text": [
      "[10:54:49] WARNING: C:/Users/Administrator/workspace/xgboost-win64_release_1.4.0/src/learner.cc:1095: Starting in XGBoost 1.3.0, the default evaluation metric used with the objective 'binary:logistic' was changed from 'error' to 'logloss'. Explicitly set eval_metric if you'd like to restore the old behavior.\n",
      " 79%|██████████████████████▏     | 19/24 [01:21<00:20,  4.20s/trial, best loss: 0.9204390374577902]"
     ]
    },
    {
     "name": "stderr",
     "output_type": "stream",
     "text": [
      "C:\\Program Files\\Python39\\python-3.9.0rc1.amd64\\lib\\site-packages\\xgboost\\sklearn.py:1146: UserWarning: The use of label encoder in XGBClassifier is deprecated and will be removed in a future release. To remove this warning, do the following: 1) Pass option use_label_encoder=False when constructing XGBClassifier object; and 2) Encode your labels (y) as integers starting with 0, i.e. 0, 1, 2, ..., [num_class - 1].\n",
      "  warnings.warn(label_encoder_deprecation_msg, UserWarning)\n",
      "\n"
     ]
    },
    {
     "name": "stdout",
     "output_type": "stream",
     "text": [
      "[10:54:50] WARNING: C:/Users/Administrator/workspace/xgboost-win64_release_1.4.0/src/learner.cc:1095: Starting in XGBoost 1.3.0, the default evaluation metric used with the objective 'binary:logistic' was changed from 'error' to 'logloss'. Explicitly set eval_metric if you'd like to restore the old behavior.\n",
      " 79%|██████████████████████▏     | 19/24 [01:22<00:20,  4.20s/trial, best loss: 0.9204390374577902]"
     ]
    },
    {
     "name": "stderr",
     "output_type": "stream",
     "text": [
      "C:\\Program Files\\Python39\\python-3.9.0rc1.amd64\\lib\\site-packages\\xgboost\\sklearn.py:1146: UserWarning: The use of label encoder in XGBClassifier is deprecated and will be removed in a future release. To remove this warning, do the following: 1) Pass option use_label_encoder=False when constructing XGBClassifier object; and 2) Encode your labels (y) as integers starting with 0, i.e. 0, 1, 2, ..., [num_class - 1].\n",
      "  warnings.warn(label_encoder_deprecation_msg, UserWarning)\n",
      "\n"
     ]
    },
    {
     "name": "stdout",
     "output_type": "stream",
     "text": [
      "[10:54:51] WARNING: C:/Users/Administrator/workspace/xgboost-win64_release_1.4.0/src/learner.cc:1095: Starting in XGBoost 1.3.0, the default evaluation metric used with the objective 'binary:logistic' was changed from 'error' to 'logloss'. Explicitly set eval_metric if you'd like to restore the old behavior.\n",
      " 79%|██████████████████████▏     | 19/24 [01:23<00:20,  4.20s/trial, best loss: 0.9204390374577902]"
     ]
    },
    {
     "name": "stderr",
     "output_type": "stream",
     "text": [
      "C:\\Program Files\\Python39\\python-3.9.0rc1.amd64\\lib\\site-packages\\xgboost\\sklearn.py:1146: UserWarning: The use of label encoder in XGBClassifier is deprecated and will be removed in a future release. To remove this warning, do the following: 1) Pass option use_label_encoder=False when constructing XGBClassifier object; and 2) Encode your labels (y) as integers starting with 0, i.e. 0, 1, 2, ..., [num_class - 1].\n",
      "  warnings.warn(label_encoder_deprecation_msg, UserWarning)\n",
      "\n"
     ]
    },
    {
     "name": "stdout",
     "output_type": "stream",
     "text": [
      "[10:54:52] WARNING: C:/Users/Administrator/workspace/xgboost-win64_release_1.4.0/src/learner.cc:1095: Starting in XGBoost 1.3.0, the default evaluation metric used with the objective 'binary:logistic' was changed from 'error' to 'logloss'. Explicitly set eval_metric if you'd like to restore the old behavior.\n",
      " 79%|██████████████████████▏     | 19/24 [01:23<00:20,  4.20s/trial, best loss: 0.9204390374577902]"
     ]
    },
    {
     "name": "stderr",
     "output_type": "stream",
     "text": [
      "C:\\Program Files\\Python39\\python-3.9.0rc1.amd64\\lib\\site-packages\\xgboost\\sklearn.py:1146: UserWarning: The use of label encoder in XGBClassifier is deprecated and will be removed in a future release. To remove this warning, do the following: 1) Pass option use_label_encoder=False when constructing XGBClassifier object; and 2) Encode your labels (y) as integers starting with 0, i.e. 0, 1, 2, ..., [num_class - 1].\n",
      "  warnings.warn(label_encoder_deprecation_msg, UserWarning)\n",
      "\n"
     ]
    },
    {
     "name": "stdout",
     "output_type": "stream",
     "text": [
      "[10:54:54] WARNING: C:/Users/Administrator/workspace/xgboost-win64_release_1.4.0/src/learner.cc:1095: Starting in XGBoost 1.3.0, the default evaluation metric used with the objective 'binary:logistic' was changed from 'error' to 'logloss'. Explicitly set eval_metric if you'd like to restore the old behavior.\n",
      " 79%|██████████████████████▏     | 19/24 [01:26<00:20,  4.20s/trial, best loss: 0.9204390374577902]"
     ]
    },
    {
     "name": "stderr",
     "output_type": "stream",
     "text": [
      "C:\\Program Files\\Python39\\python-3.9.0rc1.amd64\\lib\\site-packages\\xgboost\\sklearn.py:1146: UserWarning: The use of label encoder in XGBClassifier is deprecated and will be removed in a future release. To remove this warning, do the following: 1) Pass option use_label_encoder=False when constructing XGBClassifier object; and 2) Encode your labels (y) as integers starting with 0, i.e. 0, 1, 2, ..., [num_class - 1].\n",
      "  warnings.warn(label_encoder_deprecation_msg, UserWarning)\n",
      "\n"
     ]
    },
    {
     "name": "stdout",
     "output_type": "stream",
     "text": [
      "[10:54:58] WARNING: C:/Users/Administrator/workspace/xgboost-win64_release_1.4.0/src/learner.cc:1095: Starting in XGBoost 1.3.0, the default evaluation metric used with the objective 'binary:logistic' was changed from 'error' to 'logloss'. Explicitly set eval_metric if you'd like to restore the old behavior.\n",
      " 83%|███████████████████████▎    | 20/24 [01:29<00:22,  5.51s/trial, best loss: 0.9204390374577902]"
     ]
    },
    {
     "name": "stderr",
     "output_type": "stream",
     "text": [
      "C:\\Program Files\\Python39\\python-3.9.0rc1.amd64\\lib\\site-packages\\xgboost\\sklearn.py:1146: UserWarning: The use of label encoder in XGBClassifier is deprecated and will be removed in a future release. To remove this warning, do the following: 1) Pass option use_label_encoder=False when constructing XGBClassifier object; and 2) Encode your labels (y) as integers starting with 0, i.e. 0, 1, 2, ..., [num_class - 1].\n",
      "  warnings.warn(label_encoder_deprecation_msg, UserWarning)\n",
      "\n"
     ]
    },
    {
     "name": "stdout",
     "output_type": "stream",
     "text": [
      "[10:54:59] WARNING: C:/Users/Administrator/workspace/xgboost-win64_release_1.4.0/src/learner.cc:1095: Starting in XGBoost 1.3.0, the default evaluation metric used with the objective 'binary:logistic' was changed from 'error' to 'logloss'. Explicitly set eval_metric if you'd like to restore the old behavior.\n",
      " 83%|███████████████████████▎    | 20/24 [01:31<00:22,  5.51s/trial, best loss: 0.9204390374577902]"
     ]
    },
    {
     "name": "stderr",
     "output_type": "stream",
     "text": [
      "C:\\Program Files\\Python39\\python-3.9.0rc1.amd64\\lib\\site-packages\\xgboost\\sklearn.py:1146: UserWarning: The use of label encoder in XGBClassifier is deprecated and will be removed in a future release. To remove this warning, do the following: 1) Pass option use_label_encoder=False when constructing XGBClassifier object; and 2) Encode your labels (y) as integers starting with 0, i.e. 0, 1, 2, ..., [num_class - 1].\n",
      "  warnings.warn(label_encoder_deprecation_msg, UserWarning)\n",
      "\n"
     ]
    },
    {
     "name": "stdout",
     "output_type": "stream",
     "text": [
      "[10:55:01] WARNING: C:/Users/Administrator/workspace/xgboost-win64_release_1.4.0/src/learner.cc:1095: Starting in XGBoost 1.3.0, the default evaluation metric used with the objective 'binary:logistic' was changed from 'error' to 'logloss'. Explicitly set eval_metric if you'd like to restore the old behavior.\n",
      " 83%|███████████████████████▎    | 20/24 [01:32<00:22,  5.51s/trial, best loss: 0.9204390374577902]"
     ]
    },
    {
     "name": "stderr",
     "output_type": "stream",
     "text": [
      "C:\\Program Files\\Python39\\python-3.9.0rc1.amd64\\lib\\site-packages\\xgboost\\sklearn.py:1146: UserWarning: The use of label encoder in XGBClassifier is deprecated and will be removed in a future release. To remove this warning, do the following: 1) Pass option use_label_encoder=False when constructing XGBClassifier object; and 2) Encode your labels (y) as integers starting with 0, i.e. 0, 1, 2, ..., [num_class - 1].\n",
      "  warnings.warn(label_encoder_deprecation_msg, UserWarning)\n",
      "\n"
     ]
    },
    {
     "name": "stdout",
     "output_type": "stream",
     "text": [
      "[10:55:02] WARNING: C:/Users/Administrator/workspace/xgboost-win64_release_1.4.0/src/learner.cc:1095: Starting in XGBoost 1.3.0, the default evaluation metric used with the objective 'binary:logistic' was changed from 'error' to 'logloss'. Explicitly set eval_metric if you'd like to restore the old behavior.\n",
      " 83%|███████████████████████▎    | 20/24 [01:33<00:22,  5.51s/trial, best loss: 0.9204390374577902]"
     ]
    },
    {
     "name": "stderr",
     "output_type": "stream",
     "text": [
      "C:\\Program Files\\Python39\\python-3.9.0rc1.amd64\\lib\\site-packages\\xgboost\\sklearn.py:1146: UserWarning: The use of label encoder in XGBClassifier is deprecated and will be removed in a future release. To remove this warning, do the following: 1) Pass option use_label_encoder=False when constructing XGBClassifier object; and 2) Encode your labels (y) as integers starting with 0, i.e. 0, 1, 2, ..., [num_class - 1].\n",
      "  warnings.warn(label_encoder_deprecation_msg, UserWarning)\n",
      "\n"
     ]
    },
    {
     "name": "stdout",
     "output_type": "stream",
     "text": [
      "[10:55:03] WARNING: C:/Users/Administrator/workspace/xgboost-win64_release_1.4.0/src/learner.cc:1095: Starting in XGBoost 1.3.0, the default evaluation metric used with the objective 'binary:logistic' was changed from 'error' to 'logloss'. Explicitly set eval_metric if you'd like to restore the old behavior.\n",
      " 83%|███████████████████████▎    | 20/24 [01:35<00:22,  5.51s/trial, best loss: 0.9204390374577902]"
     ]
    },
    {
     "name": "stderr",
     "output_type": "stream",
     "text": [
      "C:\\Program Files\\Python39\\python-3.9.0rc1.amd64\\lib\\site-packages\\xgboost\\sklearn.py:1146: UserWarning: The use of label encoder in XGBClassifier is deprecated and will be removed in a future release. To remove this warning, do the following: 1) Pass option use_label_encoder=False when constructing XGBClassifier object; and 2) Encode your labels (y) as integers starting with 0, i.e. 0, 1, 2, ..., [num_class - 1].\n",
      "  warnings.warn(label_encoder_deprecation_msg, UserWarning)\n",
      "\n"
     ]
    },
    {
     "name": "stdout",
     "output_type": "stream",
     "text": [
      "[10:55:05] WARNING: C:/Users/Administrator/workspace/xgboost-win64_release_1.4.0/src/learner.cc:1095: Starting in XGBoost 1.3.0, the default evaluation metric used with the objective 'binary:logistic' was changed from 'error' to 'logloss'. Explicitly set eval_metric if you'd like to restore the old behavior.\n",
      " 88%|████████████████████████▌   | 21/24 [01:36<00:17,  5.81s/trial, best loss: 0.9199268679838961]"
     ]
    },
    {
     "name": "stderr",
     "output_type": "stream",
     "text": [
      "C:\\Program Files\\Python39\\python-3.9.0rc1.amd64\\lib\\site-packages\\xgboost\\sklearn.py:1146: UserWarning: The use of label encoder in XGBClassifier is deprecated and will be removed in a future release. To remove this warning, do the following: 1) Pass option use_label_encoder=False when constructing XGBClassifier object; and 2) Encode your labels (y) as integers starting with 0, i.e. 0, 1, 2, ..., [num_class - 1].\n",
      "  warnings.warn(label_encoder_deprecation_msg, UserWarning)\n",
      "\n"
     ]
    },
    {
     "name": "stdout",
     "output_type": "stream",
     "text": [
      "[10:55:06] WARNING: C:/Users/Administrator/workspace/xgboost-win64_release_1.4.0/src/learner.cc:1095: Starting in XGBoost 1.3.0, the default evaluation metric used with the objective 'binary:logistic' was changed from 'error' to 'logloss'. Explicitly set eval_metric if you'd like to restore the old behavior.\n",
      " 88%|████████████████████████▌   | 21/24 [01:38<00:17,  5.81s/trial, best loss: 0.9199268679838961]"
     ]
    },
    {
     "name": "stderr",
     "output_type": "stream",
     "text": [
      "C:\\Program Files\\Python39\\python-3.9.0rc1.amd64\\lib\\site-packages\\xgboost\\sklearn.py:1146: UserWarning: The use of label encoder in XGBClassifier is deprecated and will be removed in a future release. To remove this warning, do the following: 1) Pass option use_label_encoder=False when constructing XGBClassifier object; and 2) Encode your labels (y) as integers starting with 0, i.e. 0, 1, 2, ..., [num_class - 1].\n",
      "  warnings.warn(label_encoder_deprecation_msg, UserWarning)\n",
      "\n"
     ]
    },
    {
     "name": "stdout",
     "output_type": "stream",
     "text": [
      "[10:55:08] WARNING: C:/Users/Administrator/workspace/xgboost-win64_release_1.4.0/src/learner.cc:1095: Starting in XGBoost 1.3.0, the default evaluation metric used with the objective 'binary:logistic' was changed from 'error' to 'logloss'. Explicitly set eval_metric if you'd like to restore the old behavior.\n",
      " 88%|████████████████████████▌   | 21/24 [01:39<00:17,  5.81s/trial, best loss: 0.9199268679838961]"
     ]
    },
    {
     "name": "stderr",
     "output_type": "stream",
     "text": [
      "C:\\Program Files\\Python39\\python-3.9.0rc1.amd64\\lib\\site-packages\\xgboost\\sklearn.py:1146: UserWarning: The use of label encoder in XGBClassifier is deprecated and will be removed in a future release. To remove this warning, do the following: 1) Pass option use_label_encoder=False when constructing XGBClassifier object; and 2) Encode your labels (y) as integers starting with 0, i.e. 0, 1, 2, ..., [num_class - 1].\n",
      "  warnings.warn(label_encoder_deprecation_msg, UserWarning)\n",
      "\n"
     ]
    },
    {
     "name": "stdout",
     "output_type": "stream",
     "text": [
      "[10:55:10] WARNING: C:/Users/Administrator/workspace/xgboost-win64_release_1.4.0/src/learner.cc:1095: Starting in XGBoost 1.3.0, the default evaluation metric used with the objective 'binary:logistic' was changed from 'error' to 'logloss'. Explicitly set eval_metric if you'd like to restore the old behavior.\n",
      " 88%|████████████████████████▌   | 21/24 [01:41<00:17,  5.81s/trial, best loss: 0.9199268679838961]"
     ]
    },
    {
     "name": "stderr",
     "output_type": "stream",
     "text": [
      "C:\\Program Files\\Python39\\python-3.9.0rc1.amd64\\lib\\site-packages\\xgboost\\sklearn.py:1146: UserWarning: The use of label encoder in XGBClassifier is deprecated and will be removed in a future release. To remove this warning, do the following: 1) Pass option use_label_encoder=False when constructing XGBClassifier object; and 2) Encode your labels (y) as integers starting with 0, i.e. 0, 1, 2, ..., [num_class - 1].\n",
      "  warnings.warn(label_encoder_deprecation_msg, UserWarning)\n",
      "\n"
     ]
    },
    {
     "name": "stdout",
     "output_type": "stream",
     "text": [
      "[10:55:12] WARNING: C:/Users/Administrator/workspace/xgboost-win64_release_1.4.0/src/learner.cc:1095: Starting in XGBoost 1.3.0, the default evaluation metric used with the objective 'binary:logistic' was changed from 'error' to 'logloss'. Explicitly set eval_metric if you'd like to restore the old behavior.\n",
      " 88%|████████████████████████▌   | 21/24 [01:43<00:17,  5.81s/trial, best loss: 0.9199268679838961]"
     ]
    },
    {
     "name": "stderr",
     "output_type": "stream",
     "text": [
      "C:\\Program Files\\Python39\\python-3.9.0rc1.amd64\\lib\\site-packages\\xgboost\\sklearn.py:1146: UserWarning: The use of label encoder in XGBClassifier is deprecated and will be removed in a future release. To remove this warning, do the following: 1) Pass option use_label_encoder=False when constructing XGBClassifier object; and 2) Encode your labels (y) as integers starting with 0, i.e. 0, 1, 2, ..., [num_class - 1].\n",
      "  warnings.warn(label_encoder_deprecation_msg, UserWarning)\n",
      "\n"
     ]
    },
    {
     "name": "stdout",
     "output_type": "stream",
     "text": [
      "[10:55:16] WARNING: C:/Users/Administrator/workspace/xgboost-win64_release_1.4.0/src/learner.cc:1095: Starting in XGBoost 1.3.0, the default evaluation metric used with the objective 'binary:logistic' was changed from 'error' to 'logloss'. Explicitly set eval_metric if you'd like to restore the old behavior.\n",
      " 92%|█████████████████████████▋  | 22/24 [01:47<00:14,  7.50s/trial, best loss: 0.9199268679838961]"
     ]
    },
    {
     "name": "stderr",
     "output_type": "stream",
     "text": [
      "C:\\Program Files\\Python39\\python-3.9.0rc1.amd64\\lib\\site-packages\\xgboost\\sklearn.py:1146: UserWarning: The use of label encoder in XGBClassifier is deprecated and will be removed in a future release. To remove this warning, do the following: 1) Pass option use_label_encoder=False when constructing XGBClassifier object; and 2) Encode your labels (y) as integers starting with 0, i.e. 0, 1, 2, ..., [num_class - 1].\n",
      "  warnings.warn(label_encoder_deprecation_msg, UserWarning)\n",
      "\n"
     ]
    },
    {
     "name": "stdout",
     "output_type": "stream",
     "text": [
      "[10:55:17] WARNING: C:/Users/Administrator/workspace/xgboost-win64_release_1.4.0/src/learner.cc:1095: Starting in XGBoost 1.3.0, the default evaluation metric used with the objective 'binary:logistic' was changed from 'error' to 'logloss'. Explicitly set eval_metric if you'd like to restore the old behavior.\n",
      " 92%|█████████████████████████▋  | 22/24 [01:49<00:14,  7.50s/trial, best loss: 0.9199268679838961]"
     ]
    },
    {
     "name": "stderr",
     "output_type": "stream",
     "text": [
      "C:\\Program Files\\Python39\\python-3.9.0rc1.amd64\\lib\\site-packages\\xgboost\\sklearn.py:1146: UserWarning: The use of label encoder in XGBClassifier is deprecated and will be removed in a future release. To remove this warning, do the following: 1) Pass option use_label_encoder=False when constructing XGBClassifier object; and 2) Encode your labels (y) as integers starting with 0, i.e. 0, 1, 2, ..., [num_class - 1].\n",
      "  warnings.warn(label_encoder_deprecation_msg, UserWarning)\n",
      "\n"
     ]
    },
    {
     "name": "stdout",
     "output_type": "stream",
     "text": [
      "[10:55:18] WARNING: C:/Users/Administrator/workspace/xgboost-win64_release_1.4.0/src/learner.cc:1095: Starting in XGBoost 1.3.0, the default evaluation metric used with the objective 'binary:logistic' was changed from 'error' to 'logloss'. Explicitly set eval_metric if you'd like to restore the old behavior.\n",
      " 92%|█████████████████████████▋  | 22/24 [01:50<00:14,  7.50s/trial, best loss: 0.9199268679838961]"
     ]
    },
    {
     "name": "stderr",
     "output_type": "stream",
     "text": [
      "C:\\Program Files\\Python39\\python-3.9.0rc1.amd64\\lib\\site-packages\\xgboost\\sklearn.py:1146: UserWarning: The use of label encoder in XGBClassifier is deprecated and will be removed in a future release. To remove this warning, do the following: 1) Pass option use_label_encoder=False when constructing XGBClassifier object; and 2) Encode your labels (y) as integers starting with 0, i.e. 0, 1, 2, ..., [num_class - 1].\n",
      "  warnings.warn(label_encoder_deprecation_msg, UserWarning)\n",
      "\n"
     ]
    },
    {
     "name": "stdout",
     "output_type": "stream",
     "text": [
      "[10:55:20] WARNING: C:/Users/Administrator/workspace/xgboost-win64_release_1.4.0/src/learner.cc:1095: Starting in XGBoost 1.3.0, the default evaluation metric used with the objective 'binary:logistic' was changed from 'error' to 'logloss'. Explicitly set eval_metric if you'd like to restore the old behavior.\n",
      " 92%|█████████████████████████▋  | 22/24 [01:51<00:14,  7.50s/trial, best loss: 0.9199268679838961]"
     ]
    },
    {
     "name": "stderr",
     "output_type": "stream",
     "text": [
      "C:\\Program Files\\Python39\\python-3.9.0rc1.amd64\\lib\\site-packages\\xgboost\\sklearn.py:1146: UserWarning: The use of label encoder in XGBClassifier is deprecated and will be removed in a future release. To remove this warning, do the following: 1) Pass option use_label_encoder=False when constructing XGBClassifier object; and 2) Encode your labels (y) as integers starting with 0, i.e. 0, 1, 2, ..., [num_class - 1].\n",
      "  warnings.warn(label_encoder_deprecation_msg, UserWarning)\n",
      "\n"
     ]
    },
    {
     "name": "stdout",
     "output_type": "stream",
     "text": [
      "[10:55:21] WARNING: C:/Users/Administrator/workspace/xgboost-win64_release_1.4.0/src/learner.cc:1095: Starting in XGBoost 1.3.0, the default evaluation metric used with the objective 'binary:logistic' was changed from 'error' to 'logloss'. Explicitly set eval_metric if you'd like to restore the old behavior.\n",
      " 92%|█████████████████████████▋  | 22/24 [01:52<00:14,  7.50s/trial, best loss: 0.9199268679838961]"
     ]
    },
    {
     "name": "stderr",
     "output_type": "stream",
     "text": [
      "C:\\Program Files\\Python39\\python-3.9.0rc1.amd64\\lib\\site-packages\\xgboost\\sklearn.py:1146: UserWarning: The use of label encoder in XGBClassifier is deprecated and will be removed in a future release. To remove this warning, do the following: 1) Pass option use_label_encoder=False when constructing XGBClassifier object; and 2) Encode your labels (y) as integers starting with 0, i.e. 0, 1, 2, ..., [num_class - 1].\n",
      "  warnings.warn(label_encoder_deprecation_msg, UserWarning)\n",
      "\n"
     ]
    },
    {
     "name": "stdout",
     "output_type": "stream",
     "text": [
      "[10:55:22] WARNING: C:/Users/Administrator/workspace/xgboost-win64_release_1.4.0/src/learner.cc:1095: Starting in XGBoost 1.3.0, the default evaluation metric used with the objective 'binary:logistic' was changed from 'error' to 'logloss'. Explicitly set eval_metric if you'd like to restore the old behavior.\n",
      " 96%|██████████████████████████▊ | 23/24 [01:53<00:07,  7.03s/trial, best loss: 0.9192227166571902]"
     ]
    },
    {
     "name": "stderr",
     "output_type": "stream",
     "text": [
      "C:\\Program Files\\Python39\\python-3.9.0rc1.amd64\\lib\\site-packages\\xgboost\\sklearn.py:1146: UserWarning: The use of label encoder in XGBClassifier is deprecated and will be removed in a future release. To remove this warning, do the following: 1) Pass option use_label_encoder=False when constructing XGBClassifier object; and 2) Encode your labels (y) as integers starting with 0, i.e. 0, 1, 2, ..., [num_class - 1].\n",
      "  warnings.warn(label_encoder_deprecation_msg, UserWarning)\n",
      "\n"
     ]
    },
    {
     "name": "stdout",
     "output_type": "stream",
     "text": [
      "[10:55:23] WARNING: C:/Users/Administrator/workspace/xgboost-win64_release_1.4.0/src/learner.cc:1095: Starting in XGBoost 1.3.0, the default evaluation metric used with the objective 'binary:logistic' was changed from 'error' to 'logloss'. Explicitly set eval_metric if you'd like to restore the old behavior.\n",
      " 96%|██████████████████████████▊ | 23/24 [01:54<00:07,  7.03s/trial, best loss: 0.9192227166571902]"
     ]
    },
    {
     "name": "stderr",
     "output_type": "stream",
     "text": [
      "C:\\Program Files\\Python39\\python-3.9.0rc1.amd64\\lib\\site-packages\\xgboost\\sklearn.py:1146: UserWarning: The use of label encoder in XGBClassifier is deprecated and will be removed in a future release. To remove this warning, do the following: 1) Pass option use_label_encoder=False when constructing XGBClassifier object; and 2) Encode your labels (y) as integers starting with 0, i.e. 0, 1, 2, ..., [num_class - 1].\n",
      "  warnings.warn(label_encoder_deprecation_msg, UserWarning)\n",
      "\n"
     ]
    },
    {
     "name": "stdout",
     "output_type": "stream",
     "text": [
      "[10:55:24] WARNING: C:/Users/Administrator/workspace/xgboost-win64_release_1.4.0/src/learner.cc:1095: Starting in XGBoost 1.3.0, the default evaluation metric used with the objective 'binary:logistic' was changed from 'error' to 'logloss'. Explicitly set eval_metric if you'd like to restore the old behavior.\n",
      " 96%|██████████████████████████▊ | 23/24 [01:55<00:07,  7.03s/trial, best loss: 0.9192227166571902]"
     ]
    },
    {
     "name": "stderr",
     "output_type": "stream",
     "text": [
      "C:\\Program Files\\Python39\\python-3.9.0rc1.amd64\\lib\\site-packages\\xgboost\\sklearn.py:1146: UserWarning: The use of label encoder in XGBClassifier is deprecated and will be removed in a future release. To remove this warning, do the following: 1) Pass option use_label_encoder=False when constructing XGBClassifier object; and 2) Encode your labels (y) as integers starting with 0, i.e. 0, 1, 2, ..., [num_class - 1].\n",
      "  warnings.warn(label_encoder_deprecation_msg, UserWarning)\n",
      "\n"
     ]
    },
    {
     "name": "stdout",
     "output_type": "stream",
     "text": [
      "[10:55:25] WARNING: C:/Users/Administrator/workspace/xgboost-win64_release_1.4.0/src/learner.cc:1095: Starting in XGBoost 1.3.0, the default evaluation metric used with the objective 'binary:logistic' was changed from 'error' to 'logloss'. Explicitly set eval_metric if you'd like to restore the old behavior.\n",
      " 96%|██████████████████████████▊ | 23/24 [01:56<00:07,  7.03s/trial, best loss: 0.9192227166571902]"
     ]
    },
    {
     "name": "stderr",
     "output_type": "stream",
     "text": [
      "C:\\Program Files\\Python39\\python-3.9.0rc1.amd64\\lib\\site-packages\\xgboost\\sklearn.py:1146: UserWarning: The use of label encoder in XGBClassifier is deprecated and will be removed in a future release. To remove this warning, do the following: 1) Pass option use_label_encoder=False when constructing XGBClassifier object; and 2) Encode your labels (y) as integers starting with 0, i.e. 0, 1, 2, ..., [num_class - 1].\n",
      "  warnings.warn(label_encoder_deprecation_msg, UserWarning)\n",
      "\n"
     ]
    },
    {
     "name": "stdout",
     "output_type": "stream",
     "text": [
      "[10:55:26] WARNING: C:/Users/Administrator/workspace/xgboost-win64_release_1.4.0/src/learner.cc:1095: Starting in XGBoost 1.3.0, the default evaluation metric used with the objective 'binary:logistic' was changed from 'error' to 'logloss'. Explicitly set eval_metric if you'd like to restore the old behavior.\n",
      " 96%|██████████████████████████▊ | 23/24 [01:57<00:07,  7.03s/trial, best loss: 0.9192227166571902]"
     ]
    },
    {
     "name": "stderr",
     "output_type": "stream",
     "text": [
      "C:\\Program Files\\Python39\\python-3.9.0rc1.amd64\\lib\\site-packages\\xgboost\\sklearn.py:1146: UserWarning: The use of label encoder in XGBClassifier is deprecated and will be removed in a future release. To remove this warning, do the following: 1) Pass option use_label_encoder=False when constructing XGBClassifier object; and 2) Encode your labels (y) as integers starting with 0, i.e. 0, 1, 2, ..., [num_class - 1].\n",
      "  warnings.warn(label_encoder_deprecation_msg, UserWarning)\n",
      "\n"
     ]
    },
    {
     "name": "stdout",
     "output_type": "stream",
     "text": [
      "100%|████████████████████████████| 24/24 [01:57<00:00,  4.91s/trial, best loss: 0.9192227166571902]\n",
      "{'gamma': 0.24, 'learning_rate': 0.16, 'max_depth': 31, 'min_child_weight': 2.0, 'n_estimators': 8, 'sampling_strategy': 0.1}\n"
     ]
    }
   ],
   "source": [
    "space_lr = {'max_depth': hp.choice('max_depth', range(5, 70,1)),\n",
    "                'learning_rate':hp.quniform('learning_rate',0.01,0.5,0.01),\n",
    "            'n_estimators':hp.choice('n_estimators',range(20,200,5)),\n",
    "            'gamma':hp.quniform('gamma',0,0.5,0.01),\n",
    "            'min_child_weight':hp.quniform('min_child_weight',1,10,1),\n",
    "            #'subsample':hp.quniform('subsample',0.1,1,0.01),\n",
    "            #'colsample_bytree':hp.quniform('colsample_bytree',0.1,1,0.01)\n",
    "             'sampling_strategy':hp.quniform('sampling_strategy',0.1,0.9,0.1)\n",
    "        }\n",
    "\n",
    "\n",
    "def xgb(params):\n",
    "    params = {'max_depth': params['max_depth'],\n",
    "                 'learning_rate': params['learning_rate'],\n",
    "                  'gamma':params['gamma'],\n",
    "                  \n",
    "                'min_child_weight':params['min_child_weight'],\n",
    "             # 'subsample':params['subsample'],\n",
    "                  'n_estimators': params['n_estimators'],\n",
    "            #  'colsample_bytree':params['colsample_bytree']\n",
    "              'sampling_strategy':params['sampling_strategy']\n",
    "                  \n",
    "                 }\n",
    "    \n",
    "    xgb_bo = XGBClassifier(random_state=42,max_depth=params['max_depth'],learning_rate=params['learning_rate'], n_estimators = params['n_estimators'], gamma = params['gamma'], min_child_weight = params['min_child_weight'])\n",
    "    cv= StratifiedKFold(n_splits=5, random_state=42, shuffle=True)\n",
    "    over = NearMiss(sampling_strategy=params['sampling_strategy'])\n",
    "    pipe = Pipeline([('o', over),('m', xgb_bo)])\n",
    "    best_score = cross_val_score(pipe, X_train, y_train, scoring='average_precision', cv=cv).mean()\n",
    "    return 1 - best_score\n",
    "xgb_best_param = fmin(fn=xgb,\n",
    "                    space=space_lr,\n",
    "                    max_evals=24,\n",
    "                    rstate=np.random.RandomState(42),\n",
    "                    algo=tpe.suggest)\n",
    "print(xgb_best_param)"
   ]
  },
  {
   "cell_type": "code",
   "execution_count": 37,
   "metadata": {},
   "outputs": [
    {
     "name": "stdout",
     "output_type": "stream",
     "text": [
      "[10:55:27] WARNING: C:/Users/Administrator/workspace/xgboost-win64_release_1.4.0/src/learner.cc:1095: Starting in XGBoost 1.3.0, the default evaluation metric used with the objective 'binary:logistic' was changed from 'error' to 'logloss'. Explicitly set eval_metric if you'd like to restore the old behavior.\n"
     ]
    },
    {
     "name": "stderr",
     "output_type": "stream",
     "text": [
      "C:\\Program Files\\Python39\\python-3.9.0rc1.amd64\\lib\\site-packages\\xgboost\\sklearn.py:1146: UserWarning: The use of label encoder in XGBClassifier is deprecated and will be removed in a future release. To remove this warning, do the following: 1) Pass option use_label_encoder=False when constructing XGBClassifier object; and 2) Encode your labels (y) as integers starting with 0, i.e. 0, 1, 2, ..., [num_class - 1].\n",
      "  warnings.warn(label_encoder_deprecation_msg, UserWarning)\n",
      "C:\\Program Files\\Python39\\python-3.9.0rc1.amd64\\lib\\site-packages\\xgboost\\data.py:112: UserWarning: Use subset (sliced data) of np.ndarray is not recommended because it will generate extra copies and increase memory consumption\n",
      "  warnings.warn(\n"
     ]
    }
   ],
   "source": [
    "param_values = [x for x in xgb_best_param.values()]\n",
    "\n",
    "\n",
    "xgb_best = XGBClassifier(random_state=42,\n",
    "   gamma= param_values[0],\n",
    "    learning_rate= param_values[1],\n",
    "   max_depth= param_values[2],\n",
    "   min_child_weight=param_values[3],\n",
    "n_estimators = param_values[4]\n",
    ")\n",
    "under = NearMiss(sampling_strategy= param_values[5])\n",
    "pipe = Pipeline([('o', under),('m', xgb_best)])\n",
    "\n",
    "model= pipe.fit(X_train, y_train)\n",
    "pred = model.predict(X_test)\n",
    "\n"
   ]
  },
  {
   "cell_type": "code",
   "execution_count": 38,
   "metadata": {},
   "outputs": [
    {
     "name": "stdout",
     "output_type": "stream",
     "text": [
      "Confusion Matrix:\n",
      " [[6518 1000]\n",
      " [  80   50]]\n",
      "Precision: 0.047619\n",
      "Recall: 0.384615\n",
      "F1 score: 0.084746\n",
      "Sensitivity :  0.9878751136708094\n",
      "Specificity :  0.047619047619047616\n",
      "Negative predictive Value:  0.38461538461538464\n",
      "Positive Predictive Value:  0.8669859005054535\n",
      "Geometric Mean:  0.21689092207734825\n"
     ]
    }
   ],
   "source": [
    "cm= confusion_matrix(y_test, pred)\n",
    "print('Confusion Matrix:\\n',cm)\n",
    "\n",
    "precision = precision_score(y_test, pred)\n",
    "print( 'Precision: %f' % precision)\n",
    "\n",
    "recall = recall_score(y_test, pred)\n",
    "print('Recall: %f' % recall)\n",
    "\n",
    "f1 = f1_score(y_test, pred)\n",
    "print('F1 score: %f' % f1)\n",
    "\n",
    "sensitivity = cm[0,0]/(cm[0,0]+cm[1,0])\n",
    "print('Sensitivity : ', sensitivity )\n",
    "\n",
    "specificity = cm[1,1]/(cm[0,1]+cm[1,1])\n",
    "print('Specificity : ', specificity)\n",
    "\n",
    "NPV = cm[1,1]/(cm[1,1]+cm[1,0])\n",
    "print('Negative predictive Value: ', NPV)\n",
    "\n",
    "PPV = cm[0,0]/(cm[0,0]+cm[0,1])\n",
    "print('Positive Predictive Value: ', PPV)\n",
    "\n",
    "import math\n",
    "gm=math.sqrt(specificity*sensitivity)\n",
    "print('Geometric Mean: ', gm)"
   ]
  },
  {
   "cell_type": "code",
   "execution_count": 39,
   "metadata": {},
   "outputs": [
    {
     "name": "stdout",
     "output_type": "stream",
     "text": [
      "Random chance= 0.500000\n",
      "AUCROC Value = 0.732937\n",
      "AUC:PrecisionRecall Value =0.054\n"
     ]
    },
    {
     "data": {
      "image/png": "[encoded data removed]",
      "text/plain": [
       "<Figure size 432x288 with 1 Axes>"
      ]
     },
     "metadata": {
      "needs_background": "light"
     },
     "output_type": "display_data"
    },
    {
     "data": {
      "image/png": "[encoded data removed]",
      "text/plain": [
       "<Figure size 432x288 with 1 Axes>"
      ]
     },
     "metadata": {
      "needs_background": "light"
     },
     "output_type": "display_data"
    }
   ],
   "source": [
    "r_probs=[0 for _ in range(len(y_test))]\n",
    "xgb_probs=model.predict_proba(X_test)\n",
    "xgb_probs=xgb_probs[:,1]\n",
    "from sklearn.metrics import roc_curve, roc_auc_score\n",
    "r_auc=roc_auc_score(y_test,r_probs)\n",
    "xgb_auc =roc_auc_score(y_test,xgb_probs)\n",
    "print('Random chance= %3f'%(r_auc))\n",
    "print('AUCROC Value = %4f'%(xgb_auc))\n",
    "\n",
    "xgb_precision, xgb_recall, _ = precision_recall_curve(y_test, xgb_probs,pos_label=1)\n",
    "xgb_aucprc=auc(xgb_recall, xgb_precision)\n",
    "print('AUC:PrecisionRecall Value =%.3f' % (xgb_aucprc))\n",
    "    \n",
    "r_fpr, r_tpr, thresholds = metrics.roc_curve(y_test, r_probs, pos_label=1)\n",
    "xgb_fpr, xgb_tpr, thresholds = metrics.roc_curve(y_test, xgb_probs, pos_label=1)\n",
    "\n",
    "#ROC PLOT\n",
    "import matplotlib.pyplot as plt\n",
    "plt.plot(r_fpr,r_tpr,linestyle='--',label='Random prediction(AUCROC=%0.3f)'%r_auc)\n",
    "plt.plot(xgb_fpr,xgb_tpr,linestyle='--',label='Random prediction(AUCROC=%0.3f)'%xgb_auc)\n",
    "plt.title('ROC PLOT - XGB ')\n",
    "plt.xlabel('FALSE POSITIVE RATE')\n",
    "plt.ylabel('TRUE POSITIVE RATE')\n",
    "plt.legend()\n",
    "#plt.savefig('XBB_plot1.png', dpi=300, bbox_inches='tight')\n",
    "plt.show()\n",
    "\n",
    "plt.plot(xgb_recall, xgb_precision, linestyle='--', label='Random prediction(AUCPRC=%0.3f)'%xgb_aucprc)\n",
    "# axis labels\n",
    "plt.xlabel('RECALL')\n",
    "plt.ylabel('PRECISION')\n",
    "plt.title('PRC PLOT - XGB')\n",
    "plt.legend()\n",
    "    #save plot\n",
    "#plt.savefig('XGB_plot2.png', dpi=300, bbox_inches='tight')\n",
    "    # show the plot\n",
    "plt.show()"
   ]
  },
  {
   "cell_type": "code",
   "execution_count": 40,
   "metadata": {},
   "outputs": [
    {
     "name": "stderr",
     "output_type": "stream",
     "text": [
      "C:\\Program Files\\Python39\\python-3.9.0rc1.amd64\\lib\\site-packages\\xgboost\\data.py:112: UserWarning: Use subset (sliced data) of np.ndarray is not recommended because it will generate extra copies and increase memory consumption\n",
      "  warnings.warn(\n"
     ]
    },
    {
     "data": {
      "image/png": "[encoded data removed]",
      "text/plain": [
       "<Figure size 432x288 with 1 Axes>"
      ]
     },
     "metadata": {
      "needs_background": "light"
     },
     "output_type": "display_data"
    }
   ],
   "source": [
    "from sklearn.calibration import calibration_curve\n",
    "xgb_probs=model.predict_proba(X_test)\n",
    "xgb_probs=xgb_probs[:,1]\n",
    "\n",
    "x,y= calibration_curve(y_test,xgb_probs, n_bins=50)\n",
    "plt.plot([0,1],[0,1], linestyle='--', label='Ideally Calibrated')\n",
    "plt.plot(y,x, marker='o', linewidth=1, label='xgb')\n",
    "leg= plt.legend(loc='upper left')\n",
    "plt.xlabel('average predicted probabilty in each bin')\n",
    "plt.ylabel('Ratio of Positives')\n",
    "plt.savefig('XGB_calibration1.png', dpi=300, bbox_inches='tight')\n",
    "plt.show()"
   ]
  },
  {
   "cell_type": "code",
   "execution_count": 41,
   "metadata": {},
   "outputs": [
    {
     "name": "stderr",
     "output_type": "stream",
     "text": [
      "C:\\Program Files\\Python39\\python-3.9.0rc1.amd64\\lib\\site-packages\\xgboost\\data.py:112: UserWarning: Use subset (sliced data) of np.ndarray is not recommended because it will generate extra copies and increase memory consumption\n",
      "  warnings.warn(\n"
     ]
    }
   ],
   "source": [
    "#saving file\n",
    "xgb_probs=model.predict_proba(X_test)\n",
    "xgb_pos=xgb_probs[:,1]\n",
    "xgb_neg=xgb_probs[:,0]\n",
    "pd.DataFrame({'Actual': y_test,'Pred_XGB': pred, 'PredProb_1_XGB': xgb_pos,'PredProb_0_XGB':xgb_neg}).to_csv('xgb.csv', index=False)"
   ]
  },
  {
   "cell_type": "code",
   "execution_count": 42,
   "metadata": {},
   "outputs": [],
   "source": [
    "#Apparent test\n",
    "pred1 = model.predict(X_train)\n"
   ]
  },
  {
   "cell_type": "code",
   "execution_count": 43,
   "metadata": {},
   "outputs": [
    {
     "name": "stdout",
     "output_type": "stream",
     "text": [
      "Random chance= 0.500000\n",
      "AUCROC Value = 0.849929\n",
      "AUC:PrecisionRecall Value =0.112\n"
     ]
    },
    {
     "data": {
      "image/png": "[encoded data removed]",
      "text/plain": [
       "<Figure size 432x288 with 1 Axes>"
      ]
     },
     "metadata": {
      "needs_background": "light"
     },
     "output_type": "display_data"
    },
    {
     "data": {
      "image/png": "[encoded data removed]",
      "text/plain": [
       "<Figure size 432x288 with 1 Axes>"
      ]
     },
     "metadata": {
      "needs_background": "light"
     },
     "output_type": "display_data"
    }
   ],
   "source": [
    "r_probs=[0 for _ in range(len(y_train))]\n",
    "xgb_probs1=model.predict_proba(X_train)\n",
    "xgb_probs1=xgb_probs1[:,1]\n",
    "from sklearn.metrics import roc_curve, roc_auc_score\n",
    "r_auc=roc_auc_score(y_train,r_probs)\n",
    "xgb_auc =roc_auc_score(y_train,xgb_probs1)\n",
    "print('Random chance= %3f'%(r_auc))\n",
    "print('AUCROC Value = %4f'%(xgb_auc))\n",
    "\n",
    "xgb_precision, xgb_recall, _ = precision_recall_curve(y_train, xgb_probs1,pos_label=1)\n",
    "xgb_aucprc=auc(xgb_recall, xgb_precision)\n",
    "print('AUC:PrecisionRecall Value =%.3f' % (xgb_aucprc))\n",
    "    \n",
    "r_fpr, r_tpr, thresholds = metrics.roc_curve(y_train, r_probs, pos_label=1)\n",
    "xgb_fpr, xgb_tpr, thresholds = metrics.roc_curve(y_train, xgb_probs1, pos_label=1)\n",
    "\n",
    "#ROC PLOT\n",
    "import matplotlib.pyplot as plt\n",
    "plt.plot(r_fpr,r_tpr,linestyle='--',label='Random prediction(AUCROC=%0.3f)'%r_auc)\n",
    "plt.plot(xgb_fpr,xgb_tpr,linestyle='--',label='Random prediction(AUCROC=%0.3f)'%xgb_auc)\n",
    "plt.title('APPARENT - ROC PLOT - XGB')\n",
    "plt.xlabel('FALSE POSITIVE RATE')\n",
    "plt.ylabel('TRUE POSITIVE RATE')\n",
    "plt.legend()\n",
    "plt.savefig('XBB_apparent1.png', dpi=300, bbox_inches='tight')\n",
    "plt.show()\n",
    "\n",
    "plt.plot(xgb_recall, xgb_precision, linestyle='--', label='Random prediction(AUCPRC=%0.3f)'%xgb_aucprc)\n",
    "# axis labels\n",
    "plt.xlabel('RECALL')\n",
    "plt.ylabel('PRECISION')\n",
    "plt.title('APPARENT  -PRC PLOT - XGB ')\n",
    "plt.legend()\n",
    "    #save plot\n",
    "plt.savefig('XGBapparent.png', dpi=300, bbox_inches='tight')\n",
    "    # show the plot\n",
    "plt.show()"
   ]
  },
  {
   "cell_type": "code",
   "execution_count": 44,
   "metadata": {},
   "outputs": [
    {
     "name": "stderr",
     "output_type": "stream",
     "text": [
      "C:\\Program Files\\Python39\\python-3.9.0rc1.amd64\\lib\\site-packages\\xgboost\\data.py:112: UserWarning: Use subset (sliced data) of np.ndarray is not recommended because it will generate extra copies and increase memory consumption\n",
      "  warnings.warn(\n"
     ]
    },
    {
     "data": {
      "image/png": "[encoded data removed]",
      "text/plain": [
       "<Figure size 432x288 with 1 Axes>"
      ]
     },
     "metadata": {
      "needs_background": "light"
     },
     "output_type": "display_data"
    }
   ],
   "source": [
    "from sklearn.calibration import calibration_curve\n",
    "xgb_probs1=model.predict_proba(X_train)\n",
    "xgb_probs1=xgb_probs1[:,1]\n",
    "\n",
    "x,y= calibration_curve(y_train,xgb_probs1, n_bins=50)\n",
    "plt.plot([0,1],[0,1], linestyle='--', label='Ideally Calibrated')\n",
    "plt.plot(y,x, marker='o', linewidth=1, label='xgb')\n",
    "leg= plt.legend(loc='upper left')\n",
    "plt.xlabel('average predicted probabilty in each bin')\n",
    "plt.ylabel('Ratio of Positives')\n",
    "plt.savefig('XGB_calibration2.png', dpi=300, bbox_inches='tight')\n",
    "plt.show()"
   ]
  },
  {
   "cell_type": "code",
   "execution_count": 45,
   "metadata": {},
   "outputs": [
    {
     "name": "stdout",
     "output_type": "stream",
     "text": [
      "Apparent  - Confusion Matrix:\n",
      " [[18852  3600]\n",
      " [  161   330]]\n",
      "Apparent  - Precision: 0.083969\n",
      "Apparent - Recall: 0.672098\n",
      "Apparent  - F1 score: 0.149287\n",
      "Apparent  - Sensitivity :  0.9915321096092148\n",
      "Apparent - Specificity :  0.08396946564885496\n",
      "Apparent  - Negative predictive Value:  0.6720977596741344\n",
      "Apparent  - Positive Predictive Value:  0.8396579369321219\n",
      "Apparent - Geometric Mean:  0.28854535417775773\n"
     ]
    }
   ],
   "source": [
    "cm1 = confusion_matrix(y_train, pred1)\n",
    "print('Apparent  - Confusion Matrix:\\n',cm1)\n",
    "\n",
    "precision = precision_score(y_train, pred1)\n",
    "print('Apparent  - Precision: %f' % precision)\n",
    "\n",
    "recall = recall_score(y_train, pred1)\n",
    "print('Apparent - Recall: %f' % recall)\n",
    "\n",
    "f1 = f1_score(y_train, pred1)\n",
    "print('Apparent  - F1 score: %f' % f1)\n",
    "\n",
    "sensitivity1 = cm1[0,0]/(cm1[0,0]+cm1[1,0])\n",
    "print('Apparent  - Sensitivity : ', sensitivity1 )\n",
    "\n",
    "specificity1= cm1[1,1]/(cm1[0,1]+cm1[1,1])\n",
    "print('Apparent - Specificity : ', specificity1)\n",
    "\n",
    "NPV = cm1[1,1]/(cm1[1,1]+cm1[1,0])\n",
    "print('Apparent  - Negative predictive Value: ', NPV)\n",
    "\n",
    "PPV = cm1[0,0]/(cm1[0,0]+cm1[0,1])\n",
    "print('Apparent  - Positive Predictive Value: ', PPV)\n",
    "\n",
    "import math\n",
    "gm1=math.sqrt(specificity1*sensitivity1)\n",
    "print('Apparent - Geometric Mean: ', gm1)"
   ]
  },
  {
   "cell_type": "code",
   "execution_count": 46,
   "metadata": {},
   "outputs": [
    {
     "name": "stderr",
     "output_type": "stream",
     "text": [
      "C:\\Program Files\\Python39\\python-3.9.0rc1.amd64\\lib\\site-packages\\xgboost\\data.py:112: UserWarning: Use subset (sliced data) of np.ndarray is not recommended because it will generate extra copies and increase memory consumption\n",
      "  warnings.warn(\n"
     ]
    }
   ],
   "source": [
    "#saving file\n",
    "xgb_probs1=model.predict_proba(X_train)\n",
    "xgb_pos1=xgb_probs1[:,1]\n",
    "xgb_neg1=xgb_probs1[:,0]\n",
    "pd.DataFrame({'Actual': y_train,'Pred_XGB': pred1, 'PredProb_1_XGB': xgb_pos1,'PredProb_0_XGB':xgb_neg1}).to_csv('xgb_apparent.csv', index=False)"
   ]
  },
  {
   "cell_type": "code",
   "execution_count": 47,
   "metadata": {},
   "outputs": [
    {
     "name": "stdout",
     "output_type": "stream",
     "text": [
      "100%|████████████████████████████| 24/24 [05:56<00:00, 14.85s/trial, best loss: 0.8942535539236782]\n",
      "It takes 5.940973619620006 minutes\n",
      "Random Forest Best Parameters {'class_weight': 0, 'criterion': 1, 'max_depth': 9, 'max_features': 0, 'n_estimators': 673, 'sampling_strategy': 0.1}\n"
     ]
    }
   ],
   "source": [
    "#Random Forest Classifier hyper parameter tuning\n",
    "\n",
    "\n",
    "start = time.time()\n",
    "space_lr = {'max_depth': hp.randint('max_depth', 6,15),\n",
    "                'max_features': hp.choice('max_features',['sqrt','log2']),\n",
    "                'n_estimators': hp.randint('n_estimators', 100,1000),\n",
    "                'criterion': hp.choice('criterion', ['entropy','gini']),\n",
    "            'sampling_strategy':hp.quniform('sampling_strategy',0.1,0.9,0.1),\n",
    "            'class_weight':hp.choice('class_weight',['balanced_subsample','balanced'])\n",
    "                    }\n",
    "\n",
    "def rf(params):\n",
    "    params = {'max_depth': params['max_depth'],\n",
    "                  'max_features': params['max_features'],\n",
    "                  'n_estimators': params['n_estimators'],\n",
    "                  'criterion': params['criterion'],\n",
    "              'sampling_strategy': params['sampling_strategy'],\n",
    "              'class_weight':params['class_weight']\n",
    "             }\n",
    "    rf_bo = sklearn.ensemble.RandomForestClassifier(random_state=42,class_weight=params['class_weight'], max_depth=params['max_depth'],max_features= params['max_features'],n_estimators=params['n_estimators'],criterion= params['criterion'])\n",
    "    cv= StratifiedKFold(n_splits=5,random_state=42, shuffle=True)\n",
    "    over = NearMiss(sampling_strategy= params['sampling_strategy'])\n",
    "    pipe = Pipeline([('o', over),('m', rf_bo)])\n",
    "    best_score = cross_val_score(pipe, X_train, y_train, scoring='average_precision', cv=cv).mean()\n",
    "    return 1-best_score\n",
    "\n",
    "rf_best_param = fmin(fn=rf,\n",
    "                    space=space_lr,\n",
    "                    max_evals=24,\n",
    "                    rstate=np.random.RandomState(42),\n",
    "                    algo=tpe.suggest,\n",
    "                        )\n",
    "print('It takes %s minutes' % ((time.time() - start)/60))\n",
    "print('Random Forest Best Parameters',rf_best_param)"
   ]
  },
  {
   "cell_type": "code",
   "execution_count": 48,
   "metadata": {
    "scrolled": true
   },
   "outputs": [
    {
     "name": "stdout",
     "output_type": "stream",
     "text": [
      "Confusion Matrix:\n",
      " [[7145  373]\n",
      " [  68   62]]\n",
      "Precision: 0.142529\n",
      "Recall: 0.476923\n",
      "F1 score: 0.219469\n",
      "Sensitivity :  0.9905725772910023\n",
      "Specificity :  0.1425287356321839\n",
      "Negative predictive Value:  0.47692307692307695\n",
      "Positive Predictive Value:  0.9503857408885342\n",
      "Geometric Mean:  0.37574600063500385\n"
     ]
    }
   ],
   "source": [
    "param_values = [x for x in rf_best_param.values()]\n",
    "\n",
    "if param_values[1] == 1:\n",
    "    criterion = 'gini'\n",
    "else:\n",
    "    criterion= 'entropy'\n",
    "\n",
    "if param_values[3] == 1:\n",
    "    max_features = 'log2'\n",
    "else:\n",
    "    max_features= 'sqrt'\n",
    "    \n",
    "if param_values[0] == 1:\n",
    "    class_weight = 'balanced'\n",
    "else:\n",
    "    class_weight= 'balanced_subsample'\n",
    "\n",
    "rf_best = sklearn.ensemble.RandomForestClassifier(random_state=42,\n",
    "criterion= criterion,\n",
    "max_depth= param_values[2],\n",
    "max_features= max_features,\n",
    "n_estimators=param_values[4],\n",
    "class_weight = class_weight)\n",
    "under=NearMiss(sampling_strategy=param_values[5])\n",
    "pipe = Pipeline([('o', under),('m', rf_best)])\n",
    "model= rf_best.fit(X_train, y_train)\n",
    "pred = model.predict(X_test)\n",
    "\n",
    "cm = confusion_matrix(y_test, pred)\n",
    "print('Confusion Matrix:\\n',cm)\n",
    "\n",
    "precision = precision_score(y_test, pred)\n",
    "print('Precision: %f' % precision)\n",
    "\n",
    "recall = recall_score(y_test, pred)\n",
    "print('Recall: %f' % recall)\n",
    "\n",
    "f1 = f1_score(y_test, pred)\n",
    "print('F1 score: %f' % f1)\n",
    "\n",
    "sensitivity = cm[0,0]/(cm[0,0]+cm[1,0])\n",
    "print('Sensitivity : ', sensitivity )\n",
    "\n",
    "specificity = cm[1,1]/(cm[0,1]+cm[1,1])\n",
    "print('Specificity : ', specificity)\n",
    "\n",
    "NPV = cm[1,1]/(cm[1,1]+cm[1,0])\n",
    "print('Negative predictive Value: ', NPV)\n",
    "\n",
    "PPV = cm[0,0]/(cm[0,0]+cm[0,1])\n",
    "print('Positive Predictive Value: ', PPV)\n",
    "\n",
    "import math\n",
    "gm=math.sqrt(specificity*sensitivity)\n",
    "print('Geometric Mean: ', gm)\n",
    "    "
   ]
  },
  {
   "cell_type": "code",
   "execution_count": 49,
   "metadata": {},
   "outputs": [
    {
     "name": "stdout",
     "output_type": "stream",
     "text": [
      "Random chance= 0.500000\n",
      "AUCROC Value = 0.900206\n",
      "AUC:PrecisionRecall Value =0.123\n"
     ]
    },
    {
     "data": {
      "image/png": "[encoded data removed]",
      "text/plain": [
       "<Figure size 432x288 with 1 Axes>"
      ]
     },
     "metadata": {
      "needs_background": "light"
     },
     "output_type": "display_data"
    },
    {
     "data": {
      "image/png": "[encoded data removed]",
      "text/plain": [
       "<Figure size 432x288 with 1 Axes>"
      ]
     },
     "metadata": {
      "needs_background": "light"
     },
     "output_type": "display_data"
    }
   ],
   "source": [
    "r_probs=[0 for _ in range(len(y_test))]\n",
    "rf_probs=model.predict_proba(X_test)\n",
    "rf_probs=rf_probs[:,1]\n",
    "from sklearn.metrics import roc_curve, roc_auc_score\n",
    "r_auc=roc_auc_score(y_test,r_probs)\n",
    "rf_auc =roc_auc_score(y_test,rf_probs)\n",
    "print('Random chance= %3f'%(r_auc))\n",
    "print('AUCROC Value = %4f'%(rf_auc))\n",
    "\n",
    "rf_precision, rf_recall, _ = precision_recall_curve(y_test, rf_probs,pos_label=1)\n",
    "rf_aucprc=auc(rf_recall, rf_precision)\n",
    "print('AUC:PrecisionRecall Value =%.3f' % (rf_aucprc))\n",
    "    \n",
    "r_fpr, r_tpr, thresholds = metrics.roc_curve(y_test, r_probs, pos_label=1)\n",
    "rf_fpr, rf_tpr, thresholds = metrics.roc_curve(y_test, rf_probs, pos_label=1)\n",
    "\n",
    "#ROC PLOT\n",
    "import matplotlib.pyplot as plt\n",
    "plt.plot(r_fpr,r_tpr,linestyle='--',label='Random prediction(AUCROC=%0.3f)'%r_auc)\n",
    "plt.plot(rf_fpr,rf_tpr,linestyle='--',label='Random prediction(AUCROC=%0.3f)'%rf_auc)\n",
    "plt.title('ROC PLOT - RF')\n",
    "plt.xlabel('FALSE POSITIVE RATE')\n",
    "plt.ylabel('TRUE POSITIVE RATE')\n",
    "plt.legend()\n",
    "plt.savefig('RF_plot1.png', dpi=300, bbox_inches='tight')\n",
    "plt.show()\n",
    "\n",
    "plt.plot(rf_recall, rf_precision, linestyle='--', label='Random prediction(AUCPRC=%0.3f)'%rf_aucprc)\n",
    "# axis labels\n",
    "plt.xlabel('RECALL')\n",
    "plt.ylabel('PRECISION')\n",
    "plt.title('PRC PLOT - RF')\n",
    "# show the legend\n",
    "plt.legend()\n",
    "#save\n",
    "plt.savefig('RF_plot2.png', dpi=300, bbox_inches='tight')\n",
    "#show the plot\n",
    "plt.show()"
   ]
  },
  {
   "cell_type": "code",
   "execution_count": 50,
   "metadata": {},
   "outputs": [
    {
     "data": {
      "image/png": "[encoded data removed]",
      "text/plain": [
       "<Figure size 432x288 with 1 Axes>"
      ]
     },
     "metadata": {
      "needs_background": "light"
     },
     "output_type": "display_data"
    }
   ],
   "source": [
    "from sklearn.calibration import calibration_curve\n",
    "rf_probs=model.predict_proba(X_test)\n",
    "rf_probs=rf_probs[:,1]\n",
    "\n",
    "x,y= calibration_curve(y_test,rf_probs, n_bins=50)\n",
    "plt.plot([0,1],[0,1], linestyle='--', label='Ideally Calibrated')\n",
    "plt.plot(y,x, marker='o', linewidth=1, label='rf')\n",
    "leg= plt.legend(loc='upper left')\n",
    "plt.xlabel('average predicted probabilty in each bin')\n",
    "plt.ylabel('Ratio of Positives')\n",
    "plt.savefig('RF_calibration1.png', dpi=300, bbox_inches='tight')\n",
    "plt.show()"
   ]
  },
  {
   "cell_type": "code",
   "execution_count": 51,
   "metadata": {},
   "outputs": [],
   "source": [
    "#saving file\n",
    "rf_probs=model.predict_proba(X_test)\n",
    "rf_pos=rf_probs[:,1]\n",
    "rf_neg=rf_probs[:,0]\n",
    "pd.DataFrame({'Actual': y_test,'Pred_RF': pred, 'PredProb_1_RF': rf_pos,'PredProb_0_RF':rf_neg}).to_csv('rf.csv', index=False)"
   ]
  },
  {
   "cell_type": "code",
   "execution_count": 52,
   "metadata": {},
   "outputs": [],
   "source": [
    "#Apparent Train\n",
    "pred1 = model.predict(X_train)"
   ]
  },
  {
   "cell_type": "code",
   "execution_count": 53,
   "metadata": {},
   "outputs": [
    {
     "name": "stdout",
     "output_type": "stream",
     "text": [
      "Apparent  - Confusion Matrix:\n",
      " [[21218  1234]\n",
      " [   38   453]]\n",
      "Apparent - Precision: 0.268524\n",
      "Apparent  - Recall: 0.922607\n",
      "Apparent  - F1 score: 0.415978\n",
      "Apparent  - Sensitivity :  0.9982122694768536\n",
      "Apparent  - Specificity :  0.2685240071132187\n",
      "Apparent  - Negative predictive Value:  0.9226069246435845\n",
      "Apparent  - Positive Predictive Value:  0.9450383039372885\n",
      "Apparent - Geometric Mean:  0.5177296191541535\n"
     ]
    }
   ],
   "source": [
    "cm1 = confusion_matrix(y_train, pred1)\n",
    "print('Apparent  - Confusion Matrix:\\n',cm1)\n",
    "\n",
    "precision = precision_score(y_train, pred1)\n",
    "print('Apparent - Precision: %f' % precision)\n",
    "\n",
    "recall = recall_score(y_train, pred1)\n",
    "print('Apparent  - Recall: %f' % recall)\n",
    "\n",
    "f1 = f1_score(y_train, pred1)\n",
    "print('Apparent  - F1 score: %f' % f1)\n",
    "\n",
    "sensitivity1 = cm1[0,0]/(cm1[0,0]+cm1[1,0])\n",
    "print('Apparent  - Sensitivity : ', sensitivity1 )\n",
    "\n",
    "specificity1= cm1[1,1]/(cm1[0,1]+cm1[1,1])\n",
    "print('Apparent  - Specificity : ', specificity1)\n",
    "\n",
    "NPV = cm1[1,1]/(cm1[1,1]+cm1[1,0])\n",
    "print('Apparent  - Negative predictive Value: ', NPV)\n",
    "\n",
    "PPV = cm1[0,0]/(cm1[0,0]+cm1[0,1])\n",
    "print('Apparent  - Positive Predictive Value: ', PPV)\n",
    "\n",
    "import math\n",
    "gm1=math.sqrt(specificity1*sensitivity1)\n",
    "print('Apparent - Geometric Mean: ', gm1)"
   ]
  },
  {
   "cell_type": "code",
   "execution_count": 54,
   "metadata": {},
   "outputs": [
    {
     "name": "stdout",
     "output_type": "stream",
     "text": [
      "Random chance= 0.500000\n",
      "AUCROC Value = 0.985173\n",
      "AUC:PrecisionRecall Value =0.709\n"
     ]
    },
    {
     "data": {
      "image/png": "[encoded data removed]",
      "text/plain": [
       "<Figure size 432x288 with 1 Axes>"
      ]
     },
     "metadata": {
      "needs_background": "light"
     },
     "output_type": "display_data"
    },
    {
     "data": {
      "image/png": "[encoded data removed]",
      "text/plain": [
       "<Figure size 432x288 with 1 Axes>"
      ]
     },
     "metadata": {
      "needs_background": "light"
     },
     "output_type": "display_data"
    }
   ],
   "source": [
    "r_probs=[0 for _ in range(len(y_train))]\n",
    "rf_probs1=model.predict_proba(X_train)\n",
    "rf_probs1=rf_probs1[:,1]\n",
    "from sklearn.metrics import roc_curve, roc_auc_score\n",
    "r_auc=roc_auc_score(y_train,r_probs)\n",
    "rf_auc =roc_auc_score(y_train,rf_probs1)\n",
    "print('Random chance= %3f'%(r_auc))\n",
    "print('AUCROC Value = %4f'%(rf_auc))\n",
    "\n",
    "rf_precision, rf_recall, _ = precision_recall_curve(y_train, rf_probs1,pos_label=1)\n",
    "rf_aucprc=auc(rf_recall, rf_precision)\n",
    "print('AUC:PrecisionRecall Value =%.3f' % (rf_aucprc))\n",
    "    \n",
    "r_fpr, r_tpr, thresholds = metrics.roc_curve(y_train, r_probs, pos_label=1)\n",
    "rf_fpr, rf_tpr, thresholds = metrics.roc_curve(y_train, rf_probs1, pos_label=1)\n",
    "\n",
    "#ROC PLOT\n",
    "import matplotlib.pyplot as plt\n",
    "plt.plot(r_fpr,r_tpr,linestyle='--',label='Random prediction(AUCROC=%0.3f)'%r_auc)\n",
    "plt.plot(rf_fpr,rf_tpr,linestyle='--',label='Random prediction(AUCROC=%0.3f)'%rf_auc)\n",
    "plt.title('APPARENT -ROC PLOT - RF')\n",
    "plt.xlabel('FALSE POSITIVE RATE')\n",
    "plt.ylabel('TRUE POSITIVE RATE')\n",
    "plt.legend()\n",
    "plt.savefig('RF_apparent1.png', dpi=300, bbox_inches='tight')\n",
    "plt.show()\n",
    "\n",
    "plt.plot(rf_recall, rf_precision, linestyle='--', label='Random prediction(AUCPRC=%0.3f)'%rf_aucprc)\n",
    "# axis labels\n",
    "plt.xlabel('RECALL')\n",
    "plt.ylabel('PRECISION')\n",
    "plt.title('APPARENT  - PRC PLOT - RF')\n",
    "# show the legend\n",
    "plt.legend()\n",
    "#save\n",
    "plt.savefig('RF_apparent2.png', dpi=300, bbox_inches='tight')\n",
    "#show the plot\n",
    "plt.show()"
   ]
  },
  {
   "cell_type": "code",
   "execution_count": 55,
   "metadata": {},
   "outputs": [
    {
     "data": {
      "image/png": "[encoded data removed]",
      "text/plain": [
       "<Figure size 432x288 with 1 Axes>"
      ]
     },
     "metadata": {
      "needs_background": "light"
     },
     "output_type": "display_data"
    }
   ],
   "source": [
    "from sklearn.calibration import calibration_curve\n",
    "rf_probs1=model.predict_proba(X_train)\n",
    "rf_probs1=rf_probs1[:,1]\n",
    "\n",
    "x,y= calibration_curve(y_train,rf_probs1, n_bins=50)\n",
    "plt.plot([0,1],[0,1], linestyle='--', label='Ideally Calibrated')\n",
    "plt.plot(y,x, marker='o', linewidth=1, label='rf')\n",
    "leg= plt.legend(loc='upper left')\n",
    "plt.xlabel('average predicted probabilty in each bin')\n",
    "plt.ylabel('Ratio of Positives')\n",
    "plt.savefig('RF_calibration2.png', dpi=300, bbox_inches='tight')\n",
    "plt.show()"
   ]
  },
  {
   "cell_type": "code",
   "execution_count": 56,
   "metadata": {},
   "outputs": [],
   "source": [
    "#saving file\n",
    "rf_probs1=model.predict_proba(X_train)\n",
    "rf_pos1=rf_probs1[:,1]\n",
    "rf_neg1=rf_probs1[:,0]\n",
    "pd.DataFrame({'Actual': y_train,'Pred_RF': pred1, 'PredProb_1_RF': rf_pos1,'PredProb_0_RF':rf_neg1}).to_csv('rf_apparent.csv', index=False)"
   ]
  },
  {
   "cell_type": "code",
   "execution_count": 57,
   "metadata": {},
   "outputs": [
    {
     "name": "stdout",
     "output_type": "stream",
     "text": [
      "100%|████████████████████████████| 24/24 [05:15<00:00, 13.16s/trial, best loss: 0.9483235297928374]\n",
      "It takes 5.264751501878103 minutes\n",
      "Best Paramters for Logistic Regression Elastic Net model {'C': 750.0, 'l1_ratio': 0.2, 'max_iter': 86737, 'sampling_strategy': 0.1}\n"
     ]
    }
   ],
   "source": [
    "#Logistic Regression Hyper Parameter tuning\n",
    "\n",
    "start = time.time()\n",
    "space_lr = {'penalty': 'elasticnet',\n",
    "               'C' : hp.quniform('C',1,1000,10),\n",
    "                'solver': 'saga',\n",
    "               #'class_weight' : 'balanced',\n",
    "               'max_iter': hp.randint('max_iter', 1000,100000) ,\n",
    "               'l1_ratio':hp.quniform('l1_ratio',0.1,0.9,0.1),\n",
    "            'sampling_strategy':hp.quniform('sampling_strategy',0.1,0.9,0.1)\n",
    "            \n",
    "               }\n",
    "def lr(params):\n",
    "    params = {'penalty': params['penalty'],\n",
    "                 'C': params['C'],\n",
    "                  #'class_weight': params['class_weight'],                       \n",
    "                  'solver': params['solver'],\n",
    "                 'max_iter':params['max_iter'],\n",
    "              'l1_ratio':params['l1_ratio'],\n",
    "              'sampling_strategy':params['sampling_strategy']\n",
    "             }\n",
    "    lr_bo2 =sklearn.linear_model.LogisticRegression(random_state=42,class_weight='balanced', penalty=params['penalty'], C= params['C'], solver = params['solver'],max_iter = params['max_iter'], l1_ratio= params['l1_ratio'])\n",
    "    cv= StratifiedKFold(n_splits=5,random_state=42,shuffle=True)\n",
    "    over =NearMiss(sampling_strategy=params['sampling_strategy'])\n",
    "    pipe = Pipeline([('o', over),('m', lr_bo2)])\n",
    "    best_score = cross_val_score(pipe, X_train, y_train, scoring='average_precision', cv=cv).mean()\n",
    "    return 1 - best_score\n",
    "\n",
    "lr_best_param = fmin(fn=lr,\n",
    "                    space=space_lr,\n",
    "                    max_evals=24,\n",
    "                    rstate=np.random.RandomState(42),\n",
    "                    algo=tpe.suggest)\n",
    "print('It takes %s minutes' % ((time.time() - start)/60))\n",
    "print('Best Paramters for Logistic Regression Elastic Net model',lr_best_param)"
   ]
  },
  {
   "cell_type": "code",
   "execution_count": 58,
   "metadata": {},
   "outputs": [],
   "source": [
    "\n",
    "param_values = [x for x in lr_best_param.values()]\n",
    "\n",
    "C= param_values[0]\n",
    "l1_ratio=param_values[1]\n",
    "max_iter = param_values[2]\n",
    "\n",
    "lr_best= sklearn.linear_model.LogisticRegression(random_state=42,class_weight='balanced', solver='saga',l1_ratio=l1_ratio,penalty='elasticnet',C=C,max_iter=max_iter)\n",
    "smote= NearMiss(sampling_strategy=param_values[3])\n",
    "pipe = Pipeline([('s', smote),('m', lr_best)]) \n",
    "model= pipe.fit(X_train, y_train)\n",
    "pred = model.predict(X_test)"
   ]
  },
  {
   "cell_type": "code",
   "execution_count": 59,
   "metadata": {},
   "outputs": [
    {
     "name": "stdout",
     "output_type": "stream",
     "text": [
      "Confusion Matrix:\n",
      " [[4259 3259]\n",
      " [  26  104]]\n",
      " Precision: 0.030925\n",
      "Recall: 0.800000\n",
      " F1 score: 0.059548\n",
      "Sensitivity :  0.9939323220536757\n",
      " Specificity :  0.030924769550996135\n",
      "Negative predictive Value:  0.8\n",
      " Positive Predictive Value:  0.5665070497472732\n",
      "Geometric Mean:  0.1753200730344258\n"
     ]
    }
   ],
   "source": [
    "#Printing the performance metrics\n",
    "\n",
    "cm= confusion_matrix(y_test, pred)\n",
    "print('Confusion Matrix:\\n',cm)\n",
    "\n",
    "precision = precision_score(y_test, pred)\n",
    "print(' Precision: %f' % precision)\n",
    "\n",
    "recall = recall_score(y_test, pred)\n",
    "print('Recall: %f' % recall)\n",
    "\n",
    "f1 = f1_score(y_test, pred)\n",
    "print(' F1 score: %f' % f1)\n",
    "\n",
    "sensitivity = cm[0,0]/(cm[0,0]+cm[1,0])\n",
    "print('Sensitivity : ', sensitivity )\n",
    "\n",
    "specificity = cm[1,1]/(cm[0,1]+cm[1,1])\n",
    "print(' Specificity : ', specificity)\n",
    "\n",
    "NPV = cm[1,1]/(cm[1,1]+cm[1,0])\n",
    "print('Negative predictive Value: ', NPV)\n",
    "\n",
    "PPV = cm[0,0]/(cm[0,0]+cm[0,1])\n",
    "print(' Positive Predictive Value: ', PPV)\n",
    "\n",
    "import math\n",
    "gm=math.sqrt(specificity*sensitivity)\n",
    "print('Geometric Mean: ', gm)"
   ]
  },
  {
   "cell_type": "code",
   "execution_count": 60,
   "metadata": {},
   "outputs": [
    {
     "name": "stdout",
     "output_type": "stream",
     "text": [
      "Random chance= 0.500000\n",
      "AUCROC Value = 0.724988\n",
      "AUC:PrecisionRecall=0.048\n"
     ]
    },
    {
     "data": {
      "image/png": "[encoded data removed]",
      "text/plain": [
       "<Figure size 432x288 with 1 Axes>"
      ]
     },
     "metadata": {
      "needs_background": "light"
     },
     "output_type": "display_data"
    },
    {
     "data": {
      "image/png": "[encoded data removed]",
      "text/plain": [
       "<Figure size 432x288 with 1 Axes>"
      ]
     },
     "metadata": {
      "needs_background": "light"
     },
     "output_type": "display_data"
    }
   ],
   "source": [
    "r_probs=[0 for _ in range(len(y_test))]\n",
    "lr_probs=model.predict_proba(X_test)\n",
    "lr_probs=lr_probs[:,1]\n",
    "    \n",
    "from sklearn.metrics import roc_curve, roc_auc_score\n",
    "r_auc=roc_auc_score(y_test,r_probs)\n",
    "lr_auc =roc_auc_score(y_test,lr_probs)\n",
    "print('Random chance= %3f'%(r_auc))\n",
    "print('AUCROC Value = %4f'%(lr_auc))\n",
    "\n",
    "     \n",
    "lr_precision, lr_recall, _ = precision_recall_curve(y_test, lr_probs,pos_label=1)\n",
    "lr_aucprc=auc(lr_recall, lr_precision)\n",
    "print('AUC:PrecisionRecall=%.3f' % (lr_aucprc))\n",
    "\n",
    "r_fpr, r_tpr, thresholds = metrics.roc_curve(y_test, r_probs, pos_label=1)\n",
    "lr_fpr, lr_tpr, thresholds = metrics.roc_curve(y_test, lr_probs, pos_label=1)\n",
    "\n",
    "#ROC CURVE PLOT\n",
    "import matplotlib.pyplot as plt\n",
    "plt.plot(r_fpr,r_tpr,linestyle='--',label='Random prediction(AUCROC=%0.3f)'%r_auc)\n",
    "plt.plot(lr_fpr,lr_tpr,linestyle='--',label='Random prediction(AUCROC=%0.3f)'%lr_auc)\n",
    "plt.title('ROC PLOT - LR ELASTIC MODEL')\n",
    "plt.xlabel('FALSE POSITIVE RATE')\n",
    "plt.ylabel('TRUE POSITIVE RATE')\n",
    "plt.legend()\n",
    "#save\n",
    "plt.savefig('lr_elastic_plot1.png', dpi=300, bbox_inches='tight')\n",
    "    # show the plot\n",
    "plt.show()\n",
    "\n",
    "#PRECISION RECALL PLOT\n",
    "    \n",
    "plt.plot(lr_recall, lr_precision, linestyle='--', label='Random prediction(AUCPRC=%0.3f)'%lr_aucprc)\n",
    "plt.xlabel('RECALL')\n",
    "plt.ylabel('PRECISION')\n",
    "plt.legend()\n",
    "plt.title('PRC PLOT - LR ELASTIC MODEL')\n",
    "#save\n",
    "plt.savefig('lr_elastic_plot2.png', dpi=300, bbox_inches='tight')\n",
    "    # show the plot\n",
    "plt.show()"
   ]
  },
  {
   "cell_type": "code",
   "execution_count": 61,
   "metadata": {},
   "outputs": [],
   "source": [
    "#saving file\n",
    "lr_probs=model.predict_proba(X_test)\n",
    "lr_pos=lr_probs[:,1]\n",
    "lr_neg=lr_probs[:,0]\n",
    "pd.DataFrame({'Actual': y_test,'Pred_LR': pred, 'PredProb_1_LR_ELASTIC': lr_pos,'PredProb_0_LR_ELASTIC':lr_neg}).to_csv('lr_elastic.csv', index=False)"
   ]
  },
  {
   "cell_type": "code",
   "execution_count": 62,
   "metadata": {},
   "outputs": [
    {
     "data": {
      "image/png": "[encoded data removed]",
      "text/plain": [
       "<Figure size 432x288 with 1 Axes>"
      ]
     },
     "metadata": {
      "needs_background": "light"
     },
     "output_type": "display_data"
    }
   ],
   "source": [
    "from sklearn.calibration import calibration_curve\n",
    "lr_probs=model.predict_proba(X_test)\n",
    "lr_probs=lr_probs[:,1]\n",
    "\n",
    "x,y= calibration_curve(y_test,lr_probs, n_bins=50)\n",
    "plt.plot([0,1],[0,1], linestyle='--', label='Ideally Calibrated')\n",
    "plt.plot(y,x, marker='o', linewidth=1, label='lr')\n",
    "leg= plt.legend(loc='upper left')\n",
    "plt.xlabel('average predicted probabilty in each bin')\n",
    "plt.ylabel('Ratio of Positives')\n",
    "plt.savefig('lr_elastic_calibration1.png', dpi=300, bbox_inches='tight')\n",
    "plt.show()"
   ]
  },
  {
   "cell_type": "code",
   "execution_count": 63,
   "metadata": {},
   "outputs": [
    {
     "name": "stdout",
     "output_type": "stream",
     "text": [
      "Coefficient Values: [[ 0.0571578  -0.09079565  0.61593113  0.12735109  0.01412196  0.85306573\n",
      "   0.1644115   0.19987361  0.2577147   0.55958608  0.20612073  0.08427086\n",
      "   1.57234633  0.22716184 -0.0799724   0.7504734  -0.00344237  0.12535948\n",
      "  -0.52849571 -0.10120247  0.41534709 -0.30548471 -0.06891646  0.04120965\n",
      "   0.97209548  0.67059017  0.75574485  0.33343604  0.83747682  0.54321502\n",
      "   0.31274521  0.83847759 -0.16596655  1.71890997  0.62743085  1.17373931\n",
      "   0.21048283 -0.00527188  0.22098678]]\n",
      "Intercept Model : [1.0297196]\n"
     ]
    }
   ],
   "source": [
    "# Printing the coefficient Values\n",
    "\n",
    "print('Coefficient Values:',pipe['m'].coef_)\n",
    "print('Intercept Model :',pipe['m'].intercept_)\n"
   ]
  },
  {
   "cell_type": "code",
   "execution_count": 64,
   "metadata": {},
   "outputs": [],
   "source": [
    "#Apparent Train\n",
    "pred1 = model.predict(X_train)"
   ]
  },
  {
   "cell_type": "code",
   "execution_count": 65,
   "metadata": {},
   "outputs": [
    {
     "name": "stdout",
     "output_type": "stream",
     "text": [
      "Apparent  - Confusion Matrix:\n",
      " [[11906 10546]\n",
      " [  100   391]]\n",
      "Apparent - Precision: 0.035750\n",
      "Apparent  - Recall: 0.796334\n",
      "Apparent  - F1 score: 0.068428\n",
      "Apparent  - Sensitivity :  0.9916708312510412\n",
      "Apparent  - Specificity :  0.035750205723690226\n",
      "Apparent  - Negative predictive Value:  0.7963340122199593\n",
      "Apparent  - Positive Predictive Value:  0.5302868341350436\n",
      "Apparent - Geometric Mean:  0.18828817336043074\n"
     ]
    }
   ],
   "source": [
    "cm1 = confusion_matrix(y_train, pred1)\n",
    "print('Apparent  - Confusion Matrix:\\n',cm1)\n",
    "\n",
    "precision = precision_score(y_train, pred1)\n",
    "print('Apparent - Precision: %f' % precision)\n",
    "\n",
    "recall = recall_score(y_train, pred1)\n",
    "print('Apparent  - Recall: %f' % recall)\n",
    "\n",
    "f1 = f1_score(y_train, pred1)\n",
    "print('Apparent  - F1 score: %f' % f1)\n",
    "\n",
    "sensitivity1 = cm1[0,0]/(cm1[0,0]+cm1[1,0])\n",
    "print('Apparent  - Sensitivity : ', sensitivity1 )\n",
    "\n",
    "specificity1= cm1[1,1]/(cm1[0,1]+cm1[1,1])\n",
    "print('Apparent  - Specificity : ', specificity1)\n",
    "\n",
    "NPV = cm1[1,1]/(cm1[1,1]+cm1[1,0])\n",
    "print('Apparent  - Negative predictive Value: ', NPV)\n",
    "\n",
    "PPV = cm1[0,0]/(cm1[0,0]+cm1[0,1])\n",
    "print('Apparent  - Positive Predictive Value: ', PPV)\n",
    "\n",
    "import math\n",
    "gm1=math.sqrt(specificity1*sensitivity1)\n",
    "print('Apparent - Geometric Mean: ', gm1)"
   ]
  },
  {
   "cell_type": "code",
   "execution_count": 66,
   "metadata": {},
   "outputs": [
    {
     "name": "stdout",
     "output_type": "stream",
     "text": [
      "Random chance= 0.500000\n",
      "AUCROC Value = 0.706316\n",
      "AUC:PrecisionRecall=0.045\n"
     ]
    },
    {
     "data": {
      "image/png": "[encoded data removed]",
      "text/plain": [
       "<Figure size 432x288 with 1 Axes>"
      ]
     },
     "metadata": {
      "needs_background": "light"
     },
     "output_type": "display_data"
    },
    {
     "data": {
      "image/png": "[encoded data removed]",
      "text/plain": [
       "<Figure size 432x288 with 1 Axes>"
      ]
     },
     "metadata": {
      "needs_background": "light"
     },
     "output_type": "display_data"
    }
   ],
   "source": [
    "r_probs=[0 for _ in range(len(y_train))]\n",
    "lr_probs1=model.predict_proba(X_train)\n",
    "lr_probs1=lr_probs1[:,1]\n",
    "    \n",
    "from sklearn.metrics import roc_curve, roc_auc_score\n",
    "r_auc=roc_auc_score(y_train,r_probs)\n",
    "lr_auc =roc_auc_score(y_train,lr_probs1)\n",
    "print('Random chance= %3f'%(r_auc))\n",
    "print('AUCROC Value = %4f'%(lr_auc))\n",
    "\n",
    "     \n",
    "lr_precision, lr_recall, _ = precision_recall_curve(y_train, lr_probs1,pos_label=1)\n",
    "lr_aucprc=auc(lr_recall, lr_precision)\n",
    "print('AUC:PrecisionRecall=%.3f' % (lr_aucprc))\n",
    "\n",
    "r_fpr, r_tpr, thresholds = metrics.roc_curve(y_train, r_probs, pos_label=1)\n",
    "lr_fpr, lr_tpr, thresholds = metrics.roc_curve(y_train, lr_probs1, pos_label=1)\n",
    "\n",
    "#ROC CURVE PLOT\n",
    "import matplotlib.pyplot as plt\n",
    "plt.plot(r_fpr,r_tpr,linestyle='--',label='Random prediction(AUCROC=%0.3f)'%r_auc)\n",
    "plt.plot(lr_fpr,lr_tpr,linestyle='--',label='Random prediction(AUCROC=%0.3f)'%lr_auc)\n",
    "plt.title('APPARENT- ROC PLOT')\n",
    "plt.xlabel('FALSE POSITIVE RATE')\n",
    "plt.ylabel('TRUE POSITIVE RATE')\n",
    "plt.legend()\n",
    "#save\n",
    "plt.savefig('lr_elastic_apparent1.png', dpi=300, bbox_inches='tight')\n",
    "    # show the plot\n",
    "plt.show()\n",
    "\n",
    "#PRECISION RECALL PLOT\n",
    "    \n",
    "plt.plot(lr_recall, lr_precision, linestyle='--', label='Random prediction(AUCPRC=%0.3f)'%lr_aucprc)\n",
    "plt.xlabel('RECALL')\n",
    "plt.ylabel('PRECISION')\n",
    "plt.legend()\n",
    "plt.title('APPARENT - PRC PLOT - LR ELASTIC MODEL')\n",
    "#save\n",
    "plt.savefig('lr_elastic_apparent2.png', dpi=300, bbox_inches='tight')\n",
    "    # show the plot\n",
    "plt.show()"
   ]
  },
  {
   "cell_type": "code",
   "execution_count": 67,
   "metadata": {},
   "outputs": [
    {
     "data": {
      "image/png": "[encoded data removed]",
      "text/plain": [
       "<Figure size 432x288 with 1 Axes>"
      ]
     },
     "metadata": {
      "needs_background": "light"
     },
     "output_type": "display_data"
    }
   ],
   "source": [
    "from sklearn.calibration import calibration_curve\n",
    "\n",
    "lr_probs1=model.predict_proba(X_train)\n",
    "lr_probs1=lr_probs1[:,1]\n",
    "    \n",
    "\n",
    "x,y= calibration_curve(y_train,lr_probs1, n_bins=50)\n",
    "plt.plot([0,1],[0,1], linestyle='--', label='Ideally Calibrated')\n",
    "plt.plot(y,x, marker='o', linewidth=1, label='lr')\n",
    "leg= plt.legend(loc='upper left')\n",
    "plt.xlabel('average predicted probabilty in each bin')\n",
    "plt.ylabel('Ratio of Positives')\n",
    "plt.savefig('lr_elastic_calibration2.png', dpi=300, bbox_inches='tight')\n",
    "plt.show()"
   ]
  },
  {
   "cell_type": "code",
   "execution_count": 68,
   "metadata": {},
   "outputs": [],
   "source": [
    "#saving file\n",
    "lr_probs1=model.predict_proba(X_train)\n",
    "lr_pos1=lr_probs1[:,1]\n",
    "lr_neg1=lr_probs1[:,0]\n",
    "pd.DataFrame({'Actual': y_train,'Pred_LR': pred1, 'PredProb_1_LR_ELASTIC': lr_pos1,'PredProb_0_LR_ELASTIC':lr_neg1}).to_csv('lr_elastic_apparent.csv', index=False)"
   ]
  },
  {
   "cell_type": "code",
   "execution_count": 69,
   "metadata": {},
   "outputs": [],
   "source": [
    "from sklearn.ensemble import AdaBoostClassifier"
   ]
  },
  {
   "cell_type": "code",
   "execution_count": 70,
   "metadata": {},
   "outputs": [
    {
     "ename": "SyntaxError",
     "evalue": "invalid syntax (<ipython-input-70-e6e80273281e>, line 13)",
     "output_type": "error",
     "traceback": [
      "\u001b[1;36m  File \u001b[1;32m\"<ipython-input-70-e6e80273281e>\"\u001b[1;36m, line \u001b[1;32m13\u001b[0m\n\u001b[1;33m    lr_bo2 imblearn.ensemble.EasyEnembleClassifier(random_state=42,base_estimator = params['base_estimator'], n_estimators: params['n_estimators'], sampling_strategy=params['sampling_strategy'])\u001b[0m\n\u001b[1;37m           ^\u001b[0m\n\u001b[1;31mSyntaxError\u001b[0m\u001b[1;31m:\u001b[0m invalid syntax\n"
     ]
    }
   ],
   "source": [
    "#Logistic Regression Hyper Parameter tuning\n",
    "\n",
    "start = time.time()\n",
    "space_lr = {'n_estimators' : hp.uniform('n_estimators',10,50),\n",
    "            'sampling_strategy':hp.quniform('sampling_strategy',0.1,0.9,0.1),\n",
    "            'base_estimator' : hp.choice('base_estimator',['AdaBoostClassifier()', 'XGBClassifier()'])\n",
    "               }\n",
    "def lr(params):\n",
    "    params = {'base_estimator': params['base_estimator'],\n",
    "                 'n_estimators': params['n_estimators'],\n",
    "              'sampling_strategy':params['sampling_strategy']\n",
    "             }\n",
    "    lr_bo2 imblearn.ensemble.EasyEnembleClassifier(random_state=42,base_estimator = params['base_estimator'], n_estimators: params['n_estimators'], sampling_strategy=params['sampling_strategy'])\n",
    "    cv= StratifiedKFold(n_splits=5,random_state=42,shuffle=True)\n",
    "    best_score = cross_val_score(lr_bo2, X_train, y_train, scoring='roc_auc', cv=cv).mean()\n",
    "    return 1 - best_score\n",
    "\n",
    "lr_best_param = fmin(fn=lr,\n",
    "                    space=space_lr,\n",
    "                    max_evals=24,\n",
    "                    rstate=np.random.RandomState(42),\n",
    "                    algo=tpe.suggest)\n",
    "print('It takes %s minutes' % ((time.time() - start)/60))\n",
    "print('Best Paramters for Logistic Regression Elastic Net model',lr_best_param)"
   ]
  },
  {
   "cell_type": "code",
   "execution_count": null,
   "metadata": {},
   "outputs": [],
   "source": []
  },
  {
   "cell_type": "code",
   "execution_count": null,
   "metadata": {},
   "outputs": [],
   "source": []
  }
 ],
 "metadata": {
  "kernelspec": {
   "display_name": "Python 3",
   "language": "python",
   "name": "python3"
  },
  "language_info": {
   "codemirror_mode": {
    "name": "ipython",
    "version": 3
   },
   "file_extension": ".py",
   "mimetype": "text/x-python",
   "name": "python",
   "nbconvert_exporter": "python",
   "pygments_lexer": "ipython3",
   "version": "3.9.0rc1"
  }
 },
 "nbformat": 4,
 "nbformat_minor": 4
}
